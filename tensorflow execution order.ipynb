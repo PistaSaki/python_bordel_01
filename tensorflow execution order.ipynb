{
 "cells": [
  {
   "cell_type": "code",
   "execution_count": 1,
   "metadata": {
    "ExecuteTime": {
     "end_time": "2018-08-02T13:26:39.443491Z",
     "start_time": "2018-08-02T13:26:37.909187Z"
    }
   },
   "outputs": [],
   "source": [
    "import tensorflow as tf"
   ]
  },
  {
   "cell_type": "code",
   "execution_count": 2,
   "metadata": {
    "ExecuteTime": {
     "end_time": "2018-08-02T13:26:40.407688Z",
     "start_time": "2018-08-02T13:26:40.386618Z"
    }
   },
   "outputs": [],
   "source": [
    "a, b, c = [tf.Variable(i, name = name) for i, name in enumerate([\"a\", \"b\", \"c\"])]"
   ]
  },
  {
   "cell_type": "code",
   "execution_count": 3,
   "metadata": {
    "ExecuteTime": {
     "end_time": "2018-08-02T13:26:40.789659Z",
     "start_time": "2018-08-02T13:26:40.786651Z"
    }
   },
   "outputs": [],
   "source": [
    "init = tf.global_variables_initializer()"
   ]
  },
  {
   "cell_type": "code",
   "execution_count": null,
   "metadata": {},
   "outputs": [],
   "source": []
  },
  {
   "cell_type": "markdown",
   "metadata": {},
   "source": [
    "### Operations we want to execute together "
   ]
  },
  {
   "cell_type": "markdown",
   "metadata": {},
   "source": [
    "We want to switch values of `a` and `b`. We do it by first assigning `a` to `c` to remember it then assigning `b` to `a` and finally `c` to `a`."
   ]
  },
  {
   "cell_type": "code",
   "execution_count": 4,
   "metadata": {
    "ExecuteTime": {
     "end_time": "2018-07-31T16:12:27.561376Z",
     "start_time": "2018-07-31T16:12:27.457848Z"
    }
   },
   "outputs": [],
   "source": [
    "op0 = tf.assign(c, a, name = \"op0\")\n",
    "op1 = tf.assign(a, b, name = \"op1\")\n",
    "op2 = tf.assign(b, c, name = \"op2\")"
   ]
  },
  {
   "cell_type": "code",
   "execution_count": 6,
   "metadata": {
    "ExecuteTime": {
     "end_time": "2018-07-31T16:18:27.284683Z",
     "start_time": "2018-07-31T16:18:27.256902Z"
    }
   },
   "outputs": [
    {
     "name": "stdout",
     "output_type": "stream",
     "text": [
      "[1, 0, 0]\n"
     ]
    }
   ],
   "source": [
    "with tf.Session() as sess:\n",
    "    sess.run(init)\n",
    "    sess.run(op0)\n",
    "    sess.run(op1)\n",
    "    sess.run(op2)\n",
    "    print(sess.run([a, b, c]))"
   ]
  },
  {
   "cell_type": "markdown",
   "metadata": {},
   "source": [
    "We would like to group this into one operation."
   ]
  },
  {
   "cell_type": "markdown",
   "metadata": {},
   "source": [
    "### Grouping using `tf.group`"
   ]
  },
  {
   "cell_type": "code",
   "execution_count": 9,
   "metadata": {
    "ExecuteTime": {
     "end_time": "2018-07-31T16:27:08.048310Z",
     "start_time": "2018-07-31T16:27:08.041756Z"
    }
   },
   "outputs": [],
   "source": [
    "group = tf.group(\n",
    "    tf.assign(c, a, name = \"op0\"),\n",
    "    tf.assign(a, b, name = \"op1\"),\n",
    "    tf.assign(b, c, name = \"op2\"),\n",
    "    name = \"group\"\n",
    ")"
   ]
  },
  {
   "cell_type": "markdown",
   "metadata": {},
   "source": [
    "Unfortunately the order of execution is not guaranted:"
   ]
  },
  {
   "cell_type": "code",
   "execution_count": 10,
   "metadata": {
    "ExecuteTime": {
     "end_time": "2018-07-31T16:27:09.956054Z",
     "start_time": "2018-07-31T16:27:09.935488Z"
    }
   },
   "outputs": [
    {
     "name": "stdout",
     "output_type": "stream",
     "text": [
      "[2, 2, 0]\n"
     ]
    }
   ],
   "source": [
    "with tf.Session() as sess:\n",
    "    sess.run(init)\n",
    "    sess.run(group)\n",
    "    print(sess.run([a, b, c]))"
   ]
  },
  {
   "cell_type": "markdown",
   "metadata": {},
   "source": [
    "### Controlling the order with `tf.control_dependencies`"
   ]
  },
  {
   "cell_type": "code",
   "execution_count": 11,
   "metadata": {
    "ExecuteTime": {
     "end_time": "2018-07-31T16:34:44.330386Z",
     "start_time": "2018-07-31T16:34:44.326327Z"
    }
   },
   "outputs": [],
   "source": [
    "with tf.control_dependencies([op0]):\n",
    "    op0_op1 = tf.assign(a, b, name = \"op0_op1\")"
   ]
  },
  {
   "cell_type": "code",
   "execution_count": 14,
   "metadata": {
    "ExecuteTime": {
     "end_time": "2018-07-31T16:36:22.060937Z",
     "start_time": "2018-07-31T16:36:22.055923Z"
    }
   },
   "outputs": [],
   "source": [
    "with tf.control_dependencies([op0_op1]):\n",
    "    op0_op1_op2 = tf.assign(b, c, name = \"op0_op1_op2\")"
   ]
  },
  {
   "cell_type": "code",
   "execution_count": 15,
   "metadata": {
    "ExecuteTime": {
     "end_time": "2018-07-31T16:36:22.977852Z",
     "start_time": "2018-07-31T16:36:22.957299Z"
    }
   },
   "outputs": [
    {
     "name": "stdout",
     "output_type": "stream",
     "text": [
      "[1, 0, 0]\n"
     ]
    }
   ],
   "source": [
    "with tf.Session() as sess:\n",
    "    sess.run(init)\n",
    "    sess.run(op0_op1_op2)\n",
    "    print(sess.run([a, b, c]))"
   ]
  },
  {
   "cell_type": "markdown",
   "metadata": {},
   "source": [
    "# WARNING: Strange behaviour"
   ]
  },
  {
   "cell_type": "code",
   "execution_count": 4,
   "metadata": {
    "ExecuteTime": {
     "end_time": "2018-08-02T13:26:59.930972Z",
     "start_time": "2018-08-02T13:26:59.914913Z"
    }
   },
   "outputs": [],
   "source": [
    "xxx = [tf.Variable(i, name = \"x{}\".format(i)) for i in range(5)]\n",
    "init = tf.global_variables_initializer()"
   ]
  },
  {
   "cell_type": "code",
   "execution_count": 7,
   "metadata": {
    "ExecuteTime": {
     "end_time": "2018-08-02T13:33:48.146990Z",
     "start_time": "2018-08-02T13:33:48.137967Z"
    }
   },
   "outputs": [],
   "source": [
    "steps = [\n",
    "    tf.assign(b, a, name = \"shift_{}\".format(i))\n",
    "    for i, (a, b) in enumerate(zip(xxx[:-1], xxx[1:]))\n",
    "]"
   ]
  },
  {
   "cell_type": "code",
   "execution_count": 10,
   "metadata": {
    "ExecuteTime": {
     "end_time": "2018-08-02T13:34:43.959092Z",
     "start_time": "2018-08-02T13:34:43.920962Z"
    }
   },
   "outputs": [
    {
     "name": "stdout",
     "output_type": "stream",
     "text": [
      "[0, 1, 2, 3, 4]\n",
      "[0, 0, 2, 3, 4]\n",
      "[0, 0, 0, 3, 4]\n",
      "[0, 0, 0, 0, 4]\n",
      "[0, 0, 0, 0, 0]\n"
     ]
    }
   ],
   "source": [
    "with tf.Session() as sess:\n",
    "    sess.run(init)\n",
    "    print(sess.run(xxx))\n",
    "    for s in steps:\n",
    "        sess.run(s)\n",
    "        print(sess.run(xxx)) "
   ]
  },
  {
   "cell_type": "markdown",
   "metadata": {
    "ExecuteTime": {
     "end_time": "2018-08-02T14:08:59.745616Z",
     "start_time": "2018-08-02T14:08:59.742608Z"
    }
   },
   "source": [
    "## This surprisingly does not work"
   ]
  },
  {
   "cell_type": "code",
   "execution_count": 144,
   "metadata": {
    "ExecuteTime": {
     "end_time": "2018-08-02T14:09:07.843375Z",
     "start_time": "2018-08-02T14:09:07.838362Z"
    }
   },
   "outputs": [],
   "source": [
    "cum_steps = [steps[0]]\n",
    "for i, s in enumerate(steps[1:]):\n",
    "    with tf.control_dependencies([cum_steps[-1]]):\n",
    "        cum_steps.append(tf.identity(s, \"cs{}\".format(i + 1)))"
   ]
  },
  {
   "cell_type": "code",
   "execution_count": 160,
   "metadata": {
    "ExecuteTime": {
     "end_time": "2018-08-02T14:09:57.120250Z",
     "start_time": "2018-08-02T14:09:57.078086Z"
    }
   },
   "outputs": [
    {
     "name": "stdout",
     "output_type": "stream",
     "text": [
      "[0, 1, 2, 3, 4]\n",
      "[0, 0, 2, 3, 4]\n",
      "[0, 0, 0, 3, 4]\n",
      "[0, 0, 0, 0, 4]\n",
      "[0, 0, 0, 0, 3]\n"
     ]
    }
   ],
   "source": [
    "## Run it several times: the behaviour is stochastic and sometimes it works by chance\n",
    "with tf.Session() as sess:\n",
    "    sess.run(init)\n",
    "    print(sess.run(xxx)) \n",
    "    for cs in cum_steps:\n",
    "        sess.run(init)\n",
    "        sess.run(cs)\n",
    "        print(sess.run(xxx)) "
   ]
  },
  {
   "cell_type": "markdown",
   "metadata": {},
   "source": [
    "Here is another way to write the same thing. It also does not work"
   ]
  },
  {
   "cell_type": "code",
   "execution_count": 161,
   "metadata": {
    "ExecuteTime": {
     "end_time": "2018-08-02T14:11:02.706596Z",
     "start_time": "2018-08-02T14:11:02.702611Z"
    }
   },
   "outputs": [],
   "source": [
    "with tf.control_dependencies([steps[0]]):\n",
    "    with tf.control_dependencies([steps[1]]):\n",
    "        with tf.control_dependencies([steps[2]]):\n",
    "            all_in_one = tf.identity(steps[3], \"all_in_one\")"
   ]
  },
  {
   "cell_type": "code",
   "execution_count": 162,
   "metadata": {
    "ExecuteTime": {
     "end_time": "2018-08-02T14:11:03.238310Z",
     "start_time": "2018-08-02T14:11:03.214269Z"
    }
   },
   "outputs": [
    {
     "name": "stdout",
     "output_type": "stream",
     "text": [
      "[0, 1, 2, 3, 4]\n",
      "[0, 0, 1, 2, 2]\n"
     ]
    }
   ],
   "source": [
    "with tf.Session() as sess:\n",
    "    sess.run(init)\n",
    "    print(sess.run(xxx)) \n",
    "    sess.run(all_in_one)\n",
    "    print(sess.run(xxx)) "
   ]
  },
  {
   "cell_type": "markdown",
   "metadata": {},
   "source": [
    "## Solution\n",
    "It seems that the identity operation is not enough to triger the dependencies."
   ]
  },
  {
   "cell_type": "code",
   "execution_count": 163,
   "metadata": {
    "ExecuteTime": {
     "end_time": "2018-08-02T14:12:24.062899Z",
     "start_time": "2018-08-02T14:12:24.053906Z"
    }
   },
   "outputs": [],
   "source": [
    "prev_action = tf.identity(1, \"no_action\")\n",
    "cum_steps2 = []\n",
    "for i, (a, b) in enumerate(zip(xxx[:-1], xxx[1:])):\n",
    "    with tf.control_dependencies([prev_action]):\n",
    "        cs = tf.assign(b, a, name = \"shift_{}_with_deps\".format(i))\n",
    "        cum_steps2.append(cs)\n",
    "        prev_action = cs\n",
    "        \n"
   ]
  },
  {
   "cell_type": "code",
   "execution_count": 167,
   "metadata": {
    "ExecuteTime": {
     "end_time": "2018-08-02T14:12:27.773080Z",
     "start_time": "2018-08-02T14:12:27.725706Z"
    }
   },
   "outputs": [
    {
     "name": "stdout",
     "output_type": "stream",
     "text": [
      "[0, 1, 2, 3, 4]\n",
      "[0, 0, 2, 3, 4]\n",
      "[0, 0, 0, 3, 4]\n",
      "[0, 0, 0, 0, 4]\n",
      "[0, 0, 0, 0, 0]\n"
     ]
    }
   ],
   "source": [
    "with tf.Session() as sess:\n",
    "    sess.run(init)\n",
    "    print(sess.run(xxx)) \n",
    "    for cs in cum_steps2:\n",
    "        sess.run(init)\n",
    "        sess.run(cs)\n",
    "        print(sess.run(xxx)) "
   ]
  },
  {
   "cell_type": "code",
   "execution_count": null,
   "metadata": {},
   "outputs": [],
   "source": []
  },
  {
   "cell_type": "code",
   "execution_count": null,
   "metadata": {},
   "outputs": [],
   "source": []
  },
  {
   "cell_type": "code",
   "execution_count": 179,
   "metadata": {
    "ExecuteTime": {
     "end_time": "2018-08-02T14:16:26.848180Z",
     "start_time": "2018-08-02T14:16:26.836150Z"
    }
   },
   "outputs": [],
   "source": [
    "prev_action = tf.identity(1, \"no_action\")\n",
    "cum_steps3 = []\n",
    "for i, (a, b) in enumerate(zip(xxx[:-1], xxx[1:])):\n",
    "    with tf.control_dependencies([prev_action]):\n",
    "        cs = tf.group(\n",
    "            tf.assign(b, a, name = \"shift_{}_with_deps\".format(i))\n",
    "        )\n",
    "        cum_steps3.append(cs)\n",
    "        prev_action = cs\n",
    "        \n"
   ]
  },
  {
   "cell_type": "code",
   "execution_count": 184,
   "metadata": {
    "ExecuteTime": {
     "end_time": "2018-08-02T14:16:30.227865Z",
     "start_time": "2018-08-02T14:16:30.179746Z"
    }
   },
   "outputs": [
    {
     "name": "stdout",
     "output_type": "stream",
     "text": [
      "[0, 1, 2, 3, 4]\n",
      "[0, 0, 2, 3, 4]\n",
      "[0, 0, 0, 3, 4]\n",
      "[0, 0, 0, 0, 4]\n",
      "[0, 0, 0, 0, 0]\n"
     ]
    }
   ],
   "source": [
    "with tf.Session() as sess:\n",
    "    sess.run(init)\n",
    "    print(sess.run(xxx)) \n",
    "    for cs in cum_steps3:\n",
    "        sess.run(init)\n",
    "        sess.run(cs)\n",
    "        print(sess.run(xxx)) "
   ]
  },
  {
   "cell_type": "markdown",
   "metadata": {},
   "source": [
    "# Problem"
   ]
  },
  {
   "cell_type": "code",
   "execution_count": 2,
   "metadata": {
    "ExecuteTime": {
     "end_time": "2018-08-07T12:39:38.133231Z",
     "start_time": "2018-08-07T12:39:37.465601Z"
    }
   },
   "outputs": [
    {
     "name": "stdout",
     "output_type": "stream",
     "text": [
      "This is what we want to put into one operation:\n",
      "{'x': 1, 'f': 11, 'fx': 0}\n",
      "{'x': 3, 'f': 13, 'fx': 0}\n",
      "{'x': 3, 'f': 13, 'fx': 13}\n",
      "This does not produce good result (run several times, since the behaviour is stochastic):\n",
      "{'x': 3, 'f': 13, 'fx': 11}\n",
      "{'x': 3, 'f': 13, 'fx': 11}\n",
      "{'x': 3, 'f': 13, 'fx': 11}\n",
      "{'x': 3, 'f': 13, 'fx': 11}\n",
      "{'x': 3, 'f': 13, 'fx': 13}\n",
      "{'x': 3, 'f': 13, 'fx': 11}\n",
      "{'x': 3, 'f': 13, 'fx': 11}\n",
      "{'x': 3, 'f': 13, 'fx': 11}\n",
      "{'x': 3, 'f': 13, 'fx': 11}\n",
      "{'x': 3, 'f': 13, 'fx': 11}\n",
      "However this works as one would expect(run several times, since the behaviour can be stochastic):\n",
      "{'x': 3, 'f': 13, 'fx': 13}\n",
      "{'x': 3, 'f': 13, 'fx': 13}\n",
      "{'x': 3, 'f': 13, 'fx': 13}\n",
      "{'x': 3, 'f': 13, 'fx': 13}\n",
      "{'x': 3, 'f': 13, 'fx': 13}\n",
      "{'x': 3, 'f': 13, 'fx': 13}\n",
      "{'x': 3, 'f': 13, 'fx': 13}\n",
      "{'x': 3, 'f': 13, 'fx': 13}\n",
      "{'x': 3, 'f': 13, 'fx': 13}\n",
      "{'x': 3, 'f': 13, 'fx': 13}\n"
     ]
    }
   ],
   "source": [
    "import tensorflow as tf\n",
    "\n",
    "## Let's have a variable `x`\n",
    "x = tf.Variable(1)\n",
    "## and a fixed function `f` of `x`\n",
    "f = x + 10\n",
    "# Assume, we know `f` only as a tensorflow object. We do not know the formula.\n",
    "\n",
    "## Define another variable\n",
    "fx = tf.Variable(0)\n",
    "\n",
    "## We want the following two operations executed in that order\n",
    "change_x = tf.assign(x, 3)\n",
    "update_fx = tf.assign(fx, f)\n",
    "\n",
    "## Auxilliary stuff:\n",
    "init = tf.global_variables_initializer()\n",
    "def print_vals():\n",
    "    print(sess.run({\"x\": x, \"f\": f, \"fx\":fx}))\n",
    "\n",
    "##\n",
    "print(\"This is what we want to put into one operation:\")\n",
    "with tf.Session() as sess:\n",
    "    sess.run(init)\n",
    "    print_vals()\n",
    "    sess.run(change_x)\n",
    "    print_vals()\n",
    "    sess.run(update_fx)\n",
    "    print_vals()\n",
    "\n",
    "\n",
    "##\n",
    "print(\"This does not produce good result (run several times, since the behaviour is stochastic):\")\n",
    "with tf.control_dependencies([change_x]):\n",
    "    change_and_update = tf.assign(fx, f)\n",
    "\n",
    "for i in range(10):\n",
    "    with tf.Session() as sess:\n",
    "        sess.run(init)\n",
    "        sess.run(change_and_update)\n",
    "        print_vals()\n",
    "\n",
    "\n",
    "##\n",
    "print(\"However this works as one would expect(run several times, since the behaviour can be stochastic):\")\n",
    "\n",
    "with tf.control_dependencies([change_x]):\n",
    "    change_and_update_2 = tf.assign(fx, f + 1 - 1)\n",
    "\n",
    "for i in range(10):\n",
    "    with tf.Session() as sess:\n",
    "        sess.run(init)\n",
    "        sess.run(change_and_update_2)\n",
    "        print_vals()\n",
    "    "
   ]
  },
  {
   "cell_type": "code",
   "execution_count": 357,
   "metadata": {
    "ExecuteTime": {
     "end_time": "2018-08-03T09:08:54.045822Z",
     "start_time": "2018-08-03T09:08:53.431257Z"
    }
   },
   "outputs": [
    {
     "name": "stdout",
     "output_type": "stream",
     "text": [
      "This is what we want to put into one operation:\n",
      "{'fx': 0, 'x': 1, 'f': 11}\n",
      "{'fx': 0, 'x': 3, 'f': 13}\n",
      "{'fx': 13, 'x': 3, 'f': 13}\n",
      "This does not produce good result (run several times, since the behaviour is stochastic):\n",
      "{'fx': 13, 'x': 3, 'f': 13}\n",
      "{'fx': 13, 'x': 3, 'f': 13}\n",
      "{'fx': 13, 'x': 3, 'f': 13}\n",
      "{'fx': 13, 'x': 3, 'f': 13}\n",
      "{'fx': 13, 'x': 3, 'f': 13}\n",
      "{'fx': 13, 'x': 3, 'f': 13}\n",
      "{'fx': 13, 'x': 3, 'f': 13}\n",
      "{'fx': 13, 'x': 3, 'f': 13}\n",
      "{'fx': 13, 'x': 3, 'f': 13}\n",
      "{'fx': 13, 'x': 3, 'f': 13}\n",
      "However this works as one would expect(run several times, since the behaviour can be stochastic):\n",
      "{'fx': 13, 'x': 3, 'f': 13}\n",
      "{'fx': 13, 'x': 3, 'f': 13}\n",
      "{'fx': 13, 'x': 3, 'f': 13}\n",
      "{'fx': 11, 'x': 3, 'f': 13}\n",
      "{'fx': 11, 'x': 3, 'f': 13}\n",
      "{'fx': 13, 'x': 3, 'f': 13}\n",
      "{'fx': 13, 'x': 3, 'f': 13}\n",
      "{'fx': 13, 'x': 3, 'f': 13}\n",
      "{'fx': 13, 'x': 3, 'f': 13}\n",
      "{'fx': 13, 'x': 3, 'f': 13}\n"
     ]
    }
   ],
   "source": [
    "import tensorflow as tf\n",
    "\n",
    "## Let's have a variable `x`\n",
    "x = tf.contrib.eager.Variable(1)\n",
    "## and a fixed function `f` of `x`\n",
    "f = x + 10\n",
    "# Assume, we know `f` only as a tensorflow object. We do not know the formula.\n",
    "\n",
    "## Define another variable\n",
    "fx = tf.contrib.eager.Variable(0)\n",
    "\n",
    "## We want the following two operations executed in that order\n",
    "change_x = tf.assign(x, 3)\n",
    "update_fx = tf.assign(fx, f)\n",
    "\n",
    "## Auxilliary stuff:\n",
    "init = tf.global_variables_initializer()\n",
    "def print_vals():\n",
    "    print(sess.run({\"x\": x, \"f\": f, \"fx\":fx}))\n",
    "\n",
    "##\n",
    "print(\"This is what we want to put into one operation:\")\n",
    "with tf.Session() as sess:\n",
    "    sess.run(init)\n",
    "    print_vals()\n",
    "    sess.run(change_x)\n",
    "    print_vals()\n",
    "    sess.run(update_fx)\n",
    "    print_vals()\n",
    "\n",
    "\n",
    "##\n",
    "print(\"This does not produce good result (run several times, since the behaviour is stochastic):\")\n",
    "with tf.control_dependencies([change_x]):\n",
    "    change_and_update = tf.assign(fx, f)\n",
    "\n",
    "for i in range(10):\n",
    "    with tf.Session() as sess:\n",
    "        sess.run(init)\n",
    "        sess.run(change_and_update)\n",
    "        print_vals()\n",
    "\n",
    "\n",
    "##\n",
    "print(\"However this works as one would expect(run several times, since the behaviour can be stochastic):\")\n",
    "\n",
    "with tf.control_dependencies([change_x]):\n",
    "    change_and_update_2 = tf.assign(fx, f + 1 - 1)\n",
    "\n",
    "for i in range(10):\n",
    "    with tf.Session() as sess:\n",
    "        sess.run(init)\n",
    "        sess.run(change_and_update_2)\n",
    "        print_vals()\n",
    "    "
   ]
  },
  {
   "cell_type": "code",
   "execution_count": 362,
   "metadata": {
    "ExecuteTime": {
     "end_time": "2018-08-07T12:39:46.254289Z",
     "start_time": "2018-08-07T12:39:45.601574Z"
    }
   },
   "outputs": [
    {
     "name": "stdout",
     "output_type": "stream",
     "text": [
      "This is what we want to put into one operation:\n",
      "{'fx': 0, 'x': 1, 'f': 11}\n",
      "{'fx': 0, 'x': 3, 'f': 13}\n",
      "{'fx': 13, 'x': 3, 'f': 13}\n",
      "This does not produce good result (run several times, since the behaviour is stochastic):\n",
      "{'fx': 13, 'x': 3, 'f': 13}\n",
      "{'fx': 11, 'x': 3, 'f': 13}\n",
      "{'fx': 11, 'x': 3, 'f': 13}\n",
      "{'fx': 11, 'x': 3, 'f': 13}\n",
      "{'fx': 11, 'x': 3, 'f': 13}\n",
      "{'fx': 11, 'x': 3, 'f': 13}\n",
      "{'fx': 11, 'x': 3, 'f': 13}\n",
      "{'fx': 11, 'x': 3, 'f': 13}\n",
      "{'fx': 13, 'x': 3, 'f': 13}\n",
      "{'fx': 11, 'x': 3, 'f': 13}\n",
      "However this works as one would expect(run several times, since the behaviour can be stochastic):\n",
      "{'fx': 11, 'x': 3, 'f': 13}\n",
      "{'fx': 13, 'x': 3, 'f': 13}\n",
      "{'fx': 11, 'x': 3, 'f': 13}\n",
      "{'fx': 11, 'x': 3, 'f': 13}\n",
      "{'fx': 11, 'x': 3, 'f': 13}\n",
      "{'fx': 11, 'x': 3, 'f': 13}\n",
      "{'fx': 11, 'x': 3, 'f': 13}\n",
      "{'fx': 11, 'x': 3, 'f': 13}\n",
      "{'fx': 11, 'x': 3, 'f': 13}\n",
      "{'fx': 13, 'x': 3, 'f': 13}\n"
     ]
    }
   ],
   "source": [
    "import tensorflow as tf\n",
    "vscope = tf.get_variable_scope()\n",
    "vscope.set_use_resource(True)\n",
    "\n",
    "## Let's have a variable `x`\n",
    "x = tf.Variable(1)\n",
    "## and a fixed function `f` of `x`\n",
    "f = x + 10\n",
    "# Assume, we know `f` only as a tensorflow object. We do not know the formula.\n",
    "\n",
    "## Define another variable\n",
    "fx = tf.Variable(0)\n",
    "\n",
    "## We want the following two operations executed in that order\n",
    "change_x = tf.assign(x, 3)\n",
    "update_fx = tf.assign(fx, f)\n",
    "\n",
    "## Auxilliary stuff:\n",
    "init = tf.global_variables_initializer()\n",
    "def print_vals():\n",
    "    print(sess.run({\"x\": x, \"f\": f, \"fx\":fx}))\n",
    "\n",
    "##\n",
    "print(\"This is what we want to put into one operation:\")\n",
    "with tf.Session() as sess:\n",
    "    sess.run(init)\n",
    "    print_vals()\n",
    "    sess.run(change_x)\n",
    "    print_vals()\n",
    "    sess.run(update_fx)\n",
    "    print_vals()\n",
    "\n",
    "\n",
    "##\n",
    "print(\"This works (run several times, since the behaviour is stochastic):\")\n",
    "with tf.control_dependencies([change_x]):\n",
    "    change_and_update = tf.assign(fx, f)\n",
    "\n",
    "for i in range(10):\n",
    "    with tf.Session() as sess:\n",
    "        sess.run(init)\n",
    "        sess.run(change_and_update)\n",
    "        print_vals()\n",
    "\n",
    "\n",
    "\n",
    "    "
   ]
  },
  {
   "cell_type": "markdown",
   "metadata": {
    "ExecuteTime": {
     "end_time": "2018-08-07T12:36:58.925959Z",
     "start_time": "2018-08-07T12:36:58.921948Z"
    }
   },
   "source": [
    "# Problem 2"
   ]
  },
  {
   "cell_type": "code",
   "execution_count": 4,
   "metadata": {
    "ExecuteTime": {
     "end_time": "2018-08-07T12:39:38.133231Z",
     "start_time": "2018-08-07T12:39:37.465601Z"
    }
   },
   "outputs": [
    {
     "name": "stdout",
     "output_type": "stream",
     "text": [
      "This is what we want to put into one operation:\n",
      "{'y': 1, 'x': 1, 'f': 11, 'fx': 0}\n",
      "{'y': 3, 'x': 1, 'f': 11, 'fx': 0}\n",
      "{'y': 3, 'x': 3, 'f': 13, 'fx': 0}\n",
      "{'y': 3, 'x': 3, 'f': 13, 'fx': 13}\n",
      "This does not produce good result (run several times, since the behaviour is stochastic):\n",
      "{'y': 3, 'x': 3, 'f': 13, 'fx': 13}\n",
      "{'y': 3, 'x': 3, 'f': 13, 'fx': 13}\n",
      "{'y': 3, 'x': 3, 'f': 13, 'fx': 11}\n",
      "{'y': 3, 'x': 3, 'f': 13, 'fx': 13}\n",
      "{'y': 3, 'x': 3, 'f': 13, 'fx': 13}\n",
      "{'y': 3, 'x': 3, 'f': 13, 'fx': 13}\n",
      "{'y': 3, 'x': 3, 'f': 13, 'fx': 11}\n",
      "{'y': 3, 'x': 3, 'f': 13, 'fx': 13}\n",
      "{'y': 3, 'x': 3, 'f': 13, 'fx': 11}\n",
      "{'y': 3, 'x': 3, 'f': 13, 'fx': 13}\n",
      "However this works as one would expect(run several times, since the behaviour can be stochastic):\n",
      "{'y': 3, 'x': 3, 'f': 13, 'fx': 13}\n",
      "{'y': 3, 'x': 3, 'f': 13, 'fx': 13}\n",
      "{'y': 3, 'x': 3, 'f': 13, 'fx': 13}\n",
      "{'y': 3, 'x': 3, 'f': 13, 'fx': 13}\n",
      "{'y': 3, 'x': 3, 'f': 13, 'fx': 13}\n",
      "{'y': 3, 'x': 3, 'f': 13, 'fx': 13}\n",
      "{'y': 3, 'x': 3, 'f': 13, 'fx': 13}\n",
      "{'y': 3, 'x': 3, 'f': 13, 'fx': 13}\n",
      "{'y': 3, 'x': 3, 'f': 13, 'fx': 13}\n",
      "{'y': 3, 'x': 3, 'f': 13, 'fx': 13}\n"
     ]
    }
   ],
   "source": [
    "import tensorflow as tf\n",
    "\n",
    "## Let's have a variable `x`\n",
    "x = tf.Variable(1)\n",
    "y = tf.Variable(1)\n",
    "## and a fixed function `f` of `x`\n",
    "f = x + 10\n",
    "# Assume, we know `f` only as a tensorflow object. We do not know the formula.\n",
    "\n",
    "## Define another variable\n",
    "fx = tf.Variable(0)\n",
    "\n",
    "## We want the following two operations executed in that order\n",
    "change_y = tf.assign(y, 3)\n",
    "update_x_from_y = tf.assign(x, y)\n",
    "update_fx = tf.assign(fx, f)\n",
    "\n",
    "## Auxilliary stuff:\n",
    "init = tf.global_variables_initializer()\n",
    "def print_vals():\n",
    "    print(sess.run({\"y\": y, \"x\": x,  \"f\": f, \"fx\":fx}))\n",
    "\n",
    "##\n",
    "print(\"This is what we want to put into one operation:\")\n",
    "with tf.Session() as sess:\n",
    "    sess.run(init)\n",
    "    print_vals()\n",
    "    sess.run(change_y)\n",
    "    print_vals()\n",
    "    sess.run(update_x_from_y)\n",
    "    print_vals()\n",
    "    sess.run(update_fx)\n",
    "    print_vals()\n",
    "\n",
    "\n",
    "##\n",
    "print(\"This does not produce good result (run several times, since the behaviour is stochastic):\")\n",
    "with tf.control_dependencies([change_y]):\n",
    "    change_y_x = tf.assign(x, y)\n",
    "\n",
    "with tf.control_dependencies([change_y_x]):\n",
    "    change_y_x_fx = tf.assign(fx, f)\n",
    "\n",
    "for i in range(10):\n",
    "    with tf.Session() as sess:\n",
    "        sess.run(init)\n",
    "        sess.run(change_y_x_fx)\n",
    "        print_vals()\n",
    "\n",
    "\n",
    "##\n",
    "print(\"However this works as one would expect(run several times, since the behaviour can be stochastic):\")\n",
    "with tf.control_dependencies([change_y]):\n",
    "    change_y_x = tf.assign(x, y +1 - 1)\n",
    "\n",
    "with tf.control_dependencies([change_y_x]):\n",
    "    change_y_x_fx = tf.assign(fx, f + 1 - 1)\n",
    "\n",
    "for i in range(10):\n",
    "    with tf.Session() as sess:\n",
    "        sess.run(init)\n",
    "        sess.run(change_y_x_fx)\n",
    "        print_vals()\n"
   ]
  },
  {
   "cell_type": "code",
   "execution_count": null,
   "metadata": {},
   "outputs": [],
   "source": []
  }
 ],
 "metadata": {
  "kernelspec": {
   "display_name": "Python 3",
   "language": "python",
   "name": "python3"
  },
  "language_info": {
   "codemirror_mode": {
    "name": "ipython",
    "version": 3
   },
   "file_extension": ".py",
   "mimetype": "text/x-python",
   "name": "python",
   "nbconvert_exporter": "python",
   "pygments_lexer": "ipython3",
   "version": "3.7.0"
  },
  "toc": {
   "colors": {
    "hover_highlight": "#DAA520",
    "navigate_num": "#000000",
    "navigate_text": "#400040",
    "running_highlight": "#FF0000",
    "selected_highlight": "#FFD700",
    "sidebar_border": "#000000",
    "wrapper_background": "#ffffff"
   },
   "moveMenuLeft": true,
   "nav_menu": {
    "height": "100px",
    "width": "252px"
   },
   "navigate_menu": true,
   "number_sections": true,
   "sideBar": true,
   "threshold": 4,
   "toc_cell": false,
   "toc_section_display": "block",
   "toc_window_display": false,
   "widenNotebook": false
  }
 },
 "nbformat": 4,
 "nbformat_minor": 2
}

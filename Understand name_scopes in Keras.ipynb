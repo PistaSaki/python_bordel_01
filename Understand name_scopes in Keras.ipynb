{
 "cells": [
  {
   "cell_type": "code",
   "execution_count": 1,
   "metadata": {
    "ExecuteTime": {
     "end_time": "2018-07-30T09:31:22.913450Z",
     "start_time": "2018-07-30T09:31:21.256116Z"
    }
   },
   "outputs": [
    {
     "name": "stderr",
     "output_type": "stream",
     "text": [
      "Using TensorFlow backend.\n"
     ]
    }
   ],
   "source": [
    "import keras\n",
    "import keras.layers as kl\n",
    "import tensorflow as tf"
   ]
  },
  {
   "cell_type": "code",
   "execution_count": 2,
   "metadata": {
    "ExecuteTime": {
     "end_time": "2018-07-30T09:31:22.927647Z",
     "start_time": "2018-07-30T09:31:22.914419Z"
    }
   },
   "outputs": [],
   "source": [
    "x = kl.Input(shape = [2], name = \"x\")"
   ]
  },
  {
   "cell_type": "code",
   "execution_count": 3,
   "metadata": {
    "ExecuteTime": {
     "end_time": "2018-07-30T09:31:23.503414Z",
     "start_time": "2018-07-30T09:31:22.928458Z"
    }
   },
   "outputs": [
    {
     "data": {
      "text/plain": [
       "'dense_1'"
      ]
     },
     "execution_count": 3,
     "metadata": {},
     "output_type": "execute_result"
    }
   ],
   "source": [
    "l1 = kl.Dense(3, activation = \"relu\")\n",
    "l1.name"
   ]
  },
  {
   "cell_type": "code",
   "execution_count": 4,
   "metadata": {
    "ExecuteTime": {
     "end_time": "2018-07-30T09:31:23.587725Z",
     "start_time": "2018-07-30T09:31:23.504402Z"
    }
   },
   "outputs": [
    {
     "data": {
      "text/plain": [
       "(False, False)"
      ]
     },
     "execution_count": 4,
     "metadata": {},
     "output_type": "execute_result"
    }
   ],
   "source": [
    "l1.built, hasattr(l1, \"bias\")"
   ]
  },
  {
   "cell_type": "code",
   "execution_count": 5,
   "metadata": {
    "ExecuteTime": {
     "end_time": "2018-07-30T09:31:23.690060Z",
     "start_time": "2018-07-30T09:31:23.588694Z"
    }
   },
   "outputs": [],
   "source": [
    "x1 = l1(x)"
   ]
  },
  {
   "cell_type": "code",
   "execution_count": 6,
   "metadata": {
    "ExecuteTime": {
     "end_time": "2018-07-30T09:31:23.769575Z",
     "start_time": "2018-07-30T09:31:23.691066Z"
    }
   },
   "outputs": [
    {
     "data": {
      "text/plain": [
       "(True, True)"
      ]
     },
     "execution_count": 6,
     "metadata": {},
     "output_type": "execute_result"
    }
   ],
   "source": [
    "l1.built, hasattr(l1, \"bias\")"
   ]
  },
  {
   "cell_type": "code",
   "execution_count": 7,
   "metadata": {
    "ExecuteTime": {
     "end_time": "2018-07-30T09:31:23.847837Z",
     "start_time": "2018-07-30T09:31:23.770576Z"
    }
   },
   "outputs": [
    {
     "data": {
      "text/plain": [
       "'dense_2'"
      ]
     },
     "execution_count": 7,
     "metadata": {},
     "output_type": "execute_result"
    }
   ],
   "source": [
    "with keras.backend.name_scope(\"my_l2\"):\n",
    "    l2 = kl.Dense(1, activation = \"relu\")\n",
    "l2.name"
   ]
  },
  {
   "cell_type": "code",
   "execution_count": 8,
   "metadata": {
    "ExecuteTime": {
     "end_time": "2018-07-30T09:31:23.949507Z",
     "start_time": "2018-07-30T09:31:23.848803Z"
    }
   },
   "outputs": [],
   "source": [
    "x2 = l2(x1)"
   ]
  },
  {
   "cell_type": "code",
   "execution_count": 9,
   "metadata": {
    "ExecuteTime": {
     "end_time": "2018-07-30T09:31:24.028331Z",
     "start_time": "2018-07-30T09:31:23.950510Z"
    }
   },
   "outputs": [],
   "source": [
    "#model = keras.Model(x, x2)"
   ]
  },
  {
   "cell_type": "code",
   "execution_count": null,
   "metadata": {},
   "outputs": [],
   "source": []
  },
  {
   "cell_type": "code",
   "execution_count": 10,
   "metadata": {
    "ExecuteTime": {
     "end_time": "2018-07-30T09:31:24.111603Z",
     "start_time": "2018-07-30T09:31:24.029380Z"
    }
   },
   "outputs": [
    {
     "data": {
      "text/plain": [
       "'y_name_scope/y:0'"
      ]
     },
     "execution_count": 10,
     "metadata": {},
     "output_type": "execute_result"
    }
   ],
   "source": [
    "with keras.backend.name_scope(\"y_name_scope\"):\n",
    "    y = kl.Input(shape = [2], name = \"y\")\n",
    "    \n",
    "y.name"
   ]
  },
  {
   "cell_type": "code",
   "execution_count": 11,
   "metadata": {
    "ExecuteTime": {
     "end_time": "2018-07-30T09:31:24.205857Z",
     "start_time": "2018-07-30T09:31:24.112574Z"
    }
   },
   "outputs": [],
   "source": [
    "y1 = l1(y)"
   ]
  },
  {
   "cell_type": "code",
   "execution_count": 12,
   "metadata": {
    "ExecuteTime": {
     "end_time": "2018-07-30T09:31:24.301611Z",
     "start_time": "2018-07-30T09:31:24.206498Z"
    }
   },
   "outputs": [
    {
     "data": {
      "text/plain": [
       "'dense_1_1/Relu:0'"
      ]
     },
     "execution_count": 12,
     "metadata": {},
     "output_type": "execute_result"
    }
   ],
   "source": [
    "y1.name"
   ]
  },
  {
   "cell_type": "code",
   "execution_count": 13,
   "metadata": {
    "ExecuteTime": {
     "end_time": "2018-07-30T09:31:24.418652Z",
     "start_time": "2018-07-30T09:31:24.303617Z"
    }
   },
   "outputs": [
    {
     "data": {
      "text/plain": [
       "[array([[ 1.0144238 , -0.79430914, -0.9529711 ],\n",
       "        [-1.0792526 , -0.05494404,  0.83648384]], dtype=float32),\n",
       " array([0., 0., 0.], dtype=float32)]"
      ]
     },
     "execution_count": 13,
     "metadata": {},
     "output_type": "execute_result"
    }
   ],
   "source": [
    "l1.get_weights()"
   ]
  },
  {
   "cell_type": "code",
   "execution_count": null,
   "metadata": {},
   "outputs": [],
   "source": []
  },
  {
   "cell_type": "code",
   "execution_count": 14,
   "metadata": {
    "ExecuteTime": {
     "end_time": "2018-07-30T09:31:24.477096Z",
     "start_time": "2018-07-30T09:31:24.419663Z"
    }
   },
   "outputs": [
    {
     "data": {
      "text/plain": [
       "'z_name_scope/dense_1/Relu:0'"
      ]
     },
     "execution_count": 14,
     "metadata": {},
     "output_type": "execute_result"
    }
   ],
   "source": [
    "with keras.backend.name_scope(\"z_name_scope\"):\n",
    "    z = kl.Input(shape = [2], name = \"z\")\n",
    "    z1 = l1(z)\n",
    "    \n",
    "z1.name"
   ]
  },
  {
   "cell_type": "markdown",
   "metadata": {},
   "source": [
    "# Tensorboard"
   ]
  },
  {
   "cell_type": "code",
   "execution_count": 15,
   "metadata": {
    "ExecuteTime": {
     "end_time": "2018-07-30T09:31:24.568948Z",
     "start_time": "2018-07-30T09:31:24.478099Z"
    }
   },
   "outputs": [
    {
     "data": {
      "text/plain": [
       "'D:\\\\python_source\\\\data\\\\bordel\\\\tesorboard_test_02'"
      ]
     },
     "execution_count": 15,
     "metadata": {},
     "output_type": "execute_result"
    }
   ],
   "source": [
    "tb_dir = r\"D:\\python_source\\data\\bordel\\tesorboard_test_02\"\n",
    "tb_dir"
   ]
  },
  {
   "cell_type": "code",
   "execution_count": 16,
   "metadata": {
    "ExecuteTime": {
     "end_time": "2018-07-30T09:31:24.656852Z",
     "start_time": "2018-07-30T09:31:24.569982Z"
    }
   },
   "outputs": [],
   "source": [
    "graph = keras.backend.get_session().graph"
   ]
  },
  {
   "cell_type": "code",
   "execution_count": 17,
   "metadata": {
    "ExecuteTime": {
     "end_time": "2018-07-30T09:31:24.743251Z",
     "start_time": "2018-07-30T09:31:24.657857Z"
    }
   },
   "outputs": [
    {
     "data": {
      "text/plain": [
       "[<tf.Operation 'x' type=Placeholder>,\n",
       " <tf.Operation 'dense_1/random_uniform/shape' type=Const>,\n",
       " <tf.Operation 'dense_1/random_uniform/min' type=Const>,\n",
       " <tf.Operation 'dense_1/random_uniform/max' type=Const>,\n",
       " <tf.Operation 'dense_1/random_uniform/RandomUniform' type=RandomUniform>,\n",
       " <tf.Operation 'dense_1/random_uniform/sub' type=Sub>,\n",
       " <tf.Operation 'dense_1/random_uniform/mul' type=Mul>,\n",
       " <tf.Operation 'dense_1/random_uniform' type=Add>,\n",
       " <tf.Operation 'dense_1/kernel' type=VariableV2>,\n",
       " <tf.Operation 'dense_1/kernel/Assign' type=Assign>,\n",
       " <tf.Operation 'dense_1/kernel/read' type=Identity>,\n",
       " <tf.Operation 'dense_1/Const' type=Const>,\n",
       " <tf.Operation 'dense_1/bias' type=VariableV2>,\n",
       " <tf.Operation 'dense_1/bias/Assign' type=Assign>,\n",
       " <tf.Operation 'dense_1/bias/read' type=Identity>,\n",
       " <tf.Operation 'dense_1/MatMul' type=MatMul>,\n",
       " <tf.Operation 'dense_1/BiasAdd' type=BiasAdd>,\n",
       " <tf.Operation 'dense_1/Relu' type=Relu>,\n",
       " <tf.Operation 'dense_2/random_uniform/shape' type=Const>,\n",
       " <tf.Operation 'dense_2/random_uniform/min' type=Const>,\n",
       " <tf.Operation 'dense_2/random_uniform/max' type=Const>,\n",
       " <tf.Operation 'dense_2/random_uniform/RandomUniform' type=RandomUniform>,\n",
       " <tf.Operation 'dense_2/random_uniform/sub' type=Sub>,\n",
       " <tf.Operation 'dense_2/random_uniform/mul' type=Mul>,\n",
       " <tf.Operation 'dense_2/random_uniform' type=Add>,\n",
       " <tf.Operation 'dense_2/kernel' type=VariableV2>,\n",
       " <tf.Operation 'dense_2/kernel/Assign' type=Assign>,\n",
       " <tf.Operation 'dense_2/kernel/read' type=Identity>,\n",
       " <tf.Operation 'dense_2/Const' type=Const>,\n",
       " <tf.Operation 'dense_2/bias' type=VariableV2>,\n",
       " <tf.Operation 'dense_2/bias/Assign' type=Assign>,\n",
       " <tf.Operation 'dense_2/bias/read' type=Identity>,\n",
       " <tf.Operation 'dense_2/MatMul' type=MatMul>,\n",
       " <tf.Operation 'dense_2/BiasAdd' type=BiasAdd>,\n",
       " <tf.Operation 'dense_2/Relu' type=Relu>,\n",
       " <tf.Operation 'y_name_scope/y' type=Placeholder>,\n",
       " <tf.Operation 'dense_1_1/MatMul' type=MatMul>,\n",
       " <tf.Operation 'dense_1_1/BiasAdd' type=BiasAdd>,\n",
       " <tf.Operation 'dense_1_1/Relu' type=Relu>,\n",
       " <tf.Operation 'IsVariableInitialized' type=IsVariableInitialized>,\n",
       " <tf.Operation 'IsVariableInitialized_1' type=IsVariableInitialized>,\n",
       " <tf.Operation 'IsVariableInitialized_2' type=IsVariableInitialized>,\n",
       " <tf.Operation 'IsVariableInitialized_3' type=IsVariableInitialized>,\n",
       " <tf.Operation 'init' type=NoOp>,\n",
       " <tf.Operation 'z_name_scope/z' type=Placeholder>,\n",
       " <tf.Operation 'z_name_scope/dense_1/MatMul' type=MatMul>,\n",
       " <tf.Operation 'z_name_scope/dense_1/BiasAdd' type=BiasAdd>,\n",
       " <tf.Operation 'z_name_scope/dense_1/Relu' type=Relu>]"
      ]
     },
     "execution_count": 17,
     "metadata": {},
     "output_type": "execute_result"
    }
   ],
   "source": [
    "graph.get_operations()"
   ]
  },
  {
   "cell_type": "code",
   "execution_count": 18,
   "metadata": {
    "ExecuteTime": {
     "end_time": "2018-07-30T09:31:25.242138Z",
     "start_time": "2018-07-30T09:31:24.744254Z"
    }
   },
   "outputs": [],
   "source": [
    "tb_writer = tf.summary.FileWriter(tb_dir)\n",
    "tb_writer.add_graph(graph)"
   ]
  },
  {
   "cell_type": "code",
   "execution_count": null,
   "metadata": {},
   "outputs": [],
   "source": []
  }
 ],
 "metadata": {
  "kernelspec": {
   "display_name": "Python 3",
   "language": "python",
   "name": "python3"
  },
  "language_info": {
   "codemirror_mode": {
    "name": "ipython",
    "version": 3
   },
   "file_extension": ".py",
   "mimetype": "text/x-python",
   "name": "python",
   "nbconvert_exporter": "python",
   "pygments_lexer": "ipython3",
   "version": "3.5.2"
  },
  "toc": {
   "colors": {
    "hover_highlight": "#DAA520",
    "navigate_num": "#000000",
    "navigate_text": "#400040",
    "running_highlight": "#FF0000",
    "selected_highlight": "#FFD700",
    "sidebar_border": "#000000",
    "wrapper_background": "#ffffff"
   },
   "moveMenuLeft": true,
   "nav_menu": {
    "height": "30px",
    "width": "252px"
   },
   "navigate_menu": true,
   "number_sections": true,
   "sideBar": true,
   "threshold": 4,
   "toc_cell": false,
   "toc_section_display": "block",
   "toc_window_display": false,
   "widenNotebook": false
  }
 },
 "nbformat": 4,
 "nbformat_minor": 2
}

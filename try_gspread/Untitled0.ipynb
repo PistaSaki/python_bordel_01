{
 "cells": [
  {
   "cell_type": "code",
   "execution_count": null,
   "metadata": {
    "ExecuteTime": {
     "start_time": "2020-10-13T16:41:52.001Z"
    },
    "id": "UgIu7feWfSn1"
   },
   "outputs": [],
   "source": [
    "from google.colab import auth\n",
    "auth.authenticate_user()\n",
    "\n",
    "import gspread\n",
    "from oauth2client.client import GoogleCredentials\n",
    "\n",
    "gc = gspread.authorize(GoogleCredentials.get_application_default())"
   ]
  },
  {
   "cell_type": "code",
   "execution_count": 3,
   "metadata": {
    "ExecuteTime": {
     "end_time": "2020-10-13T16:35:59.301870Z",
     "start_time": "2020-10-13T16:35:59.297908Z"
    }
   },
   "outputs": [],
   "source": [
    "import google"
   ]
  },
  {
   "cell_type": "code",
   "execution_count": 4,
   "metadata": {
    "ExecuteTime": {
     "end_time": "2020-10-13T16:36:01.801757Z",
     "start_time": "2020-10-13T16:36:01.793756Z"
    }
   },
   "outputs": [
    {
     "data": {
      "text/plain": [
       "<module 'google' (namespace)>"
      ]
     },
     "execution_count": 4,
     "metadata": {},
     "output_type": "execute_result"
    }
   ],
   "source": []
  },
  {
   "cell_type": "code",
   "execution_count": 33,
   "metadata": {
    "id": "SEEs5QwU9GU_"
   },
   "outputs": [],
   "source": [
    "import pandas as pd\n",
    "import numpy as np"
   ]
  },
  {
   "cell_type": "markdown",
   "metadata": {
    "id": "5N5LZzm3IAaw"
   },
   "source": [
    "# Reading Data"
   ]
  },
  {
   "cell_type": "code",
   "execution_count": 33,
   "metadata": {
    "id": "BWQOIqiKH7lo"
   },
   "outputs": [],
   "source": []
  },
  {
   "cell_type": "code",
   "execution_count": 34,
   "metadata": {
    "id": "1cwgyBjfiH0R"
   },
   "outputs": [],
   "source": [
    "def get_data_from_worksheet(worksheet):\n",
    "    rows = worksheet.get_all_values()\n",
    "    \n",
    "    start_marker = \"#\"\n",
    "    for start_row_index, r in enumerate(rows):\n",
    "        if r[0] == start_marker:\n",
    "            break\n",
    "\n",
    "    data = rows[start_row_index:]\n",
    "\n",
    "    # Convert to a DataFrame and render.\n",
    "    df = pd.DataFrame(data[1:], columns=[str(s).lower() for s in data[0]])\n",
    "    df = df[df.exercise != '']\n",
    "    return df"
   ]
  },
  {
   "cell_type": "code",
   "execution_count": 35,
   "metadata": {
    "id": "Tdnq3OwLg0PE"
   },
   "outputs": [],
   "source": [
    "def load_data_from_spreadsheet(spreadsheet):\n",
    "    dfs = []\n",
    "    for worksheet in spreadsheet.worksheets():\n",
    "        df = get_data_from_worksheet(worksheet)\n",
    "        df.insert(0, column=\"weekday\", value=worksheet.title)\n",
    "        dfs.append(df)\n",
    "\n",
    "    return pd.concat(dfs, axis=0)"
   ]
  },
  {
   "cell_type": "code",
   "execution_count": 36,
   "metadata": {
    "colab": {
     "base_uri": "https://localhost:8080/",
     "height": 935
    },
    "id": "UZxycOmOxsQV",
    "outputId": "25b9b572-de64-4277-a01e-420b949b1cf6"
   },
   "outputs": [
    {
     "data": {
      "text/html": [
       "<div>\n",
       "<style scoped>\n",
       "    .dataframe tbody tr th:only-of-type {\n",
       "        vertical-align: middle;\n",
       "    }\n",
       "\n",
       "    .dataframe tbody tr th {\n",
       "        vertical-align: top;\n",
       "    }\n",
       "\n",
       "    .dataframe thead th {\n",
       "        text-align: right;\n",
       "    }\n",
       "</style>\n",
       "<table border=\"1\" class=\"dataframe\">\n",
       "  <thead>\n",
       "    <tr style=\"text-align: right;\">\n",
       "      <th></th>\n",
       "      <th>weekday</th>\n",
       "      <th>#</th>\n",
       "      <th>exercise</th>\n",
       "      <th>sets</th>\n",
       "      <th>reps</th>\n",
       "      <th>load</th>\n",
       "      <th>tempo</th>\n",
       "      <th>rpe</th>\n",
       "      <th>note</th>\n",
       "      <th></th>\n",
       "    </tr>\n",
       "  </thead>\n",
       "  <tbody>\n",
       "    <tr>\n",
       "      <th>0</th>\n",
       "      <td>Monday</td>\n",
       "      <td>A</td>\n",
       "      <td>Goblet squat DB</td>\n",
       "      <td>2</td>\n",
       "      <td>16</td>\n",
       "      <td>16</td>\n",
       "      <td></td>\n",
       "      <td>8</td>\n",
       "      <td>Goblet dřepy jsou s úchopem činky před tělem. ...</td>\n",
       "      <td>NaN</td>\n",
       "    </tr>\n",
       "    <tr>\n",
       "      <th>1</th>\n",
       "      <td>Monday</td>\n",
       "      <td>B</td>\n",
       "      <td>Split squat - excentric</td>\n",
       "      <td>2</td>\n",
       "      <td>12</td>\n",
       "      <td>1</td>\n",
       "      <td>401</td>\n",
       "      <td>8</td>\n",
       "      <td>Split squat už jsme taky spolu dělali na posil...</td>\n",
       "      <td>NaN</td>\n",
       "    </tr>\n",
       "    <tr>\n",
       "      <th>2</th>\n",
       "      <td>Monday</td>\n",
       "      <td>C</td>\n",
       "      <td>Bridges with dumbell</td>\n",
       "      <td>2</td>\n",
       "      <td>20</td>\n",
       "      <td>16</td>\n",
       "      <td></td>\n",
       "      <td>6</td>\n",
       "      <td>Mosty s nohama opřenýma o podlahu. Činku si de...</td>\n",
       "      <td>NaN</td>\n",
       "    </tr>\n",
       "    <tr>\n",
       "      <th>3</th>\n",
       "      <td>Monday</td>\n",
       "      <td>D</td>\n",
       "      <td>Single leg bridges</td>\n",
       "      <td>2</td>\n",
       "      <td>12</td>\n",
       "      <td>1</td>\n",
       "      <td></td>\n",
       "      <td>9</td>\n",
       "      <td>Stejné jako předchozí, ale bez činky a na jedn...</td>\n",
       "      <td>NaN</td>\n",
       "    </tr>\n",
       "    <tr>\n",
       "      <th>4</th>\n",
       "      <td>Monday</td>\n",
       "      <td>E</td>\n",
       "      <td>Push ups - bear position</td>\n",
       "      <td>2</td>\n",
       "      <td>12</td>\n",
       "      <td>1</td>\n",
       "      <td></td>\n",
       "      <td>9</td>\n",
       "      <td>Kliky v pozici medvěda. Je to pozice s opřeným...</td>\n",
       "      <td>NaN</td>\n",
       "    </tr>\n",
       "    <tr>\n",
       "      <th>5</th>\n",
       "      <td>Monday</td>\n",
       "      <td>F</td>\n",
       "      <td>TRX row</td>\n",
       "      <td>2</td>\n",
       "      <td>16</td>\n",
       "      <td>1</td>\n",
       "      <td></td>\n",
       "      <td>6</td>\n",
       "      <td>Přítahy na TRX, náklon si zvol podle sebe podl...</td>\n",
       "      <td>NaN</td>\n",
       "    </tr>\n",
       "    <tr>\n",
       "      <th>0</th>\n",
       "      <td>Tuesday</td>\n",
       "      <td>A</td>\n",
       "      <td>Dead bug + arm/leg mvmnt</td>\n",
       "      <td>2</td>\n",
       "      <td>20</td>\n",
       "      <td>1</td>\n",
       "      <td>401</td>\n",
       "      <td>8</td>\n",
       "      <td>Mrtvé brouky máš i v rozvičce, tak tam je může...</td>\n",
       "      <td>Ako sa to počíta? Keď natiahnem raz pravú a ra...</td>\n",
       "    </tr>\n",
       "    <tr>\n",
       "      <th>1</th>\n",
       "      <td>Tuesday</td>\n",
       "      <td>B</td>\n",
       "      <td>Pullover</td>\n",
       "      <td>2</td>\n",
       "      <td>15</td>\n",
       "      <td>10</td>\n",
       "      <td>401</td>\n",
       "      <td>6</td>\n",
       "      <td>Udělej si pevný pullover. To znamená, že nohy ...</td>\n",
       "      <td></td>\n",
       "    </tr>\n",
       "    <tr>\n",
       "      <th>2</th>\n",
       "      <td>Tuesday</td>\n",
       "      <td>C</td>\n",
       "      <td>Side plank</td>\n",
       "      <td>2</td>\n",
       "      <td>30</td>\n",
       "      <td>1</td>\n",
       "      <td></td>\n",
       "      <td>4</td>\n",
       "      <td>Bude to výdrž na boku v podporu na předloktí. ...</td>\n",
       "      <td></td>\n",
       "    </tr>\n",
       "    <tr>\n",
       "      <th>3</th>\n",
       "      <td>Tuesday</td>\n",
       "      <td>D</td>\n",
       "      <td>Side lunges</td>\n",
       "      <td>2</td>\n",
       "      <td>12</td>\n",
       "      <td>1</td>\n",
       "      <td></td>\n",
       "      <td>7</td>\n",
       "      <td>Výpady do strany, při kroku do strany si troch...</td>\n",
       "      <td></td>\n",
       "    </tr>\n",
       "    <tr>\n",
       "      <th>4</th>\n",
       "      <td>Tuesday</td>\n",
       "      <td>E</td>\n",
       "      <td>Quadraped walk fw/bw</td>\n",
       "      <td>3</td>\n",
       "      <td>30</td>\n",
       "      <td>1</td>\n",
       "      <td></td>\n",
       "      <td>6</td>\n",
       "      <td>Chůze po čtyřech v medvědovi. Nevím, jak moc m...</td>\n",
       "      <td>šiel som veľmi pomaly, je to pre technicky nár...</td>\n",
       "    </tr>\n",
       "    <tr>\n",
       "      <th>5</th>\n",
       "      <td>Tuesday</td>\n",
       "      <td>F</td>\n",
       "      <td>Calf raises</td>\n",
       "      <td>3</td>\n",
       "      <td>15</td>\n",
       "      <td>1</td>\n",
       "      <td></td>\n",
       "      <td>4</td>\n",
       "      <td>Udělej si tři série výponů na obou nohách. Jed...</td>\n",
       "      <td>Za pomalejší tempo jsem radši. Jak jsem psal v...</td>\n",
       "    </tr>\n",
       "    <tr>\n",
       "      <th>0</th>\n",
       "      <td>Wednesday</td>\n",
       "      <td>A</td>\n",
       "      <td>Squat bottom izo hold</td>\n",
       "      <td>2</td>\n",
       "      <td>10</td>\n",
       "      <td>16</td>\n",
       "      <td>141</td>\n",
       "      <td>8</td>\n",
       "      <td>Dřepy s výdrží ve  spodní pozici. Jdi si až do...</td>\n",
       "      <td>Tu som znížil počet opakovaní z 12 na 10. Steh...</td>\n",
       "    </tr>\n",
       "    <tr>\n",
       "      <th>1</th>\n",
       "      <td>Wednesday</td>\n",
       "      <td>B</td>\n",
       "      <td>Front lunge - bottom izo hold</td>\n",
       "      <td>2</td>\n",
       "      <td>12</td>\n",
       "      <td>1</td>\n",
       "      <td>141</td>\n",
       "      <td>4</td>\n",
       "      <td>Stejně jako u dřepu bude výdrž ve spodní pozic...</td>\n",
       "      <td></td>\n",
       "    </tr>\n",
       "    <tr>\n",
       "      <th>2</th>\n",
       "      <td>Wednesday</td>\n",
       "      <td>C</td>\n",
       "      <td>Dumbell deadlift</td>\n",
       "      <td>2</td>\n",
       "      <td>16</td>\n",
       "      <td>16</td>\n",
       "      <td></td>\n",
       "      <td>5</td>\n",
       "      <td>Když už máš kettlebell, tak to bude lepší s ní...</td>\n",
       "      <td></td>\n",
       "    </tr>\n",
       "    <tr>\n",
       "      <th>3</th>\n",
       "      <td>Wednesday</td>\n",
       "      <td>D</td>\n",
       "      <td>Single leg deadlift</td>\n",
       "      <td>2</td>\n",
       "      <td>12</td>\n",
       "      <td>1</td>\n",
       "      <td></td>\n",
       "      <td>7</td>\n",
       "      <td>Jsou to klasické holubičky. Udělej stoj na DK,...</td>\n",
       "      <td></td>\n",
       "    </tr>\n",
       "    <tr>\n",
       "      <th>4</th>\n",
       "      <td>Wednesday</td>\n",
       "      <td>E</td>\n",
       "      <td>Shoulder push ups</td>\n",
       "      <td>2</td>\n",
       "      <td>8</td>\n",
       "      <td>1</td>\n",
       "      <td></td>\n",
       "      <td>9</td>\n",
       "      <td>Jsou to kliky podobné medvědovi, ale budeš tru...</td>\n",
       "      <td>Tu som znížl reps z 10 na 8</td>\n",
       "    </tr>\n",
       "    <tr>\n",
       "      <th>5</th>\n",
       "      <td>Wednesday</td>\n",
       "      <td>F</td>\n",
       "      <td>TRX delts row</td>\n",
       "      <td>2</td>\n",
       "      <td>12</td>\n",
       "      <td>1</td>\n",
       "      <td>301</td>\n",
       "      <td>9</td>\n",
       "      <td>Jsou to přítahy na TRX, kde budeš rozpažovat r...</td>\n",
       "      <td>Tu som znížl reps z 16 na 12. \\nV hornej poloh...</td>\n",
       "    </tr>\n",
       "    <tr>\n",
       "      <th>0</th>\n",
       "      <td>Thursday</td>\n",
       "      <td>A</td>\n",
       "      <td>Side plank - hip abductions</td>\n",
       "      <td>2</td>\n",
       "      <td>20</td>\n",
       "      <td>1</td>\n",
       "      <td></td>\n",
       "      <td>5</td>\n",
       "      <td>Bude to stejná pozice jako v úterý, ale tentok...</td>\n",
       "      <td></td>\n",
       "    </tr>\n",
       "    <tr>\n",
       "      <th>1</th>\n",
       "      <td>Thursday</td>\n",
       "      <td>B</td>\n",
       "      <td>Side lunges</td>\n",
       "      <td>2</td>\n",
       "      <td>12</td>\n",
       "      <td>1</td>\n",
       "      <td></td>\n",
       "      <td>5</td>\n",
       "      <td>Stejně jako s usměvavou číňankou :-)</td>\n",
       "      <td></td>\n",
       "    </tr>\n",
       "    <tr>\n",
       "      <th>2</th>\n",
       "      <td>Thursday</td>\n",
       "      <td>C</td>\n",
       "      <td>Pullover</td>\n",
       "      <td>2</td>\n",
       "      <td>15</td>\n",
       "      <td>10</td>\n",
       "      <td>401</td>\n",
       "      <td>5</td>\n",
       "      <td>Udělej si pevný pullover. To znamená, že nohy ...</td>\n",
       "      <td></td>\n",
       "    </tr>\n",
       "    <tr>\n",
       "      <th>3</th>\n",
       "      <td>Thursday</td>\n",
       "      <td>D</td>\n",
       "      <td>Sit ups - excentrics</td>\n",
       "      <td>2</td>\n",
       "      <td>15</td>\n",
       "      <td>1</td>\n",
       "      <td>411</td>\n",
       "      <td>9</td>\n",
       "      <td>Nohy nezaprené. Celý rozsah.</td>\n",
       "      <td>Tu bolo pôvodne 15, ja som dal len 7 do zlyhania</td>\n",
       "    </tr>\n",
       "    <tr>\n",
       "      <th>4</th>\n",
       "      <td>Thursday</td>\n",
       "      <td>E</td>\n",
       "      <td>Quadraped walk side</td>\n",
       "      <td>3</td>\n",
       "      <td>45</td>\n",
       "      <td>1</td>\n",
       "      <td></td>\n",
       "      <td>7</td>\n",
       "      <td>Udělej si podobný způsob pohybu jako si udělal...</td>\n",
       "      <td>Tu bolo pôvodne 30s, ja som dal 45, lebo mi tr...</td>\n",
       "    </tr>\n",
       "    <tr>\n",
       "      <th>5</th>\n",
       "      <td>Thursday</td>\n",
       "      <td>F</td>\n",
       "      <td>Calf raises</td>\n",
       "      <td>3</td>\n",
       "      <td>20</td>\n",
       "      <td>1</td>\n",
       "      <td></td>\n",
       "      <td>5</td>\n",
       "      <td>Udělej si tři série výponů na obou nohách. Jed...</td>\n",
       "      <td></td>\n",
       "    </tr>\n",
       "    <tr>\n",
       "      <th>0</th>\n",
       "      <td>Friday</td>\n",
       "      <td>A</td>\n",
       "      <td>Push ups - excentric</td>\n",
       "      <td>2</td>\n",
       "      <td>8</td>\n",
       "      <td>1</td>\n",
       "      <td>411</td>\n",
       "      <td>7</td>\n",
       "      <td>Dej si čas na přípravu polohy vzporu a poté si...</td>\n",
       "      <td></td>\n",
       "    </tr>\n",
       "    <tr>\n",
       "      <th>1</th>\n",
       "      <td>Friday</td>\n",
       "      <td>B</td>\n",
       "      <td>TRX single arm row</td>\n",
       "      <td>2</td>\n",
       "      <td>10</td>\n",
       "      <td>1</td>\n",
       "      <td></td>\n",
       "      <td>7</td>\n",
       "      <td>Provleš si madla a v držení za jednu ruku si o...</td>\n",
       "      <td></td>\n",
       "    </tr>\n",
       "    <tr>\n",
       "      <th>2</th>\n",
       "      <td>Friday</td>\n",
       "      <td>C</td>\n",
       "      <td>Squat - excentric</td>\n",
       "      <td>2</td>\n",
       "      <td>10</td>\n",
       "      <td>16</td>\n",
       "      <td>411</td>\n",
       "      <td>7</td>\n",
       "      <td>Pomalé spouštění do spodní pozice, udělej si o...</td>\n",
       "      <td>Nemam 12kg kettlebell, tak som zvysil zataz na...</td>\n",
       "    </tr>\n",
       "    <tr>\n",
       "      <th>3</th>\n",
       "      <td>Friday</td>\n",
       "      <td>D</td>\n",
       "      <td>Back lunges</td>\n",
       "      <td>2</td>\n",
       "      <td>20</td>\n",
       "      <td>1</td>\n",
       "      <td></td>\n",
       "      <td>7</td>\n",
       "      <td>Výpady vzad s vlastní vahou, myslím, že to pro...</td>\n",
       "      <td>Zvysil som na 20 reps</td>\n",
       "    </tr>\n",
       "    <tr>\n",
       "      <th>4</th>\n",
       "      <td>Friday</td>\n",
       "      <td>E</td>\n",
       "      <td>Bridge - Izo</td>\n",
       "      <td>2</td>\n",
       "      <td>16</td>\n",
       "      <td>16</td>\n",
       "      <td>141</td>\n",
       "      <td>6</td>\n",
       "      <td>Dej si mosty s činkou jako minule, ale bude vý...</td>\n",
       "      <td></td>\n",
       "    </tr>\n",
       "    <tr>\n",
       "      <th>5</th>\n",
       "      <td>Friday</td>\n",
       "      <td>F</td>\n",
       "      <td>Single leg deadlift</td>\n",
       "      <td>2</td>\n",
       "      <td>16</td>\n",
       "      <td>1</td>\n",
       "      <td></td>\n",
       "      <td>8</td>\n",
       "      <td>Holubičky jako minule :-)</td>\n",
       "      <td></td>\n",
       "    </tr>\n",
       "  </tbody>\n",
       "</table>\n",
       "</div>"
      ],
      "text/plain": [
       "     weekday  ...                                                   \n",
       "0     Monday  ...                                                NaN\n",
       "1     Monday  ...                                                NaN\n",
       "2     Monday  ...                                                NaN\n",
       "3     Monday  ...                                                NaN\n",
       "4     Monday  ...                                                NaN\n",
       "5     Monday  ...                                                NaN\n",
       "0    Tuesday  ...  Ako sa to počíta? Keď natiahnem raz pravú a ra...\n",
       "1    Tuesday  ...                                                   \n",
       "2    Tuesday  ...                                                   \n",
       "3    Tuesday  ...                                                   \n",
       "4    Tuesday  ...  šiel som veľmi pomaly, je to pre technicky nár...\n",
       "5    Tuesday  ...  Za pomalejší tempo jsem radši. Jak jsem psal v...\n",
       "0  Wednesday  ...  Tu som znížil počet opakovaní z 12 na 10. Steh...\n",
       "1  Wednesday  ...                                                   \n",
       "2  Wednesday  ...                                                   \n",
       "3  Wednesday  ...                                                   \n",
       "4  Wednesday  ...                        Tu som znížl reps z 10 na 8\n",
       "5  Wednesday  ...  Tu som znížl reps z 16 na 12. \\nV hornej poloh...\n",
       "0   Thursday  ...                                                   \n",
       "1   Thursday  ...                                                   \n",
       "2   Thursday  ...                                                   \n",
       "3   Thursday  ...   Tu bolo pôvodne 15, ja som dal len 7 do zlyhania\n",
       "4   Thursday  ...  Tu bolo pôvodne 30s, ja som dal 45, lebo mi tr...\n",
       "5   Thursday  ...                                                   \n",
       "0     Friday  ...                                                   \n",
       "1     Friday  ...                                                   \n",
       "2     Friday  ...  Nemam 12kg kettlebell, tak som zvysil zataz na...\n",
       "3     Friday  ...                              Zvysil som na 20 reps\n",
       "4     Friday  ...                                                   \n",
       "5     Friday  ...                                                   \n",
       "\n",
       "[30 rows x 10 columns]"
      ]
     },
     "execution_count": 36,
     "metadata": {
      "tags": []
     },
     "output_type": "execute_result"
    }
   ],
   "source": [
    "spreadsheet = gc.open(\"Week1\")\n",
    "load_data_from_spreadsheet(spreadsheet)"
   ]
  },
  {
   "cell_type": "code",
   "execution_count": 37,
   "metadata": {
    "id": "UjElI8qni6DC"
   },
   "outputs": [],
   "source": [
    "def load_data(names):\n",
    "    dfs = []\n",
    "    for name in names:\n",
    "        spreadsheet = gc.open(name)\n",
    "        df = load_data_from_spreadsheet(spreadsheet)\n",
    "        df.insert(0, column=\"week\", value=name)\n",
    "        dfs.append(df)\n",
    "\n",
    "    return pd.concat(dfs, axis=0)"
   ]
  },
  {
   "cell_type": "code",
   "execution_count": 38,
   "metadata": {
    "id": "QttAXW6rlPB9"
   },
   "outputs": [],
   "source": [
    "df = load_data([\"Week1\", \"Week2\"])"
   ]
  },
  {
   "cell_type": "code",
   "execution_count": 38,
   "metadata": {
    "id": "f2iNA70-6coG"
   },
   "outputs": [],
   "source": []
  },
  {
   "cell_type": "code",
   "execution_count": 39,
   "metadata": {
    "colab": {
     "base_uri": "https://localhost:8080/",
     "height": 527
    },
    "id": "GaGP3HE6Z1Ek",
    "outputId": "8f7c198a-ce8c-4eb0-bb0c-204767e96688"
   },
   "outputs": [
    {
     "data": {
      "text/plain": [
       "{'Back lunges',\n",
       " 'Bridge - Izo',\n",
       " 'Bridges with dumbell',\n",
       " 'Calf raises',\n",
       " 'DB/KB deadlift',\n",
       " 'Dead bug + arm/leg mvmnt',\n",
       " 'Dumbell deadlift',\n",
       " 'Front lunge - bottom izo hold',\n",
       " 'Goblet squat',\n",
       " 'Goblet squat DB',\n",
       " 'Pullover',\n",
       " 'Push ups - bear position',\n",
       " 'Push ups - excentric',\n",
       " 'Quadraped walk fw/bw',\n",
       " 'Quadraped walk side',\n",
       " 'Shoulder push ups',\n",
       " 'Side lunges',\n",
       " 'Side plank',\n",
       " 'Side plank - hip abductions',\n",
       " 'Single - calf raises',\n",
       " 'Single leg bridges',\n",
       " 'Single leg deadlift',\n",
       " 'Sit ups - excentrics',\n",
       " 'Split squat - excentric',\n",
       " 'Squat - excentric',\n",
       " 'Squat bottom izo hold',\n",
       " 'TRX delts row',\n",
       " 'TRX row',\n",
       " 'TRX single arm row'}"
      ]
     },
     "execution_count": 39,
     "metadata": {
      "tags": []
     },
     "output_type": "execute_result"
    }
   ],
   "source": [
    "set(df.exercise)"
   ]
  },
  {
   "cell_type": "code",
   "execution_count": 40,
   "metadata": {
    "colab": {
     "base_uri": "https://localhost:8080/",
     "height": 166
    },
    "id": "zu3DvAJqactq",
    "outputId": "89965436-bf8b-48fb-cd2a-200d06370b61"
   },
   "outputs": [
    {
     "data": {
      "text/html": [
       "<div>\n",
       "<style scoped>\n",
       "    .dataframe tbody tr th:only-of-type {\n",
       "        vertical-align: middle;\n",
       "    }\n",
       "\n",
       "    .dataframe tbody tr th {\n",
       "        vertical-align: top;\n",
       "    }\n",
       "\n",
       "    .dataframe thead th {\n",
       "        text-align: right;\n",
       "    }\n",
       "</style>\n",
       "<table border=\"1\" class=\"dataframe\">\n",
       "  <thead>\n",
       "    <tr style=\"text-align: right;\">\n",
       "      <th></th>\n",
       "      <th>week</th>\n",
       "      <th>weekday</th>\n",
       "      <th>#</th>\n",
       "      <th>exercise</th>\n",
       "      <th>sets</th>\n",
       "      <th>reps</th>\n",
       "      <th>load</th>\n",
       "      <th>tempo</th>\n",
       "      <th>rpe</th>\n",
       "      <th>note</th>\n",
       "      <th></th>\n",
       "    </tr>\n",
       "  </thead>\n",
       "  <tbody>\n",
       "    <tr>\n",
       "      <th>1</th>\n",
       "      <td>Week1</td>\n",
       "      <td>Tuesday</td>\n",
       "      <td>B</td>\n",
       "      <td>Pullover</td>\n",
       "      <td>2</td>\n",
       "      <td>15</td>\n",
       "      <td>10</td>\n",
       "      <td>401</td>\n",
       "      <td>6</td>\n",
       "      <td>Udělej si pevný pullover. To znamená, že nohy ...</td>\n",
       "      <td></td>\n",
       "    </tr>\n",
       "    <tr>\n",
       "      <th>2</th>\n",
       "      <td>Week1</td>\n",
       "      <td>Thursday</td>\n",
       "      <td>C</td>\n",
       "      <td>Pullover</td>\n",
       "      <td>2</td>\n",
       "      <td>15</td>\n",
       "      <td>10</td>\n",
       "      <td>401</td>\n",
       "      <td>5</td>\n",
       "      <td>Udělej si pevný pullover. To znamená, že nohy ...</td>\n",
       "      <td></td>\n",
       "    </tr>\n",
       "    <tr>\n",
       "      <th>1</th>\n",
       "      <td>Week2</td>\n",
       "      <td>Tuesday</td>\n",
       "      <td>B</td>\n",
       "      <td>Pullover</td>\n",
       "      <td>3</td>\n",
       "      <td>12</td>\n",
       "      <td>15</td>\n",
       "      <td>401</td>\n",
       "      <td></td>\n",
       "      <td>Opět pevně zapřít hlavně horní hranu lopatky a...</td>\n",
       "      <td>NaN</td>\n",
       "    </tr>\n",
       "    <tr>\n",
       "      <th>2</th>\n",
       "      <td>Week2</td>\n",
       "      <td>Thursday</td>\n",
       "      <td>C</td>\n",
       "      <td>Pullover</td>\n",
       "      <td>3</td>\n",
       "      <td>15</td>\n",
       "      <td>15</td>\n",
       "      <td>401</td>\n",
       "      <td></td>\n",
       "      <td></td>\n",
       "      <td>NaN</td>\n",
       "    </tr>\n",
       "  </tbody>\n",
       "</table>\n",
       "</div>"
      ],
      "text/plain": [
       "    week   weekday  ...                                               note     \n",
       "1  Week1   Tuesday  ...  Udělej si pevný pullover. To znamená, že nohy ...     \n",
       "2  Week1  Thursday  ...  Udělej si pevný pullover. To znamená, že nohy ...     \n",
       "1  Week2   Tuesday  ...  Opět pevně zapřít hlavně horní hranu lopatky a...  NaN\n",
       "2  Week2  Thursday  ...                                                     NaN\n",
       "\n",
       "[4 rows x 11 columns]"
      ]
     },
     "execution_count": 40,
     "metadata": {
      "tags": []
     },
     "output_type": "execute_result"
    }
   ],
   "source": [
    "df[df.exercise == \"Pullover\"]"
   ]
  },
  {
   "cell_type": "code",
   "execution_count": 41,
   "metadata": {
    "colab": {
     "base_uri": "https://localhost:8080/",
     "height": 228
    },
    "id": "pHSNqAFfRqbX",
    "outputId": "ef43954f-6eaa-425e-e8ff-52f79f2b8594"
   },
   "outputs": [
    {
     "data": {
      "text/plain": [
       "week         object\n",
       "weekday      object\n",
       "#            object\n",
       "exercise     object\n",
       "sets          int64\n",
       "reps          int64\n",
       "load          int64\n",
       "tempo        object\n",
       "rpe         float64\n",
       "note         object\n",
       "             object\n",
       "dtype: object"
      ]
     },
     "execution_count": 41,
     "metadata": {
      "tags": []
     },
     "output_type": "execute_result"
    }
   ],
   "source": [
    "for col in [\"sets\", \"reps\", \"load\", \"rpe\"]:\n",
    "    df[col] = pd.to_numeric(df[col])\n",
    "\n",
    "df.dtypes"
   ]
  },
  {
   "cell_type": "code",
   "execution_count": 42,
   "metadata": {
    "colab": {
     "base_uri": "https://localhost:8080/",
     "height": 195
    },
    "id": "Q0sIEn6wKmGW",
    "outputId": "35ee8369-6492-465e-b117-673a1691e8a8"
   },
   "outputs": [
    {
     "data": {
      "text/html": [
       "<div>\n",
       "<style scoped>\n",
       "    .dataframe tbody tr th:only-of-type {\n",
       "        vertical-align: middle;\n",
       "    }\n",
       "\n",
       "    .dataframe tbody tr th {\n",
       "        vertical-align: top;\n",
       "    }\n",
       "\n",
       "    .dataframe thead th {\n",
       "        text-align: right;\n",
       "    }\n",
       "</style>\n",
       "<table border=\"1\" class=\"dataframe\">\n",
       "  <thead>\n",
       "    <tr style=\"text-align: right;\">\n",
       "      <th></th>\n",
       "      <th>week</th>\n",
       "      <th>weekday</th>\n",
       "      <th>#</th>\n",
       "      <th>exercise</th>\n",
       "      <th>sets</th>\n",
       "      <th>reps</th>\n",
       "      <th>load</th>\n",
       "      <th>tempo</th>\n",
       "      <th>rpe</th>\n",
       "      <th>volume</th>\n",
       "    </tr>\n",
       "  </thead>\n",
       "  <tbody>\n",
       "    <tr>\n",
       "      <th>0</th>\n",
       "      <td>Week1</td>\n",
       "      <td>Monday</td>\n",
       "      <td>A</td>\n",
       "      <td>Goblet squat DB</td>\n",
       "      <td>2</td>\n",
       "      <td>16</td>\n",
       "      <td>16</td>\n",
       "      <td></td>\n",
       "      <td>8.0</td>\n",
       "      <td>512</td>\n",
       "    </tr>\n",
       "    <tr>\n",
       "      <th>1</th>\n",
       "      <td>Week1</td>\n",
       "      <td>Monday</td>\n",
       "      <td>B</td>\n",
       "      <td>Split squat - excentric</td>\n",
       "      <td>2</td>\n",
       "      <td>12</td>\n",
       "      <td>1</td>\n",
       "      <td>401</td>\n",
       "      <td>8.0</td>\n",
       "      <td>24</td>\n",
       "    </tr>\n",
       "    <tr>\n",
       "      <th>2</th>\n",
       "      <td>Week1</td>\n",
       "      <td>Monday</td>\n",
       "      <td>C</td>\n",
       "      <td>Bridges with dumbell</td>\n",
       "      <td>2</td>\n",
       "      <td>20</td>\n",
       "      <td>16</td>\n",
       "      <td></td>\n",
       "      <td>6.0</td>\n",
       "      <td>640</td>\n",
       "    </tr>\n",
       "    <tr>\n",
       "      <th>3</th>\n",
       "      <td>Week1</td>\n",
       "      <td>Monday</td>\n",
       "      <td>D</td>\n",
       "      <td>Single leg bridges</td>\n",
       "      <td>2</td>\n",
       "      <td>12</td>\n",
       "      <td>1</td>\n",
       "      <td></td>\n",
       "      <td>9.0</td>\n",
       "      <td>24</td>\n",
       "    </tr>\n",
       "    <tr>\n",
       "      <th>4</th>\n",
       "      <td>Week1</td>\n",
       "      <td>Monday</td>\n",
       "      <td>E</td>\n",
       "      <td>Push ups - bear position</td>\n",
       "      <td>2</td>\n",
       "      <td>12</td>\n",
       "      <td>1</td>\n",
       "      <td></td>\n",
       "      <td>9.0</td>\n",
       "      <td>24</td>\n",
       "    </tr>\n",
       "  </tbody>\n",
       "</table>\n",
       "</div>"
      ],
      "text/plain": [
       "    week weekday  #                  exercise  ...  load  tempo  rpe volume\n",
       "0  Week1  Monday  A           Goblet squat DB  ...    16         8.0    512\n",
       "1  Week1  Monday  B   Split squat - excentric  ...     1    401  8.0     24\n",
       "2  Week1  Monday  C      Bridges with dumbell  ...    16         6.0    640\n",
       "3  Week1  Monday  D        Single leg bridges  ...     1         9.0     24\n",
       "4  Week1  Monday  E  Push ups - bear position  ...     1         9.0     24\n",
       "\n",
       "[5 rows x 10 columns]"
      ]
     },
     "execution_count": 42,
     "metadata": {
      "tags": []
     },
     "output_type": "execute_result"
    }
   ],
   "source": [
    "df1 = df.loc[:, : \"rpe\"]\n",
    "df1[\"volume\"] = df1[\"sets\"] * df1[\"reps\"] * df1[\"load\"]\n",
    "df1.head()"
   ]
  },
  {
   "cell_type": "code",
   "execution_count": 43,
   "metadata": {
    "colab": {
     "base_uri": "https://localhost:8080/",
     "height": 240
    },
    "id": "5MjRfYBgOnY7",
    "outputId": "42f9b1c6-fb44-4a27-af60-2c930f55f008"
   },
   "outputs": [
    {
     "data": {
      "text/html": [
       "<div>\n",
       "<style scoped>\n",
       "    .dataframe tbody tr th:only-of-type {\n",
       "        vertical-align: middle;\n",
       "    }\n",
       "\n",
       "    .dataframe tbody tr th {\n",
       "        vertical-align: top;\n",
       "    }\n",
       "\n",
       "    .dataframe thead th {\n",
       "        text-align: right;\n",
       "    }\n",
       "</style>\n",
       "<table border=\"1\" class=\"dataframe\">\n",
       "  <thead>\n",
       "    <tr style=\"text-align: right;\">\n",
       "      <th>exercise</th>\n",
       "      <th>Back lunges</th>\n",
       "      <th>Bridge - Izo</th>\n",
       "      <th>Bridges with dumbell</th>\n",
       "      <th>Calf raises</th>\n",
       "      <th>DB/KB deadlift</th>\n",
       "      <th>Dead bug + arm/leg mvmnt</th>\n",
       "      <th>Dumbell deadlift</th>\n",
       "      <th>Front lunge - bottom izo hold</th>\n",
       "      <th>Goblet squat</th>\n",
       "      <th>Goblet squat DB</th>\n",
       "      <th>Pullover</th>\n",
       "      <th>Push ups - bear position</th>\n",
       "      <th>Push ups - excentric</th>\n",
       "      <th>Quadraped walk fw/bw</th>\n",
       "      <th>Quadraped walk side</th>\n",
       "      <th>Shoulder push ups</th>\n",
       "      <th>Side lunges</th>\n",
       "      <th>Side plank</th>\n",
       "      <th>Side plank - hip abductions</th>\n",
       "      <th>Single - calf raises</th>\n",
       "      <th>Single leg bridges</th>\n",
       "      <th>Single leg deadlift</th>\n",
       "      <th>Sit ups - excentrics</th>\n",
       "      <th>Split squat - excentric</th>\n",
       "      <th>Squat - excentric</th>\n",
       "      <th>Squat bottom izo hold</th>\n",
       "      <th>TRX delts row</th>\n",
       "      <th>TRX row</th>\n",
       "      <th>TRX single arm row</th>\n",
       "    </tr>\n",
       "    <tr>\n",
       "      <th>week</th>\n",
       "      <th></th>\n",
       "      <th></th>\n",
       "      <th></th>\n",
       "      <th></th>\n",
       "      <th></th>\n",
       "      <th></th>\n",
       "      <th></th>\n",
       "      <th></th>\n",
       "      <th></th>\n",
       "      <th></th>\n",
       "      <th></th>\n",
       "      <th></th>\n",
       "      <th></th>\n",
       "      <th></th>\n",
       "      <th></th>\n",
       "      <th></th>\n",
       "      <th></th>\n",
       "      <th></th>\n",
       "      <th></th>\n",
       "      <th></th>\n",
       "      <th></th>\n",
       "      <th></th>\n",
       "      <th></th>\n",
       "      <th></th>\n",
       "      <th></th>\n",
       "      <th></th>\n",
       "      <th></th>\n",
       "      <th></th>\n",
       "      <th></th>\n",
       "    </tr>\n",
       "  </thead>\n",
       "  <tbody>\n",
       "    <tr>\n",
       "      <th>Week1</th>\n",
       "      <td>40.0</td>\n",
       "      <td>512.0</td>\n",
       "      <td>640.0</td>\n",
       "      <td>105.0</td>\n",
       "      <td>NaN</td>\n",
       "      <td>40.0</td>\n",
       "      <td>512.0</td>\n",
       "      <td>24.0</td>\n",
       "      <td>NaN</td>\n",
       "      <td>512.0</td>\n",
       "      <td>600.0</td>\n",
       "      <td>24.0</td>\n",
       "      <td>16.0</td>\n",
       "      <td>90.0</td>\n",
       "      <td>135.0</td>\n",
       "      <td>16.0</td>\n",
       "      <td>48.0</td>\n",
       "      <td>60.0</td>\n",
       "      <td>40.0</td>\n",
       "      <td>NaN</td>\n",
       "      <td>24.0</td>\n",
       "      <td>56.0</td>\n",
       "      <td>30.0</td>\n",
       "      <td>24.0</td>\n",
       "      <td>320.0</td>\n",
       "      <td>320.0</td>\n",
       "      <td>24.0</td>\n",
       "      <td>32.0</td>\n",
       "      <td>20.0</td>\n",
       "    </tr>\n",
       "    <tr>\n",
       "      <th>Week2</th>\n",
       "      <td>150.0</td>\n",
       "      <td>640.0</td>\n",
       "      <td>960.0</td>\n",
       "      <td>75.0</td>\n",
       "      <td>640.0</td>\n",
       "      <td>20.0</td>\n",
       "      <td>NaN</td>\n",
       "      <td>120.0</td>\n",
       "      <td>640.0</td>\n",
       "      <td>NaN</td>\n",
       "      <td>1215.0</td>\n",
       "      <td>39.0</td>\n",
       "      <td>16.0</td>\n",
       "      <td>90.0</td>\n",
       "      <td>135.0</td>\n",
       "      <td>16.0</td>\n",
       "      <td>192.0</td>\n",
       "      <td>90.0</td>\n",
       "      <td>60.0</td>\n",
       "      <td>40.0</td>\n",
       "      <td>30.0</td>\n",
       "      <td>288.0</td>\n",
       "      <td>16.0</td>\n",
       "      <td>30.0</td>\n",
       "      <td>384.0</td>\n",
       "      <td>384.0</td>\n",
       "      <td>24.0</td>\n",
       "      <td>48.0</td>\n",
       "      <td>24.0</td>\n",
       "    </tr>\n",
       "  </tbody>\n",
       "</table>\n",
       "</div>"
      ],
      "text/plain": [
       "exercise  Back lunges  Bridge - Izo  ...  TRX row  TRX single arm row\n",
       "week                                 ...                             \n",
       "Week1            40.0         512.0  ...     32.0                20.0\n",
       "Week2           150.0         640.0  ...     48.0                24.0\n",
       "\n",
       "[2 rows x 29 columns]"
      ]
     },
     "execution_count": 43,
     "metadata": {
      "tags": []
     },
     "output_type": "execute_result"
    }
   ],
   "source": [
    "gb = df1.groupby([\"week\", \"exercise\"])[\"volume\"]\n",
    "gb.agg(\"sum\").unstack(\"exercise\")"
   ]
  },
  {
   "cell_type": "code",
   "execution_count": 45,
   "metadata": {
    "id": "bBUYp5IEyJTW"
   },
   "outputs": [],
   "source": [
    "weekdays = [\"Monday\", \"Tuesday\", \"Wednesday\", \"Thursday\", \"Friday\"]"
   ]
  },
  {
   "cell_type": "code",
   "execution_count": 47,
   "metadata": {
    "colab": {
     "base_uri": "https://localhost:8080/",
     "height": 136
    },
    "id": "hnQ5riGCyJ-o",
    "outputId": "19c4a12c-0c19-49ef-d1ff-e08125c52f77"
   },
   "outputs": [
    {
     "data": {
      "text/html": [
       "<div>\n",
       "<style scoped>\n",
       "    .dataframe tbody tr th:only-of-type {\n",
       "        vertical-align: middle;\n",
       "    }\n",
       "\n",
       "    .dataframe tbody tr th {\n",
       "        vertical-align: top;\n",
       "    }\n",
       "\n",
       "    .dataframe thead th {\n",
       "        text-align: right;\n",
       "    }\n",
       "</style>\n",
       "<table border=\"1\" class=\"dataframe\">\n",
       "  <thead>\n",
       "    <tr style=\"text-align: right;\">\n",
       "      <th>weekday</th>\n",
       "      <th>Monday</th>\n",
       "      <th>Tuesday</th>\n",
       "      <th>Wednesday</th>\n",
       "      <th>Thursday</th>\n",
       "      <th>Friday</th>\n",
       "    </tr>\n",
       "    <tr>\n",
       "      <th>week</th>\n",
       "      <th></th>\n",
       "      <th></th>\n",
       "      <th></th>\n",
       "      <th></th>\n",
       "      <th></th>\n",
       "    </tr>\n",
       "  </thead>\n",
       "  <tbody>\n",
       "    <tr>\n",
       "      <th>Week1</th>\n",
       "      <td>1256</td>\n",
       "      <td>559</td>\n",
       "      <td>920</td>\n",
       "      <td>589</td>\n",
       "      <td>940</td>\n",
       "    </tr>\n",
       "    <tr>\n",
       "      <th>Week2</th>\n",
       "      <td>1747</td>\n",
       "      <td>847</td>\n",
       "      <td>1216</td>\n",
       "      <td>1086</td>\n",
       "      <td>1470</td>\n",
       "    </tr>\n",
       "  </tbody>\n",
       "</table>\n",
       "</div>"
      ],
      "text/plain": [
       "weekday  Monday  Tuesday  Wednesday  Thursday  Friday\n",
       "week                                                 \n",
       "Week1      1256      559        920       589     940\n",
       "Week2      1747      847       1216      1086    1470"
      ]
     },
     "execution_count": 47,
     "metadata": {
      "tags": []
     },
     "output_type": "execute_result"
    }
   ],
   "source": [
    "gb = df1.groupby([\"week\", \"weekday\"])[\"volume\"]\n",
    "gb.agg(\"sum\").unstack(\"weekday\")[weekdays]"
   ]
  },
  {
   "cell_type": "markdown",
   "metadata": {
    "id": "ji1pjLMIIKpU"
   },
   "source": [
    "# Writing Data"
   ]
  },
  {
   "cell_type": "code",
   "execution_count": 12,
   "metadata": {
    "id": "Lheu6PjQax2m"
   },
   "outputs": [],
   "source": [
    "# out_spreadsheet = gc.create(\"summary\")\n",
    "# ws = out_spreadsheet.add_worksheet(\"everything\", 10, 10)"
   ]
  },
  {
   "cell_type": "code",
   "execution_count": 13,
   "metadata": {
    "id": "4kait-EBPyQQ"
   },
   "outputs": [],
   "source": [
    "out_spreadsheet = gc.open(\"summary\")"
   ]
  },
  {
   "cell_type": "code",
   "execution_count": 14,
   "metadata": {
    "id": "eYUfQSOrP_ww"
   },
   "outputs": [],
   "source": [
    "\n",
    "ws = out_spreadsheet.get_worksheet(1)"
   ]
  },
  {
   "cell_type": "code",
   "execution_count": 22,
   "metadata": {
    "colab": {
     "base_uri": "https://localhost:8080/",
     "height": 136
    },
    "id": "0L9TfnmaQwvl",
    "outputId": "6011ab0c-710d-419b-c52f-c90f8bccd3ba"
   },
   "outputs": [
    {
     "data": {
      "text/html": [
       "<div>\n",
       "<style scoped>\n",
       "    .dataframe tbody tr th:only-of-type {\n",
       "        vertical-align: middle;\n",
       "    }\n",
       "\n",
       "    .dataframe tbody tr th {\n",
       "        vertical-align: top;\n",
       "    }\n",
       "\n",
       "    .dataframe thead th {\n",
       "        text-align: right;\n",
       "    }\n",
       "</style>\n",
       "<table border=\"1\" class=\"dataframe\">\n",
       "  <thead>\n",
       "    <tr style=\"text-align: right;\">\n",
       "      <th></th>\n",
       "      <th>a</th>\n",
       "      <th>b</th>\n",
       "    </tr>\n",
       "  </thead>\n",
       "  <tbody>\n",
       "    <tr>\n",
       "      <th>0</th>\n",
       "      <td>1</td>\n",
       "      <td>4.0</td>\n",
       "    </tr>\n",
       "    <tr>\n",
       "      <th>1</th>\n",
       "      <td>2</td>\n",
       "      <td>5.0</td>\n",
       "    </tr>\n",
       "    <tr>\n",
       "      <th>2</th>\n",
       "      <td>3</td>\n",
       "      <td>NaN</td>\n",
       "    </tr>\n",
       "  </tbody>\n",
       "</table>\n",
       "</div>"
      ],
      "text/plain": [
       "   a    b\n",
       "0  1  4.0\n",
       "1  2  5.0\n",
       "2  3  NaN"
      ]
     },
     "execution_count": 22,
     "metadata": {
      "tags": []
     },
     "output_type": "execute_result"
    }
   ],
   "source": [
    "df1 = pd.DataFrame({\"a\": [1, 2, 3], \"b\": [4., 5., np.NaN]})\n",
    "df1"
   ]
  },
  {
   "cell_type": "code",
   "execution_count": 28,
   "metadata": {
    "colab": {
     "base_uri": "https://localhost:8080/",
     "height": 105
    },
    "id": "JHBklmwnOwHY",
    "outputId": "41065a10-4660-4c79-f441-abc22cbdbd96"
   },
   "outputs": [
    {
     "data": {
      "text/plain": [
       "{'spreadsheetId': '1T5SDN-mwZ0yLEpm_GckukdOcDZAk2mMRfMqDoPjZ5ww',\n",
       " 'updatedCells': 660,\n",
       " 'updatedColumns': 11,\n",
       " 'updatedRange': 'everything!A1:K60',\n",
       " 'updatedRows': 60}"
      ]
     },
     "execution_count": 28,
     "metadata": {
      "tags": []
     },
     "output_type": "execute_result"
    }
   ],
   "source": [
    "ws.update(df.fillna(\"\").values.tolist())"
   ]
  },
  {
   "cell_type": "code",
   "execution_count": null,
   "metadata": {
    "id": "vImx3zRPPeX9"
   },
   "outputs": [],
   "source": []
  },
  {
   "cell_type": "code",
   "execution_count": null,
   "metadata": {
    "id": "3bLZ-mHJPvg_"
   },
   "outputs": [],
   "source": []
  }
 ],
 "metadata": {
  "colab": {
   "collapsed_sections": [],
   "name": "Untitled0.ipynb",
   "provenance": []
  },
  "kernelspec": {
   "display_name": "Python 3",
   "language": "python",
   "name": "python3"
  },
  "language_info": {
   "codemirror_mode": {
    "name": "ipython",
    "version": 3
   },
   "file_extension": ".py",
   "mimetype": "text/x-python",
   "name": "python",
   "nbconvert_exporter": "python",
   "pygments_lexer": "ipython3",
   "version": "3.7.6"
  }
 },
 "nbformat": 4,
 "nbformat_minor": 1
}

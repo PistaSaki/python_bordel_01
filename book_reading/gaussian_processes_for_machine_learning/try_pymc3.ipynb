{
 "cells": [
  {
   "cell_type": "code",
   "execution_count": 1,
   "id": "9ee47cea-5460-4ad3-a404-6e2e1401ae4f",
   "metadata": {
    "execution": {
     "iopub.execute_input": "2021-09-25T16:58:13.197002Z",
     "iopub.status.busy": "2021-09-25T16:58:13.196000Z",
     "iopub.status.idle": "2021-09-25T16:58:13.205011Z",
     "shell.execute_reply": "2021-09-25T16:58:13.204003Z",
     "shell.execute_reply.started": "2021-09-25T16:58:13.197002Z"
    }
   },
   "outputs": [],
   "source": [
    "import theano\n",
    "import theano.tensor as tt"
   ]
  },
  {
   "cell_type": "code",
   "execution_count": 11,
   "id": "45d5a742-5acf-477e-ad9f-3c348d16050a",
   "metadata": {
    "execution": {
     "iopub.execute_input": "2021-09-25T17:30:59.864452Z",
     "iopub.status.busy": "2021-09-25T17:30:59.864452Z",
     "iopub.status.idle": "2021-09-25T17:30:59.878460Z",
     "shell.execute_reply": "2021-09-25T17:30:59.877488Z",
     "shell.execute_reply.started": "2021-09-25T17:30:59.864452Z"
    },
    "tags": []
   },
   "outputs": [
    {
     "data": {
      "text/plain": [
       "a"
      ]
     },
     "execution_count": 11,
     "metadata": {},
     "output_type": "execute_result"
    }
   ],
   "source": [
    "a = tt.tensor(dtype=\"float64\", name=\"a\", broadcastable=[False]* 3)#, shape=[2, 3, 4])"
   ]
  },
  {
   "cell_type": "code",
   "execution_count": 14,
   "id": "176697ac-a1a3-4aec-a431-73867d8440b3",
   "metadata": {
    "execution": {
     "iopub.execute_input": "2021-09-25T17:31:22.862270Z",
     "iopub.status.busy": "2021-09-25T17:31:22.861273Z",
     "iopub.status.idle": "2021-09-25T17:31:22.879707Z",
     "shell.execute_reply": "2021-09-25T17:31:22.878742Z",
     "shell.execute_reply.started": "2021-09-25T17:31:22.862270Z"
    }
   },
   "outputs": [
    {
     "data": {
      "text/plain": [
       "a"
      ]
     },
     "execution_count": 14,
     "metadata": {},
     "output_type": "execute_result"
    }
   ],
   "source": []
  },
  {
   "cell_type": "code",
   "execution_count": null,
   "id": "4feb24a8-0ccf-464b-8189-49a7d811964b",
   "metadata": {},
   "outputs": [],
   "source": []
  }
 ],
 "metadata": {
  "kernelspec": {
   "display_name": "Python 3 (ipykernel)",
   "language": "python",
   "name": "python3"
  },
  "language_info": {
   "codemirror_mode": {
    "name": "ipython",
    "version": 3
   },
   "file_extension": ".py",
   "mimetype": "text/x-python",
   "name": "python",
   "nbconvert_exporter": "python",
   "pygments_lexer": "ipython3",
   "version": "3.7.6"
  }
 },
 "nbformat": 4,
 "nbformat_minor": 5
}

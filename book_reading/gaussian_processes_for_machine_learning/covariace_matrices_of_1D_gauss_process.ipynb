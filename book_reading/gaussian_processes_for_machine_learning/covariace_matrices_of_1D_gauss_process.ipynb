{
 "cells": [
  {
   "cell_type": "code",
   "execution_count": 39,
   "id": "46b34fd7-db9c-4c54-a67d-2cd14793621d",
   "metadata": {
    "execution": {
     "iopub.execute_input": "2021-09-03T11:22:55.942135Z",
     "iopub.status.busy": "2021-09-03T11:22:55.942135Z",
     "iopub.status.idle": "2021-09-03T11:22:55.959164Z",
     "shell.execute_reply": "2021-09-03T11:22:55.959164Z",
     "shell.execute_reply.started": "2021-09-03T11:22:55.942135Z"
    },
    "tags": []
   },
   "outputs": [],
   "source": [
    "from scipy.linalg import dft, circulant\n",
    "from numpy import diag, eye\n",
    "from numpy.linalg import inv\n",
    "import numpy as np\n",
    "from typing import Callable\n",
    "from functools import reduce\n",
    "import operator"
   ]
  },
  {
   "cell_type": "code",
   "execution_count": 2,
   "id": "a9dc6e69-9682-4ebd-8277-0d5a2a676a94",
   "metadata": {
    "execution": {
     "iopub.execute_input": "2021-09-03T07:29:53.315978Z",
     "iopub.status.busy": "2021-09-03T07:29:53.315978Z",
     "iopub.status.idle": "2021-09-03T07:29:53.336963Z",
     "shell.execute_reply": "2021-09-03T07:29:53.335966Z",
     "shell.execute_reply.started": "2021-09-03T07:29:53.315978Z"
    }
   },
   "outputs": [
    {
     "data": {
      "text/plain": [
       "array([[ 1.0000000e+00+0.0000000e+00j,  1.0000000e+00+0.0000000e+00j,\n",
       "         1.0000000e+00+0.0000000e+00j,  1.0000000e+00+0.0000000e+00j],\n",
       "       [ 1.0000000e+00+0.0000000e+00j,  6.1232340e-17-1.0000000e+00j,\n",
       "        -1.0000000e+00-1.2246468e-16j, -1.8369702e-16+1.0000000e+00j],\n",
       "       [ 1.0000000e+00+0.0000000e+00j, -1.0000000e+00-1.2246468e-16j,\n",
       "         1.0000000e+00+2.4492936e-16j, -1.0000000e+00-3.6739404e-16j],\n",
       "       [ 1.0000000e+00+0.0000000e+00j, -1.8369702e-16+1.0000000e+00j,\n",
       "        -1.0000000e+00-3.6739404e-16j,  5.5109106e-16-1.0000000e+00j]])"
      ]
     },
     "execution_count": 2,
     "metadata": {},
     "output_type": "execute_result"
    }
   ],
   "source": [
    "dft(4)"
   ]
  },
  {
   "cell_type": "code",
   "execution_count": 5,
   "id": "7dd01082-b4c9-4f67-a0c3-5d8bbe38564e",
   "metadata": {
    "execution": {
     "iopub.execute_input": "2021-09-03T07:37:25.035558Z",
     "iopub.status.busy": "2021-09-03T07:37:25.034557Z",
     "iopub.status.idle": "2021-09-03T07:37:25.052806Z",
     "shell.execute_reply": "2021-09-03T07:37:25.051556Z",
     "shell.execute_reply.started": "2021-09-03T07:37:25.035558Z"
    },
    "tags": []
   },
   "outputs": [
    {
     "data": {
      "text/plain": [
       "array([[1, 2, 0, 0, 2],\n",
       "       [2, 1, 2, 0, 0],\n",
       "       [0, 2, 1, 2, 0],\n",
       "       [0, 0, 2, 1, 2],\n",
       "       [2, 0, 0, 2, 1]])"
      ]
     },
     "execution_count": 5,
     "metadata": {},
     "output_type": "execute_result"
    }
   ],
   "source": [
    "circulant([1,2,0,0,2])"
   ]
  },
  {
   "cell_type": "code",
   "execution_count": 9,
   "id": "0a2eadab-a492-4be9-89f0-eda2ffb39534",
   "metadata": {
    "execution": {
     "iopub.execute_input": "2021-09-03T07:43:41.959979Z",
     "iopub.status.busy": "2021-09-03T07:43:41.959979Z",
     "iopub.status.idle": "2021-09-03T07:43:41.983979Z",
     "shell.execute_reply": "2021-09-03T07:43:41.982977Z",
     "shell.execute_reply.started": "2021-09-03T07:43:41.959979Z"
    },
    "tags": []
   },
   "outputs": [
    {
     "data": {
      "text/plain": [
       "array([[0., 1., 0., 0., 0.],\n",
       "       [0., 0., 1., 0., 0.],\n",
       "       [0., 0., 0., 1., 0.],\n",
       "       [0., 0., 0., 0., 1.],\n",
       "       [0., 0., 0., 0., 0.]])"
      ]
     },
     "execution_count": 9,
     "metadata": {},
     "output_type": "execute_result"
    }
   ],
   "source": [
    "n = 5\n",
    "eye(n, k=1)"
   ]
  },
  {
   "cell_type": "code",
   "execution_count": 23,
   "id": "a1d04351-0f54-4c88-92c8-60b474a39c0d",
   "metadata": {
    "execution": {
     "iopub.execute_input": "2021-09-03T09:37:47.941554Z",
     "iopub.status.busy": "2021-09-03T09:37:47.941554Z",
     "iopub.status.idle": "2021-09-03T09:37:47.960555Z",
     "shell.execute_reply": "2021-09-03T09:37:47.959552Z",
     "shell.execute_reply.started": "2021-09-03T09:37:47.941554Z"
    },
    "tags": []
   },
   "outputs": [],
   "source": [
    "def squared_exponential_covariance_function(length: float) -> Callable:\n",
    "    def k(x):\n",
    "        return np.exp(-1/2 * (x/length)**2 )\n",
    "    return k"
   ]
  },
  {
   "cell_type": "code",
   "execution_count": null,
   "id": "5d0a9961-9ca1-4c9e-816b-193d432bac3e",
   "metadata": {},
   "outputs": [],
   "source": [
    "def get_covariance_matrix(n: int, k: Callable):\n",
    "    "
   ]
  },
  {
   "cell_type": "code",
   "execution_count": 25,
   "id": "365df32a-4b67-43f0-9613-d92cef6a1d2d",
   "metadata": {
    "execution": {
     "iopub.execute_input": "2021-09-03T09:40:24.208576Z",
     "iopub.status.busy": "2021-09-03T09:40:24.208576Z",
     "iopub.status.idle": "2021-09-03T09:40:24.221577Z",
     "shell.execute_reply": "2021-09-03T09:40:24.220608Z",
     "shell.execute_reply.started": "2021-09-03T09:40:24.208576Z"
    },
    "tags": []
   },
   "outputs": [],
   "source": [
    "k = squared_exponential_covariance_function(1)"
   ]
  },
  {
   "cell_type": "code",
   "execution_count": 20,
   "id": "f8e8711e-2881-4739-929e-98c230cbeb53",
   "metadata": {
    "execution": {
     "iopub.execute_input": "2021-09-03T09:35:27.800592Z",
     "iopub.status.busy": "2021-09-03T09:35:27.800592Z",
     "iopub.status.idle": "2021-09-03T09:35:27.804594Z",
     "shell.execute_reply": "2021-09-03T09:35:27.804594Z",
     "shell.execute_reply.started": "2021-09-03T09:35:27.800592Z"
    },
    "tags": []
   },
   "outputs": [],
   "source": [
    "np.set_printoptions(formatter={'float': \"{0:0.3f}\".format})"
   ]
  },
  {
   "cell_type": "code",
   "execution_count": 21,
   "id": "638770d6-cdc2-4da0-9d1e-fb85898aff9d",
   "metadata": {
    "execution": {
     "iopub.execute_input": "2021-09-03T09:35:29.197602Z",
     "iopub.status.busy": "2021-09-03T09:35:29.197602Z",
     "iopub.status.idle": "2021-09-03T09:35:29.214601Z",
     "shell.execute_reply": "2021-09-03T09:35:29.214601Z",
     "shell.execute_reply.started": "2021-09-03T09:35:29.197602Z"
    },
    "tags": []
   },
   "outputs": [],
   "source": [
    "I, J = np.meshgrid(range(n), range(n), indexing='ij')"
   ]
  },
  {
   "cell_type": "code",
   "execution_count": 26,
   "id": "64f3ea62-d58f-4308-9840-41048299ec06",
   "metadata": {
    "execution": {
     "iopub.execute_input": "2021-09-03T09:40:53.410508Z",
     "iopub.status.busy": "2021-09-03T09:40:53.410508Z",
     "iopub.status.idle": "2021-09-03T09:40:53.421509Z",
     "shell.execute_reply": "2021-09-03T09:40:53.420696Z",
     "shell.execute_reply.started": "2021-09-03T09:40:53.410508Z"
    },
    "tags": []
   },
   "outputs": [
    {
     "data": {
      "text/plain": [
       "array([[1.000, 0.607, 0.135, 0.011, 0.000],\n",
       "       [0.607, 1.000, 0.607, 0.135, 0.011],\n",
       "       [0.135, 0.607, 1.000, 0.607, 0.135],\n",
       "       [0.011, 0.135, 0.607, 1.000, 0.607],\n",
       "       [0.000, 0.011, 0.135, 0.607, 1.000]])"
      ]
     },
     "execution_count": 26,
     "metadata": {},
     "output_type": "execute_result"
    }
   ],
   "source": [
    "k = squared_exponential_covariance_function(1)\n",
    "cov = k(I - J)\n",
    "cov"
   ]
  },
  {
   "cell_type": "code",
   "execution_count": 27,
   "id": "1cfb450e-bd8f-42d0-a054-299325ae0fc2",
   "metadata": {
    "execution": {
     "iopub.execute_input": "2021-09-03T09:41:27.732206Z",
     "iopub.status.busy": "2021-09-03T09:41:27.732206Z",
     "iopub.status.idle": "2021-09-03T09:41:27.752198Z",
     "shell.execute_reply": "2021-09-03T09:41:27.752198Z",
     "shell.execute_reply.started": "2021-09-03T09:41:27.732206Z"
    },
    "tags": []
   },
   "outputs": [
    {
     "data": {
      "text/plain": [
       "array([[1.000, 0.135, 0.000, 0.000, 0.000],\n",
       "       [0.135, 1.000, 0.135, 0.000, 0.000],\n",
       "       [0.000, 0.135, 1.000, 0.135, 0.000],\n",
       "       [0.000, 0.000, 0.135, 1.000, 0.135],\n",
       "       [0.000, 0.000, 0.000, 0.135, 1.000]])"
      ]
     },
     "execution_count": 27,
     "metadata": {},
     "output_type": "execute_result"
    }
   ],
   "source": [
    "k = squared_exponential_covariance_function(1/2)\n",
    "cov = k(I - J)\n",
    "cov"
   ]
  },
  {
   "cell_type": "code",
   "execution_count": 31,
   "id": "e0402167-cbb6-44de-b4db-d5d930b50802",
   "metadata": {
    "execution": {
     "iopub.execute_input": "2021-09-03T09:42:27.420665Z",
     "iopub.status.busy": "2021-09-03T09:42:27.420665Z",
     "iopub.status.idle": "2021-09-03T09:42:27.607662Z",
     "shell.execute_reply": "2021-09-03T09:42:27.606649Z",
     "shell.execute_reply.started": "2021-09-03T09:42:27.420665Z"
    },
    "tags": []
   },
   "outputs": [
    {
     "data": {
      "text/plain": [
       "array([[1.019, -0.140, 0.019, -0.003, 0.000],\n",
       "       [-0.140, 1.038, -0.143, 0.019, -0.003],\n",
       "       [0.019, -0.143, 1.039, -0.143, 0.019],\n",
       "       [-0.003, 0.019, -0.143, 1.038, -0.140],\n",
       "       [0.000, -0.003, 0.019, -0.140, 1.019]])"
      ]
     },
     "execution_count": 31,
     "metadata": {},
     "output_type": "execute_result"
    }
   ],
   "source": [
    "inv(cov)"
   ]
  },
  {
   "cell_type": "markdown",
   "id": "e2ad0730-2b37-45f9-9802-917111662f67",
   "metadata": {},
   "source": [
    "# Energy matrices \n",
    "## Non-circular case"
   ]
  },
  {
   "cell_type": "code",
   "execution_count": 57,
   "id": "37ad9918-9b0b-4448-ad8f-8a7bdd9d2500",
   "metadata": {
    "execution": {
     "iopub.execute_input": "2021-09-03T11:46:19.229432Z",
     "iopub.status.busy": "2021-09-03T11:46:19.229432Z",
     "iopub.status.idle": "2021-09-03T11:46:19.254430Z",
     "shell.execute_reply": "2021-09-03T11:46:19.253428Z",
     "shell.execute_reply.started": "2021-09-03T11:46:19.229432Z"
    },
    "tags": []
   },
   "outputs": [
    {
     "data": {
      "text/plain": [
       "array([[ 1, -1,  0,  0,  0],\n",
       "       [ 0,  1, -1,  0,  0],\n",
       "       [ 0,  0,  1, -1,  0],\n",
       "       [ 0,  0,  0,  1, -1]])"
      ]
     },
     "execution_count": 57,
     "metadata": {},
     "output_type": "execute_result"
    }
   ],
   "source": [
    "def diff_mat(n, k=None):\n",
    "    if k is None:\n",
    "        return eye(n-1, n, dtype=int) - eye(n-1, n, k=1, dtype=int)\n",
    "    \n",
    "    if k == 0:\n",
    "        return eye(n, dtype=int)\n",
    "    \n",
    "    return reduce(operator.matmul, [diff_mat(n-i) for i in reversed(range(k))])\n",
    "\n",
    "diff_mat(n)"
   ]
  },
  {
   "cell_type": "code",
   "execution_count": 62,
   "id": "39094f0f-c1db-4056-b152-56f04cc81a66",
   "metadata": {
    "execution": {
     "iopub.execute_input": "2021-09-03T11:48:50.557621Z",
     "iopub.status.busy": "2021-09-03T11:48:50.557621Z",
     "iopub.status.idle": "2021-09-03T11:48:50.578621Z",
     "shell.execute_reply": "2021-09-03T11:48:50.577618Z",
     "shell.execute_reply.started": "2021-09-03T11:48:50.557621Z"
    },
    "tags": []
   },
   "outputs": [
    {
     "name": "stdout",
     "output_type": "stream",
     "text": [
      "\n",
      "k=0 \n",
      "[[1 0 0 0 0]\n",
      " [0 1 0 0 0]\n",
      " [0 0 1 0 0]\n",
      " [0 0 0 1 0]\n",
      " [0 0 0 0 1]]\n",
      "\n",
      "k=1 \n",
      "[[ 1 -1  0  0  0]\n",
      " [ 0  1 -1  0  0]\n",
      " [ 0  0  1 -1  0]\n",
      " [ 0  0  0  1 -1]]\n",
      "\n",
      "k=2 \n",
      "[[ 1 -2  1  0  0]\n",
      " [ 0  1 -2  1  0]\n",
      " [ 0  0  1 -2  1]]\n",
      "\n",
      "k=3 \n",
      "[[ 1 -3  3 -1  0]\n",
      " [ 0  1 -3  3 -1]]\n",
      "\n",
      "k=4 \n",
      "[[ 1 -4  6 -4  1]]\n"
     ]
    }
   ],
   "source": [
    "for k in range(n):\n",
    "    print(f\"\\nk={k} \\n{diff_mat(n, k)}\")"
   ]
  },
  {
   "cell_type": "code",
   "execution_count": 64,
   "id": "ae5182c1-7cd3-43df-b25b-92ad0468d04b",
   "metadata": {
    "execution": {
     "iopub.execute_input": "2021-09-03T11:51:14.934074Z",
     "iopub.status.busy": "2021-09-03T11:51:14.933074Z",
     "iopub.status.idle": "2021-09-03T11:51:14.942073Z",
     "shell.execute_reply": "2021-09-03T11:51:14.941073Z",
     "shell.execute_reply.started": "2021-09-03T11:51:14.933074Z"
    },
    "tags": []
   },
   "outputs": [
    {
     "name": "stdout",
     "output_type": "stream",
     "text": [
      "\n",
      "k=0 \n",
      "[[1 0 0 0 0]\n",
      " [0 1 0 0 0]\n",
      " [0 0 1 0 0]\n",
      " [0 0 0 1 0]\n",
      " [0 0 0 0 1]]\n",
      "\n",
      "k=1 \n",
      "[[ 1 -1  0  0  0]\n",
      " [-1  2 -1  0  0]\n",
      " [ 0 -1  2 -1  0]\n",
      " [ 0  0 -1  2 -1]\n",
      " [ 0  0  0 -1  1]]\n",
      "\n",
      "k=2 \n",
      "[[ 1 -2  1  0  0]\n",
      " [-2  5 -4  1  0]\n",
      " [ 1 -4  6 -4  1]\n",
      " [ 0  1 -4  5 -2]\n",
      " [ 0  0  1 -2  1]]\n",
      "\n",
      "k=3 \n",
      "[[  1  -3   3  -1   0]\n",
      " [ -3  10 -12   6  -1]\n",
      " [  3 -12  18 -12   3]\n",
      " [ -1   6 -12  10  -3]\n",
      " [  0  -1   3  -3   1]]\n",
      "\n",
      "k=4 \n",
      "[[  1  -4   6  -4   1]\n",
      " [ -4  16 -24  16  -4]\n",
      " [  6 -24  36 -24   6]\n",
      " [ -4  16 -24  16  -4]\n",
      " [  1  -4   6  -4   1]]\n"
     ]
    }
   ],
   "source": [
    "for k in range(n):\n",
    "    d_k = diff_mat(n, k)\n",
    "    m_k = d_k.T @ d_k\n",
    "    print(f\"\\nk={k} \\n{m_k}\")"
   ]
  },
  {
   "cell_type": "code",
   "execution_count": 89,
   "id": "4137e2d5-0637-46bb-9d0c-37229ed396ac",
   "metadata": {
    "execution": {
     "iopub.execute_input": "2021-09-03T14:19:24.644145Z",
     "iopub.status.busy": "2021-09-03T14:19:24.642146Z",
     "iopub.status.idle": "2021-09-03T14:19:24.687148Z",
     "shell.execute_reply": "2021-09-03T14:19:24.683146Z",
     "shell.execute_reply.started": "2021-09-03T14:19:24.644145Z"
    },
    "tags": []
   },
   "outputs": [
    {
     "data": {
      "text/plain": [
       "(array([[2.100, -4.000, 2.000, 0.000, 0.000],\n",
       "        [-4.000, 10.100, -8.000, 2.000, 0.000],\n",
       "        [2.000, -8.000, 12.100, -8.000, 2.000],\n",
       "        [0.000, 2.000, -8.000, 10.100, -4.000],\n",
       "        [0.000, 0.000, 2.000, -4.000, 2.100]]),\n",
       " array([[6.170, 3.905, 1.831, -0.056, -1.850],\n",
       "        [3.905, 3.083, 2.065, 1.003, -0.056],\n",
       "        [1.831, 2.065, 2.208, 2.065, 1.831],\n",
       "        [-0.056, 1.003, 2.065, 3.083, 3.905],\n",
       "        [-1.850, -0.056, 1.831, 3.905, 6.170]]))"
      ]
     },
     "execution_count": 89,
     "metadata": {},
     "output_type": "execute_result"
    }
   ],
   "source": [
    "coeffs = [0.1, 0, 2]\n",
    "K = sum(c * diff_mat(n, k).T @ diff_mat(n, k) for k, c in enumerate(coeffs))\n",
    "K, inv(K)"
   ]
  },
  {
   "cell_type": "code",
   "execution_count": null,
   "id": "0cdb05a1-3f03-4234-a74f-d20869298e2e",
   "metadata": {},
   "outputs": [],
   "source": []
  },
  {
   "cell_type": "markdown",
   "id": "66d3811b-a696-40d6-9bc3-c942a05f3bb9",
   "metadata": {},
   "source": [
    "## Circular case"
   ]
  },
  {
   "cell_type": "code",
   "execution_count": 78,
   "id": "14fd7810-a3b9-4b69-817f-49051fc093c2",
   "metadata": {
    "execution": {
     "iopub.execute_input": "2021-09-03T12:30:21.781373Z",
     "iopub.status.busy": "2021-09-03T12:30:21.780337Z",
     "iopub.status.idle": "2021-09-03T12:30:21.790353Z",
     "shell.execute_reply": "2021-09-03T12:30:21.789336Z",
     "shell.execute_reply.started": "2021-09-03T12:30:21.781373Z"
    },
    "tags": []
   },
   "outputs": [
    {
     "data": {
      "text/plain": [
       "array([[ 1, -1,  0,  0,  0],\n",
       "       [ 0,  1, -1,  0,  0],\n",
       "       [ 0,  0,  1, -1,  0],\n",
       "       [ 0,  0,  0,  1, -1],\n",
       "       [-1,  0,  0,  0,  1]])"
      ]
     },
     "execution_count": 78,
     "metadata": {},
     "output_type": "execute_result"
    }
   ],
   "source": [
    "def cdiff_mat(n, k=None):\n",
    "    if k is None:\n",
    "        v = np.zeros(n)\n",
    "        v[0] = 1\n",
    "        v[1] = -1\n",
    "        return circulant(v).astype(int).T\n",
    "    \n",
    "    if k == 0:\n",
    "        return eye(n, dtype=int)\n",
    "    \n",
    "    cdiff_1 = cdiff_mat(n)\n",
    "    return reduce(operator.matmul, [cdiff_1 for i in reversed(range(k))])\n",
    "\n",
    "cdiff_mat(n)"
   ]
  },
  {
   "cell_type": "code",
   "execution_count": 79,
   "id": "cbe63728-c55e-4f50-9ca4-bc0d0197f0c1",
   "metadata": {
    "execution": {
     "iopub.execute_input": "2021-09-03T12:30:22.520874Z",
     "iopub.status.busy": "2021-09-03T12:30:22.520874Z",
     "iopub.status.idle": "2021-09-03T12:30:22.537874Z",
     "shell.execute_reply": "2021-09-03T12:30:22.536874Z",
     "shell.execute_reply.started": "2021-09-03T12:30:22.520874Z"
    },
    "tags": []
   },
   "outputs": [
    {
     "name": "stdout",
     "output_type": "stream",
     "text": [
      "\n",
      "k=0 \n",
      "[[1 0 0 0 0]\n",
      " [0 1 0 0 0]\n",
      " [0 0 1 0 0]\n",
      " [0 0 0 1 0]\n",
      " [0 0 0 0 1]]\n",
      "\n",
      "k=1 \n",
      "[[ 1 -1  0  0  0]\n",
      " [ 0  1 -1  0  0]\n",
      " [ 0  0  1 -1  0]\n",
      " [ 0  0  0  1 -1]\n",
      " [-1  0  0  0  1]]\n",
      "\n",
      "k=2 \n",
      "[[ 1 -2  1  0  0]\n",
      " [ 0  1 -2  1  0]\n",
      " [ 0  0  1 -2  1]\n",
      " [ 1  0  0  1 -2]\n",
      " [-2  1  0  0  1]]\n",
      "\n",
      "k=3 \n",
      "[[ 1 -3  3 -1  0]\n",
      " [ 0  1 -3  3 -1]\n",
      " [-1  0  1 -3  3]\n",
      " [ 3 -1  0  1 -3]\n",
      " [-3  3 -1  0  1]]\n",
      "\n",
      "k=4 \n",
      "[[ 1 -4  6 -4  1]\n",
      " [ 1  1 -4  6 -4]\n",
      " [-4  1  1 -4  6]\n",
      " [ 6 -4  1  1 -4]\n",
      " [-4  6 -4  1  1]]\n"
     ]
    }
   ],
   "source": [
    "for k in range(n):\n",
    "    print(f\"\\nk={k} \\n{cdiff_mat(n, k)}\")"
   ]
  },
  {
   "cell_type": "code",
   "execution_count": 81,
   "id": "a4405874-cae2-4c3b-a339-c16b26ce40f8",
   "metadata": {
    "execution": {
     "iopub.execute_input": "2021-09-03T12:31:07.616639Z",
     "iopub.status.busy": "2021-09-03T12:31:07.616639Z",
     "iopub.status.idle": "2021-09-03T12:31:07.639601Z",
     "shell.execute_reply": "2021-09-03T12:31:07.638601Z",
     "shell.execute_reply.started": "2021-09-03T12:31:07.616639Z"
    },
    "tags": []
   },
   "outputs": [
    {
     "name": "stdout",
     "output_type": "stream",
     "text": [
      "\n",
      "k=0 \n",
      "[[1 0 0 0 0]\n",
      " [0 1 0 0 0]\n",
      " [0 0 1 0 0]\n",
      " [0 0 0 1 0]\n",
      " [0 0 0 0 1]]\n",
      "\n",
      "k=1 \n",
      "[[ 2 -1  0  0 -1]\n",
      " [-1  2 -1  0  0]\n",
      " [ 0 -1  2 -1  0]\n",
      " [ 0  0 -1  2 -1]\n",
      " [-1  0  0 -1  2]]\n",
      "\n",
      "k=2 \n",
      "[[ 6 -4  1  1 -4]\n",
      " [-4  6 -4  1  1]\n",
      " [ 1 -4  6 -4  1]\n",
      " [ 1  1 -4  6 -4]\n",
      " [-4  1  1 -4  6]]\n",
      "\n",
      "k=3 \n",
      "[[ 20 -15   5   5 -15]\n",
      " [-15  20 -15   5   5]\n",
      " [  5 -15  20 -15   5]\n",
      " [  5   5 -15  20 -15]\n",
      " [-15   5   5 -15  20]]\n",
      "\n",
      "k=4 \n",
      "[[ 70 -55  20  20 -55]\n",
      " [-55  70 -55  20  20]\n",
      " [ 20 -55  70 -55  20]\n",
      " [ 20  20 -55  70 -55]\n",
      " [-55  20  20 -55  70]]\n"
     ]
    }
   ],
   "source": [
    "for k in range(n):\n",
    "    d_k = cdiff_mat(n, k)\n",
    "    m_k = d_k.T @ d_k\n",
    "    print(f\"\\nk={k} \\n{m_k}\")"
   ]
  },
  {
   "cell_type": "code",
   "execution_count": 83,
   "id": "2d8c1ce0-f1a0-4507-bb2a-ac6e4b5404c3",
   "metadata": {
    "execution": {
     "iopub.execute_input": "2021-09-03T12:31:36.464394Z",
     "iopub.status.busy": "2021-09-03T12:31:36.463393Z",
     "iopub.status.idle": "2021-09-03T12:31:36.473357Z",
     "shell.execute_reply": "2021-09-03T12:31:36.472392Z",
     "shell.execute_reply.started": "2021-09-03T12:31:36.464394Z"
    },
    "tags": []
   },
   "outputs": [
    {
     "data": {
      "text/plain": [
       "(array([[ 9, -5,  1,  1, -5],\n",
       "        [-5,  9, -5,  1,  1],\n",
       "        [ 1, -5,  9, -5,  1],\n",
       "        [ 1,  1, -5,  9, -5],\n",
       "        [-5,  1,  1, -5,  9]]),\n",
       " array([[0.316, 0.211, 0.132, 0.132, 0.211],\n",
       "        [0.211, 0.316, 0.211, 0.132, 0.132],\n",
       "        [0.132, 0.211, 0.316, 0.211, 0.132],\n",
       "        [0.132, 0.132, 0.211, 0.316, 0.211],\n",
       "        [0.211, 0.132, 0.132, 0.211, 0.316]]))"
      ]
     },
     "execution_count": 83,
     "metadata": {},
     "output_type": "execute_result"
    }
   ],
   "source": [
    "coeffs = [1, 1, 1]\n",
    "K = sum(c * cdiff_mat(n, k).T @ cdiff_mat(n, k) for k, c in enumerate(coeffs))\n",
    "K, inv(K)"
   ]
  },
  {
   "cell_type": "code",
   "execution_count": null,
   "id": "543e2d48-0821-43a2-85bf-a146785e2c7b",
   "metadata": {},
   "outputs": [],
   "source": []
  }
 ],
 "metadata": {
  "kernelspec": {
   "display_name": "Python 3 (ipykernel)",
   "language": "python",
   "name": "python3"
  },
  "language_info": {
   "codemirror_mode": {
    "name": "ipython",
    "version": 3
   },
   "file_extension": ".py",
   "mimetype": "text/x-python",
   "name": "python",
   "nbconvert_exporter": "python",
   "pygments_lexer": "ipython3",
   "version": "3.7.6"
  }
 },
 "nbformat": 4,
 "nbformat_minor": 5
}

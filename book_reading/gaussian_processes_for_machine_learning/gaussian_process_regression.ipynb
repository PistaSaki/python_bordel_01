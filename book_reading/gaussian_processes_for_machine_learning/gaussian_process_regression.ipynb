{
 "cells": [
  {
   "cell_type": "code",
   "execution_count": 14,
   "id": "aeac2440-ab3b-45ba-846a-46ba6cc7739d",
   "metadata": {
    "execution": {
     "iopub.execute_input": "2021-09-08T09:07:56.515163Z",
     "iopub.status.busy": "2021-09-08T09:07:56.515163Z",
     "iopub.status.idle": "2021-09-08T09:07:56.521129Z",
     "shell.execute_reply": "2021-09-08T09:07:56.520163Z",
     "shell.execute_reply.started": "2021-09-08T09:07:56.515163Z"
    },
    "tags": []
   },
   "outputs": [],
   "source": [
    "import pandas as pd\n",
    "import numpy as np\n",
    "from matplotlib import pyplot as plt\n",
    "\n",
    "from gaussian_process_regression_utils import get_posterior_mean_cov"
   ]
  },
  {
   "cell_type": "code",
   "execution_count": 2,
   "id": "d1731336-9fe4-43b8-a6da-4c933fdaf104",
   "metadata": {
    "execution": {
     "iopub.execute_input": "2021-09-08T09:06:41.334904Z",
     "iopub.status.busy": "2021-09-08T09:06:41.334904Z",
     "iopub.status.idle": "2021-09-08T09:06:41.342909Z",
     "shell.execute_reply": "2021-09-08T09:06:41.341903Z",
     "shell.execute_reply.started": "2021-09-08T09:06:41.334904Z"
    },
    "tags": []
   },
   "outputs": [],
   "source": [
    "df = pd.read_csv(\"weight_data.tsv\", sep=\"\\t\")"
   ]
  },
  {
   "cell_type": "code",
   "execution_count": 3,
   "id": "17fdf26e-b98e-4f19-8703-7a3d809494a7",
   "metadata": {
    "execution": {
     "iopub.execute_input": "2021-09-08T09:06:41.764879Z",
     "iopub.status.busy": "2021-09-08T09:06:41.764879Z",
     "iopub.status.idle": "2021-09-08T09:06:41.780842Z",
     "shell.execute_reply": "2021-09-08T09:06:41.779877Z",
     "shell.execute_reply.started": "2021-09-08T09:06:41.764879Z"
    },
    "tags": []
   },
   "outputs": [],
   "source": [
    "#df = df.sample(10)"
   ]
  },
  {
   "cell_type": "code",
   "execution_count": 4,
   "id": "c8064f2d-1d85-4d13-87d7-34719f556787",
   "metadata": {
    "execution": {
     "iopub.execute_input": "2021-09-08T09:06:42.033057Z",
     "iopub.status.busy": "2021-09-08T09:06:42.033057Z",
     "iopub.status.idle": "2021-09-08T09:06:42.061544Z",
     "shell.execute_reply": "2021-09-08T09:06:42.060536Z",
     "shell.execute_reply.started": "2021-09-08T09:06:42.033057Z"
    },
    "tags": []
   },
   "outputs": [
    {
     "data": {
      "text/html": [
       "<div>\n",
       "<style scoped>\n",
       "    .dataframe tbody tr th:only-of-type {\n",
       "        vertical-align: middle;\n",
       "    }\n",
       "\n",
       "    .dataframe tbody tr th {\n",
       "        vertical-align: top;\n",
       "    }\n",
       "\n",
       "    .dataframe thead th {\n",
       "        text-align: right;\n",
       "    }\n",
       "</style>\n",
       "<table border=\"1\" class=\"dataframe\">\n",
       "  <thead>\n",
       "    <tr style=\"text-align: right;\">\n",
       "      <th></th>\n",
       "      <th>date</th>\n",
       "      <th>weight</th>\n",
       "      <th>before_breakfast</th>\n",
       "      <th>after_toilet</th>\n",
       "    </tr>\n",
       "  </thead>\n",
       "  <tbody>\n",
       "    <tr>\n",
       "      <th>0</th>\n",
       "      <td>2021-01-17</td>\n",
       "      <td>94.0</td>\n",
       "      <td>False</td>\n",
       "      <td>False</td>\n",
       "    </tr>\n",
       "    <tr>\n",
       "      <th>1</th>\n",
       "      <td>2021-01-24</td>\n",
       "      <td>95.0</td>\n",
       "      <td>False</td>\n",
       "      <td>False</td>\n",
       "    </tr>\n",
       "    <tr>\n",
       "      <th>2</th>\n",
       "      <td>2021-01-31</td>\n",
       "      <td>95.3</td>\n",
       "      <td>False</td>\n",
       "      <td>False</td>\n",
       "    </tr>\n",
       "    <tr>\n",
       "      <th>3</th>\n",
       "      <td>2021-02-07</td>\n",
       "      <td>94.8</td>\n",
       "      <td>False</td>\n",
       "      <td>False</td>\n",
       "    </tr>\n",
       "    <tr>\n",
       "      <th>4</th>\n",
       "      <td>2021-02-14</td>\n",
       "      <td>95.9</td>\n",
       "      <td>False</td>\n",
       "      <td>False</td>\n",
       "    </tr>\n",
       "  </tbody>\n",
       "</table>\n",
       "</div>"
      ],
      "text/plain": [
       "        date  weight  before_breakfast  after_toilet\n",
       "0 2021-01-17    94.0             False         False\n",
       "1 2021-01-24    95.0             False         False\n",
       "2 2021-01-31    95.3             False         False\n",
       "3 2021-02-07    94.8             False         False\n",
       "4 2021-02-14    95.9             False         False"
      ]
     },
     "execution_count": 4,
     "metadata": {},
     "output_type": "execute_result"
    }
   ],
   "source": [
    "df[\"date\"] = pd.to_datetime(df[\"date\"])\n",
    "df.head()"
   ]
  },
  {
   "cell_type": "code",
   "execution_count": 5,
   "id": "4f3b033d-8844-4af1-aa87-042a4128c146",
   "metadata": {
    "execution": {
     "iopub.execute_input": "2021-09-08T09:06:42.725503Z",
     "iopub.status.busy": "2021-09-08T09:06:42.725503Z",
     "iopub.status.idle": "2021-09-08T09:06:42.748505Z",
     "shell.execute_reply": "2021-09-08T09:06:42.747503Z",
     "shell.execute_reply.started": "2021-09-08T09:06:42.725503Z"
    },
    "tags": []
   },
   "outputs": [
    {
     "data": {
      "text/html": [
       "<div>\n",
       "<style scoped>\n",
       "    .dataframe tbody tr th:only-of-type {\n",
       "        vertical-align: middle;\n",
       "    }\n",
       "\n",
       "    .dataframe tbody tr th {\n",
       "        vertical-align: top;\n",
       "    }\n",
       "\n",
       "    .dataframe thead th {\n",
       "        text-align: right;\n",
       "    }\n",
       "</style>\n",
       "<table border=\"1\" class=\"dataframe\">\n",
       "  <thead>\n",
       "    <tr style=\"text-align: right;\">\n",
       "      <th></th>\n",
       "      <th>date</th>\n",
       "      <th>weight</th>\n",
       "      <th>before_breakfast</th>\n",
       "      <th>after_toilet</th>\n",
       "      <th>day</th>\n",
       "    </tr>\n",
       "  </thead>\n",
       "  <tbody>\n",
       "    <tr>\n",
       "      <th>0</th>\n",
       "      <td>2021-01-17</td>\n",
       "      <td>94.0</td>\n",
       "      <td>False</td>\n",
       "      <td>False</td>\n",
       "      <td>0</td>\n",
       "    </tr>\n",
       "    <tr>\n",
       "      <th>1</th>\n",
       "      <td>2021-01-24</td>\n",
       "      <td>95.0</td>\n",
       "      <td>False</td>\n",
       "      <td>False</td>\n",
       "      <td>7</td>\n",
       "    </tr>\n",
       "    <tr>\n",
       "      <th>2</th>\n",
       "      <td>2021-01-31</td>\n",
       "      <td>95.3</td>\n",
       "      <td>False</td>\n",
       "      <td>False</td>\n",
       "      <td>14</td>\n",
       "    </tr>\n",
       "    <tr>\n",
       "      <th>3</th>\n",
       "      <td>2021-02-07</td>\n",
       "      <td>94.8</td>\n",
       "      <td>False</td>\n",
       "      <td>False</td>\n",
       "      <td>21</td>\n",
       "    </tr>\n",
       "    <tr>\n",
       "      <th>4</th>\n",
       "      <td>2021-02-14</td>\n",
       "      <td>95.9</td>\n",
       "      <td>False</td>\n",
       "      <td>False</td>\n",
       "      <td>28</td>\n",
       "    </tr>\n",
       "  </tbody>\n",
       "</table>\n",
       "</div>"
      ],
      "text/plain": [
       "        date  weight  before_breakfast  after_toilet  day\n",
       "0 2021-01-17    94.0             False         False    0\n",
       "1 2021-01-24    95.0             False         False    7\n",
       "2 2021-01-31    95.3             False         False   14\n",
       "3 2021-02-07    94.8             False         False   21\n",
       "4 2021-02-14    95.9             False         False   28"
      ]
     },
     "execution_count": 5,
     "metadata": {},
     "output_type": "execute_result"
    }
   ],
   "source": [
    "df[\"day\"] = (df.date - df.date.min()).dt.days\n",
    "df.head()"
   ]
  },
  {
   "cell_type": "code",
   "execution_count": 6,
   "id": "be358c6b-e93b-4e93-acc8-8034695cd098",
   "metadata": {
    "execution": {
     "iopub.execute_input": "2021-09-08T09:06:43.317099Z",
     "iopub.status.busy": "2021-09-08T09:06:43.316125Z",
     "iopub.status.idle": "2021-09-08T09:06:43.499193Z",
     "shell.execute_reply": "2021-09-08T09:06:43.498225Z",
     "shell.execute_reply.started": "2021-09-08T09:06:43.317099Z"
    },
    "tags": []
   },
   "outputs": [
    {
     "data": {
      "text/plain": [
       "<AxesSubplot:xlabel='date', ylabel='weight'>"
      ]
     },
     "execution_count": 6,
     "metadata": {},
     "output_type": "execute_result"
    },
    {
     "data": {
      "image/png": "[encoded data removed]",
      "text/plain": [
       "<Figure size 432x288 with 1 Axes>"
      ]
     },
     "metadata": {
      "needs_background": "light"
     },
     "output_type": "display_data"
    }
   ],
   "source": [
    "df.plot(x=\"date\", y=\"weight\", kind=\"scatter\")"
   ]
  },
  {
   "cell_type": "code",
   "execution_count": 7,
   "id": "6484fc3e-05bf-466d-9095-ea27a7a7fd07",
   "metadata": {
    "execution": {
     "iopub.execute_input": "2021-09-08T09:06:44.375371Z",
     "iopub.status.busy": "2021-09-08T09:06:44.375371Z",
     "iopub.status.idle": "2021-09-08T09:06:44.387335Z",
     "shell.execute_reply": "2021-09-08T09:06:44.387335Z",
     "shell.execute_reply.started": "2021-09-08T09:06:44.375371Z"
    },
    "tags": []
   },
   "outputs": [],
   "source": [
    "def ornstein_uhlenbeck_covariance_function(alpha, sigma):\n",
    "    s2 = sigma**2 / (1-alpha)\n",
    "    def cov_fun(t0, t1):\n",
    "        return alpha ** np.abs(t1 - t0) * s2\n",
    "    \n",
    "    return cov_fun"
   ]
  },
  {
   "cell_type": "code",
   "execution_count": 8,
   "id": "f81bc4c8-83fc-427d-ba9d-0254d53c98de",
   "metadata": {
    "execution": {
     "iopub.execute_input": "2021-09-08T09:06:44.999304Z",
     "iopub.status.busy": "2021-09-08T09:06:44.999304Z",
     "iopub.status.idle": "2021-09-08T09:06:45.009309Z",
     "shell.execute_reply": "2021-09-08T09:06:45.008339Z",
     "shell.execute_reply.started": "2021-09-08T09:06:44.999304Z"
    },
    "tags": []
   },
   "outputs": [],
   "source": [
    "def squared_quadratic_covaiance_function(length, c):\n",
    "    def cov_fun(t0, t1):\n",
    "        return c * np.exp(- 1/2 * ((t1 - t0) / length)**2) \n",
    "    \n",
    "    return cov_fun\n",
    "    "
   ]
  },
  {
   "cell_type": "code",
   "execution_count": 9,
   "id": "6cd4ed63-ebec-4f54-b6fb-e1cbb6ea224f",
   "metadata": {
    "execution": {
     "iopub.execute_input": "2021-09-08T09:06:48.246144Z",
     "iopub.status.busy": "2021-09-08T09:06:48.246144Z",
     "iopub.status.idle": "2021-09-08T09:06:48.264193Z",
     "shell.execute_reply": "2021-09-08T09:06:48.264193Z",
     "shell.execute_reply.started": "2021-09-08T09:06:48.246144Z"
    },
    "tags": []
   },
   "outputs": [],
   "source": [
    "cov_fun = ornstein_uhlenbeck_covariance_function(alpha=1 - 1/10000, sigma=0.1)"
   ]
  },
  {
   "cell_type": "code",
   "execution_count": 10,
   "id": "d27b0f25-b173-4be4-85dc-57429f9d5cc4",
   "metadata": {
    "execution": {
     "iopub.execute_input": "2021-09-08T09:06:48.733657Z",
     "iopub.status.busy": "2021-09-08T09:06:48.732684Z",
     "iopub.status.idle": "2021-09-08T09:06:48.749656Z",
     "shell.execute_reply": "2021-09-08T09:06:48.748708Z",
     "shell.execute_reply.started": "2021-09-08T09:06:48.733657Z"
    },
    "tags": []
   },
   "outputs": [],
   "source": [
    "cov_fun = squared_quadratic_covaiance_function(length=30, c=100)"
   ]
  },
  {
   "cell_type": "code",
   "execution_count": 11,
   "id": "787d73d7-ec17-453d-907e-c8c910965c55",
   "metadata": {
    "execution": {
     "iopub.execute_input": "2021-09-08T09:06:49.159410Z",
     "iopub.status.busy": "2021-09-08T09:06:49.159410Z",
     "iopub.status.idle": "2021-09-08T09:06:49.279596Z",
     "shell.execute_reply": "2021-09-08T09:06:49.279596Z",
     "shell.execute_reply.started": "2021-09-08T09:06:49.159410Z"
    },
    "tags": []
   },
   "outputs": [
    {
     "data": {
      "text/plain": [
       "[<matplotlib.lines.Line2D at 0x22462aac408>]"
      ]
     },
     "execution_count": 11,
     "metadata": {},
     "output_type": "execute_result"
    },
    {
     "data": {
      "image/png": "[encoded data removed]",
      "text/plain": [
       "<Figure size 432x288 with 1 Axes>"
      ]
     },
     "metadata": {
      "needs_background": "light"
     },
     "output_type": "display_data"
    }
   ],
   "source": [
    "xxx = np.linspace(-30, 30, 100)\n",
    "plt.plot(xxx, cov_fun(xxx, 0))"
   ]
  },
  {
   "cell_type": "code",
   "execution_count": 12,
   "id": "ccc0a6d8-9947-4582-9e3f-01324b2b3211",
   "metadata": {
    "execution": {
     "iopub.execute_input": "2021-09-08T09:06:55.431799Z",
     "iopub.status.busy": "2021-09-08T09:06:55.431799Z",
     "iopub.status.idle": "2021-09-08T09:06:55.446796Z",
     "shell.execute_reply": "2021-09-08T09:06:55.445831Z",
     "shell.execute_reply.started": "2021-09-08T09:06:55.431799Z"
    },
    "tags": []
   },
   "outputs": [],
   "source": [
    "# variation of one measurement \"observation variance\"\n",
    "obs_var = 0.5\n",
    "\n",
    "# lon\n",
    "mean_weight = 87"
   ]
  },
  {
   "cell_type": "markdown",
   "id": "5b1661cb-6e4c-473a-afc3-260f261c5bcf",
   "metadata": {},
   "source": [
    "Denote by $x_1$ the observed times, $y_1$ the weight measurements, $f_1$ the real weights at the times $x_1$ and similarly $x_2, f_2$ the unobserved times and ideal weights."
   ]
  },
  {
   "cell_type": "code",
   "execution_count": 419,
   "id": "f35462dc-7bfd-405d-9d4d-10c78e6712ca",
   "metadata": {
    "execution": {
     "iopub.execute_input": "2021-09-08T08:01:29.571059Z",
     "iopub.status.busy": "2021-09-08T08:01:29.571059Z",
     "iopub.status.idle": "2021-09-08T08:01:29.585057Z",
     "shell.execute_reply": "2021-09-08T08:01:29.584058Z",
     "shell.execute_reply.started": "2021-09-08T08:01:29.571059Z"
    },
    "tags": []
   },
   "outputs": [],
   "source": []
  },
  {
   "cell_type": "code",
   "execution_count": 13,
   "id": "3e2b6c8a-5981-4592-a221-ed9ec0ec1385",
   "metadata": {
    "execution": {
     "iopub.execute_input": "2021-09-08T09:07:25.507344Z",
     "iopub.status.busy": "2021-09-08T09:07:25.506341Z",
     "iopub.status.idle": "2021-09-08T09:07:25.514346Z",
     "shell.execute_reply": "2021-09-08T09:07:25.514346Z",
     "shell.execute_reply.started": "2021-09-08T09:07:25.506341Z"
    },
    "tags": []
   },
   "outputs": [],
   "source": [
    "x1 = np.array(df.day)\n",
    "y1 = np.array(df.weight)\n",
    "x2 = np.linspace(df.day.max(), df.day.min(), 100)"
   ]
  },
  {
   "cell_type": "code",
   "execution_count": 15,
   "id": "d00ce06f-aace-42f7-a7a0-242495353964",
   "metadata": {
    "execution": {
     "iopub.execute_input": "2021-09-08T09:09:21.381987Z",
     "iopub.status.busy": "2021-09-08T09:09:21.381987Z",
     "iopub.status.idle": "2021-09-08T09:09:21.421987Z",
     "shell.execute_reply": "2021-09-08T09:09:21.420987Z",
     "shell.execute_reply.started": "2021-09-08T09:09:21.381987Z"
    },
    "tags": []
   },
   "outputs": [],
   "source": [
    "f2_mean, f2_cov = get_posterior_mean_cov(\n",
    "    prior_mean=mean_weight, prior_cov_fun=cov_fun, obs_var=obs_var,\n",
    "    x1=x1, y1=y1, x2=x2\n",
    ")"
   ]
  },
  {
   "cell_type": "code",
   "execution_count": 16,
   "id": "e2529310-d93f-454c-99bf-773010177e9a",
   "metadata": {
    "execution": {
     "iopub.execute_input": "2021-09-08T09:09:22.825706Z",
     "iopub.status.busy": "2021-09-08T09:09:22.825706Z",
     "iopub.status.idle": "2021-09-08T09:09:22.837705Z",
     "shell.execute_reply": "2021-09-08T09:09:22.836703Z",
     "shell.execute_reply.started": "2021-09-08T09:09:22.825706Z"
    },
    "tags": []
   },
   "outputs": [
    {
     "data": {
      "text/plain": [
       "array([0.13248309, 0.06366268, 0.05647977, 0.0753415 , 0.09762214,\n",
       "       0.1115622 , 0.11351971, 0.10507212, 0.09038776, 0.07415556,\n",
       "       0.06021258, 0.05086748, 0.046809  , 0.04742219, 0.05131452,\n",
       "       0.05687151, 0.06270591, 0.06792183, 0.07217351, 0.07554879,\n",
       "       0.07834268, 0.08080518, 0.08294638, 0.08446383, 0.08482308,\n",
       "       0.08347975, 0.0801876 , 0.07530314, 0.06998351, 0.06618802,\n",
       "       0.06643517, 0.07332966, 0.08894296, 0.11418641, 0.14834108,\n",
       "       0.18888961, 0.23173478, 0.27179786, 0.30389134, 0.32368259,\n",
       "       0.3285304 , 0.31799764, 0.29391694, 0.25999373, 0.22104284,\n",
       "       0.18204153, 0.14721934, 0.11938526, 0.09962284, 0.08738542,\n",
       "       0.08092422, 0.07790958, 0.07607465, 0.07372779, 0.07003282,\n",
       "       0.06502752, 0.05941957, 0.05424697, 0.05050908, 0.04886423,\n",
       "       0.04945802, 0.05190582, 0.05541329, 0.05899   , 0.06169624,\n",
       "       0.06286295, 0.06223556, 0.06001272, 0.05677435, 0.05331858,\n",
       "       0.05044809, 0.04875952, 0.04849145, 0.04947402, 0.0511982 ,\n",
       "       0.0529902 , 0.0542443 , 0.05464674, 0.05432051, 0.05384107,\n",
       "       0.0541103 , 0.05612107, 0.06068216, 0.06818982, 0.07851947,\n",
       "       0.09107108, 0.10494683, 0.11918818, 0.13297362, 0.14569196,\n",
       "       0.15686269, 0.16596256, 0.17231095, 0.17523326, 0.17473244,\n",
       "       0.17283391, 0.17563168, 0.19587413, 0.25572766, 0.38919449])"
      ]
     },
     "execution_count": 16,
     "metadata": {},
     "output_type": "execute_result"
    }
   ],
   "source": [
    "f2_cov.diagonal()"
   ]
  },
  {
   "cell_type": "code",
   "execution_count": 17,
   "id": "95554897-6a0c-40c0-b450-0bee16b17b14",
   "metadata": {
    "execution": {
     "iopub.execute_input": "2021-09-08T09:09:25.480420Z",
     "iopub.status.busy": "2021-09-08T09:09:25.479455Z",
     "iopub.status.idle": "2021-09-08T09:09:25.608843Z",
     "shell.execute_reply": "2021-09-08T09:09:25.608033Z",
     "shell.execute_reply.started": "2021-09-08T09:09:25.480420Z"
    },
    "tags": []
   },
   "outputs": [
    {
     "data": {
      "text/plain": [
       "<ErrorbarContainer object of 3 artists>"
      ]
     },
     "execution_count": 17,
     "metadata": {},
     "output_type": "execute_result"
    },
    {
     "data": {
      "image/png": "[encoded data removed]",
      "text/plain": [
       "<Figure size 720x288 with 1 Axes>"
      ]
     },
     "metadata": {
      "needs_background": "light"
     },
     "output_type": "display_data"
    }
   ],
   "source": [
    "plt.figure(figsize=[10, 4])\n",
    "plt.scatter(x1, y1)\n",
    "plt.plot(x2, f2_mean)\n",
    "plt.errorbar(x=x2, y=f2_mean, yerr=2*np.sqrt(f2_cov.diagonal()))\n"
   ]
  },
  {
   "cell_type": "code",
   "execution_count": null,
   "id": "d4448b80-2cf5-4ef8-8ef5-1d435d61efb4",
   "metadata": {},
   "outputs": [],
   "source": []
  }
 ],
 "metadata": {
  "kernelspec": {
   "display_name": "Python 3 (ipykernel)",
   "language": "python",
   "name": "python3"
  },
  "language_info": {
   "codemirror_mode": {
    "name": "ipython",
    "version": 3
   },
   "file_extension": ".py",
   "mimetype": "text/x-python",
   "name": "python",
   "nbconvert_exporter": "python",
   "pygments_lexer": "ipython3",
   "version": "3.7.6"
  }
 },
 "nbformat": 4,
 "nbformat_minor": 5
}

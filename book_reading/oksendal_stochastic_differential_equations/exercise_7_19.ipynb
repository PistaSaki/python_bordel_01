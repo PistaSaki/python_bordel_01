{
 "cells": [
  {
   "cell_type": "code",
   "execution_count": 16,
   "id": "bbdfaaa7-2cba-49b8-be11-8ebede3256fd",
   "metadata": {
    "execution": {
     "iopub.execute_input": "2022-02-25T15:35:55.451192Z",
     "iopub.status.busy": "2022-02-25T15:35:55.451192Z",
     "iopub.status.idle": "2022-02-25T15:35:55.462193Z",
     "shell.execute_reply": "2022-02-25T15:35:55.461193Z",
     "shell.execute_reply.started": "2022-02-25T15:35:55.451192Z"
    },
    "tags": []
   },
   "outputs": [],
   "source": [
    "from sympy import symbols, exp, laplace_transform, sqrt, pi, init_printing"
   ]
  },
  {
   "cell_type": "code",
   "execution_count": 17,
   "id": "0de53e62-baed-422c-891f-403039f9c8b9",
   "metadata": {
    "execution": {
     "iopub.execute_input": "2022-02-25T15:36:03.258025Z",
     "iopub.status.busy": "2022-02-25T15:36:03.258025Z",
     "iopub.status.idle": "2022-02-25T15:36:03.272988Z",
     "shell.execute_reply": "2022-02-25T15:36:03.271992Z",
     "shell.execute_reply.started": "2022-02-25T15:36:03.258025Z"
    }
   },
   "outputs": [],
   "source": [
    "init_printing()"
   ]
  },
  {
   "cell_type": "code",
   "execution_count": 11,
   "id": "a25171a6-c1ec-4205-8e24-1013f1b4679a",
   "metadata": {
    "execution": {
     "iopub.execute_input": "2022-02-25T15:33:05.862102Z",
     "iopub.status.busy": "2022-02-25T15:33:05.862102Z",
     "iopub.status.idle": "2022-02-25T15:33:05.875118Z",
     "shell.execute_reply": "2022-02-25T15:33:05.875118Z",
     "shell.execute_reply.started": "2022-02-25T15:33:05.862102Z"
    },
    "tags": []
   },
   "outputs": [],
   "source": [
    "t, x, lamb = symbols(\"t x \\lambda\")"
   ]
  },
  {
   "cell_type": "code",
   "execution_count": 14,
   "id": "88d76955-c887-4022-9b21-0d354089e105",
   "metadata": {
    "execution": {
     "iopub.execute_input": "2022-02-25T15:34:55.733933Z",
     "iopub.status.busy": "2022-02-25T15:34:55.733933Z",
     "iopub.status.idle": "2022-02-25T15:34:55.772967Z",
     "shell.execute_reply": "2022-02-25T15:34:55.772967Z",
     "shell.execute_reply.started": "2022-02-25T15:34:55.733933Z"
    },
    "tags": []
   },
   "outputs": [],
   "source": [
    "f = x / sqrt(2 * pi * t**3) * exp(- x**2 / (2*t))"
   ]
  },
  {
   "cell_type": "code",
   "execution_count": 18,
   "id": "307b8f97-093d-42d7-9b39-8baade85020d",
   "metadata": {
    "execution": {
     "iopub.execute_input": "2022-02-25T15:36:05.715649Z",
     "iopub.status.busy": "2022-02-25T15:36:05.715649Z",
     "iopub.status.idle": "2022-02-25T15:36:06.423686Z",
     "shell.execute_reply": "2022-02-25T15:36:06.423686Z",
     "shell.execute_reply.started": "2022-02-25T15:36:05.715649Z"
    },
    "tags": []
   },
   "outputs": [
    {
     "data": {
      "text/latex": [
       "$\\displaystyle \\left( e^{- \\sqrt{2} \\sqrt{\\lambda} x}, \\  0, \\  2 \\left|{\\arg{\\left(x \\right)}}\\right| = \\frac{\\pi}{2}\\right)$"
      ],
      "text/plain": [
       "⎛       _________                     ⎞\n",
       "⎜ -√2⋅╲╱ \\lambda ⋅x                  π⎟\n",
       "⎜ℯ                 , 0, 2⋅│arg(x)│ = ─⎟\n",
       "⎝                                    2⎠"
      ]
     },
     "execution_count": 18,
     "metadata": {},
     "output_type": "execute_result"
    }
   ],
   "source": [
    "laplace_transform(f, t, lamb)"
   ]
  },
  {
   "cell_type": "code",
   "execution_count": null,
   "id": "749eac48-4cad-4c5f-8b41-25d610050061",
   "metadata": {},
   "outputs": [],
   "source": []
  }
 ],
 "metadata": {
  "kernelspec": {
   "display_name": "Python 3 (ipykernel)",
   "language": "python",
   "name": "python3"
  },
  "language_info": {
   "codemirror_mode": {
    "name": "ipython",
    "version": 3
   },
   "file_extension": ".py",
   "mimetype": "text/x-python",
   "name": "python",
   "nbconvert_exporter": "python",
   "pygments_lexer": "ipython3",
   "version": "3.7.6"
  }
 },
 "nbformat": 4,
 "nbformat_minor": 5
}

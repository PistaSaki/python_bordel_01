{
 "cells": [
  {
   "cell_type": "markdown",
   "metadata": {},
   "source": [
    "# Training a custom regression model without Keras\n",
    "\n",
    "Suggested reading:\n",
    "* https://www.tensorflow.org/tutorials/customization/autodiff\n",
    "* https://www.tensorflow.org/tutorials/customization/custom_training\n",
    "\n",
    "\n",
    "## Our Model\n",
    "Denote by $X$ the maximal daily temperature (in Celsius) at a given day and by $Y$ a number of ice-creams sold on that day. We want to model dependency of $Y$ on $X$. Consider the model \n",
    "$$ Y \\sim \\mathrm{Poisson}\\big[rate=\\mathrm{softplus(a X + b)}\\big]$$\n",
    "where $a, b\\in \\mathbb R$ are unknown constants. \n",
    "\n",
    "## Generate some artificial data\n",
    "We assume $a = 0.1$; $b=4$ are the real values of the constants we want to find and we have 1000 observations. Thus our data consist of vectors `X`, `Y` of length 1000."
   ]
  },
  {
   "cell_type": "code",
   "execution_count": 1,
   "metadata": {},
   "outputs": [],
   "source": [
    "import tensorflow as tf\n",
    "from tensorflow.keras import backend as K\n",
    "from tensorflow_probability import distributions as tfd\n",
    "from matplotlib import pyplot as plt\n",
    "import numpy as np"
   ]
  },
  {
   "cell_type": "code",
   "execution_count": 2,
   "metadata": {},
   "outputs": [
    {
     "name": "stdout",
     "output_type": "stream",
     "text": [
      "First few elements of X: [ 15.110626    4.2292204  -4.1969495 -10.360373  -12.3682785]\n",
      "First few elements of Y: [4. 4. 7. 3. 2.]\n"
     ]
    },
    {
     "data": {
      "image/png": "[encoded data removed]",
      "text/plain": [
       "<Figure size 648x216 with 1 Axes>"
      ]
     },
     "metadata": {
      "needs_background": "light"
     },
     "output_type": "display_data"
    }
   ],
   "source": [
    "tf.random.set_seed(0)\n",
    "\n",
    "X = tfd.Normal(0, 10).sample(1000)\n",
    "print(\"First few elements of X:\", X[:5].numpy())\n",
    "\n",
    "rate = tf.nn.softplus(0.1 * X + 4)\n",
    "\n",
    "Y = tfd.Poisson(rate).sample()\n",
    "print(\"First few elements of Y:\", Y[:5].numpy())\n",
    "\n",
    "# plotting\n",
    "plt.figure(figsize=[9, 3])\n",
    "ax = plt.gca()\n",
    "ax.scatter(X, Y)\n",
    "ax.set_xlabel(\"X\")\n",
    "ax.set_ylabel(\"Y\");"
   ]
  },
  {
   "cell_type": "markdown",
   "metadata": {},
   "source": [
    "## Regression\n",
    "We will find the parameters by maximizing the likelihood.\n",
    "\n",
    "### Exercise 1\n",
    "Write a function calculating the `loss` that is the negative log-likelihood of the parameters for given data. Make sure you use only `tensorflow` and `tensorflow-probability`, not `numpy` or `scipy`.\n",
    "\n",
    "Hint: I would use the following functions: `tf.nn.softplus`, `tf.reduce_sum` and `log_prob` method of `tfd.Poisson`.  "
   ]
  },
  {
   "cell_type": "code",
   "execution_count": 3,
   "metadata": {},
   "outputs": [],
   "source": [
    "def get_loss(a, b, X, Y):\n",
    "    \"\"\" Return the negative log-likelihood of the params `a, b`. \n",
    "    \n",
    "    Args:\n",
    "        a, b: scalars; parameters of our model\n",
    "        X: vector of measured daily temperatures\n",
    "        Y: observed numbers of sold ice-creams on the corresponding days\n",
    "        \n",
    "    Returns:\n",
    "        scalar `- log( P[Y | a, b, X] )`\n",
    "    \"\"\"\n",
    "    # Your code here\n",
    "    rate = tf.nn.softplus(a * X + b)\n",
    "    distr = tfd.Poisson(rate)\n",
    "    return - tf.reduce_sum(distr.log_prob(Y))"
   ]
  },
  {
   "cell_type": "code",
   "execution_count": 4,
   "metadata": {},
   "outputs": [],
   "source": [
    "# a little test\n",
    "l = get_loss(a=1., b=2., X=tf.constant([-10., 0., 10.]), Y=[1, 2, 3])\n",
    "assert np.allclose(l, 15.648288)"
   ]
  },
  {
   "cell_type": "code",
   "execution_count": 5,
   "metadata": {},
   "outputs": [],
   "source": [
    "# The current estimate of each parameter will be stored in a `tf.Variable`\n",
    "# We initialize these variables with some arbitrary numbers.\n",
    "\n",
    "a = tf.Variable(1, name=\"a\", dtype=K.floatx())\n",
    "b = tf.Variable(0, name=\"b\", dtype=K.floatx())\n",
    "weights = [a, b]"
   ]
  },
  {
   "cell_type": "code",
   "execution_count": 6,
   "metadata": {},
   "outputs": [],
   "source": [
    "# Choose the `optimizer` to be used for minimization of the loss\n",
    "optimizer = tf.optimizers.Adam()"
   ]
  },
  {
   "cell_type": "markdown",
   "metadata": {},
   "source": [
    "### Exercise 2\n",
    "In the following cell complete the inside of the optimization loop -- evaluate the current `loss` and use the `tf.GradientTape` to calculate the gradient with respect to the weights. Assign the gra"
   ]
  },
  {
   "cell_type": "code",
   "execution_count": 7,
   "metadata": {},
   "outputs": [
    {
     "name": "stdout",
     "output_type": "stream",
     "text": [
      "2078.1162 0.092318445 3.9703152\n"
     ]
    }
   ],
   "source": [
    "for step in range(10000):\n",
    "    # calculate current loss and use `tf.GradientTape` to calculate loss gradients with respect to the `weights`\n",
    "    with tf.GradientTape() as tape:\n",
    "        loss = get_loss(a, b, X, Y)\n",
    "\n",
    "    grads = tape.gradient(loss, weights)\n",
    "    \n",
    "    # using the `optimizer` we can use the calculated gradients to update the values of `weights`\n",
    "    optimizer.apply_gradients(zip(grads, weights))\n",
    "\n",
    "print(loss.numpy(), a.numpy(), b.numpy())"
   ]
  },
  {
   "cell_type": "markdown",
   "metadata": {},
   "source": [
    "# Speed things up using `tf.function`\n",
    "Try so read the \"basics\" part of the following tutorial:\n",
    "https://www.tensorflow.org/tutorials/customization/performance\n",
    "\n",
    "Using `tf.function` decorator often speeds the calculations a lot! (And sometimes not.) Unfortunately not all the code that works well in the eager-mode (un-decorated) compiles well to graph-mode (decorated). If you will use it, be prapared for some fight. \n",
    "\n",
    "### Exercise 3\n",
    "Copy your `quadratic_fun` from the previous exercise. \n",
    "Use the `%%timeit` magic to measure the time we need to run it.\n",
    "Then use `tf.function` decorator and measure the time again. Here the difference in speed will not be large."
   ]
  },
  {
   "cell_type": "code",
   "execution_count": 8,
   "metadata": {},
   "outputs": [],
   "source": [
    "def quadratic_fun(a, b, c, x):\n",
    "    # Your code comes here\n",
    "    return tf.reduce_sum((tf.linalg.matvec(a, x) + b) * x, axis = [-1]) + c"
   ]
  },
  {
   "cell_type": "code",
   "execution_count": 9,
   "metadata": {},
   "outputs": [],
   "source": [
    "n = 5"
   ]
  },
  {
   "cell_type": "code",
   "execution_count": 10,
   "metadata": {},
   "outputs": [
    {
     "name": "stdout",
     "output_type": "stream",
     "text": [
      "402 µs ± 23.5 µs per loop (mean ± std. dev. of 7 runs, 1000 loops each)\n"
     ]
    }
   ],
   "source": [
    "%%timeit\n",
    "quadratic_fun(a=tf.zeros([n, n]), b=tf.zeros(n), c=0, x=tf.ones([1000, n]));"
   ]
  },
  {
   "cell_type": "code",
   "execution_count": 11,
   "metadata": {},
   "outputs": [],
   "source": [
    "f = tf.function(quadratic_fun)"
   ]
  },
  {
   "cell_type": "code",
   "execution_count": 12,
   "metadata": {},
   "outputs": [
    {
     "name": "stdout",
     "output_type": "stream",
     "text": [
      "473 µs ± 8.95 µs per loop (mean ± std. dev. of 7 runs, 1000 loops each)\n"
     ]
    }
   ],
   "source": [
    "%timeit f(a=tf.zeros([n, n]), b=tf.zeros(n), c=0, x=tf.ones([1000, n]));"
   ]
  },
  {
   "cell_type": "markdown",
   "metadata": {},
   "source": [
    "### Exercise 4\n",
    "copy the content of the optimization for-loop in the first exercise into one function without arguments \n",
    "```python\n",
    "def train_step():\n",
    "    # your code here\n",
    "```\n",
    "Then use `%timeit` magic to see the difference in speed of the decorated and un-decorated versions."
   ]
  },
  {
   "cell_type": "code",
   "execution_count": 15,
   "metadata": {},
   "outputs": [],
   "source": [
    "def train_step():\n",
    "    with tf.GradientTape() as tape:\n",
    "        loss = get_loss(a, b, X, Y)\n",
    "\n",
    "    grads = tape.gradient(loss, weights)\n",
    "    \n",
    "    # using the `optimizer` we can use the calculated gradients to update the values of `weights`\n",
    "    optimizer.apply_gradients(zip(grads, weights))"
   ]
  },
  {
   "cell_type": "code",
   "execution_count": 16,
   "metadata": {},
   "outputs": [
    {
     "name": "stdout",
     "output_type": "stream",
     "text": [
      "2.09 ms ± 90.6 µs per loop (mean ± std. dev. of 7 runs, 1000 loops each)\n"
     ]
    }
   ],
   "source": [
    "%timeit train_step()"
   ]
  },
  {
   "cell_type": "code",
   "execution_count": 17,
   "metadata": {},
   "outputs": [],
   "source": [
    "ts = tf.function(train_step)"
   ]
  },
  {
   "cell_type": "code",
   "execution_count": 18,
   "metadata": {},
   "outputs": [
    {
     "name": "stdout",
     "output_type": "stream",
     "text": [
      "21.4 ns ± 4.14 ns per loop (mean ± std. dev. of 7 runs, 100000000 loops each)\n"
     ]
    }
   ],
   "source": [
    "%timeit ts"
   ]
  },
  {
   "cell_type": "markdown",
   "metadata": {},
   "source": [
    "### Technical Remark\n",
    "Feel free to skip this.\n",
    "\n",
    "Decorating by `tf.function` does not do much. The compilation to the computation-graph happens only when the decorated function is called for the first time. The `tensorflow` then knows what are the shapes of the incomming tensors and creates a graph whose inputs have the corresponding shapes. This compilation is quite time-consuming, but the good thing is that happens only once. \n",
    "\n",
    "Unless you call the decorated function with arguments of different shapes! In that case it happens again. Fortunately you can specify the input-shapes in advance, including not-completely defined shapes. The tensorflow then creates one graph whose imputs have partially defined shapes and uses this graph for all subsequent evaluations of the decorated function. To do this, you must specify the `input_signature` parameter of the `tf.function`.\n",
    "\n",
    "As an example consider the case when we want to use our `quadratic_fun` only in 5-dimensional space and with 1-dimensional batches of vectors `x`. However the size of the batch is unknown in advance and can change."
   ]
  },
  {
   "cell_type": "code",
   "execution_count": 19,
   "metadata": {},
   "outputs": [],
   "source": [
    "n = 5\n",
    "input_signature=[tf.TensorSpec([n, n], K.floatx()), \n",
    "                 tf.TensorSpec([n], K.floatx()), \n",
    "                 tf.TensorSpec([], K.floatx()), \n",
    "                 tf.TensorSpec([None, n], K.floatx())  # `x` has unknown batch-size\n",
    "                ]\n",
    "\n",
    "@tf.function(input_signature=input_signature)\n",
    "def quadratic_fun__decorated(a, b, c, x):\n",
    "    # Using Honza's calculation:\n",
    "    return tf.reduce_sum((tf.linalg.matvec(a, x) + b) * x, axis = [-1]) + c"
   ]
  },
  {
   "cell_type": "code",
   "execution_count": 20,
   "metadata": {},
   "outputs": [
    {
     "data": {
      "text/plain": [
       "<tf.Tensor: shape=(2,), dtype=float32, numpy=array([0., 0.], dtype=float32)>"
      ]
     },
     "execution_count": 20,
     "metadata": {},
     "output_type": "execute_result"
    }
   ],
   "source": [
    "quadratic_fun__decorated(tf.zeros([5, 5]), tf.zeros([5]), 0., tf.zeros([2, 5]))"
   ]
  },
  {
   "cell_type": "code",
   "execution_count": 21,
   "metadata": {},
   "outputs": [
    {
     "data": {
      "text/plain": [
       "<tf.Tensor: shape=(3,), dtype=float32, numpy=array([0., 0., 0.], dtype=float32)>"
      ]
     },
     "execution_count": 21,
     "metadata": {},
     "output_type": "execute_result"
    }
   ],
   "source": [
    "quadratic_fun__decorated(tf.zeros([5, 5]), tf.zeros([5]), 0., tf.zeros([3, 5]))"
   ]
  },
  {
   "cell_type": "code",
   "execution_count": 22,
   "metadata": {
    "scrolled": true
   },
   "outputs": [
    {
     "ename": "ValueError",
     "evalue": "Python inputs incompatible with input_signature:\n  inputs: (\n    tf.Tensor(\n[[0. 0. 0. 0. 0. 0.]\n [0. 0. 0. 0. 0. 0.]\n [0. 0. 0. 0. 0. 0.]\n [0. 0. 0. 0. 0. 0.]\n [0. 0. 0. 0. 0. 0.]\n [0. 0. 0. 0. 0. 0.]], shape=(6, 6), dtype=float32),\n    tf.Tensor([0. 0. 0. 0. 0. 0.], shape=(6,), dtype=float32),\n    0.0,\n    tf.Tensor(\n[[0. 0. 0. 0. 0. 0.]\n [0. 0. 0. 0. 0. 0.]\n [0. 0. 0. 0. 0. 0.]], shape=(3, 6), dtype=float32))\n  input_signature: (\n    TensorSpec(shape=(5, 5), dtype=tf.float32, name=None),\n    TensorSpec(shape=(5,), dtype=tf.float32, name=None),\n    TensorSpec(shape=(), dtype=tf.float32, name=None),\n    TensorSpec(shape=(None, 5), dtype=tf.float32, name=None))",
     "output_type": "error",
     "traceback": [
      "\u001b[1;31m---------------------------------------------------------------------------\u001b[0m",
      "\u001b[1;31mValueError\u001b[0m                                Traceback (most recent call last)",
      "\u001b[1;32m<ipython-input-22-f9bd8c505dfb>\u001b[0m in \u001b[0;36m<module>\u001b[1;34m\u001b[0m\n\u001b[0;32m      1\u001b[0m \u001b[1;31m# The following evaluation now fails since the inputs are not consistent with the `input_signature`\u001b[0m\u001b[1;33m\u001b[0m\u001b[1;33m\u001b[0m\u001b[1;33m\u001b[0m\u001b[0m\n\u001b[1;32m----> 2\u001b[1;33m \u001b[0mquadratic_fun__decorated\u001b[0m\u001b[1;33m(\u001b[0m\u001b[0mtf\u001b[0m\u001b[1;33m.\u001b[0m\u001b[0mzeros\u001b[0m\u001b[1;33m(\u001b[0m\u001b[1;33m[\u001b[0m\u001b[1;36m6\u001b[0m\u001b[1;33m,\u001b[0m \u001b[1;36m6\u001b[0m\u001b[1;33m]\u001b[0m\u001b[1;33m)\u001b[0m\u001b[1;33m,\u001b[0m \u001b[0mtf\u001b[0m\u001b[1;33m.\u001b[0m\u001b[0mzeros\u001b[0m\u001b[1;33m(\u001b[0m\u001b[1;33m[\u001b[0m\u001b[1;36m6\u001b[0m\u001b[1;33m]\u001b[0m\u001b[1;33m)\u001b[0m\u001b[1;33m,\u001b[0m \u001b[1;36m0.\u001b[0m\u001b[1;33m,\u001b[0m \u001b[0mtf\u001b[0m\u001b[1;33m.\u001b[0m\u001b[0mzeros\u001b[0m\u001b[1;33m(\u001b[0m\u001b[1;33m[\u001b[0m\u001b[1;36m3\u001b[0m\u001b[1;33m,\u001b[0m \u001b[1;36m6\u001b[0m\u001b[1;33m]\u001b[0m\u001b[1;33m)\u001b[0m\u001b[1;33m)\u001b[0m\u001b[1;33m\u001b[0m\u001b[1;33m\u001b[0m\u001b[0m\n\u001b[0m",
      "\u001b[1;32md:\\git\\bordel\\python_bordel_01\\venv\\lib\\site-packages\\tensorflow_core\\python\\eager\\def_function.py\u001b[0m in \u001b[0;36m__call__\u001b[1;34m(self, *args, **kwds)\u001b[0m\n\u001b[0;32m    566\u001b[0m         \u001b[0mxla_context\u001b[0m\u001b[1;33m.\u001b[0m\u001b[0mExit\u001b[0m\u001b[1;33m(\u001b[0m\u001b[1;33m)\u001b[0m\u001b[1;33m\u001b[0m\u001b[1;33m\u001b[0m\u001b[0m\n\u001b[0;32m    567\u001b[0m     \u001b[1;32melse\u001b[0m\u001b[1;33m:\u001b[0m\u001b[1;33m\u001b[0m\u001b[1;33m\u001b[0m\u001b[0m\n\u001b[1;32m--> 568\u001b[1;33m       \u001b[0mresult\u001b[0m \u001b[1;33m=\u001b[0m \u001b[0mself\u001b[0m\u001b[1;33m.\u001b[0m\u001b[0m_call\u001b[0m\u001b[1;33m(\u001b[0m\u001b[1;33m*\u001b[0m\u001b[0margs\u001b[0m\u001b[1;33m,\u001b[0m \u001b[1;33m**\u001b[0m\u001b[0mkwds\u001b[0m\u001b[1;33m)\u001b[0m\u001b[1;33m\u001b[0m\u001b[1;33m\u001b[0m\u001b[0m\n\u001b[0m\u001b[0;32m    569\u001b[0m \u001b[1;33m\u001b[0m\u001b[0m\n\u001b[0;32m    570\u001b[0m     \u001b[1;32mif\u001b[0m \u001b[0mtracing_count\u001b[0m \u001b[1;33m==\u001b[0m \u001b[0mself\u001b[0m\u001b[1;33m.\u001b[0m\u001b[0m_get_tracing_count\u001b[0m\u001b[1;33m(\u001b[0m\u001b[1;33m)\u001b[0m\u001b[1;33m:\u001b[0m\u001b[1;33m\u001b[0m\u001b[1;33m\u001b[0m\u001b[0m\n",
      "\u001b[1;32md:\\git\\bordel\\python_bordel_01\\venv\\lib\\site-packages\\tensorflow_core\\python\\eager\\def_function.py\u001b[0m in \u001b[0;36m_call\u001b[1;34m(self, *args, **kwds)\u001b[0m\n\u001b[0;32m    604\u001b[0m       \u001b[1;31m# In this case we have not created variables on the first call. So we can\u001b[0m\u001b[1;33m\u001b[0m\u001b[1;33m\u001b[0m\u001b[1;33m\u001b[0m\u001b[0m\n\u001b[0;32m    605\u001b[0m       \u001b[1;31m# run the first trace but we should fail if variables are created.\u001b[0m\u001b[1;33m\u001b[0m\u001b[1;33m\u001b[0m\u001b[1;33m\u001b[0m\u001b[0m\n\u001b[1;32m--> 606\u001b[1;33m       \u001b[0mresults\u001b[0m \u001b[1;33m=\u001b[0m \u001b[0mself\u001b[0m\u001b[1;33m.\u001b[0m\u001b[0m_stateful_fn\u001b[0m\u001b[1;33m(\u001b[0m\u001b[1;33m*\u001b[0m\u001b[0margs\u001b[0m\u001b[1;33m,\u001b[0m \u001b[1;33m**\u001b[0m\u001b[0mkwds\u001b[0m\u001b[1;33m)\u001b[0m\u001b[1;33m\u001b[0m\u001b[1;33m\u001b[0m\u001b[0m\n\u001b[0m\u001b[0;32m    607\u001b[0m       \u001b[1;32mif\u001b[0m \u001b[0mself\u001b[0m\u001b[1;33m.\u001b[0m\u001b[0m_created_variables\u001b[0m\u001b[1;33m:\u001b[0m\u001b[1;33m\u001b[0m\u001b[1;33m\u001b[0m\u001b[0m\n\u001b[0;32m    608\u001b[0m         raise ValueError(\"Creating variables on a non-first call to a function\"\n",
      "\u001b[1;32md:\\git\\bordel\\python_bordel_01\\venv\\lib\\site-packages\\tensorflow_core\\python\\eager\\function.py\u001b[0m in \u001b[0;36m__call__\u001b[1;34m(self, *args, **kwargs)\u001b[0m\n\u001b[0;32m   2360\u001b[0m     \u001b[1;34m\"\"\"Calls a graph function specialized to the inputs.\"\"\"\u001b[0m\u001b[1;33m\u001b[0m\u001b[1;33m\u001b[0m\u001b[0m\n\u001b[0;32m   2361\u001b[0m     \u001b[1;32mwith\u001b[0m \u001b[0mself\u001b[0m\u001b[1;33m.\u001b[0m\u001b[0m_lock\u001b[0m\u001b[1;33m:\u001b[0m\u001b[1;33m\u001b[0m\u001b[1;33m\u001b[0m\u001b[0m\n\u001b[1;32m-> 2362\u001b[1;33m       \u001b[0mgraph_function\u001b[0m\u001b[1;33m,\u001b[0m \u001b[0margs\u001b[0m\u001b[1;33m,\u001b[0m \u001b[0mkwargs\u001b[0m \u001b[1;33m=\u001b[0m \u001b[0mself\u001b[0m\u001b[1;33m.\u001b[0m\u001b[0m_maybe_define_function\u001b[0m\u001b[1;33m(\u001b[0m\u001b[0margs\u001b[0m\u001b[1;33m,\u001b[0m \u001b[0mkwargs\u001b[0m\u001b[1;33m)\u001b[0m\u001b[1;33m\u001b[0m\u001b[1;33m\u001b[0m\u001b[0m\n\u001b[0m\u001b[0;32m   2363\u001b[0m     \u001b[1;32mreturn\u001b[0m \u001b[0mgraph_function\u001b[0m\u001b[1;33m.\u001b[0m\u001b[0m_filtered_call\u001b[0m\u001b[1;33m(\u001b[0m\u001b[0margs\u001b[0m\u001b[1;33m,\u001b[0m \u001b[0mkwargs\u001b[0m\u001b[1;33m)\u001b[0m  \u001b[1;31m# pylint: disable=protected-access\u001b[0m\u001b[1;33m\u001b[0m\u001b[1;33m\u001b[0m\u001b[0m\n\u001b[0;32m   2364\u001b[0m \u001b[1;33m\u001b[0m\u001b[0m\n",
      "\u001b[1;32md:\\git\\bordel\\python_bordel_01\\venv\\lib\\site-packages\\tensorflow_core\\python\\eager\\function.py\u001b[0m in \u001b[0;36m_maybe_define_function\u001b[1;34m(self, args, kwargs)\u001b[0m\n\u001b[0;32m   2659\u001b[0m     \u001b[1;32mif\u001b[0m \u001b[0mself\u001b[0m\u001b[1;33m.\u001b[0m\u001b[0minput_signature\u001b[0m \u001b[1;32mis\u001b[0m \u001b[1;32mNone\u001b[0m \u001b[1;32mor\u001b[0m \u001b[0margs\u001b[0m \u001b[1;32mis\u001b[0m \u001b[1;32mnot\u001b[0m \u001b[1;32mNone\u001b[0m \u001b[1;32mor\u001b[0m \u001b[0mkwargs\u001b[0m \u001b[1;32mis\u001b[0m \u001b[1;32mnot\u001b[0m \u001b[1;32mNone\u001b[0m\u001b[1;33m:\u001b[0m\u001b[1;33m\u001b[0m\u001b[1;33m\u001b[0m\u001b[0m\n\u001b[0;32m   2660\u001b[0m       args, kwargs = self._function_spec.canonicalize_function_inputs(\n\u001b[1;32m-> 2661\u001b[1;33m           *args, **kwargs)\n\u001b[0m\u001b[0;32m   2662\u001b[0m \u001b[1;33m\u001b[0m\u001b[0m\n\u001b[0;32m   2663\u001b[0m     \u001b[0mcache_key\u001b[0m \u001b[1;33m=\u001b[0m \u001b[0mself\u001b[0m\u001b[1;33m.\u001b[0m\u001b[0m_cache_key\u001b[0m\u001b[1;33m(\u001b[0m\u001b[0margs\u001b[0m\u001b[1;33m,\u001b[0m \u001b[0mkwargs\u001b[0m\u001b[1;33m)\u001b[0m\u001b[1;33m\u001b[0m\u001b[1;33m\u001b[0m\u001b[0m\n",
      "\u001b[1;32md:\\git\\bordel\\python_bordel_01\\venv\\lib\\site-packages\\tensorflow_core\\python\\eager\\function.py\u001b[0m in \u001b[0;36mcanonicalize_function_inputs\u001b[1;34m(self, *args, **kwargs)\u001b[0m\n\u001b[0;32m   2183\u001b[0m           \u001b[0minputs\u001b[0m\u001b[1;33m,\u001b[0m\u001b[1;33m\u001b[0m\u001b[1;33m\u001b[0m\u001b[0m\n\u001b[0;32m   2184\u001b[0m           \u001b[0mself\u001b[0m\u001b[1;33m.\u001b[0m\u001b[0m_input_signature\u001b[0m\u001b[1;33m,\u001b[0m\u001b[1;33m\u001b[0m\u001b[1;33m\u001b[0m\u001b[0m\n\u001b[1;32m-> 2185\u001b[1;33m           self._flat_input_signature)\n\u001b[0m\u001b[0;32m   2186\u001b[0m       \u001b[1;32mreturn\u001b[0m \u001b[0minputs\u001b[0m\u001b[1;33m,\u001b[0m \u001b[1;33m{\u001b[0m\u001b[1;33m}\u001b[0m\u001b[1;33m\u001b[0m\u001b[1;33m\u001b[0m\u001b[0m\n\u001b[0;32m   2187\u001b[0m \u001b[1;33m\u001b[0m\u001b[0m\n",
      "\u001b[1;32md:\\git\\bordel\\python_bordel_01\\venv\\lib\\site-packages\\tensorflow_core\\python\\eager\\function.py\u001b[0m in \u001b[0;36m_convert_inputs_to_signature\u001b[1;34m(inputs, input_signature, flat_input_signature)\u001b[0m\n\u001b[0;32m   2250\u001b[0m       flatten_inputs)):\n\u001b[0;32m   2251\u001b[0m     raise ValueError(\"Python inputs incompatible with input_signature:\\n%s\" %\n\u001b[1;32m-> 2252\u001b[1;33m                      format_error_message(inputs, input_signature))\n\u001b[0m\u001b[0;32m   2253\u001b[0m \u001b[1;33m\u001b[0m\u001b[0m\n\u001b[0;32m   2254\u001b[0m   \u001b[1;32mif\u001b[0m \u001b[0mneed_packing\u001b[0m\u001b[1;33m:\u001b[0m\u001b[1;33m\u001b[0m\u001b[1;33m\u001b[0m\u001b[0m\n",
      "\u001b[1;31mValueError\u001b[0m: Python inputs incompatible with input_signature:\n  inputs: (\n    tf.Tensor(\n[[0. 0. 0. 0. 0. 0.]\n [0. 0. 0. 0. 0. 0.]\n [0. 0. 0. 0. 0. 0.]\n [0. 0. 0. 0. 0. 0.]\n [0. 0. 0. 0. 0. 0.]\n [0. 0. 0. 0. 0. 0.]], shape=(6, 6), dtype=float32),\n    tf.Tensor([0. 0. 0. 0. 0. 0.], shape=(6,), dtype=float32),\n    0.0,\n    tf.Tensor(\n[[0. 0. 0. 0. 0. 0.]\n [0. 0. 0. 0. 0. 0.]\n [0. 0. 0. 0. 0. 0.]], shape=(3, 6), dtype=float32))\n  input_signature: (\n    TensorSpec(shape=(5, 5), dtype=tf.float32, name=None),\n    TensorSpec(shape=(5,), dtype=tf.float32, name=None),\n    TensorSpec(shape=(), dtype=tf.float32, name=None),\n    TensorSpec(shape=(None, 5), dtype=tf.float32, name=None))"
     ]
    }
   ],
   "source": [
    "# The following evaluation now fails since the inputs are not consistent with the `input_signature`\n",
    "quadratic_fun__decorated(tf.zeros([6, 6]), tf.zeros([6]), 0., tf.zeros([3, 6]))"
   ]
  },
  {
   "cell_type": "markdown",
   "metadata": {},
   "source": [
    "# Optional reading - Datasets\n",
    "Read first part \"Basic Mechanics\" of this tutorial:\n",
    "https://www.tensorflow.org/guide/data#basic_mechanics\n",
    "\n",
    "### Optional Exercise 5\n",
    "Let's return to our ice-cream regression.\n",
    "Imagine that we can't evaluate our model (because it is too complicated and we have too much data) at once and we want to use the stochastic-descent on mini-batches created from the data. \n",
    "* Use `tf.data.Dataset.from_tensor_slices` to create a dataset from our data tensors `X`, `Y`\n",
    "* use `shuffle` and `batch` methods of the dataset to create a shuffled and batched dataset, say with batches of length 100.\n",
    "* Write a new training loop where in each epoch you iterate through all the batches in the batched data-set and apply the gradient descent (or a fancier optimizer optimizer like adam) to each batch separately."
   ]
  }
 ],
 "metadata": {
  "kernelspec": {
   "display_name": "Python 3",
   "language": "python",
   "name": "python3"
  },
  "language_info": {
   "codemirror_mode": {
    "name": "ipython",
    "version": 3
   },
   "file_extension": ".py",
   "mimetype": "text/x-python",
   "name": "python",
   "nbconvert_exporter": "python",
   "pygments_lexer": "ipython3",
   "version": "3.7.6"
  }
 },
 "nbformat": 4,
 "nbformat_minor": 4
}

{
 "cells": [
  {
   "cell_type": "code",
   "execution_count": 1,
   "metadata": {
    "ExecuteTime": {
     "end_time": "2018-10-20T10:30:44.979582Z",
     "start_time": "2018-10-20T10:30:44.974582Z"
    }
   },
   "outputs": [],
   "source": [
    "import os"
   ]
  },
  {
   "cell_type": "code",
   "execution_count": 2,
   "metadata": {
    "ExecuteTime": {
     "end_time": "2018-10-20T10:30:45.004583Z",
     "start_time": "2018-10-20T10:30:44.981582Z"
    }
   },
   "outputs": [],
   "source": [
    "os.environ[\"https_proxy\"] = \"https://proxy.tipsport.cz:3128\""
   ]
  },
  {
   "cell_type": "code",
   "execution_count": 3,
   "metadata": {
    "ExecuteTime": {
     "end_time": "2018-10-20T10:30:45.027583Z",
     "start_time": "2018-10-20T10:30:45.005583Z"
    }
   },
   "outputs": [],
   "source": [
    "#token = '748455657:AAGh3YwB59f6KWFNYFB8rCdCNosXde0keaY'\n",
    "token = \"782226128:AAFqVUubmu3upiE7V6G1QcBpgaOgaPUd5oM\""
   ]
  },
  {
   "cell_type": "code",
   "execution_count": 4,
   "metadata": {
    "ExecuteTime": {
     "end_time": "2018-10-20T10:30:45.584589Z",
     "start_time": "2018-10-20T10:30:45.029583Z"
    }
   },
   "outputs": [],
   "source": [
    "from telegram.ext import Updater\n",
    "updater = Updater(token)"
   ]
  },
  {
   "cell_type": "code",
   "execution_count": 5,
   "metadata": {
    "ExecuteTime": {
     "end_time": "2018-10-20T10:30:45.592589Z",
     "start_time": "2018-10-20T10:30:45.588588Z"
    }
   },
   "outputs": [],
   "source": [
    "dispatcher = updater.dispatcher"
   ]
  },
  {
   "cell_type": "code",
   "execution_count": 6,
   "metadata": {
    "ExecuteTime": {
     "end_time": "2018-10-20T10:30:46.785600Z",
     "start_time": "2018-10-20T10:30:46.782600Z"
    }
   },
   "outputs": [],
   "source": [
    "import logging\n",
    "logging.basicConfig(format='%(asctime)s - %(name)s - %(levelname)s - %(message)s',\n",
    "                     level=logging.INFO)"
   ]
  },
  {
   "cell_type": "code",
   "execution_count": 7,
   "metadata": {
    "ExecuteTime": {
     "end_time": "2018-10-20T10:30:48.038610Z",
     "start_time": "2018-10-20T10:30:48.035612Z"
    }
   },
   "outputs": [],
   "source": [
    "def start(bot, update):\n",
    "    bot.send_message(chat_id=update.message.chat_id, text=\"I'm a bot, please talk to me!\")"
   ]
  },
  {
   "cell_type": "code",
   "execution_count": 8,
   "metadata": {
    "ExecuteTime": {
     "end_time": "2018-10-20T10:30:48.948620Z",
     "start_time": "2018-10-20T10:30:48.945621Z"
    }
   },
   "outputs": [],
   "source": [
    "from telegram.ext import CommandHandler\n",
    "start_handler = CommandHandler('start', start)\n",
    "dispatcher.add_handler(start_handler)"
   ]
  },
  {
   "cell_type": "code",
   "execution_count": 9,
   "metadata": {
    "ExecuteTime": {
     "end_time": "2018-10-20T10:30:50.211631Z",
     "start_time": "2018-10-20T10:30:50.120631Z"
    }
   },
   "outputs": [
    {
     "data": {
      "text/plain": [
       "<queue.Queue at 0x1345065be48>"
      ]
     },
     "execution_count": 9,
     "metadata": {},
     "output_type": "execute_result"
    }
   ],
   "source": [
    "updater.start_polling()"
   ]
  },
  {
   "cell_type": "code",
   "execution_count": 10,
   "metadata": {
    "ExecuteTime": {
     "end_time": "2018-10-20T10:30:55.275677Z",
     "start_time": "2018-10-20T10:30:55.271677Z"
    }
   },
   "outputs": [
    {
     "name": "stderr",
     "output_type": "stream",
     "text": [
      "2018-10-21 03:13:30,212 - telegram.ext.updater - ERROR - Error while getting Updates: Bad Gateway\n",
      "2018-10-21 03:13:30,219 - telegram.ext.dispatcher - ERROR - No error handlers are registered, logging exception.\n",
      "Traceback (most recent call last):\n",
      "  File \"E:\\Pista\\WinPython\\python-3.6.5.amd64\\lib\\site-packages\\telegram\\ext\\updater.py\", line 319, in _network_loop_retry\n",
      "    if not action_cb():\n",
      "  File \"E:\\Pista\\WinPython\\python-3.6.5.amd64\\lib\\site-packages\\telegram\\ext\\updater.py\", line 280, in polling_action_cb\n",
      "    allowed_updates=allowed_updates)\n",
      "  File \"E:\\Pista\\WinPython\\python-3.6.5.amd64\\lib\\site-packages\\telegram\\bot.py\", line 65, in decorator\n",
      "    result = func(self, *args, **kwargs)\n",
      "  File \"E:\\Pista\\WinPython\\python-3.6.5.amd64\\lib\\site-packages\\telegram\\bot.py\", line 1975, in get_updates\n",
      "    result = self._request.post(url, data, timeout=float(read_latency) + float(timeout))\n",
      "  File \"E:\\Pista\\WinPython\\python-3.6.5.amd64\\lib\\site-packages\\telegram\\utils\\request.py\", line 309, in post\n",
      "    headers={'Content-Type': 'application/json'})\n",
      "  File \"E:\\Pista\\WinPython\\python-3.6.5.amd64\\lib\\site-packages\\telegram\\utils\\request.py\", line 231, in _request_wrapper\n",
      "    raise NetworkError('Bad Gateway')\n",
      "telegram.error.NetworkError: Bad Gateway\n",
      "2018-10-21 03:13:31,249 - telegram.ext.updater - ERROR - Error while getting Updates: Bad Gateway\n",
      "2018-10-21 03:13:31,250 - telegram.ext.dispatcher - ERROR - No error handlers are registered, logging exception.\n",
      "Traceback (most recent call last):\n",
      "  File \"E:\\Pista\\WinPython\\python-3.6.5.amd64\\lib\\site-packages\\telegram\\ext\\updater.py\", line 319, in _network_loop_retry\n",
      "    if not action_cb():\n",
      "  File \"E:\\Pista\\WinPython\\python-3.6.5.amd64\\lib\\site-packages\\telegram\\ext\\updater.py\", line 280, in polling_action_cb\n",
      "    allowed_updates=allowed_updates)\n",
      "  File \"E:\\Pista\\WinPython\\python-3.6.5.amd64\\lib\\site-packages\\telegram\\bot.py\", line 65, in decorator\n",
      "    result = func(self, *args, **kwargs)\n",
      "  File \"E:\\Pista\\WinPython\\python-3.6.5.amd64\\lib\\site-packages\\telegram\\bot.py\", line 1975, in get_updates\n",
      "    result = self._request.post(url, data, timeout=float(read_latency) + float(timeout))\n",
      "  File \"E:\\Pista\\WinPython\\python-3.6.5.amd64\\lib\\site-packages\\telegram\\utils\\request.py\", line 309, in post\n",
      "    headers={'Content-Type': 'application/json'})\n",
      "  File \"E:\\Pista\\WinPython\\python-3.6.5.amd64\\lib\\site-packages\\telegram\\utils\\request.py\", line 231, in _request_wrapper\n",
      "    raise NetworkError('Bad Gateway')\n",
      "telegram.error.NetworkError: Bad Gateway\n"
     ]
    }
   ],
   "source": [
    "def echo(bot, update):\n",
    "    chat_id = update.message.chat_id\n",
    "    bot.send_message(\n",
    "        chat_id=chat_id, \n",
    "        text=update.message.text + f\" Chat_id = {chat_id}\"\n",
    "    )\n",
    "\n",
    "from telegram.ext import MessageHandler, Filters\n",
    "echo_handler = MessageHandler(Filters.text, echo)\n",
    "dispatcher.add_handler(echo_handler)"
   ]
  },
  {
   "cell_type": "code",
   "execution_count": null,
   "metadata": {},
   "outputs": [],
   "source": []
  },
  {
   "cell_type": "code",
   "execution_count": null,
   "metadata": {},
   "outputs": [],
   "source": []
  },
  {
   "cell_type": "code",
   "execution_count": null,
   "metadata": {},
   "outputs": [],
   "source": []
  },
  {
   "cell_type": "code",
   "execution_count": 8,
   "metadata": {},
   "outputs": [],
   "source": [
    "import  telegram\n",
    "\n",
    "bot = telegram.Bot(token='748455657:AAGh3YwB59f6KWFNYFB8rCdCNosXde0keaY')\n",
    "for u in bot.get_updates():\n",
    "    print('{}: [{}] {}'.format(u.message.date, u.message.chat_id, u.message.text))"
   ]
  },
  {
   "cell_type": "code",
   "execution_count": null,
   "metadata": {},
   "outputs": [],
   "source": []
  }
 ],
 "metadata": {
  "kernelspec": {
   "display_name": "Python 3",
   "language": "python",
   "name": "python3"
  },
  "language_info": {
   "codemirror_mode": {
    "name": "ipython",
    "version": 3
   },
   "file_extension": ".py",
   "mimetype": "text/x-python",
   "name": "python",
   "nbconvert_exporter": "python",
   "pygments_lexer": "ipython3",
   "version": "3.6.5"
  },
  "toc": {
   "base_numbering": 1,
   "nav_menu": {},
   "number_sections": true,
   "sideBar": true,
   "skip_h1_title": false,
   "title_cell": "Table of Contents",
   "title_sidebar": "Contents",
   "toc_cell": false,
   "toc_position": {},
   "toc_section_display": true,
   "toc_window_display": false
  }
 },
 "nbformat": 4,
 "nbformat_minor": 2
}

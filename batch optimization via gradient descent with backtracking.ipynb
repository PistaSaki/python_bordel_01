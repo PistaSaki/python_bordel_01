{
 "cells": [
  {
   "cell_type": "markdown",
   "metadata": {},
   "source": [
    "We use gradient descent with backtracking.\n",
    "See Nocedal, Wright: pg 37."
   ]
  },
  {
   "cell_type": "code",
   "execution_count": 1,
   "metadata": {
    "ExecuteTime": {
     "end_time": "2018-08-09T13:22:23.360459Z",
     "start_time": "2018-08-09T13:22:22.660599Z"
    }
   },
   "outputs": [],
   "source": [
    "import tensorflow as tf"
   ]
  },
  {
   "cell_type": "code",
   "execution_count": 2,
   "metadata": {
    "ExecuteTime": {
     "end_time": "2018-08-09T13:19:26.461653Z",
     "start_time": "2018-08-09T11:19:26.256Z"
    }
   },
   "outputs": [],
   "source": [
    "import numpy as np\n",
    "import numpy.random as rnd"
   ]
  },
  {
   "cell_type": "code",
   "execution_count": 3,
   "metadata": {},
   "outputs": [],
   "source": [
    "import itertools as itt"
   ]
  },
  {
   "cell_type": "code",
   "execution_count": 4,
   "metadata": {
    "ExecuteTime": {
     "end_time": "2018-08-09T13:19:26.462696Z",
     "start_time": "2018-08-09T11:19:26.258Z"
    }
   },
   "outputs": [],
   "source": [
    "import pandas as pd\n",
    "from pandas import Series, DataFrame"
   ]
  },
  {
   "cell_type": "code",
   "execution_count": 5,
   "metadata": {
    "ExecuteTime": {
     "end_time": "2018-08-09T13:19:26.463658Z",
     "start_time": "2018-08-09T11:19:26.261Z"
    }
   },
   "outputs": [],
   "source": [
    "from IPython.display import display"
   ]
  },
  {
   "cell_type": "code",
   "execution_count": 6,
   "metadata": {
    "ExecuteTime": {
     "end_time": "2018-08-09T13:19:26.463658Z",
     "start_time": "2018-08-09T11:19:26.262Z"
    }
   },
   "outputs": [],
   "source": [
    "from collections import OrderedDict"
   ]
  },
  {
   "cell_type": "code",
   "execution_count": 7,
   "metadata": {
    "ExecuteTime": {
     "end_time": "2018-08-09T13:19:26.464701Z",
     "start_time": "2018-08-09T11:19:26.264Z"
    }
   },
   "outputs": [],
   "source": [
    "import matplotlib.pyplot as pl\n",
    "%matplotlib inline"
   ]
  },
  {
   "cell_type": "markdown",
   "metadata": {},
   "source": [
    "# Define the variable and the function"
   ]
  },
  {
   "cell_type": "code",
   "execution_count": 8,
   "metadata": {
    "ExecuteTime": {
     "end_time": "2018-08-09T13:19:26.464701Z",
     "start_time": "2018-08-09T11:19:26.266Z"
    }
   },
   "outputs": [],
   "source": [
    "floatX = np.float32"
   ]
  },
  {
   "cell_type": "code",
   "execution_count": 9,
   "metadata": {
    "ExecuteTime": {
     "end_time": "2018-08-09T13:19:26.465695Z",
     "start_time": "2018-08-09T11:19:26.269Z"
    }
   },
   "outputs": [],
   "source": [
    "sess = tf.InteractiveSession()"
   ]
  },
  {
   "cell_type": "code",
   "execution_count": 10,
   "metadata": {
    "ExecuteTime": {
     "end_time": "2018-08-09T13:19:26.466697Z",
     "start_time": "2018-08-09T11:19:26.273Z"
    }
   },
   "outputs": [],
   "source": [
    "x = tf.Variable(\n",
    "    np.ones(shape = [4, 2]), \n",
    "    name = \"x\", dtype = floatX,\n",
    ")\n",
    "sess.run(x.initializer)"
   ]
  },
  {
   "cell_type": "code",
   "execution_count": 11,
   "metadata": {
    "ExecuteTime": {
     "end_time": "2018-08-09T13:19:26.466697Z",
     "start_time": "2018-08-09T11:19:26.275Z"
    }
   },
   "outputs": [],
   "source": [
    "x_min = np.array([\n",
    "    [0, 0],\n",
    "    [3, 3],\n",
    "    [3, 0],\n",
    "    [0, 3],\n",
    "], dtype = floatX)"
   ]
  },
  {
   "cell_type": "code",
   "execution_count": 12,
   "metadata": {
    "ExecuteTime": {
     "end_time": "2018-08-09T13:19:26.467700Z",
     "start_time": "2018-08-09T11:19:26.277Z"
    }
   },
   "outputs": [],
   "source": [
    "def fun(x, name = \"fun\"):\n",
    "    return tf.reduce_sum((x - x_min)**2, axis = -1, name = name)"
   ]
  },
  {
   "cell_type": "code",
   "execution_count": 13,
   "metadata": {
    "ExecuteTime": {
     "end_time": "2018-08-09T13:19:26.467700Z",
     "start_time": "2018-08-09T11:19:26.279Z"
    }
   },
   "outputs": [],
   "source": [
    "f = fun(x, name = \"f\")"
   ]
  },
  {
   "cell_type": "code",
   "execution_count": 14,
   "metadata": {
    "ExecuteTime": {
     "end_time": "2018-08-09T13:19:26.468704Z",
     "start_time": "2018-08-09T11:19:26.282Z"
    }
   },
   "outputs": [],
   "source": [
    "df = tf.gradients(f, x)[0]"
   ]
  },
  {
   "cell_type": "code",
   "execution_count": 15,
   "metadata": {
    "ExecuteTime": {
     "end_time": "2018-08-09T13:19:26.468704Z",
     "start_time": "2018-08-09T11:19:26.284Z"
    }
   },
   "outputs": [],
   "source": [
    "def plot_f_and_x(f, x, xxx = np.linspace(-5, 5, 30), yyy = None):\n",
    "    ## plot f\n",
    "    if yyy is None:\n",
    "        yyy = xxx\n",
    "        \n",
    "    N, dim = sess.run(x).shape\n",
    "    assert dim == 2\n",
    "    \n",
    "    vals = np.empty([N, len(xxx), len(yyy)])\n",
    "    for i, xx in enumerate(xxx):\n",
    "        for j, yy in enumerate(yyy):\n",
    "            vals[:, i, j] = sess.run(f, {x: np.ones([N, 1]) * [xx,yy]})\n",
    "        \n",
    "    columns = 2\n",
    "    rows = int(np.ceil(N / columns))\n",
    "    fig, axs = pl.subplots(rows, columns, figsize = [columns * 4, rows * 4])\n",
    "    \n",
    "    for val, ax in zip(vals, axs.flat):\n",
    "        ax.pcolormesh(xxx, yyy, val.T)\n",
    "        \n",
    "    ## plot x\n",
    "    for ax, xx in zip(axs.flat, sess.run(x)):\n",
    "        ax.scatter(*xx)\n",
    "\n",
    "    return axs"
   ]
  },
  {
   "cell_type": "code",
   "execution_count": 16,
   "metadata": {
    "ExecuteTime": {
     "end_time": "2018-08-09T13:19:26.469706Z",
     "start_time": "2018-08-09T11:19:26.289Z"
    }
   },
   "outputs": [
    {
     "data": {
      "text/plain": [
       "array([[<matplotlib.axes._subplots.AxesSubplot object at 0x00000254C87C20B8>,\n",
       "        <matplotlib.axes._subplots.AxesSubplot object at 0x00000254C8A565C0>],\n",
       "       [<matplotlib.axes._subplots.AxesSubplot object at 0x00000254C8A7DC50>,\n",
       "        <matplotlib.axes._subplots.AxesSubplot object at 0x00000254C8AAD320>]],\n",
       "      dtype=object)"
      ]
     },
     "execution_count": 16,
     "metadata": {},
     "output_type": "execute_result"
    },
    {
     "data": {
      "image/png": "[encoded data removed]",
      "text/plain": [
       "<Figure size 576x576 with 4 Axes>"
      ]
     },
     "metadata": {},
     "output_type": "display_data"
    }
   ],
   "source": [
    "plot_f_and_x(f, x)"
   ]
  },
  {
   "cell_type": "markdown",
   "metadata": {},
   "source": [
    "# Optimize with gradient descent"
   ]
  },
  {
   "cell_type": "code",
   "execution_count": 17,
   "metadata": {},
   "outputs": [],
   "source": [
    "from gradient_descent_with_backtracking import GragientDescentWithBacktracking"
   ]
  },
  {
   "cell_type": "code",
   "execution_count": 18,
   "metadata": {},
   "outputs": [],
   "source": [
    "optimizer = GragientDescentWithBacktracking.from_scratch(x = x, f = f, df = df, name = \"grad_desc\")\n",
    "#     optimizer.initializer = optimizer.construct_initializer(initial_step_length=1)\n",
    "#     optimizer.step_sequence = optimizer.construct_step_sequence()"
   ]
  },
  {
   "cell_type": "code",
   "execution_count": 19,
   "metadata": {},
   "outputs": [
    {
     "name": "stdout",
     "output_type": "stream",
     "text": [
      "[2. 8. 5. 5.]\n"
     ]
    }
   ],
   "source": [
    "sess.run(x.initializer)\n",
    "optimizer.run_initializer()\n",
    "print(sess.run(f))"
   ]
  },
  {
   "cell_type": "code",
   "execution_count": 20,
   "metadata": {},
   "outputs": [
    {
     "name": "stdout",
     "output_type": "stream",
     "text": [
      "[0.1715729 3.3431456 1.527864  1.527864 ]\n"
     ]
    }
   ],
   "source": [
    "optimizer.run_train_step()\n",
    "#plot_f_and_x(f, x)\n",
    "print(sess.run(f))"
   ]
  },
  {
   "cell_type": "markdown",
   "metadata": {},
   "source": [
    "### Restore the optimizer from the graph"
   ]
  },
  {
   "cell_type": "code",
   "execution_count": 21,
   "metadata": {},
   "outputs": [],
   "source": [
    "opt2 = GragientDescentWithBacktracking.find_in_graph(\"grad_desc\")"
   ]
  },
  {
   "cell_type": "code",
   "execution_count": 22,
   "metadata": {},
   "outputs": [],
   "source": [
    "opt2.run_initializer()"
   ]
  },
  {
   "cell_type": "code",
   "execution_count": 23,
   "metadata": {},
   "outputs": [
    {
     "name": "stdout",
     "output_type": "stream",
     "text": [
      "[2. 8. 5. 5.]\n"
     ]
    }
   ],
   "source": [
    "sess.run(x.initializer)\n",
    "opt2.run_initializer()\n",
    "print(sess.run(f))"
   ]
  },
  {
   "cell_type": "code",
   "execution_count": 24,
   "metadata": {},
   "outputs": [
    {
     "name": "stdout",
     "output_type": "stream",
     "text": [
      "[0.1715729 3.3431456 1.527864  1.527864 ]\n"
     ]
    }
   ],
   "source": [
    "opt2.run_train_step()\n",
    "#plot_f_and_x(f, x)\n",
    "print(sess.run(f))"
   ]
  },
  {
   "cell_type": "markdown",
   "metadata": {},
   "source": [
    "# Brute Froce"
   ]
  },
  {
   "cell_type": "code",
   "execution_count": 25,
   "metadata": {},
   "outputs": [],
   "source": [
    "from brute_force_optimization import BruteForceOptimization"
   ]
  },
  {
   "cell_type": "code",
   "execution_count": 26,
   "metadata": {},
   "outputs": [],
   "source": [
    "brute = BruteForceOptimization.from_scratch(f, x, name = \"brute\")"
   ]
  },
  {
   "cell_type": "code",
   "execution_count": 27,
   "metadata": {},
   "outputs": [
    {
     "name": "stdout",
     "output_type": "stream",
     "text": [
      "[2. 8. 5. 5.]\n",
      "[array([0., 2., 1., 1.], dtype=float32), array([[0., 0.],\n",
      "       [2., 2.],\n",
      "       [2., 0.],\n",
      "       [0., 2.]], dtype=float32)]\n"
     ]
    }
   ],
   "source": [
    "sess.run(x.initializer)\n",
    "brute.run_initializer()\n",
    "\n",
    "xxx = np.mgrid[-4:4:5j, -4:4:5j].reshape(2, -1).T\n",
    "\n",
    "print(sess.run(f))\n",
    "for x_prop in xxx:\n",
    "    brute.run_train_step(x_prop)\n",
    "print(sess.run([f, x]))\n"
   ]
  },
  {
   "cell_type": "markdown",
   "metadata": {},
   "source": [
    "### Restore the optimizer from the graph"
   ]
  },
  {
   "cell_type": "code",
   "execution_count": 28,
   "metadata": {},
   "outputs": [],
   "source": [
    "brute2 = BruteForceOptimization.find_in_graph(\"brute\")"
   ]
  },
  {
   "cell_type": "code",
   "execution_count": 29,
   "metadata": {},
   "outputs": [
    {
     "data": {
      "text/plain": [
       "<brute_force_optimization.BruteForceOptimization at 0x254c8d7b908>"
      ]
     },
     "execution_count": 29,
     "metadata": {},
     "output_type": "execute_result"
    }
   ],
   "source": [
    "brute2"
   ]
  },
  {
   "cell_type": "code",
   "execution_count": 30,
   "metadata": {},
   "outputs": [
    {
     "name": "stdout",
     "output_type": "stream",
     "text": [
      "[2. 8. 5. 5.]\n",
      "[array([0., 2., 1., 1.], dtype=float32), array([[0., 0.],\n",
      "       [2., 2.],\n",
      "       [2., 0.],\n",
      "       [0., 2.]], dtype=float32)]\n"
     ]
    }
   ],
   "source": [
    "sess.run(x.initializer)\n",
    "brute2.run_initializer()\n",
    "\n",
    "xxx = np.mgrid[-4:4:5j, -4:4:5j].reshape(2, -1).T\n",
    "\n",
    "print(sess.run(f))\n",
    "for x_prop in xxx:\n",
    "    brute2.run_train_step(x_prop)\n",
    "print(sess.run([f, x]))\n"
   ]
  },
  {
   "cell_type": "markdown",
   "metadata": {},
   "source": [
    "# Saving and restoring model with optimizers"
   ]
  },
  {
   "cell_type": "markdown",
   "metadata": {},
   "source": [
    "## Save model"
   ]
  },
  {
   "cell_type": "code",
   "execution_count": 31,
   "metadata": {},
   "outputs": [
    {
     "name": "stdout",
     "output_type": "stream",
     "text": [
      "INFO:tensorflow:No assets to save.\n",
      "INFO:tensorflow:No assets to write.\n",
      "INFO:tensorflow:SavedModel written to: D:\\data\\out_data\\tmp_bordel\\saved_model_test_01\\saved_model.pb\n"
     ]
    },
    {
     "data": {
      "text/plain": [
       "b'D:\\\\data\\\\out_data\\\\tmp_bordel\\\\saved_model_test_01\\\\saved_model.pb'"
      ]
     },
     "execution_count": 31,
     "metadata": {},
     "output_type": "execute_result"
    }
   ],
   "source": [
    "out_dir = r\"D:\\data\\out_data\\tmp_bordel\\saved_model_test_01\"\n",
    "builder = tf.saved_model.builder.SavedModelBuilder(out_dir)\n",
    "builder.add_meta_graph_and_variables(sess, tags = [tf.saved_model.tag_constants.SERVING])\n",
    "builder.save()"
   ]
  },
  {
   "cell_type": "markdown",
   "metadata": {},
   "source": [
    "## Load"
   ]
  },
  {
   "cell_type": "code",
   "execution_count": 32,
   "metadata": {},
   "outputs": [],
   "source": [
    "tf.reset_default_graph()\n",
    "\n",
    "sess.close()\n",
    "sess = tf.InteractiveSession()"
   ]
  },
  {
   "cell_type": "code",
   "execution_count": 33,
   "metadata": {},
   "outputs": [
    {
     "name": "stdout",
     "output_type": "stream",
     "text": [
      "INFO:tensorflow:Restoring parameters from D:\\data\\out_data\\tmp_bordel\\saved_model_test_01\\variables\\variables\n"
     ]
    }
   ],
   "source": [
    "tf.saved_model.loader.load(sess, tags = [tf.saved_model.tag_constants.SERVING], export_dir=out_dir);"
   ]
  },
  {
   "cell_type": "markdown",
   "metadata": {},
   "source": [
    "## Find model in loaded graph"
   ]
  },
  {
   "cell_type": "code",
   "execution_count": 34,
   "metadata": {},
   "outputs": [],
   "source": [
    "gr = tf.get_default_graph()\n",
    "\n",
    "x = gr.get_tensor_by_name(\"x:0\")\n",
    "x.initializer = gr.get_operation_by_name(\"x/Assign\")\n",
    "\n",
    "f = gr.get_tensor_by_name(\"f:0\")"
   ]
  },
  {
   "cell_type": "code",
   "execution_count": 35,
   "metadata": {},
   "outputs": [],
   "source": [
    "brute = BruteForceOptimization.find_in_graph(\"brute\")"
   ]
  },
  {
   "cell_type": "code",
   "execution_count": 36,
   "metadata": {},
   "outputs": [],
   "source": [
    "grad_desc = GragientDescentWithBacktracking.find_in_graph(\"grad_desc\")"
   ]
  },
  {
   "cell_type": "markdown",
   "metadata": {},
   "source": [
    "## Run it"
   ]
  },
  {
   "cell_type": "code",
   "execution_count": 37,
   "metadata": {},
   "outputs": [
    {
     "data": {
      "text/plain": [
       "array([2., 8., 5., 5.], dtype=float32)"
      ]
     },
     "execution_count": 37,
     "metadata": {},
     "output_type": "execute_result"
    }
   ],
   "source": [
    "sess.run(x.initializer)\n",
    "sess.run(f)"
   ]
  },
  {
   "cell_type": "code",
   "execution_count": 38,
   "metadata": {},
   "outputs": [
    {
     "name": "stdout",
     "output_type": "stream",
     "text": [
      "[0. 2. 1. 1.]\n"
     ]
    }
   ],
   "source": [
    "## Brute optimization\n",
    "brute.run_initializer()\n",
    "for x_prop in xxx:\n",
    "    brute.run_train_step(x_prop)\n",
    "    \n",
    "print(sess.run(f))"
   ]
  },
  {
   "cell_type": "code",
   "execution_count": 39,
   "metadata": {},
   "outputs": [
    {
     "name": "stdout",
     "output_type": "stream",
     "text": [
      "[0.000000e+00 5.858169e-09 0.000000e+00 0.000000e+00]\n"
     ]
    }
   ],
   "source": [
    "## Gradient descent\n",
    "grad_desc.run_initializer()\n",
    "for i in range(20):\n",
    "    grad_desc.run_train_step()\n",
    "   \n",
    "print(sess.run(f))"
   ]
  },
  {
   "cell_type": "code",
   "execution_count": 53,
   "metadata": {},
   "outputs": [
    {
     "data": {
      "text/plain": [
       "'serve'"
      ]
     },
     "execution_count": 53,
     "metadata": {},
     "output_type": "execute_result"
    }
   ],
   "source": [
    "tf.saved_model.tag_constants.SERVING"
   ]
  },
  {
   "cell_type": "code",
   "execution_count": null,
   "metadata": {},
   "outputs": [],
   "source": []
  }
 ],
 "metadata": {
  "kernelspec": {
   "display_name": "Python 3",
   "language": "python",
   "name": "python3"
  },
  "language_info": {
   "codemirror_mode": {
    "name": "ipython",
    "version": 3
   },
   "file_extension": ".py",
   "mimetype": "text/x-python",
   "name": "python",
   "nbconvert_exporter": "python",
   "pygments_lexer": "ipython3",
   "version": "3.7.0"
  },
  "toc": {
   "colors": {
    "hover_highlight": "#DAA520",
    "navigate_num": "#000000",
    "navigate_text": "#400040",
    "running_highlight": "#FF0000",
    "selected_highlight": "#FFD700",
    "sidebar_border": "#000000",
    "wrapper_background": "#ffffff"
   },
   "moveMenuLeft": true,
   "nav_menu": {
    "height": "12px",
    "width": "252px"
   },
   "navigate_menu": true,
   "number_sections": true,
   "sideBar": true,
   "threshold": 4,
   "toc_cell": false,
   "toc_section_display": "block",
   "toc_window_display": false,
   "widenNotebook": false
  }
 },
 "nbformat": 4,
 "nbformat_minor": 2
}

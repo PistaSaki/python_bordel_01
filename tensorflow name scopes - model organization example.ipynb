{
 "cells": [
  {
   "cell_type": "code",
   "execution_count": 1,
   "metadata": {
    "ExecuteTime": {
     "end_time": "2018-07-30T14:45:35.897694Z",
     "start_time": "2018-07-30T14:45:34.396662Z"
    }
   },
   "outputs": [],
   "source": [
    "import tensorflow as tf"
   ]
  },
  {
   "cell_type": "code",
   "execution_count": 2,
   "metadata": {
    "ExecuteTime": {
     "end_time": "2018-07-30T14:45:35.900686Z",
     "start_time": "2018-07-30T14:45:35.898681Z"
    }
   },
   "outputs": [],
   "source": [
    "import numpy as np\n",
    "import numpy.random as rnd"
   ]
  },
  {
   "cell_type": "code",
   "execution_count": null,
   "metadata": {},
   "outputs": [],
   "source": []
  },
  {
   "cell_type": "code",
   "execution_count": 3,
   "metadata": {
    "ExecuteTime": {
     "end_time": "2018-07-30T14:45:36.352155Z",
     "start_time": "2018-07-30T14:45:35.901675Z"
    }
   },
   "outputs": [],
   "source": [
    "import matplotlib.pyplot as pl\n",
    "%matplotlib inline"
   ]
  },
  {
   "cell_type": "code",
   "execution_count": 4,
   "metadata": {
    "ExecuteTime": {
     "end_time": "2018-07-30T14:45:36.356217Z",
     "start_time": "2018-07-30T14:45:36.353158Z"
    }
   },
   "outputs": [],
   "source": [
    "floatX = np.float32"
   ]
  },
  {
   "cell_type": "code",
   "execution_count": 5,
   "metadata": {
    "ExecuteTime": {
     "end_time": "2018-07-30T14:45:36.462593Z",
     "start_time": "2018-07-30T14:45:36.357170Z"
    }
   },
   "outputs": [],
   "source": [
    "sess = tf.InteractiveSession()"
   ]
  },
  {
   "cell_type": "code",
   "execution_count": 6,
   "metadata": {
    "ExecuteTime": {
     "end_time": "2018-07-30T14:45:36.538918Z",
     "start_time": "2018-07-30T14:45:36.463636Z"
    }
   },
   "outputs": [],
   "source": [
    "import os"
   ]
  },
  {
   "cell_type": "code",
   "execution_count": 7,
   "metadata": {
    "ExecuteTime": {
     "end_time": "2018-07-30T14:45:36.631281Z",
     "start_time": "2018-07-30T14:45:36.539733Z"
    }
   },
   "outputs": [],
   "source": [
    "xx1 = tf.Variable(\n",
    "    initial_value = tf.random_normal([10]), \n",
    "    validate_shape = False, \n",
    "    dtype = floatX, \n",
    "    name = \"xx\"\n",
    ")\n",
    "xx1.set_shape([None])"
   ]
  },
  {
   "cell_type": "code",
   "execution_count": 8,
   "metadata": {
    "ExecuteTime": {
     "end_time": "2018-07-30T14:45:36.709821Z",
     "start_time": "2018-07-30T14:45:36.632236Z"
    }
   },
   "outputs": [],
   "source": [
    "xx2 = tf.Variable(\n",
    "    initial_value = tf.random_normal([10]), \n",
    "    validate_shape = False, \n",
    "    dtype = floatX, \n",
    "    name = \"xx\"\n",
    ")\n",
    "xx2.set_shape([None])"
   ]
  },
  {
   "cell_type": "markdown",
   "metadata": {},
   "source": [
    "# Model organization 01"
   ]
  },
  {
   "cell_type": "code",
   "execution_count": null,
   "metadata": {},
   "outputs": [],
   "source": []
  },
  {
   "cell_type": "code",
   "execution_count": 9,
   "metadata": {
    "ExecuteTime": {
     "end_time": "2018-07-30T14:45:36.793866Z",
     "start_time": "2018-07-30T14:45:36.710631Z"
    }
   },
   "outputs": [],
   "source": [
    "class AffineModel_01:\n",
    "    def __init__(self, name):\n",
    "        self.name = name\n",
    "        with tf.variable_scope(name):\n",
    "            self.a = tf.get_variable(name = \"a\", dtype = floatX, initializer = 1.0)\n",
    "            self.b = tf.get_variable(name = \"b\", dtype = floatX, initializer = 0.0)\n",
    "\n",
    "    def predict(self, x, name):\n",
    "        a, b = self.a, self.b\n",
    "        with tf.variable_scope(name):\n",
    "            x = tf.identity(x, name= \"x\")\n",
    "            linear_part = tf.multiply(a, x, \"linear_part\")\n",
    "            y = tf.identity(linear_part + b, \"y\")\n",
    "            return y\n",
    "        \n",
    "    def plot_calculation(self, y, feed_dict = None):\n",
    "        scope = os.path.split(y.name)[0]\n",
    "        graph = y.graph\n",
    "        x = graph.get_tensor_by_name(scope + \"/x:0\")\n",
    "        xxx, yyy = sess.run([x, y], feed_dict)\n",
    "        \n",
    "        pl.scatter(xxx, yyy)\n",
    "\n",
    "        "
   ]
  },
  {
   "cell_type": "code",
   "execution_count": 10,
   "metadata": {
    "ExecuteTime": {
     "end_time": "2018-07-30T14:45:36.883704Z",
     "start_time": "2018-07-30T14:45:36.794868Z"
    }
   },
   "outputs": [],
   "source": [
    "model = AffineModel_01(\"affine_model_01\")"
   ]
  },
  {
   "cell_type": "code",
   "execution_count": 11,
   "metadata": {
    "ExecuteTime": {
     "end_time": "2018-07-30T14:45:36.967984Z",
     "start_time": "2018-07-30T14:45:36.884678Z"
    }
   },
   "outputs": [],
   "source": [
    "yy1 = model.predict(x = xx1, name = \"prediction\")\n",
    "yy2 = model.predict(x = xx2, name = \"prediction\")"
   ]
  },
  {
   "cell_type": "code",
   "execution_count": 12,
   "metadata": {
    "ExecuteTime": {
     "end_time": "2018-07-30T14:45:37.057322Z",
     "start_time": "2018-07-30T14:45:36.968989Z"
    }
   },
   "outputs": [],
   "source": [
    "sess.run(tf.global_variables_initializer())"
   ]
  },
  {
   "cell_type": "code",
   "execution_count": 13,
   "metadata": {
    "ExecuteTime": {
     "end_time": "2018-07-30T14:45:37.249687Z",
     "start_time": "2018-07-30T14:45:37.058291Z"
    }
   },
   "outputs": [
    {
     "data": {
      "image/png": "[encoded data removed]",
      "text/plain": [
       "<matplotlib.figure.Figure at 0x1c6c22fb940>"
      ]
     },
     "metadata": {},
     "output_type": "display_data"
    }
   ],
   "source": [
    "model.plot_calculation(yy1)"
   ]
  },
  {
   "cell_type": "markdown",
   "metadata": {},
   "source": [
    "# Model organization 02"
   ]
  },
  {
   "cell_type": "code",
   "execution_count": 14,
   "metadata": {
    "ExecuteTime": {
     "end_time": "2018-07-30T14:45:37.253697Z",
     "start_time": "2018-07-30T14:45:37.250658Z"
    }
   },
   "outputs": [],
   "source": [
    "import types"
   ]
  },
  {
   "cell_type": "code",
   "execution_count": 15,
   "metadata": {
    "ExecuteTime": {
     "end_time": "2018-07-30T14:45:37.348433Z",
     "start_time": "2018-07-30T14:45:37.254692Z"
    }
   },
   "outputs": [],
   "source": [
    "class AffineModel_02:\n",
    "    instance_counter = 0\n",
    "    \n",
    "    def __init__(self, name = None):\n",
    "        self.__class__.instance_counter += 1\n",
    "        self.piname = \"{}_instance{}\".format(\n",
    "                self.__class__.__name__,\n",
    "                self.__class__.instance_counter,\n",
    "            )               \n",
    "        if name is None:\n",
    "            name = self.piname\n",
    "            \n",
    "        self.call_counter = 0\n",
    "            \n",
    "        with tf.variable_scope(name) as scope:\n",
    "            self.name = scope.name\n",
    "            self.a = tf.get_variable(name = \"a\", dtype = floatX, initializer = 1.0)\n",
    "            self.b = tf.get_variable(name = \"b\", dtype = floatX, initializer = 0.0)\n",
    "            \n",
    "\n",
    "    def __call__(self, x, name = None):\n",
    "        self.call_counter += 1\n",
    "        if name is None:\n",
    "            name = \"{}_call{}\".format(\n",
    "                self.piname,\n",
    "                self.call_counter\n",
    "            )\n",
    "        a, b = self.a, self.b\n",
    "        with tf.variable_scope(name) as scope:\n",
    "            x = tf.identity(x, name= \"x\")\n",
    "            linear_part = tf.multiply(a, x, \"linear_part\")\n",
    "            y = tf.identity(linear_part + b, \"y\")\n",
    "            \n",
    "            y.piplot = lambda feed_dict = None: self.plot_calculation(x, y, feed_dict)\n",
    "            \n",
    "            return y\n",
    "        \n",
    "    def plot_calculation(box, x, y, feed_dict = None):\n",
    "        xxx, yyy = sess.run([x, y], feed_dict)\n",
    "        \n",
    "        pl.scatter(xxx, yyy)\n",
    "\n",
    "        "
   ]
  },
  {
   "cell_type": "code",
   "execution_count": 16,
   "metadata": {
    "ExecuteTime": {
     "end_time": "2018-07-30T14:45:37.433039Z",
     "start_time": "2018-07-30T14:45:37.349893Z"
    }
   },
   "outputs": [],
   "source": [
    "model = AffineModel_02()"
   ]
  },
  {
   "cell_type": "code",
   "execution_count": 17,
   "metadata": {
    "ExecuteTime": {
     "end_time": "2018-07-30T14:45:37.524112Z",
     "start_time": "2018-07-30T14:45:37.433829Z"
    }
   },
   "outputs": [],
   "source": [
    "yy1 = model(x = xx1, name = \"prediction\")\n",
    "yy2 = model(x = xx2, name = \"prediction\")"
   ]
  },
  {
   "cell_type": "code",
   "execution_count": 18,
   "metadata": {
    "ExecuteTime": {
     "end_time": "2018-07-30T14:45:37.621841Z",
     "start_time": "2018-07-30T14:45:37.525116Z"
    }
   },
   "outputs": [],
   "source": [
    "sess.run(tf.global_variables_initializer())"
   ]
  },
  {
   "cell_type": "code",
   "execution_count": 19,
   "metadata": {
    "ExecuteTime": {
     "end_time": "2018-07-30T14:45:37.792497Z",
     "start_time": "2018-07-30T14:45:37.622709Z"
    }
   },
   "outputs": [
    {
     "data": {
      "image/png": "[encoded data removed]",
      "text/plain": [
       "<matplotlib.figure.Figure at 0x1c6c25e7898>"
      ]
     },
     "metadata": {},
     "output_type": "display_data"
    }
   ],
   "source": [
    "yy1.piplot()"
   ]
  },
  {
   "cell_type": "markdown",
   "metadata": {},
   "source": [
    "# Model organization 01"
   ]
  },
  {
   "cell_type": "code",
   "execution_count": 20,
   "metadata": {
    "ExecuteTime": {
     "end_time": "2018-07-30T14:45:37.796483Z",
     "start_time": "2018-07-30T14:45:37.793484Z"
    }
   },
   "outputs": [],
   "source": [
    "import functools\n",
    "from functools import wraps"
   ]
  },
  {
   "cell_type": "code",
   "execution_count": 21,
   "metadata": {
    "ExecuteTime": {
     "end_time": "2018-07-30T14:45:37.889241Z",
     "start_time": "2018-07-30T14:45:37.797500Z"
    }
   },
   "outputs": [],
   "source": [
    "def namescope_method(fun):\n",
    "    @wraps(fun)\n",
    "    def wrapped(self, *args, **kwargs):\n",
    "        name = \"{}.{}\".format(self.name, fun.__name__)\n",
    "        with tf.name_scope(name):\n",
    "            return fun(self, *args, **kwargs)\n",
    "    return wrapped"
   ]
  },
  {
   "cell_type": "code",
   "execution_count": 22,
   "metadata": {
    "ExecuteTime": {
     "end_time": "2018-07-30T14:45:37.974376Z",
     "start_time": "2018-07-30T14:45:37.891210Z"
    }
   },
   "outputs": [],
   "source": [
    "class AffineModel_03:\n",
    "    def __init__(self, name):\n",
    "        self.name = name\n",
    "        with tf.variable_scope(name):\n",
    "            self.a = tf.get_variable(name = \"a\", dtype = floatX, initializer = 1.0)\n",
    "            self.b = tf.get_variable(name = \"b\", dtype = floatX, initializer = 0.0)\n",
    "\n",
    "    @namescope_method\n",
    "    def predict(self, x):\n",
    "        a, b = self.a, self.b\n",
    "        x = tf.identity(x, name= \"x\")\n",
    "        linear_part = tf.multiply(a, x, \"linear_part\")\n",
    "        y = tf.identity(linear_part + b, \"y\")\n",
    "\n",
    "        y.piplot = lambda feed_dict = None: self.plot_calculation(x, y, feed_dict)\n",
    "\n",
    "        return y\n",
    "        \n",
    "    def plot_calculation(box, x, y, feed_dict = None):\n",
    "        xxx, yyy = sess.run([x, y], feed_dict)\n",
    "        \n",
    "        pl.scatter(xxx, yyy)\n",
    "        "
   ]
  },
  {
   "cell_type": "code",
   "execution_count": 23,
   "metadata": {
    "ExecuteTime": {
     "end_time": "2018-07-30T14:45:38.071392Z",
     "start_time": "2018-07-30T14:45:37.975293Z"
    }
   },
   "outputs": [],
   "source": [
    "model = AffineModel_03(\"affine_model_03\")"
   ]
  },
  {
   "cell_type": "code",
   "execution_count": 24,
   "metadata": {
    "ExecuteTime": {
     "end_time": "2018-07-30T14:45:38.163158Z",
     "start_time": "2018-07-30T14:45:38.072219Z"
    }
   },
   "outputs": [],
   "source": [
    "yy1 = model.predict(x = xx1)\n",
    "yy2 = model.predict(x = xx2)"
   ]
  },
  {
   "cell_type": "code",
   "execution_count": 25,
   "metadata": {
    "ExecuteTime": {
     "end_time": "2018-07-30T14:45:38.249524Z",
     "start_time": "2018-07-30T14:45:38.164869Z"
    }
   },
   "outputs": [],
   "source": [
    "sess.run(tf.global_variables_initializer())"
   ]
  },
  {
   "cell_type": "code",
   "execution_count": 26,
   "metadata": {
    "ExecuteTime": {
     "end_time": "2018-07-30T14:45:38.424683Z",
     "start_time": "2018-07-30T14:45:38.250546Z"
    }
   },
   "outputs": [
    {
     "data": {
      "image/png": "[encoded data removed]",
      "text/plain": [
       "<matplotlib.figure.Figure at 0x1c6c266c978>"
      ]
     },
     "metadata": {},
     "output_type": "display_data"
    }
   ],
   "source": [
    "yy1.piplot()"
   ]
  },
  {
   "cell_type": "markdown",
   "metadata": {},
   "source": [
    "### Tensorboard"
   ]
  },
  {
   "cell_type": "code",
   "execution_count": 27,
   "metadata": {
    "ExecuteTime": {
     "end_time": "2018-07-30T14:45:38.429697Z",
     "start_time": "2018-07-30T14:45:38.425654Z"
    }
   },
   "outputs": [
    {
     "data": {
      "text/plain": [
       "'D:\\\\python_source\\\\data\\\\bordel\\\\tesorboard_test_01'"
      ]
     },
     "execution_count": 27,
     "metadata": {},
     "output_type": "execute_result"
    }
   ],
   "source": [
    "tb_dir = r\"D:\\python_source\\data\\bordel\\tesorboard_test_01\"\n",
    "tb_dir "
   ]
  },
  {
   "cell_type": "code",
   "execution_count": 28,
   "metadata": {
    "ExecuteTime": {
     "end_time": "2018-07-30T14:45:38.668568Z",
     "start_time": "2018-07-30T14:45:38.430667Z"
    }
   },
   "outputs": [],
   "source": [
    "tb_writer = tf.summary.FileWriter(tb_dir)\n",
    "tb_writer.add_graph(tf.get_default_graph())"
   ]
  },
  {
   "cell_type": "markdown",
   "metadata": {},
   "source": [
    "# Bordel"
   ]
  },
  {
   "cell_type": "markdown",
   "metadata": {},
   "source": [
    "#### Class Descriptors"
   ]
  },
  {
   "cell_type": "code",
   "execution_count": 28,
   "metadata": {
    "ExecuteTime": {
     "end_time": "2018-07-30T11:32:37.413123Z",
     "start_time": "2018-07-30T11:32:37.409079Z"
    }
   },
   "outputs": [],
   "source": [
    "class SampleDescriptor:\n",
    "    def __init__(self, name):\n",
    "        self.name = name\n",
    "        \n",
    "    def __get__(self, obj, objtype):\n",
    "        return \"Descriptor {} of obj = {}, objtype = {}\".format(\n",
    "            self.name, obj, objtype)\n",
    "            "
   ]
  },
  {
   "cell_type": "code",
   "execution_count": 29,
   "metadata": {
    "ExecuteTime": {
     "end_time": "2018-07-30T11:32:37.877215Z",
     "start_time": "2018-07-30T11:32:37.873203Z"
    }
   },
   "outputs": [],
   "source": [
    "class A:\n",
    "    x = SampleDescriptor(name = \"class_property_x\" )\n",
    "    \n",
    "    def __init__(self, name):\n",
    "        self.name = name\n",
    "        self.y = SampleDescriptor(name = \"instance_property_y\")\n",
    "        \n",
    "    def __str__(self):\n",
    "        return self.name"
   ]
  },
  {
   "cell_type": "code",
   "execution_count": 139,
   "metadata": {
    "ExecuteTime": {
     "end_time": "2018-07-30T14:03:47.718285Z",
     "start_time": "2018-07-30T14:03:47.715311Z"
    }
   },
   "outputs": [],
   "source": [
    "class B(A):\n",
    "    pass"
   ]
  },
  {
   "cell_type": "code",
   "execution_count": 30,
   "metadata": {
    "ExecuteTime": {
     "end_time": "2018-07-30T11:32:38.300451Z",
     "start_time": "2018-07-30T11:32:38.297444Z"
    }
   },
   "outputs": [],
   "source": [
    "a = A(\"a\")"
   ]
  },
  {
   "cell_type": "code",
   "execution_count": 31,
   "metadata": {
    "ExecuteTime": {
     "end_time": "2018-07-30T11:32:38.725026Z",
     "start_time": "2018-07-30T11:32:38.722017Z"
    }
   },
   "outputs": [
    {
     "data": {
      "text/plain": [
       "\"Descriptor class_property_x of obj = a, objtype = <class '__main__.A'>\""
      ]
     },
     "execution_count": 31,
     "metadata": {},
     "output_type": "execute_result"
    }
   ],
   "source": [
    "a.x"
   ]
  },
  {
   "cell_type": "code",
   "execution_count": 33,
   "metadata": {
    "ExecuteTime": {
     "end_time": "2018-07-30T11:33:02.012902Z",
     "start_time": "2018-07-30T11:33:02.008880Z"
    }
   },
   "outputs": [
    {
     "data": {
      "text/plain": [
       "\"Descriptor class_property_x of obj = None, objtype = <class '__main__.A'>\""
      ]
     },
     "execution_count": 33,
     "metadata": {},
     "output_type": "execute_result"
    }
   ],
   "source": [
    "A.x"
   ]
  },
  {
   "cell_type": "code",
   "execution_count": 34,
   "metadata": {
    "ExecuteTime": {
     "end_time": "2018-07-30T12:50:23.252882Z",
     "start_time": "2018-07-30T12:50:23.249878Z"
    }
   },
   "outputs": [
    {
     "data": {
      "text/plain": [
       "<__main__.SampleDescriptor at 0x216c66d40b8>"
      ]
     },
     "execution_count": 34,
     "metadata": {},
     "output_type": "execute_result"
    }
   ],
   "source": [
    "a.y"
   ]
  },
  {
   "cell_type": "code",
   "execution_count": 35,
   "metadata": {
    "ExecuteTime": {
     "end_time": "2018-07-30T12:50:28.834524Z",
     "start_time": "2018-07-30T12:50:28.825485Z"
    }
   },
   "outputs": [
    {
     "ename": "AttributeError",
     "evalue": "type object 'A' has no attribute 'y'",
     "output_type": "error",
     "traceback": [
      "\u001b[1;31m---------------------------------------------------------------------------\u001b[0m",
      "\u001b[1;31mAttributeError\u001b[0m                            Traceback (most recent call last)",
      "\u001b[1;32m<ipython-input-35-579fd00f727b>\u001b[0m in \u001b[0;36m<module>\u001b[1;34m()\u001b[0m\n\u001b[1;32m----> 1\u001b[1;33m \u001b[0mA\u001b[0m\u001b[1;33m.\u001b[0m\u001b[0my\u001b[0m\u001b[1;33m\u001b[0m\u001b[0m\n\u001b[0m",
      "\u001b[1;31mAttributeError\u001b[0m: type object 'A' has no attribute 'y'"
     ]
    }
   ],
   "source": [
    "A.y"
   ]
  },
  {
   "cell_type": "code",
   "execution_count": 141,
   "metadata": {
    "ExecuteTime": {
     "end_time": "2018-07-30T14:04:10.372657Z",
     "start_time": "2018-07-30T14:04:10.370653Z"
    }
   },
   "outputs": [],
   "source": [
    "b = B(\"b\")"
   ]
  },
  {
   "cell_type": "code",
   "execution_count": 142,
   "metadata": {
    "ExecuteTime": {
     "end_time": "2018-07-30T14:04:20.022290Z",
     "start_time": "2018-07-30T14:04:20.018280Z"
    }
   },
   "outputs": [
    {
     "data": {
      "text/plain": [
       "\"Descriptor class_property_x of obj = b, objtype = <class '__main__.B'>\""
      ]
     },
     "execution_count": 142,
     "metadata": {},
     "output_type": "execute_result"
    }
   ],
   "source": [
    "b.x"
   ]
  },
  {
   "cell_type": "markdown",
   "metadata": {},
   "source": [
    "#### Muslitple inheritance"
   ]
  },
  {
   "cell_type": "code",
   "execution_count": 39,
   "metadata": {
    "ExecuteTime": {
     "end_time": "2018-07-30T13:02:50.734827Z",
     "start_time": "2018-07-30T13:02:50.717769Z"
    }
   },
   "outputs": [
    {
     "name": "stdout",
     "output_type": "stream",
     "text": [
      "first\n",
      "that's it\n"
     ]
    },
    {
     "data": {
      "text/plain": [
       "<__main__.Third at 0x216c538ba20>"
      ]
     },
     "execution_count": 39,
     "metadata": {},
     "output_type": "execute_result"
    }
   ],
   "source": [
    "class First(object):\n",
    "    def __init__(self):\n",
    "        print(\"first\")\n",
    "\n",
    "class Second(object):\n",
    "    def __init__(self):\n",
    "        print(\"second\")\n",
    "\n",
    "class Third(First, Second):\n",
    "    def __init__(self):\n",
    "        super(Third, self).__init__()\n",
    "        print(\"that's it\")\n",
    "        \n",
    "Third()"
   ]
  },
  {
   "cell_type": "markdown",
   "metadata": {},
   "source": [
    "#### Try automatic counting of class instances"
   ]
  },
  {
   "cell_type": "code",
   "execution_count": 87,
   "metadata": {
    "ExecuteTime": {
     "end_time": "2018-07-30T13:33:53.045730Z",
     "start_time": "2018-07-30T13:33:53.040673Z"
    }
   },
   "outputs": [],
   "source": [
    "class NoofInstancesDescriptor:\n",
    "    def __get__(self, obj, cls):\n",
    "        if \"_noof_instances\" not in cls.__dict__:\n",
    "            cls._noof_instances = 0\n",
    "            \n",
    "        return cls._noof_instances\n",
    "    \n",
    "        "
   ]
  },
  {
   "cell_type": "code",
   "execution_count": 137,
   "metadata": {
    "ExecuteTime": {
     "end_time": "2018-07-30T13:55:25.809774Z",
     "start_time": "2018-07-30T13:55:25.804760Z"
    }
   },
   "outputs": [],
   "source": [
    "def counted_class(clazz):\n",
    "#    @wraps(clazz)\n",
    "    class NewCls(clazz):\n",
    "    #clazz.noof_instances = NoofInstancesDescriptor()\n",
    "        _noof_instances = 0\n",
    "\n",
    "        @wraps(clazz.__init__)\n",
    "        def __init__(self, *args, **kwargs):\n",
    "            self.__class__._noof_instances +=1\n",
    "            clazz.__init__(self, *args, **kwargs)\n",
    "\n",
    "    functools.update_wrapper(NewCls, clazz)\n",
    "    return NewCls"
   ]
  },
  {
   "cell_type": "code",
   "execution_count": 144,
   "metadata": {
    "ExecuteTime": {
     "end_time": "2018-07-30T14:06:13.684926Z",
     "start_time": "2018-07-30T14:06:13.681918Z"
    }
   },
   "outputs": [],
   "source": [
    "class CountedClass:\n",
    "    noof_instances = NoofInstancesDescriptor()"
   ]
  },
  {
   "cell_type": "markdown",
   "metadata": {},
   "source": [
    "#### Prepare code to use in main article"
   ]
  },
  {
   "cell_type": "code",
   "execution_count": 136,
   "metadata": {
    "ExecuteTime": {
     "end_time": "2018-07-30T13:54:46.438848Z",
     "start_time": "2018-07-30T13:54:46.436842Z"
    }
   },
   "outputs": [],
   "source": [
    "import functools\n",
    "from functools import wraps"
   ]
  },
  {
   "cell_type": "code",
   "execution_count": 15,
   "metadata": {
    "ExecuteTime": {
     "end_time": "2018-07-30T09:58:17.190246Z",
     "start_time": "2018-07-30T09:58:17.186235Z"
    }
   },
   "outputs": [],
   "source": [
    "def namescope_method(fun):\n",
    "    @wraps(fun)\n",
    "    def wrapped(self, *args, **kwargs):\n",
    "        name = \"{}.{}\".format(self.name, fun.__name__)\n",
    "        with tf.name_scope(name):\n",
    "            return fun(self, *args, **kwargs)\n",
    "    return wrapped"
   ]
  },
  {
   "cell_type": "code",
   "execution_count": 150,
   "metadata": {
    "ExecuteTime": {
     "end_time": "2018-07-30T14:13:17.791492Z",
     "start_time": "2018-07-30T14:13:17.785476Z"
    }
   },
   "outputs": [],
   "source": [
    "class C:\n",
    "    \"\"\"\n",
    "    This is docstring of class `C`.\n",
    "    \"\"\"\n",
    "    noof_instances = 0\n",
    "    def __init__(self, name = None):\n",
    "        self.__class__.noof_instances += 1\n",
    "        if name is None:\n",
    "            name = \"inst_{}_of_{}\".format(\n",
    "                self.__class__.noof_instances, self.__class__.__name__\n",
    "            )\n",
    "        \n",
    "        self.name = name\n",
    "     \n",
    "    @namescope_method\n",
    "    def f(self, x):\n",
    "        y = tf.identity(x + 1, \"y\")\n",
    "        return y"
   ]
  },
  {
   "cell_type": "code",
   "execution_count": 151,
   "metadata": {
    "ExecuteTime": {
     "end_time": "2018-07-30T14:13:19.652036Z",
     "start_time": "2018-07-30T14:13:19.649028Z"
    }
   },
   "outputs": [
    {
     "data": {
      "text/plain": [
       "0"
      ]
     },
     "execution_count": 151,
     "metadata": {},
     "output_type": "execute_result"
    }
   ],
   "source": [
    "C.noof_instances"
   ]
  },
  {
   "cell_type": "code",
   "execution_count": 152,
   "metadata": {
    "ExecuteTime": {
     "end_time": "2018-07-30T14:13:20.939247Z",
     "start_time": "2018-07-30T14:13:20.936223Z"
    }
   },
   "outputs": [],
   "source": [
    "c0 = C()"
   ]
  },
  {
   "cell_type": "code",
   "execution_count": 156,
   "metadata": {
    "ExecuteTime": {
     "end_time": "2018-07-30T14:14:00.693598Z",
     "start_time": "2018-07-30T14:14:00.689577Z"
    }
   },
   "outputs": [
    {
     "data": {
      "text/plain": [
       "'inst_1_of_C'"
      ]
     },
     "execution_count": 156,
     "metadata": {},
     "output_type": "execute_result"
    }
   ],
   "source": [
    "c0.name"
   ]
  },
  {
   "cell_type": "code",
   "execution_count": 154,
   "metadata": {
    "ExecuteTime": {
     "end_time": "2018-07-30T14:13:37.076587Z",
     "start_time": "2018-07-30T14:13:37.072531Z"
    }
   },
   "outputs": [
    {
     "data": {
      "text/plain": [
       "1"
      ]
     },
     "execution_count": 154,
     "metadata": {},
     "output_type": "execute_result"
    }
   ],
   "source": [
    "C.noof_instances"
   ]
  },
  {
   "cell_type": "code",
   "execution_count": 155,
   "metadata": {
    "ExecuteTime": {
     "end_time": "2018-07-30T14:13:41.973100Z",
     "start_time": "2018-07-30T14:13:41.969054Z"
    }
   },
   "outputs": [
    {
     "data": {
      "text/plain": [
       "2"
      ]
     },
     "execution_count": 155,
     "metadata": {},
     "output_type": "execute_result"
    }
   ],
   "source": [
    "c1 = C(\"Adriana\")\n",
    "C.noof_instances"
   ]
  },
  {
   "cell_type": "code",
   "execution_count": 135,
   "metadata": {
    "ExecuteTime": {
     "end_time": "2018-07-30T13:52:04.903691Z",
     "start_time": "2018-07-30T13:52:04.901685Z"
    }
   },
   "outputs": [],
   "source": [
    "C.__doc__"
   ]
  },
  {
   "cell_type": "code",
   "execution_count": 125,
   "metadata": {
    "ExecuteTime": {
     "end_time": "2018-07-30T13:50:00.816669Z",
     "start_time": "2018-07-30T13:50:00.812689Z"
    }
   },
   "outputs": [
    {
     "data": {
      "text/plain": [
       "__main__.counted_class.<locals>.NewCls"
      ]
     },
     "execution_count": 125,
     "metadata": {},
     "output_type": "execute_result"
    }
   ],
   "source": [
    "C"
   ]
  },
  {
   "cell_type": "code",
   "execution_count": 66,
   "metadata": {
    "ExecuteTime": {
     "end_time": "2018-07-30T13:23:36.259990Z",
     "start_time": "2018-07-30T13:23:36.256981Z"
    }
   },
   "outputs": [
    {
     "data": {
      "text/plain": [
       "1"
      ]
     },
     "execution_count": 66,
     "metadata": {},
     "output_type": "execute_result"
    }
   ],
   "source": [
    "C.noof_instances"
   ]
  },
  {
   "cell_type": "code",
   "execution_count": 70,
   "metadata": {
    "ExecuteTime": {
     "end_time": "2018-07-30T13:27:58.746721Z",
     "start_time": "2018-07-30T13:27:58.737666Z"
    }
   },
   "outputs": [
    {
     "ename": "AttributeError",
     "evalue": "'C' object has no attribute 'name'",
     "output_type": "error",
     "traceback": [
      "\u001b[1;31m---------------------------------------------------------------------------\u001b[0m",
      "\u001b[1;31mAttributeError\u001b[0m                            Traceback (most recent call last)",
      "\u001b[1;32m<ipython-input-70-5a05cbecf95c>\u001b[0m in \u001b[0;36m<module>\u001b[1;34m()\u001b[0m\n\u001b[1;32m----> 1\u001b[1;33m \u001b[0mc\u001b[0m\u001b[1;33m.\u001b[0m\u001b[0mname\u001b[0m\u001b[1;33m\u001b[0m\u001b[0m\n\u001b[0m",
      "\u001b[1;31mAttributeError\u001b[0m: 'C' object has no attribute 'name'"
     ]
    }
   ],
   "source": [
    "c.name"
   ]
  },
  {
   "cell_type": "code",
   "execution_count": 68,
   "metadata": {
    "ExecuteTime": {
     "end_time": "2018-07-30T13:24:23.819936Z",
     "start_time": "2018-07-30T13:24:23.817931Z"
    }
   },
   "outputs": [],
   "source": [
    "c = C(\"Dolly\")"
   ]
  },
  {
   "cell_type": "code",
   "execution_count": 69,
   "metadata": {
    "ExecuteTime": {
     "end_time": "2018-07-30T13:24:31.138744Z",
     "start_time": "2018-07-30T13:24:31.135734Z"
    }
   },
   "outputs": [
    {
     "data": {
      "text/plain": [
       "3"
      ]
     },
     "execution_count": 69,
     "metadata": {},
     "output_type": "execute_result"
    }
   ],
   "source": [
    "C.noof_instances"
   ]
  },
  {
   "cell_type": "code",
   "execution_count": 18,
   "metadata": {
    "ExecuteTime": {
     "end_time": "2018-07-30T09:58:19.958750Z",
     "start_time": "2018-07-30T09:58:19.953737Z"
    }
   },
   "outputs": [],
   "source": [
    "y = c.f(1)\n",
    "y.name"
   ]
  },
  {
   "cell_type": "code",
   "execution_count": 20,
   "metadata": {
    "ExecuteTime": {
     "end_time": "2018-07-30T10:00:33.917661Z",
     "start_time": "2018-07-30T10:00:33.913650Z"
    }
   },
   "outputs": [
    {
     "data": {
      "text/plain": [
       "'Adriana.f_1/y:0'"
      ]
     },
     "execution_count": 20,
     "metadata": {},
     "output_type": "execute_result"
    }
   ],
   "source": [
    "y2 = c.f(1)\n",
    "y2.name"
   ]
  },
  {
   "cell_type": "code",
   "execution_count": null,
   "metadata": {},
   "outputs": [],
   "source": []
  }
 ],
 "metadata": {
  "kernelspec": {
   "display_name": "Python 3",
   "language": "python",
   "name": "python3"
  },
  "language_info": {
   "codemirror_mode": {
    "name": "ipython",
    "version": 3
   },
   "file_extension": ".py",
   "mimetype": "text/x-python",
   "name": "python",
   "nbconvert_exporter": "python",
   "pygments_lexer": "ipython3",
   "version": "3.5.2"
  },
  "toc": {
   "colors": {
    "hover_highlight": "#DAA520",
    "navigate_num": "#000000",
    "navigate_text": "#400040",
    "running_highlight": "#FF0000",
    "selected_highlight": "#FFD700",
    "sidebar_border": "#000000",
    "wrapper_background": "#ffffff"
   },
   "moveMenuLeft": true,
   "nav_menu": {
    "height": "12px",
    "width": "252px"
   },
   "navigate_menu": true,
   "number_sections": true,
   "sideBar": true,
   "threshold": 4,
   "toc_cell": false,
   "toc_section_display": "block",
   "toc_window_display": false,
   "widenNotebook": false
  }
 },
 "nbformat": 4,
 "nbformat_minor": 2
}

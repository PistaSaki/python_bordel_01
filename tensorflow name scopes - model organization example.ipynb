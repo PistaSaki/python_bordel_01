{
 "cells": [
  {
   "cell_type": "code",
   "execution_count": 1,
   "metadata": {
    "ExecuteTime": {
     "end_time": "2018-07-29T11:27:54.499992Z",
     "start_time": "2018-07-29T11:27:53.003024Z"
    }
   },
   "outputs": [],
   "source": [
    "import tensorflow as tf"
   ]
  },
  {
   "cell_type": "code",
   "execution_count": 2,
   "metadata": {
    "ExecuteTime": {
     "end_time": "2018-07-29T11:27:54.502994Z",
     "start_time": "2018-07-29T11:27:54.500956Z"
    }
   },
   "outputs": [],
   "source": [
    "import numpy as np\n",
    "import numpy.random as rnd"
   ]
  },
  {
   "cell_type": "code",
   "execution_count": null,
   "metadata": {},
   "outputs": [],
   "source": []
  },
  {
   "cell_type": "code",
   "execution_count": 3,
   "metadata": {
    "ExecuteTime": {
     "end_time": "2018-07-29T11:27:54.995516Z",
     "start_time": "2018-07-29T11:27:54.503965Z"
    }
   },
   "outputs": [],
   "source": [
    "import matplotlib.pyplot as pl\n",
    "%matplotlib inline"
   ]
  },
  {
   "cell_type": "code",
   "execution_count": 4,
   "metadata": {
    "ExecuteTime": {
     "end_time": "2018-07-29T11:27:55.006432Z",
     "start_time": "2018-07-29T11:27:54.996330Z"
    }
   },
   "outputs": [],
   "source": [
    "floatX = np.float32"
   ]
  },
  {
   "cell_type": "code",
   "execution_count": 5,
   "metadata": {
    "ExecuteTime": {
     "end_time": "2018-07-29T11:27:55.133281Z",
     "start_time": "2018-07-29T11:27:55.007359Z"
    }
   },
   "outputs": [],
   "source": [
    "sess = tf.InteractiveSession()"
   ]
  },
  {
   "cell_type": "code",
   "execution_count": 6,
   "metadata": {
    "ExecuteTime": {
     "end_time": "2018-07-29T11:27:55.197043Z",
     "start_time": "2018-07-29T11:27:55.134283Z"
    }
   },
   "outputs": [],
   "source": [
    "import os"
   ]
  },
  {
   "cell_type": "markdown",
   "metadata": {},
   "source": [
    "# Model organization 01"
   ]
  },
  {
   "cell_type": "code",
   "execution_count": null,
   "metadata": {},
   "outputs": [],
   "source": []
  },
  {
   "cell_type": "code",
   "execution_count": 7,
   "metadata": {
    "ExecuteTime": {
     "end_time": "2018-07-29T11:27:55.292680Z",
     "start_time": "2018-07-29T11:27:55.198045Z"
    }
   },
   "outputs": [],
   "source": [
    "class AffineModel:\n",
    "    def __init__(self, name):\n",
    "        self.name = name\n",
    "        with tf.variable_scope(name):\n",
    "            self.a = tf.get_variable(name = \"a\", dtype = floatX, initializer = 1.0)\n",
    "            self.b = tf.get_variable(name = \"b\", dtype = floatX, initializer = 0.0)\n",
    "\n",
    "    def predict(self, x, name):\n",
    "        a, b = self.a, self.b\n",
    "        with tf.variable_scope(name):\n",
    "            x = tf.identity(x, name= \"x\")\n",
    "            linear_part = tf.multiply(a, x, \"linear_part\")\n",
    "            y = tf.identity(linear_part + b, \"y\")\n",
    "            return y\n",
    "        \n",
    "    def plot_calculation(self, y, feed_dict = None):\n",
    "        scope = os.path.split(y.name)[0]\n",
    "        graph = y.graph\n",
    "        x = graph.get_tensor_by_name(scope + \"/x:0\")\n",
    "        xxx, yyy = sess.run([x, y], feed_dict)\n",
    "        \n",
    "        pl.scatter(xxx, yyy)\n",
    "\n",
    "        "
   ]
  },
  {
   "cell_type": "code",
   "execution_count": 8,
   "metadata": {
    "ExecuteTime": {
     "end_time": "2018-07-29T11:27:55.377489Z",
     "start_time": "2018-07-29T11:27:55.293683Z"
    }
   },
   "outputs": [],
   "source": [
    "model = AffineModel(\"affine_model_01\")"
   ]
  },
  {
   "cell_type": "code",
   "execution_count": 9,
   "metadata": {
    "ExecuteTime": {
     "end_time": "2018-07-29T11:27:55.464523Z",
     "start_time": "2018-07-29T11:27:55.378460Z"
    }
   },
   "outputs": [],
   "source": [
    "xx = tf.Variable(\n",
    "    initial_value = tf.random_normal([10]), \n",
    "    validate_shape = False, \n",
    "    dtype = floatX, \n",
    "    name = \"xx\"\n",
    ")\n",
    "xx.set_shape([None])"
   ]
  },
  {
   "cell_type": "code",
   "execution_count": 10,
   "metadata": {
    "ExecuteTime": {
     "end_time": "2018-07-29T11:27:55.556142Z",
     "start_time": "2018-07-29T11:27:55.465503Z"
    }
   },
   "outputs": [],
   "source": [
    "yy = model.predict(x = xx, name = \"prediction\")"
   ]
  },
  {
   "cell_type": "code",
   "execution_count": 11,
   "metadata": {
    "ExecuteTime": {
     "end_time": "2018-07-29T11:27:55.638462Z",
     "start_time": "2018-07-29T11:27:55.556779Z"
    }
   },
   "outputs": [],
   "source": [
    "sess.run(tf.global_variables_initializer())"
   ]
  },
  {
   "cell_type": "code",
   "execution_count": 12,
   "metadata": {
    "ExecuteTime": {
     "end_time": "2018-07-29T11:27:55.833909Z",
     "start_time": "2018-07-29T11:27:55.640181Z"
    }
   },
   "outputs": [
    {
     "data": {
      "image/png": "[encoded data removed]",
      "text/plain": [
       "<matplotlib.figure.Figure at 0x1622219da58>"
      ]
     },
     "metadata": {},
     "output_type": "display_data"
    }
   ],
   "source": [
    "model.plot_calculation(yy)"
   ]
  },
  {
   "cell_type": "markdown",
   "metadata": {},
   "source": [
    "# Model organization 02"
   ]
  },
  {
   "cell_type": "code",
   "execution_count": 13,
   "metadata": {
    "ExecuteTime": {
     "end_time": "2018-07-29T11:27:55.837953Z",
     "start_time": "2018-07-29T11:27:55.834913Z"
    }
   },
   "outputs": [],
   "source": [
    "import types"
   ]
  },
  {
   "cell_type": "code",
   "execution_count": 14,
   "metadata": {
    "ExecuteTime": {
     "end_time": "2018-07-29T11:27:55.919168Z",
     "start_time": "2018-07-29T11:27:55.838924Z"
    }
   },
   "outputs": [],
   "source": [
    "class AffineModel_02:\n",
    "    instance_counter = 0\n",
    "    \n",
    "    def __init__(self, name = None):\n",
    "        self.__class__.instance_counter += 1\n",
    "        self.piname = \"{}_instance{}\".format(\n",
    "                self.__class__.__name__,\n",
    "                self.__class__.instance_counter,\n",
    "            )               \n",
    "        if name is None:\n",
    "            name = self.piname\n",
    "            \n",
    "        self.call_counter = 0\n",
    "            \n",
    "        with tf.variable_scope(name) as scope:\n",
    "            self.name = scope.name\n",
    "            self.a = tf.get_variable(name = \"a\", dtype = floatX, initializer = 1.0)\n",
    "            self.b = tf.get_variable(name = \"b\", dtype = floatX, initializer = 0.0)\n",
    "            \n",
    "\n",
    "    def __call__(self, x, name = None):\n",
    "        self.call_counter += 1\n",
    "        if name is None:\n",
    "            name = \"{}_call{}\".format(\n",
    "                self.piname,\n",
    "                self.call_counter\n",
    "            )\n",
    "        a, b = self.a, self.b\n",
    "        with tf.variable_scope(name) as scope:\n",
    "            x = tf.identity(x, name= \"x\")\n",
    "            linear_part = tf.multiply(a, x, \"linear_part\")\n",
    "            y = tf.identity(linear_part + b, \"y\")\n",
    "            \n",
    "            y.piplot = lambda feed_dict = None: self.plot_calculation(x, y, feed_dict)\n",
    "            \n",
    "            return y\n",
    "        \n",
    "    def plot_calculation(box, x, y, feed_dict = None):\n",
    "        xxx, yyy = sess.run([x, y], feed_dict)\n",
    "        \n",
    "        pl.scatter(xxx, yyy)\n",
    "\n",
    "        "
   ]
  },
  {
   "cell_type": "code",
   "execution_count": 15,
   "metadata": {
    "ExecuteTime": {
     "end_time": "2018-07-29T11:27:56.013743Z",
     "start_time": "2018-07-29T11:27:55.920139Z"
    }
   },
   "outputs": [],
   "source": [
    "model = AffineModel_02()"
   ]
  },
  {
   "cell_type": "code",
   "execution_count": 16,
   "metadata": {
    "ExecuteTime": {
     "end_time": "2018-07-29T11:27:59.514356Z",
     "start_time": "2018-07-29T11:27:59.504312Z"
    }
   },
   "outputs": [],
   "source": [
    "xx = tf.Variable(\n",
    "    initial_value = tf.random_normal([10]), \n",
    "    validate_shape = False, \n",
    "    dtype = floatX, \n",
    "    name = \"xx\"\n",
    ")\n",
    "xx.set_shape([None])"
   ]
  },
  {
   "cell_type": "code",
   "execution_count": 17,
   "metadata": {
    "ExecuteTime": {
     "end_time": "2018-07-29T11:28:00.909331Z",
     "start_time": "2018-07-29T11:28:00.904324Z"
    }
   },
   "outputs": [],
   "source": [
    "yy = model(xx)"
   ]
  },
  {
   "cell_type": "code",
   "execution_count": 18,
   "metadata": {
    "ExecuteTime": {
     "end_time": "2018-07-29T11:28:01.597877Z",
     "start_time": "2018-07-29T11:28:01.590872Z"
    }
   },
   "outputs": [],
   "source": [
    "sess.run(tf.global_variables_initializer())"
   ]
  },
  {
   "cell_type": "code",
   "execution_count": 19,
   "metadata": {
    "ExecuteTime": {
     "end_time": "2018-07-29T11:28:03.398473Z",
     "start_time": "2018-07-29T11:28:03.392439Z"
    }
   },
   "outputs": [
    {
     "data": {
      "text/plain": [
       "array([ 0.42999256,  0.8627096 ,  1.6801155 , -0.78902525, -0.4804639 ,\n",
       "        0.7099708 , -1.2336301 ,  0.8843545 , -1.4424317 ,  1.9586202 ],\n",
       "      dtype=float32)"
      ]
     },
     "execution_count": 19,
     "metadata": {},
     "output_type": "execute_result"
    }
   ],
   "source": [
    "yy.eval()"
   ]
  },
  {
   "cell_type": "code",
   "execution_count": 20,
   "metadata": {
    "ExecuteTime": {
     "end_time": "2018-07-29T11:28:04.163754Z",
     "start_time": "2018-07-29T11:28:04.056472Z"
    }
   },
   "outputs": [
    {
     "data": {
      "image/png": "[encoded data removed]",
      "text/plain": [
       "<matplotlib.figure.Figure at 0x16221c16a90>"
      ]
     },
     "metadata": {},
     "output_type": "display_data"
    }
   ],
   "source": [
    "yy.piplot()"
   ]
  },
  {
   "cell_type": "markdown",
   "metadata": {},
   "source": [
    "### Tensorboard"
   ]
  },
  {
   "cell_type": "code",
   "execution_count": 21,
   "metadata": {
    "ExecuteTime": {
     "end_time": "2018-07-29T11:28:33.740519Z",
     "start_time": "2018-07-29T11:28:33.737512Z"
    }
   },
   "outputs": [
    {
     "data": {
      "text/plain": [
       "'D:\\\\python_source\\\\data\\\\bordel\\\\tesorboard_test_01'"
      ]
     },
     "execution_count": 21,
     "metadata": {},
     "output_type": "execute_result"
    }
   ],
   "source": [
    "tb_dir = r\"D:\\python_source\\data\\bordel\\tesorboard_test_01\"\n",
    "tb_dir "
   ]
  },
  {
   "cell_type": "code",
   "execution_count": 22,
   "metadata": {
    "ExecuteTime": {
     "end_time": "2018-07-29T11:28:34.622004Z",
     "start_time": "2018-07-29T11:28:34.191825Z"
    }
   },
   "outputs": [],
   "source": [
    "tb_writer = tf.summary.FileWriter(tb_dir)\n",
    "tb_writer.add_graph(tf.get_default_graph())"
   ]
  },
  {
   "cell_type": "markdown",
   "metadata": {},
   "source": [
    "# Bordel"
   ]
  },
  {
   "cell_type": "code",
   "execution_count": 10,
   "metadata": {
    "ExecuteTime": {
     "end_time": "2018-07-28T16:04:36.857868Z",
     "start_time": "2018-07-28T16:04:36.852304Z"
    }
   },
   "outputs": [],
   "source": [
    "graph = tf.get_default_graph()"
   ]
  },
  {
   "cell_type": "code",
   "execution_count": 11,
   "metadata": {
    "ExecuteTime": {
     "end_time": "2018-07-28T16:04:36.992967Z",
     "start_time": "2018-07-28T16:04:36.862999Z"
    }
   },
   "outputs": [
    {
     "name": "stdout",
     "output_type": "stream",
     "text": [
      "aa/bb\n",
      "<tf.Variable 'aa/bb/vv:0' shape=() dtype=float32_ref>\n",
      "<tf.Variable 'aa/bb/uu:0' shape=() dtype=float32_ref>\n"
     ]
    }
   ],
   "source": [
    "with tf.variable_scope(\"aa\"):\n",
    "    with tf.variable_scope(\"bb\"):\n",
    "        print(graph.get_name_scope())\n",
    "        print(tf.Variable(initial_value=1.0, name = \"vv\"))\n",
    "        print(tf.get_variable(name = \"uu\", initializer=1.0))\n",
    "        "
   ]
  },
  {
   "cell_type": "code",
   "execution_count": 54,
   "metadata": {
    "ExecuteTime": {
     "end_time": "2018-07-28T18:16:15.886076Z",
     "start_time": "2018-07-28T18:16:15.876007Z"
    }
   },
   "outputs": [
    {
     "name": "stdout",
     "output_type": "stream",
     "text": [
      "None\n",
      "aa/bb\n",
      "<tf.Variable 'aa/bb/uu:0' shape=() dtype=float32_ref>\n",
      "Tensor(\"uu_squared:0\", shape=(), dtype=float32)\n"
     ]
    }
   ],
   "source": [
    "with tf.variable_scope(\"aa\", reuse = True, auxiliary_name_scope=False) as scope1:\n",
    "    with tf.variable_scope(\"bb\", reuse = True, auxiliary_name_scope=False) as scope:\n",
    "\n",
    "        print(graph.get_name_scope())\n",
    "        print(scope.name)\n",
    "        \n",
    "        uu = tf.get_variable(name = \"uu\")\n",
    "        print(uu)\n",
    "        print(tf.identity(uu*2, \"uu_squared\"))\n"
   ]
  },
  {
   "cell_type": "code",
   "execution_count": 61,
   "metadata": {
    "ExecuteTime": {
     "end_time": "2018-07-28T18:21:26.137777Z",
     "start_time": "2018-07-28T18:21:26.128745Z"
    }
   },
   "outputs": [
    {
     "name": "stdout",
     "output_type": "stream",
     "text": [
      "None\n",
      "aa\n",
      "<tf.Variable 'aa/bb/uu:0' shape=() dtype=float32_ref>\n",
      "Tensor(\"uu_squared_1:0\", shape=(), dtype=float32)\n"
     ]
    }
   ],
   "source": [
    "with tf.variable_scope(\"aa/bb\", reuse = True, auxiliary_name_scope=False) as scope1:\n",
    "        print(graph.get_name_scope())\n",
    "        print(scope.name)\n",
    "        \n",
    "        uu = tf.get_variable(name = \"uu\")\n",
    "        print(uu)\n",
    "        print(tf.identity(uu*2, \"uu_squared\"))\n"
   ]
  },
  {
   "cell_type": "code",
   "execution_count": 55,
   "metadata": {
    "ExecuteTime": {
     "end_time": "2018-07-28T18:17:39.018374Z",
     "start_time": "2018-07-28T18:17:39.014318Z"
    }
   },
   "outputs": [
    {
     "data": {
      "text/plain": [
       "'<tensorflow.python.ops.variable_scope.VariableScope object at 0x0000023DF8202F98>'"
      ]
     },
     "execution_count": 55,
     "metadata": {},
     "output_type": "execute_result"
    }
   ],
   "source": [
    "str(scope)"
   ]
  },
  {
   "cell_type": "code",
   "execution_count": 47,
   "metadata": {
    "ExecuteTime": {
     "end_time": "2018-07-28T18:02:16.565518Z",
     "start_time": "2018-07-28T18:02:16.556446Z"
    }
   },
   "outputs": [
    {
     "name": "stdout",
     "output_type": "stream",
     "text": [
      "aa_20/bb\n",
      "<tf.Variable 'aa/bb/uu:0' shape=() dtype=float32_ref>\n",
      "Tensor(\"aa_20/bb/uu_squared:0\", shape=(), dtype=float32)\n"
     ]
    }
   ],
   "source": [
    "with tf.variable_scope(\"aa\", reuse = True, auxiliary_name_scope=False):\n",
    "    print(graph.get_name_scope())\n",
    "        \n",
    "    with tf.variable_scope(\"bb\", reuse = True):\n",
    "        print(graph.get_name_scope())\n",
    "        uu = tf.get_variable(name = \"uu\", initializer=1.0)\n",
    "        print(uu)\n",
    "        print(tf.identity(uu*2, \"uu_squared\"))"
   ]
  },
  {
   "cell_type": "code",
   "execution_count": null,
   "metadata": {},
   "outputs": [],
   "source": []
  },
  {
   "cell_type": "code",
   "execution_count": 12,
   "metadata": {
    "ExecuteTime": {
     "end_time": "2018-07-28T16:04:37.079104Z",
     "start_time": "2018-07-28T16:04:36.995452Z"
    }
   },
   "outputs": [
    {
     "name": "stdout",
     "output_type": "stream",
     "text": [
      "aa_1/bb\n",
      "<tf.Variable 'aa_1/bb/vv:0' shape=() dtype=float32_ref>\n",
      "<tf.Variable 'uu:0' shape=() dtype=float32_ref>\n"
     ]
    }
   ],
   "source": [
    "with tf.name_scope(\"aa\"):\n",
    "    with tf.name_scope(\"bb\"):\n",
    "        print(graph.get_name_scope())\n",
    "        print(tf.Variable(initial_value=1.0, name = \"vv\"))\n",
    "        print(tf.get_variable(name = \"uu\", initializer=1.0))"
   ]
  },
  {
   "cell_type": "code",
   "execution_count": 13,
   "metadata": {
    "ExecuteTime": {
     "end_time": "2018-07-28T16:10:10.067695Z",
     "start_time": "2018-07-28T16:10:10.058660Z"
    }
   },
   "outputs": [
    {
     "name": "stdout",
     "output_type": "stream",
     "text": [
      "aa_2/bb\n",
      "<tf.Variable 'aa_2/bb/vv:0' shape=() dtype=float32_ref>\n"
     ]
    }
   ],
   "source": [
    "with tf.name_scope(\"aa\") as aa_scope:\n",
    "    with tf.name_scope(\"bb\"):\n",
    "        print(graph.get_name_scope())\n",
    "        print(tf.Variable(initial_value=1.0, name = \"vv\"))"
   ]
  },
  {
   "cell_type": "code",
   "execution_count": 37,
   "metadata": {
    "ExecuteTime": {
     "end_time": "2018-07-28T17:47:49.624055Z",
     "start_time": "2018-07-28T17:47:49.619042Z"
    }
   },
   "outputs": [
    {
     "name": "stdout",
     "output_type": "stream",
     "text": [
      "aa_15 <tensorflow.python.ops.variable_scope.VariableScope object at 0x0000023DF820B8D0>\n"
     ]
    }
   ],
   "source": [
    "with tf.variable_scope(\"aa\", auxiliary_name_scope=True) as scope:\n",
    "    print(graph.get_name_scope(), scope)\n",
    "        "
   ]
  },
  {
   "cell_type": "code",
   "execution_count": 37,
   "metadata": {
    "ExecuteTime": {
     "end_time": "2018-07-28T17:47:49.624055Z",
     "start_time": "2018-07-28T17:47:49.619042Z"
    }
   },
   "outputs": [
    {
     "name": "stdout",
     "output_type": "stream",
     "text": [
      "aa_15 <tensorflow.python.ops.variable_scope.VariableScope object at 0x0000023DF820B8D0>\n"
     ]
    }
   ],
   "source": [
    "with tf.variable_scope(\"aa\", auxiliary_name_scope=True) as scope:\n",
    "    print(graph.get_name_scope(), scope)\n",
    "        "
   ]
  },
  {
   "cell_type": "code",
   "execution_count": 38,
   "metadata": {
    "ExecuteTime": {
     "end_time": "2018-07-28T17:49:09.870344Z",
     "start_time": "2018-07-28T17:49:09.866333Z"
    }
   },
   "outputs": [
    {
     "data": {
      "text/plain": [
       "<tensorflow.python.framework.ops.name_scope at 0x23df820bbe0>"
      ]
     },
     "execution_count": 38,
     "metadata": {},
     "output_type": "execute_result"
    }
   ],
   "source": [
    "aa_scope = tf.name_scope(\"aa\")\n",
    "aa_scope"
   ]
  },
  {
   "cell_type": "code",
   "execution_count": 39,
   "metadata": {
    "ExecuteTime": {
     "end_time": "2018-07-28T17:49:20.804250Z",
     "start_time": "2018-07-28T17:49:20.798227Z"
    }
   },
   "outputs": [
    {
     "data": {
      "text/plain": [
       "'aa'"
      ]
     },
     "execution_count": 39,
     "metadata": {},
     "output_type": "execute_result"
    }
   ],
   "source": [
    "aa_scope.name"
   ]
  },
  {
   "cell_type": "code",
   "execution_count": 40,
   "metadata": {
    "ExecuteTime": {
     "end_time": "2018-07-28T17:49:52.955190Z",
     "start_time": "2018-07-28T17:49:52.951202Z"
    }
   },
   "outputs": [
    {
     "data": {
      "text/plain": [
       "False"
      ]
     },
     "execution_count": 40,
     "metadata": {},
     "output_type": "execute_result"
    }
   ],
   "source": [
    "tf.name_scope(\"aa\", ) == aa_scope"
   ]
  },
  {
   "cell_type": "code",
   "execution_count": null,
   "metadata": {},
   "outputs": [],
   "source": []
  },
  {
   "cell_type": "code",
   "execution_count": 22,
   "metadata": {
    "ExecuteTime": {
     "end_time": "2018-07-29T11:09:58.550954Z",
     "start_time": "2018-07-29T11:09:58.545941Z"
    }
   },
   "outputs": [
    {
     "name": "stdout",
     "output_type": "stream",
     "text": [
      "aa_2\n",
      "aa\n"
     ]
    }
   ],
   "source": [
    "with tf.variable_scope(\"aa\", reuse = True) as scope:\n",
    "    graph = tf.get_default_graph()\n",
    "    print(graph.get_name_scope())\n",
    "    print(scope.name)"
   ]
  },
  {
   "cell_type": "code",
   "execution_count": 23,
   "metadata": {
    "ExecuteTime": {
     "end_time": "2018-07-29T11:10:03.572587Z",
     "start_time": "2018-07-29T11:10:03.568576Z"
    }
   },
   "outputs": [
    {
     "name": "stdout",
     "output_type": "stream",
     "text": [
      "aa_3\n",
      "aa\n"
     ]
    }
   ],
   "source": [
    "with tf.variable_scope(\"aa\") as scope:\n",
    "    graph = tf.get_default_graph()\n",
    "    print(graph.get_name_scope())\n",
    "    print(scope.name)"
   ]
  },
  {
   "cell_type": "code",
   "execution_count": 24,
   "metadata": {
    "ExecuteTime": {
     "end_time": "2018-07-29T11:10:19.772433Z",
     "start_time": "2018-07-29T11:10:19.768457Z"
    }
   },
   "outputs": [
    {
     "name": "stdout",
     "output_type": "stream",
     "text": [
      "None\n",
      "aa\n"
     ]
    }
   ],
   "source": [
    "with tf.variable_scope(\"aa\", auxiliary_name_scope=False) as scope:\n",
    "    graph = tf.get_default_graph()\n",
    "    print(graph.get_name_scope())\n",
    "    print(scope.name)"
   ]
  },
  {
   "cell_type": "code",
   "execution_count": null,
   "metadata": {},
   "outputs": [],
   "source": []
  }
 ],
 "metadata": {
  "kernelspec": {
   "display_name": "Python 3",
   "language": "python",
   "name": "python3"
  },
  "language_info": {
   "codemirror_mode": {
    "name": "ipython",
    "version": 3
   },
   "file_extension": ".py",
   "mimetype": "text/x-python",
   "name": "python",
   "nbconvert_exporter": "python",
   "pygments_lexer": "ipython3",
   "version": "3.5.2"
  },
  "toc": {
   "colors": {
    "hover_highlight": "#DAA520",
    "navigate_num": "#000000",
    "navigate_text": "#400040",
    "running_highlight": "#FF0000",
    "selected_highlight": "#FFD700",
    "sidebar_border": "#000000",
    "wrapper_background": "#ffffff"
   },
   "moveMenuLeft": true,
   "nav_menu": {
    "height": "12px",
    "width": "252px"
   },
   "navigate_menu": true,
   "number_sections": true,
   "sideBar": true,
   "threshold": 4,
   "toc_cell": false,
   "toc_section_display": "block",
   "toc_window_display": false,
   "widenNotebook": false
  }
 },
 "nbformat": 4,
 "nbformat_minor": 2
}

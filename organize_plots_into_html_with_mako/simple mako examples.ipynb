{
 "cells": [
  {
   "cell_type": "code",
   "execution_count": 1,
   "metadata": {},
   "outputs": [],
   "source": [
    "from mako.template import Template"
   ]
  },
  {
   "cell_type": "code",
   "execution_count": 9,
   "metadata": {},
   "outputs": [
    {
     "name": "stdout",
     "output_type": "stream",
     "text": [
      "\n",
      "x = 10\n",
      "\n"
     ]
    }
   ],
   "source": [
    "template = Template(\"\"\"\n",
    "x = ${x}\n",
    "\"\"\")\n",
    "print(template.render(x = 10))"
   ]
  },
  {
   "cell_type": "code",
   "execution_count": 7,
   "metadata": {},
   "outputs": [
    {
     "name": "stdout",
     "output_type": "stream",
     "text": [
      "\n",
      "x = 10\n",
      "y = 3\n",
      "x + y = 13\n",
      "\n"
     ]
    }
   ],
   "source": [
    "template = Template(\"\"\"\n",
    "x = ${x}\n",
    "y = ${y}\n",
    "x + y = ${x + y}\n",
    "\"\"\")\n",
    "\n",
    "print(template.render(x = 10, y = 3))"
   ]
  },
  {
   "cell_type": "code",
   "execution_count": 15,
   "metadata": {},
   "outputs": [
    {
     "name": "stdout",
     "output_type": "stream",
     "text": [
      "\n",
      "x = 10\n",
      "x is even\n",
      "\n"
     ]
    }
   ],
   "source": [
    "template = Template(\"\"\"\n",
    "x = ${x}\n",
    "% if x % 2 == 1:\n",
    "x is odd\n",
    "% else:\n",
    "x is even\n",
    "% endif\n",
    "\"\"\")\n",
    "print(template.render(x = 10))"
   ]
  },
  {
   "cell_type": "code",
   "execution_count": 18,
   "metadata": {},
   "outputs": [
    {
     "name": "stdout",
     "output_type": "stream",
     "text": [
      "\n",
      "List contains:\n",
      " 0: zero\n",
      " 1: one\n",
      " 2: two\n",
      "\n"
     ]
    }
   ],
   "source": [
    "template = Template(\"\"\"\n",
    "List contains:\n",
    "% for i, x in enumerate(l):\n",
    " ${i}: ${x}\n",
    "% endfor\n",
    "\"\"\")\n",
    "print(template.render(l = [\"zero\", \"one\", \"two\"]))"
   ]
  },
  {
   "cell_type": "code",
   "execution_count": null,
   "metadata": {},
   "outputs": [],
   "source": []
  }
 ],
 "metadata": {
  "kernelspec": {
   "display_name": "Python 3",
   "language": "python",
   "name": "python3"
  },
  "language_info": {
   "codemirror_mode": {
    "name": "ipython",
    "version": 3
   },
   "file_extension": ".py",
   "mimetype": "text/x-python",
   "name": "python",
   "nbconvert_exporter": "python",
   "pygments_lexer": "ipython3",
   "version": "3.6.6"
  }
 },
 "nbformat": 4,
 "nbformat_minor": 2
}

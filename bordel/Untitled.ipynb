{
 "cells": [
  {
   "cell_type": "code",
   "execution_count": 2,
   "metadata": {},
   "outputs": [],
   "source": [
    "import sympy as sp"
   ]
  },
  {
   "cell_type": "code",
   "execution_count": 3,
   "metadata": {},
   "outputs": [],
   "source": [
    "sp.init_printing()"
   ]
  },
  {
   "cell_type": "code",
   "execution_count": 14,
   "metadata": {},
   "outputs": [],
   "source": [
    "phi, a, b, c = sp.symbols(\"phi, a, b, c\") "
   ]
  },
  {
   "cell_type": "code",
   "execution_count": 9,
   "metadata": {},
   "outputs": [
    {
     "data": {
      "image/png": "[encoded data removed]",
      "text/latex": [
       "$$\\left[\\begin{matrix}\\cos{\\left (\\phi \\right )} & \\sin{\\left (\\phi \\right )}\\\\- \\sin{\\left (\\phi \\right )} & \\cos{\\left (\\phi \\right )}\\end{matrix}\\right]$$"
      ],
      "text/plain": [
       "⎡cos(φ)   sin(φ)⎤\n",
       "⎢               ⎥\n",
       "⎣-sin(φ)  cos(φ)⎦"
      ]
     },
     "execution_count": 9,
     "metadata": {},
     "output_type": "execute_result"
    }
   ],
   "source": [
    "R = sp.rot_axis1(phi)[1:, 1:]\n",
    "R"
   ]
  },
  {
   "cell_type": "code",
   "execution_count": 13,
   "metadata": {},
   "outputs": [
    {
     "data": {
      "image/png": "[encoded data removed]",
      "text/latex": [
       "$$\\left[\\begin{matrix}a \\cos^{2}{\\left (\\phi \\right )} + b \\sin^{2}{\\left (\\phi \\right )} & a \\sin{\\left (\\phi \\right )} \\cos{\\left (\\phi \\right )} - b \\sin{\\left (\\phi \\right )} \\cos{\\left (\\phi \\right )}\\\\a \\sin{\\left (\\phi \\right )} \\cos{\\left (\\phi \\right )} - b \\sin{\\left (\\phi \\right )} \\cos{\\left (\\phi \\right )} & a \\sin^{2}{\\left (\\phi \\right )} + b \\cos^{2}{\\left (\\phi \\right )}\\end{matrix}\\right]$$"
      ],
      "text/plain": [
       "⎡           2           2                                            ⎤\n",
       "⎢      a⋅cos (φ) + b⋅sin (φ)        a⋅sin(φ)⋅cos(φ) - b⋅sin(φ)⋅cos(φ)⎥\n",
       "⎢                                                                    ⎥\n",
       "⎢                                              2           2         ⎥\n",
       "⎣a⋅sin(φ)⋅cos(φ) - b⋅sin(φ)⋅cos(φ)        a⋅sin (φ) + b⋅cos (φ)      ⎦"
      ]
     },
     "execution_count": 13,
     "metadata": {},
     "output_type": "execute_result"
    }
   ],
   "source": [
    "R.T @ sp.diag(a, b) @ R"
   ]
  },
  {
   "cell_type": "code",
   "execution_count": 15,
   "metadata": {},
   "outputs": [],
   "source": [
    "M = sp.Matrix([\n",
    "    [a, b],\n",
    "    [0, c]\n",
    "])"
   ]
  },
  {
   "cell_type": "code",
   "execution_count": 16,
   "metadata": {},
   "outputs": [
    {
     "data": {
      "image/png": "[encoded data removed]",
      "text/latex": [
       "$$\\left[\\begin{matrix}a^{2} + b^{2} & b c\\\\b c & c^{2}\\end{matrix}\\right]$$"
      ],
      "text/plain": [
       "⎡ 2    2     ⎤\n",
       "⎢a  + b   b⋅c⎥\n",
       "⎢            ⎥\n",
       "⎢          2 ⎥\n",
       "⎣  b⋅c    c  ⎦"
      ]
     },
     "execution_count": 16,
     "metadata": {},
     "output_type": "execute_result"
    }
   ],
   "source": [
    "M @ M.T"
   ]
  },
  {
   "cell_type": "code",
   "execution_count": 17,
   "metadata": {},
   "outputs": [
    {
     "data": {
      "image/png": "[encoded data removed]",
      "text/latex": [
       "$$\\left[\\begin{matrix}a^{2} & a b\\\\a b & b^{2} + c^{2}\\end{matrix}\\right]$$"
      ],
      "text/plain": [
       "⎡ 2          ⎤\n",
       "⎢a      a⋅b  ⎥\n",
       "⎢            ⎥\n",
       "⎢      2    2⎥\n",
       "⎣a⋅b  b  + c ⎦"
      ]
     },
     "execution_count": 17,
     "metadata": {},
     "output_type": "execute_result"
    }
   ],
   "source": [
    "M.T @ M"
   ]
  },
  {
   "cell_type": "code",
   "execution_count": 19,
   "metadata": {},
   "outputs": [
    {
     "data": {
      "image/png": "[encoded data removed]",
      "text/latex": [
       "$$a^{2} c^{2}$$"
      ],
      "text/plain": [
       " 2  2\n",
       "a ⋅c "
      ]
     },
     "execution_count": 19,
     "metadata": {},
     "output_type": "execute_result"
    }
   ],
   "source": [
    "sp.simplify((M.T @ M).det())"
   ]
  },
  {
   "cell_type": "code",
   "execution_count": null,
   "metadata": {},
   "outputs": [],
   "source": []
  }
 ],
 "metadata": {
  "kernelspec": {
   "display_name": "Python 3",
   "language": "python",
   "name": "python3"
  },
  "language_info": {
   "codemirror_mode": {
    "name": "ipython",
    "version": 3
   },
   "file_extension": ".py",
   "mimetype": "text/x-python",
   "name": "python",
   "nbconvert_exporter": "python",
   "pygments_lexer": "ipython3",
   "version": "3.6.6"
  }
 },
 "nbformat": 4,
 "nbformat_minor": 2
}

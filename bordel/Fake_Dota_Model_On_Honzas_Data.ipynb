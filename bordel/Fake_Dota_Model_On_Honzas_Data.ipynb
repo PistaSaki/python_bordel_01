{
 "cells": [
  {
   "cell_type": "code",
   "execution_count": 1,
   "metadata": {},
   "outputs": [],
   "source": [
    "import pandas as pd\n",
    "import matplotlib.pyplot as plt\n",
    "%matplotlib inline"
   ]
  },
  {
   "cell_type": "code",
   "execution_count": 2,
   "metadata": {},
   "outputs": [],
   "source": [
    "import numpy as np\n",
    "import numpy.random as rnd"
   ]
  },
  {
   "cell_type": "code",
   "execution_count": 3,
   "metadata": {},
   "outputs": [],
   "source": [
    "import tensorflow.keras as keras\n",
    "import tensorflow.keras.layers as kl"
   ]
  },
  {
   "cell_type": "markdown",
   "metadata": {},
   "source": [
    "# Data"
   ]
  },
  {
   "cell_type": "markdown",
   "metadata": {},
   "source": [
    "### Load and explore"
   ]
  },
  {
   "cell_type": "code",
   "execution_count": 4,
   "metadata": {},
   "outputs": [
    {
     "data": {
      "text/html": [
       "<div>\n",
       "<style scoped>\n",
       "    .dataframe tbody tr th:only-of-type {\n",
       "        vertical-align: middle;\n",
       "    }\n",
       "\n",
       "    .dataframe tbody tr th {\n",
       "        vertical-align: top;\n",
       "    }\n",
       "\n",
       "    .dataframe thead th {\n",
       "        text-align: right;\n",
       "    }\n",
       "</style>\n",
       "<table border=\"1\" class=\"dataframe\">\n",
       "  <thead>\n",
       "    <tr style=\"text-align: right;\">\n",
       "      <th></th>\n",
       "      <th>id</th>\n",
       "      <th>time</th>\n",
       "      <th>home</th>\n",
       "      <th>away</th>\n",
       "      <th>result</th>\n",
       "    </tr>\n",
       "  </thead>\n",
       "  <tbody>\n",
       "    <tr>\n",
       "      <th>0</th>\n",
       "      <td>0</td>\n",
       "      <td>0.000000</td>\n",
       "      <td>0</td>\n",
       "      <td>0</td>\n",
       "      <td>1</td>\n",
       "    </tr>\n",
       "    <tr>\n",
       "      <th>1</th>\n",
       "      <td>0</td>\n",
       "      <td>0.642183</td>\n",
       "      <td>0</td>\n",
       "      <td>1</td>\n",
       "      <td>1</td>\n",
       "    </tr>\n",
       "    <tr>\n",
       "      <th>2</th>\n",
       "      <td>0</td>\n",
       "      <td>0.788225</td>\n",
       "      <td>0</td>\n",
       "      <td>2</td>\n",
       "      <td>1</td>\n",
       "    </tr>\n",
       "    <tr>\n",
       "      <th>3</th>\n",
       "      <td>0</td>\n",
       "      <td>1.607837</td>\n",
       "      <td>0</td>\n",
       "      <td>3</td>\n",
       "      <td>1</td>\n",
       "    </tr>\n",
       "    <tr>\n",
       "      <th>4</th>\n",
       "      <td>0</td>\n",
       "      <td>2.237313</td>\n",
       "      <td>1</td>\n",
       "      <td>3</td>\n",
       "      <td>1</td>\n",
       "    </tr>\n",
       "  </tbody>\n",
       "</table>\n",
       "</div>"
      ],
      "text/plain": [
       "   id      time  home  away  result\n",
       "0   0  0.000000     0     0       1\n",
       "1   0  0.642183     0     1       1\n",
       "2   0  0.788225     0     2       1\n",
       "3   0  1.607837     0     3       1\n",
       "4   0  2.237313     1     3       1"
      ]
     },
     "execution_count": 4,
     "metadata": {},
     "output_type": "execute_result"
    }
   ],
   "source": [
    "data_path = r\"M:\\Honza\\ml test data\\simplePoisson.csv\"\n",
    "df = pd.read_csv(data_path)\n",
    "df.head()"
   ]
  },
  {
   "cell_type": "code",
   "execution_count": 5,
   "metadata": {},
   "outputs": [],
   "source": [
    "df = df[(df.home != 10) & (df.away != 10)]"
   ]
  },
  {
   "cell_type": "code",
   "execution_count": 6,
   "metadata": {},
   "outputs": [
    {
     "data": {
      "text/plain": [
       "({0, 1, 2, 3, 4, 5, 6, 7, 8, 9}, {0, 1, 2, 3, 4, 5, 6, 7, 8, 9})"
      ]
     },
     "execution_count": 6,
     "metadata": {},
     "output_type": "execute_result"
    }
   ],
   "source": [
    "set(df.home), set(df.away)"
   ]
  },
  {
   "cell_type": "code",
   "execution_count": 7,
   "metadata": {},
   "outputs": [
    {
     "data": {
      "text/plain": [
       "(1646852, 100000)"
      ]
     },
     "execution_count": 7,
     "metadata": {},
     "output_type": "execute_result"
    }
   ],
   "source": [
    "len(df), len(set(df.id))"
   ]
  },
  {
   "cell_type": "code",
   "execution_count": 8,
   "metadata": {},
   "outputs": [
    {
     "data": {
      "text/plain": [
       "array([[<matplotlib.axes._subplots.AxesSubplot object at 0x000001EFD6D170B8>,\n",
       "        <matplotlib.axes._subplots.AxesSubplot object at 0x000001EFD6FA0320>],\n",
       "       [<matplotlib.axes._subplots.AxesSubplot object at 0x000001EFD6FCA588>,\n",
       "        <matplotlib.axes._subplots.AxesSubplot object at 0x000001EFD6FF27F0>],\n",
       "       [<matplotlib.axes._subplots.AxesSubplot object at 0x000001EFD701AA58>,\n",
       "        <matplotlib.axes._subplots.AxesSubplot object at 0x000001EFD7044CC0>]],\n",
       "      dtype=object)"
      ]
     },
     "execution_count": 8,
     "metadata": {},
     "output_type": "execute_result"
    },
    {
     "data": {
      "image/png": "[encoded data removed]",
      "text/plain": [
       "<Figure size 432x288 with 6 Axes>"
      ]
     },
     "metadata": {
      "needs_background": "light"
     },
     "output_type": "display_data"
    }
   ],
   "source": [
    "df.hist()"
   ]
  },
  {
   "cell_type": "markdown",
   "metadata": {},
   "source": [
    "### Prepare data for training"
   ]
  },
  {
   "cell_type": "code",
   "execution_count": 9,
   "metadata": {},
   "outputs": [],
   "source": [
    "matches = set(df.id)\n",
    "train_matches = set(rnd.choice(\n",
    "    a = np.array(list(matches)), \n",
    "    size= int(0.7 * len(matches)),  \n",
    "    replace=False\n",
    "))\n",
    "train_mask = df.id.isin(train_matches)"
   ]
  },
  {
   "cell_type": "code",
   "execution_count": 10,
   "metadata": {},
   "outputs": [],
   "source": [
    "x = df[[\"time\", \"home\", \"away\"]]\n",
    "y = df[[\"result\"]]"
   ]
  },
  {
   "cell_type": "code",
   "execution_count": 11,
   "metadata": {},
   "outputs": [],
   "source": [
    "train_x, train_y = x[train_mask], y[train_mask]\n",
    "valid_x, valid_y = x[~train_mask], y[~train_mask]"
   ]
  },
  {
   "cell_type": "markdown",
   "metadata": {},
   "source": [
    "# Model"
   ]
  },
  {
   "cell_type": "code",
   "execution_count": 79,
   "metadata": {},
   "outputs": [],
   "source": [
    "model = keras.Sequential([\n",
    "    kl.Input([3]),\n",
    "    kl.Dense(4, \"relu\", kernel_regularizer=keras.regularizers.l2(0.001)),\n",
    "    kl.Dense(32, \"relu\", kernel_regularizer=keras.regularizers.l2(0.001)),\n",
    "    kl.Dense(64, \"relu\", kernel_regularizer=keras.regularizers.l2(0.001)),\n",
    "    kl.Dense(32, \"relu\", kernel_regularizer=keras.regularizers.l2(0.001)),\n",
    "    kl.Dense(4, \"relu\", kernel_regularizer=keras.regularizers.l2(0.001)),\n",
    "    kl.Dense(1, \"sigmoid\", kernel_regularizer=keras.regularizers.l2(0.001)),\n",
    "])"
   ]
  },
  {
   "cell_type": "code",
   "execution_count": 98,
   "metadata": {},
   "outputs": [],
   "source": [
    "reg = None\n",
    "model = keras.Sequential([\n",
    "    kl.Input([3]),\n",
    "    kl.Dense(4, \"relu\", kernel_regularizer=reg),\n",
    "    kl.Dense(32, \"relu\", kernel_regularizer=reg),\n",
    "    kl.Dense(64, \"relu\", kernel_regularizer=reg),\n",
    "    kl.Dense(32, \"relu\", kernel_regularizer=reg),\n",
    "    kl.Dense(4, \"relu\", kernel_regularizer=reg),\n",
    "    kl.Dense(1, \"sigmoid\", kernel_regularizer=reg),\n",
    "])"
   ]
  },
  {
   "cell_type": "code",
   "execution_count": 99,
   "metadata": {},
   "outputs": [
    {
     "name": "stdout",
     "output_type": "stream",
     "text": [
      "Model: \"sequential_4\"\n",
      "_________________________________________________________________\n",
      "Layer (type)                 Output Shape              Param #   \n",
      "=================================================================\n",
      "dense_15 (Dense)             (None, 4)                 16        \n",
      "_________________________________________________________________\n",
      "dense_16 (Dense)             (None, 32)                160       \n",
      "_________________________________________________________________\n",
      "dense_17 (Dense)             (None, 64)                2112      \n",
      "_________________________________________________________________\n",
      "dense_18 (Dense)             (None, 32)                2080      \n",
      "_________________________________________________________________\n",
      "dense_19 (Dense)             (None, 4)                 132       \n",
      "_________________________________________________________________\n",
      "dense_20 (Dense)             (None, 1)                 5         \n",
      "=================================================================\n",
      "Total params: 4,505\n",
      "Trainable params: 4,505\n",
      "Non-trainable params: 0\n",
      "_________________________________________________________________\n"
     ]
    }
   ],
   "source": [
    "model.summary()"
   ]
  },
  {
   "cell_type": "code",
   "execution_count": 100,
   "metadata": {},
   "outputs": [],
   "source": [
    "# model = keras.Sequential([\n",
    "#     kl.Input([3]),\n",
    "#     kl.Dense(1, \"sigmoid\", kernel_regularizer=keras.regularizers.l2(0.001)),\n",
    "# ])"
   ]
  },
  {
   "cell_type": "code",
   "execution_count": 101,
   "metadata": {},
   "outputs": [],
   "source": [
    "model.compile(\"adam\", \"binary_crossentropy\")"
   ]
  },
  {
   "cell_type": "code",
   "execution_count": 102,
   "metadata": {
    "scrolled": true
   },
   "outputs": [
    {
     "name": "stdout",
     "output_type": "stream",
     "text": [
      "Train on 1152585 samples, validate on 494267 samples\n",
      "Epoch 1/10\n",
      "1152585/1152585 [==============================] - 2s 2us/sample - loss: 0.5629 - val_loss: 0.5531\n",
      "Epoch 2/10\n",
      "1152585/1152585 [==============================] - 2s 2us/sample - loss: 0.5538 - val_loss: 0.5537\n",
      "Epoch 3/10\n",
      "1152585/1152585 [==============================] - 2s 2us/sample - loss: 0.5532 - val_loss: 0.5518\n",
      "Epoch 4/10\n",
      "1152585/1152585 [==============================] - 2s 2us/sample - loss: 0.5528 - val_loss: 0.5516\n",
      "Epoch 5/10\n",
      "1152585/1152585 [==============================] - 2s 2us/sample - loss: 0.5527 - val_loss: 0.5529\n",
      "Epoch 6/10\n",
      "1152585/1152585 [==============================] - 2s 2us/sample - loss: 0.5526 - val_loss: 0.5519\n",
      "Epoch 7/10\n",
      "1152585/1152585 [==============================] - 2s 2us/sample - loss: 0.5525 - val_loss: 0.5514\n",
      "Epoch 8/10\n",
      "1152585/1152585 [==============================] - 2s 2us/sample - loss: 0.5524 - val_loss: 0.5515\n",
      "Epoch 9/10\n",
      "1152585/1152585 [==============================] - 2s 2us/sample - loss: 0.5523 - val_loss: 0.5514\n",
      "Epoch 10/10\n",
      "1152585/1152585 [==============================] - 2s 2us/sample - loss: 0.5523 - val_loss: 0.5521\n"
     ]
    },
    {
     "data": {
      "text/plain": [
       "<tensorflow.python.keras.callbacks.History at 0x1eff4402e80>"
      ]
     },
     "execution_count": 102,
     "metadata": {},
     "output_type": "execute_result"
    }
   ],
   "source": [
    "model.fit(x=train_x, y=train_y, validation_data=(valid_x, valid_y), \n",
    "          batch_size=4*1024,\n",
    "         epochs=10, )"
   ]
  },
  {
   "cell_type": "markdown",
   "metadata": {},
   "source": [
    "# Enjoy trained Model"
   ]
  },
  {
   "cell_type": "code",
   "execution_count": 103,
   "metadata": {},
   "outputs": [],
   "source": [
    "TT, XX, YY = np.mgrid[0:20:50j, 0:11, 0:11]"
   ]
  },
  {
   "cell_type": "code",
   "execution_count": 104,
   "metadata": {},
   "outputs": [],
   "source": [
    "UUU = np.stack([TT.flatten(), XX.flatten(), YY.flatten()], axis=-1)\n",
    "ZZ = model.predict(UUU).reshape(XX.shape)"
   ]
  },
  {
   "cell_type": "code",
   "execution_count": 105,
   "metadata": {},
   "outputs": [
    {
     "data": {
      "image/png": "[encoded data removed]",
      "text/plain": [
       "<Figure size 720x720 with 121 Axes>"
      ]
     },
     "metadata": {
      "needs_background": "light"
     },
     "output_type": "display_data"
    }
   ],
   "source": [
    "fig, axs = plt.subplots(11, 11, figsize = [10, 10], sharex=True, sharey=True)\n",
    "for i in range(11):\n",
    "    for j in range(11):\n",
    "        ax = axs[i, j]\n",
    "        ax.plot(TT[:, 0, 0], ZZ[:, i, j])\n",
    "        ax.set_xlim(0, )"
   ]
  },
  {
   "cell_type": "code",
   "execution_count": 106,
   "metadata": {},
   "outputs": [
    {
     "data": {
      "image/png": "[encoded data removed]",
      "text/plain": [
       "<Figure size 864x2016 with 21 Axes>"
      ]
     },
     "metadata": {
      "needs_background": "light"
     },
     "output_type": "display_data"
    }
   ],
   "source": [
    "def plot_for_one_t(t, ax=None):\n",
    "    ax = ax or plt.gca()\n",
    "    ZZ = model.predict(np.array([[t, x, y] for x in xxx for y in xxx]))\n",
    "    ZZ = ZZ.reshape([11, 11])\n",
    "    ax.pcolor(ZZ)\n",
    "    \n",
    "times = np.arange(20)\n",
    "n_cols = 3\n",
    "ax_size = [4, 4]\n",
    "\n",
    "n_rows = int(np.ceil(len(times) / n_cols))\n",
    "figsize = np.array([n_cols, n_rows]) * ax_size\n",
    "fig, axs = plt.subplots(n_rows, n_cols, figsize=figsize)\n",
    "for t, ax in zip(times, axs.flat):\n",
    "    ax.set_title(f\"time={t}\")\n",
    "    plot_for_one_t(t, ax)\n",
    "    "
   ]
  },
  {
   "cell_type": "markdown",
   "metadata": {},
   "source": [
    "### Comparison with exact model"
   ]
  },
  {
   "cell_type": "code",
   "execution_count": 107,
   "metadata": {},
   "outputs": [],
   "source": [
    "df[\"model\"] = model.predict(df[[\"time\", \"home\", \"away\"]])"
   ]
  },
  {
   "cell_type": "code",
   "execution_count": 108,
   "metadata": {},
   "outputs": [
    {
     "data": {
      "text/html": [
       "<div>\n",
       "<style scoped>\n",
       "    .dataframe tbody tr th:only-of-type {\n",
       "        vertical-align: middle;\n",
       "    }\n",
       "\n",
       "    .dataframe tbody tr th {\n",
       "        vertical-align: top;\n",
       "    }\n",
       "\n",
       "    .dataframe thead th {\n",
       "        text-align: right;\n",
       "    }\n",
       "</style>\n",
       "<table border=\"1\" class=\"dataframe\">\n",
       "  <thead>\n",
       "    <tr style=\"text-align: right;\">\n",
       "      <th></th>\n",
       "      <th>id</th>\n",
       "      <th>time</th>\n",
       "      <th>home</th>\n",
       "      <th>away</th>\n",
       "      <th>result</th>\n",
       "      <th>model</th>\n",
       "    </tr>\n",
       "  </thead>\n",
       "  <tbody>\n",
       "    <tr>\n",
       "      <th>0</th>\n",
       "      <td>0</td>\n",
       "      <td>0.000000</td>\n",
       "      <td>0</td>\n",
       "      <td>0</td>\n",
       "      <td>1</td>\n",
       "      <td>0.497428</td>\n",
       "    </tr>\n",
       "    <tr>\n",
       "      <th>1</th>\n",
       "      <td>0</td>\n",
       "      <td>0.642183</td>\n",
       "      <td>0</td>\n",
       "      <td>1</td>\n",
       "      <td>1</td>\n",
       "      <td>0.412256</td>\n",
       "    </tr>\n",
       "    <tr>\n",
       "      <th>2</th>\n",
       "      <td>0</td>\n",
       "      <td>0.788225</td>\n",
       "      <td>0</td>\n",
       "      <td>2</td>\n",
       "      <td>1</td>\n",
       "      <td>0.330966</td>\n",
       "    </tr>\n",
       "    <tr>\n",
       "      <th>3</th>\n",
       "      <td>0</td>\n",
       "      <td>1.607837</td>\n",
       "      <td>0</td>\n",
       "      <td>3</td>\n",
       "      <td>1</td>\n",
       "      <td>0.246314</td>\n",
       "    </tr>\n",
       "    <tr>\n",
       "      <th>4</th>\n",
       "      <td>0</td>\n",
       "      <td>2.237313</td>\n",
       "      <td>1</td>\n",
       "      <td>3</td>\n",
       "      <td>1</td>\n",
       "      <td>0.331495</td>\n",
       "    </tr>\n",
       "  </tbody>\n",
       "</table>\n",
       "</div>"
      ],
      "text/plain": [
       "   id      time  home  away  result     model\n",
       "0   0  0.000000     0     0       1  0.497428\n",
       "1   0  0.642183     0     1       1  0.412256\n",
       "2   0  0.788225     0     2       1  0.330966\n",
       "3   0  1.607837     0     3       1  0.246314\n",
       "4   0  2.237313     1     3       1  0.331495"
      ]
     },
     "execution_count": 108,
     "metadata": {},
     "output_type": "execute_result"
    }
   ],
   "source": [
    "df.head()"
   ]
  },
  {
   "cell_type": "code",
   "execution_count": 109,
   "metadata": {},
   "outputs": [
    {
     "data": {
      "text/plain": [
       "array([[0.5 , 0.41, 0.34, 0.26, 0.18, 0.1 , 0.04, 0.02, 0.01, 0.  ],\n",
       "       [0.59, 0.5 , 0.4 , 0.33, 0.24, 0.15, 0.07, 0.03, 0.01, 0.01],\n",
       "       [0.68, 0.61, 0.5 , 0.4 , 0.31, 0.22, 0.12, 0.05, 0.02, 0.01],\n",
       "       [0.77, 0.72, 0.62, 0.51, 0.39, 0.29, 0.19, 0.09, 0.04, 0.02],\n",
       "       [0.85, 0.8 , 0.74, 0.62, 0.52, 0.4 , 0.28, 0.16, 0.07, 0.03],\n",
       "       [0.93, 0.88, 0.83, 0.75, 0.63, 0.52, 0.39, 0.25, 0.13, 0.06],\n",
       "       [0.97, 0.95, 0.91, 0.85, 0.76, 0.65, 0.52, 0.37, 0.21, 0.1 ],\n",
       "       [0.99, 0.98, 0.96, 0.93, 0.88, 0.8 , 0.69, 0.53, 0.33, 0.16],\n",
       "       [0.99, 0.99, 0.98, 0.97, 0.95, 0.91, 0.85, 0.73, 0.53, 0.29],\n",
       "       [1.  , 1.  , 0.99, 0.99, 0.98, 0.96, 0.94, 0.88, 0.77, 0.53]],\n",
       "      dtype=float32)"
      ]
     },
     "execution_count": 109,
     "metadata": {},
     "output_type": "execute_result"
    }
   ],
   "source": [
    "model_probas = df.pivot_table(\"model\", \"home\", \"away\").values\n",
    "model_probas.round(2)"
   ]
  },
  {
   "cell_type": "code",
   "execution_count": 110,
   "metadata": {},
   "outputs": [],
   "source": [
    "import numpy as np\n",
    "from scipy.special import binom\n",
    "\n",
    "def fun(mu, lamb, x, y):\n",
    "    n = np.arange(y)\n",
    "    return (mu / (lamb + mu))**x * np.sum(binom(n + x - 1, n) * (lamb / (lamb + mu))**n ) \n",
    "\n",
    "def ppst( domaci, hoste):\n",
    "    if domaci == 10:\n",
    "        return 1\n",
    "    return fun(1, 1, 10 - domaci, 10 - hoste)"
   ]
  },
  {
   "cell_type": "code",
   "execution_count": 111,
   "metadata": {},
   "outputs": [],
   "source": [
    "exact_probas = np.array(\n",
    "    [\n",
    "        [ppst(i, j) for j in range(10)] \n",
    "        for i in range(10)\n",
    "    ]\n",
    ")"
   ]
  },
  {
   "cell_type": "code",
   "execution_count": 112,
   "metadata": {},
   "outputs": [
    {
     "data": {
      "text/plain": [
       "array([[0.5 , 0.41, 0.31, 0.23, 0.15, 0.09, 0.05, 0.02, 0.01, 0.  ],\n",
       "       [0.59, 0.5 , 0.4 , 0.3 , 0.21, 0.13, 0.07, 0.03, 0.01, 0.  ],\n",
       "       [0.69, 0.6 , 0.5 , 0.4 , 0.29, 0.19, 0.11, 0.05, 0.02, 0.  ],\n",
       "       [0.77, 0.7 , 0.6 , 0.5 , 0.39, 0.27, 0.17, 0.09, 0.04, 0.01],\n",
       "       [0.85, 0.79, 0.71, 0.61, 0.5 , 0.38, 0.25, 0.14, 0.06, 0.02],\n",
       "       [0.91, 0.87, 0.81, 0.73, 0.62, 0.5 , 0.36, 0.23, 0.11, 0.03],\n",
       "       [0.95, 0.93, 0.89, 0.83, 0.75, 0.64, 0.5 , 0.34, 0.19, 0.06],\n",
       "       [0.98, 0.97, 0.95, 0.91, 0.86, 0.77, 0.66, 0.5 , 0.31, 0.12],\n",
       "       [0.99, 0.99, 0.98, 0.96, 0.94, 0.89, 0.81, 0.69, 0.5 , 0.25],\n",
       "       [1.  , 1.  , 1.  , 0.99, 0.98, 0.97, 0.94, 0.88, 0.75, 0.5 ]])"
      ]
     },
     "execution_count": 112,
     "metadata": {},
     "output_type": "execute_result"
    }
   ],
   "source": [
    "np.round(exact_probas, 2)"
   ]
  },
  {
   "cell_type": "code",
   "execution_count": 113,
   "metadata": {},
   "outputs": [
    {
     "data": {
      "text/plain": [
       "0.044075846672058105"
      ]
     },
     "execution_count": 113,
     "metadata": {},
     "output_type": "execute_result"
    }
   ],
   "source": [
    "(model_probas - exact_probas).max()"
   ]
  },
  {
   "cell_type": "code",
   "execution_count": 114,
   "metadata": {},
   "outputs": [
    {
     "name": "stdout",
     "output_type": "stream",
     "text": [
      "[[-0.    0.    0.03  0.04  0.03  0.01 -0.   -0.    0.    0.  ]\n",
      " [-0.   -0.   -0.    0.02  0.03  0.02 -0.   -0.    0.    0.  ]\n",
      " [-0.    0.01  0.    0.    0.02  0.03  0.01 -0.    0.    0.01]\n",
      " [-0.    0.02  0.01  0.01  0.01  0.02  0.02  0.    0.01  0.01]\n",
      " [-0.    0.01  0.03  0.01  0.02  0.02  0.02  0.01  0.01  0.02]\n",
      " [ 0.02  0.01  0.02  0.02  0.01  0.02  0.03  0.02  0.02  0.02]\n",
      " [ 0.02  0.02  0.02  0.02  0.02  0.01  0.02  0.03  0.02  0.04]\n",
      " [ 0.01  0.01  0.02  0.02  0.03  0.03  0.03  0.03  0.02  0.04]\n",
      " [-0.    0.    0.    0.01  0.01  0.02  0.03  0.04  0.03  0.04]\n",
      " [-0.   -0.   -0.   -0.   -0.   -0.   -0.    0.01  0.02  0.03]]\n"
     ]
    }
   ],
   "source": [
    "print((model_probas - exact_probas).round(2))"
   ]
  },
  {
   "cell_type": "code",
   "execution_count": 97,
   "metadata": {},
   "outputs": [
    {
     "data": {
      "text/plain": [
       "array([[0.5 , 0.41, 0.31, 0.23, 0.15, 0.09, 0.06, 0.02, 0.01, 0.  ],\n",
       "       [0.59, 0.5 , 0.4 , 0.3 , 0.21, 0.13, 0.07, 0.03, 0.01, 0.  ],\n",
       "       [0.69, 0.6 , 0.5 , 0.39, 0.29, 0.19, 0.12, 0.06, 0.02, 0.  ],\n",
       "       [0.78, 0.7 , 0.61, 0.5 , 0.39, 0.27, 0.17, 0.09, 0.03, 0.01],\n",
       "       [0.85, 0.79, 0.71, 0.61, 0.5 , 0.38, 0.25, 0.15, 0.06, 0.02],\n",
       "       [0.91, 0.87, 0.81, 0.72, 0.62, 0.5 , 0.36, 0.23, 0.11, 0.03],\n",
       "       [0.95, 0.93, 0.89, 0.83, 0.75, 0.63, 0.49, 0.34, 0.19, 0.06],\n",
       "       [0.98, 0.97, 0.95, 0.91, 0.86, 0.78, 0.66, 0.5 , 0.31, 0.13],\n",
       "       [0.99, 0.99, 0.98, 0.97, 0.94, 0.89, 0.81, 0.69, 0.5 , 0.25],\n",
       "       [1.  , 1.  , 1.  , 0.99, 0.99, 0.97, 0.94, 0.87, 0.75, 0.5 ]])"
      ]
     },
     "execution_count": 97,
     "metadata": {},
     "output_type": "execute_result"
    }
   ],
   "source": [
    "obs_probas = df.pivot_table(\"result\", \"home\", \"away\", ).values\n",
    "np.round(obs_probas, 2)"
   ]
  },
  {
   "cell_type": "code",
   "execution_count": 33,
   "metadata": {},
   "outputs": [
    {
     "data": {
      "text/plain": [
       "0.12916826769193482"
      ]
     },
     "execution_count": 33,
     "metadata": {},
     "output_type": "execute_result"
    }
   ],
   "source": [
    "(model_probas - obs_probas).max()"
   ]
  },
  {
   "cell_type": "code",
   "execution_count": 131,
   "metadata": {},
   "outputs": [
    {
     "data": {
      "text/plain": [
       "0.006223516949152519"
      ]
     },
     "execution_count": 131,
     "metadata": {},
     "output_type": "execute_result"
    }
   ],
   "source": [
    "(exact_probas - obs_probas)[:-1, :-1].max()"
   ]
  },
  {
   "cell_type": "code",
   "execution_count": null,
   "metadata": {},
   "outputs": [],
   "source": [
    "model_probas "
   ]
  },
  {
   "cell_type": "code",
   "execution_count": 30,
   "metadata": {},
   "outputs": [
    {
     "data": {
      "text/plain": [
       "<matplotlib.colorbar.Colorbar at 0x1eff0266b38>"
      ]
     },
     "execution_count": 30,
     "metadata": {},
     "output_type": "execute_result"
    },
    {
     "data": {
      "image/png": "[encoded data removed]",
      "text/plain": [
       "<Figure size 432x288 with 2 Axes>"
      ]
     },
     "metadata": {
      "needs_background": "light"
     },
     "output_type": "display_data"
    }
   ],
   "source": [
    "im = plt.pcolor(model_probas - exact_probas)\n",
    "plt.colorbar(im)"
   ]
  },
  {
   "cell_type": "code",
   "execution_count": 136,
   "metadata": {},
   "outputs": [
    {
     "name": "stdout",
     "output_type": "stream",
     "text": [
      "[[ 0.04  0.05  0.04  0.02  0.02  0.04  0.07  0.09  0.1   0.1   0.1 ]\n",
      " [ 0.03  0.04  0.04  0.02  0.01  0.02  0.05  0.08  0.09  0.1   0.1 ]\n",
      " [ 0.04  0.05  0.04  0.03  0.    0.    0.03  0.06  0.09  0.1   0.1 ]\n",
      " [ 0.04  0.06  0.06  0.05  0.02 -0.01  0.    0.04  0.08  0.1   0.1 ]\n",
      " [ 0.01  0.04  0.06  0.07  0.05  0.01 -0.01  0.02  0.06  0.1   0.11]\n",
      " [-0.02  0.    0.04  0.07  0.08  0.05  0.   -0.01  0.04  0.09  0.11]\n",
      " [-0.06 -0.04 -0.01  0.03  0.06  0.08  0.05  0.    0.02  0.08  0.12]\n",
      " [-0.08 -0.07 -0.05 -0.03  0.01  0.05  0.07  0.05  0.02  0.07  0.14]\n",
      " [-0.09 -0.09 -0.08 -0.07 -0.05 -0.02  0.02  0.05  0.05  0.07  0.19]\n",
      " [-0.1  -0.1  -0.1  -0.09 -0.09 -0.08 -0.06 -0.04 -0.01  0.04  0.31]\n",
      " [-0.1  -0.1  -0.1  -0.1  -0.1  -0.1  -0.11 -0.13 -0.16 -0.26 -0.47]]\n"
     ]
    }
   ],
   "source": [
    "print((model_probas - exact_probas).round(2))"
   ]
  },
  {
   "cell_type": "code",
   "execution_count": 141,
   "metadata": {},
   "outputs": [
    {
     "data": {
      "text/html": [
       "<div>\n",
       "<style scoped>\n",
       "    .dataframe tbody tr th:only-of-type {\n",
       "        vertical-align: middle;\n",
       "    }\n",
       "\n",
       "    .dataframe tbody tr th {\n",
       "        vertical-align: top;\n",
       "    }\n",
       "\n",
       "    .dataframe thead th {\n",
       "        text-align: right;\n",
       "    }\n",
       "</style>\n",
       "<table border=\"1\" class=\"dataframe\">\n",
       "  <thead>\n",
       "    <tr style=\"text-align: right;\">\n",
       "      <th>away</th>\n",
       "      <th>0</th>\n",
       "      <th>1</th>\n",
       "      <th>2</th>\n",
       "      <th>3</th>\n",
       "      <th>4</th>\n",
       "      <th>5</th>\n",
       "      <th>6</th>\n",
       "      <th>7</th>\n",
       "      <th>8</th>\n",
       "      <th>9</th>\n",
       "      <th>10</th>\n",
       "    </tr>\n",
       "    <tr>\n",
       "      <th>home</th>\n",
       "      <th></th>\n",
       "      <th></th>\n",
       "      <th></th>\n",
       "      <th></th>\n",
       "      <th></th>\n",
       "      <th></th>\n",
       "      <th></th>\n",
       "      <th></th>\n",
       "      <th></th>\n",
       "      <th></th>\n",
       "      <th></th>\n",
       "    </tr>\n",
       "  </thead>\n",
       "  <tbody>\n",
       "    <tr>\n",
       "      <th>0</th>\n",
       "      <td>100000.0</td>\n",
       "      <td>49991.0</td>\n",
       "      <td>24882.0</td>\n",
       "      <td>12450.0</td>\n",
       "      <td>6105.0</td>\n",
       "      <td>3050.0</td>\n",
       "      <td>1517.0</td>\n",
       "      <td>762.0</td>\n",
       "      <td>389.0</td>\n",
       "      <td>202.0</td>\n",
       "      <td>97.0</td>\n",
       "    </tr>\n",
       "    <tr>\n",
       "      <th>1</th>\n",
       "      <td>50009.0</td>\n",
       "      <td>50126.0</td>\n",
       "      <td>37291.0</td>\n",
       "      <td>24968.0</td>\n",
       "      <td>15603.0</td>\n",
       "      <td>9445.0</td>\n",
       "      <td>5524.0</td>\n",
       "      <td>3043.0</td>\n",
       "      <td>1722.0</td>\n",
       "      <td>934.0</td>\n",
       "      <td>441.0</td>\n",
       "    </tr>\n",
       "    <tr>\n",
       "      <th>2</th>\n",
       "      <td>24992.0</td>\n",
       "      <td>37786.0</td>\n",
       "      <td>37635.0</td>\n",
       "      <td>31287.0</td>\n",
       "      <td>23309.0</td>\n",
       "      <td>16300.0</td>\n",
       "      <td>11061.0</td>\n",
       "      <td>6951.0</td>\n",
       "      <td>4379.0</td>\n",
       "      <td>2714.0</td>\n",
       "      <td>1394.0</td>\n",
       "    </tr>\n",
       "    <tr>\n",
       "      <th>3</th>\n",
       "      <td>12473.0</td>\n",
       "      <td>25014.0</td>\n",
       "      <td>31259.0</td>\n",
       "      <td>31390.0</td>\n",
       "      <td>27357.0</td>\n",
       "      <td>21704.0</td>\n",
       "      <td>16424.0</td>\n",
       "      <td>11748.0</td>\n",
       "      <td>8027.0</td>\n",
       "      <td>5315.0</td>\n",
       "      <td>2651.0</td>\n",
       "    </tr>\n",
       "    <tr>\n",
       "      <th>4</th>\n",
       "      <td>6278.0</td>\n",
       "      <td>15676.0</td>\n",
       "      <td>23413.0</td>\n",
       "      <td>27353.0</td>\n",
       "      <td>27422.0</td>\n",
       "      <td>24706.0</td>\n",
       "      <td>20438.0</td>\n",
       "      <td>16101.0</td>\n",
       "      <td>12075.0</td>\n",
       "      <td>8748.0</td>\n",
       "      <td>4408.0</td>\n",
       "    </tr>\n",
       "    <tr>\n",
       "      <th>5</th>\n",
       "      <td>3125.0</td>\n",
       "      <td>9393.0</td>\n",
       "      <td>16479.0</td>\n",
       "      <td>21781.0</td>\n",
       "      <td>24628.0</td>\n",
       "      <td>24728.0</td>\n",
       "      <td>22615.0</td>\n",
       "      <td>19275.0</td>\n",
       "      <td>15723.0</td>\n",
       "      <td>12165.0</td>\n",
       "      <td>6086.0</td>\n",
       "    </tr>\n",
       "    <tr>\n",
       "      <th>6</th>\n",
       "      <td>1533.0</td>\n",
       "      <td>5460.0</td>\n",
       "      <td>11059.0</td>\n",
       "      <td>16273.0</td>\n",
       "      <td>20475.0</td>\n",
       "      <td>22605.0</td>\n",
       "      <td>22656.0</td>\n",
       "      <td>20891.0</td>\n",
       "      <td>18457.0</td>\n",
       "      <td>15323.0</td>\n",
       "      <td>7875.0</td>\n",
       "    </tr>\n",
       "    <tr>\n",
       "      <th>7</th>\n",
       "      <td>765.0</td>\n",
       "      <td>3167.0</td>\n",
       "      <td>7131.0</td>\n",
       "      <td>11666.0</td>\n",
       "      <td>15965.0</td>\n",
       "      <td>19256.0</td>\n",
       "      <td>20867.0</td>\n",
       "      <td>20858.0</td>\n",
       "      <td>19626.0</td>\n",
       "      <td>17379.0</td>\n",
       "      <td>8699.0</td>\n",
       "    </tr>\n",
       "    <tr>\n",
       "      <th>8</th>\n",
       "      <td>374.0</td>\n",
       "      <td>1775.0</td>\n",
       "      <td>4492.0</td>\n",
       "      <td>8119.0</td>\n",
       "      <td>12063.0</td>\n",
       "      <td>15720.0</td>\n",
       "      <td>18267.0</td>\n",
       "      <td>19536.0</td>\n",
       "      <td>19459.0</td>\n",
       "      <td>18304.0</td>\n",
       "      <td>9131.0</td>\n",
       "    </tr>\n",
       "    <tr>\n",
       "      <th>9</th>\n",
       "      <td>188.0</td>\n",
       "      <td>954.0</td>\n",
       "      <td>2740.0</td>\n",
       "      <td>5461.0</td>\n",
       "      <td>8756.0</td>\n",
       "      <td>12124.0</td>\n",
       "      <td>15352.0</td>\n",
       "      <td>17386.0</td>\n",
       "      <td>18621.0</td>\n",
       "      <td>18489.0</td>\n",
       "      <td>9218.0</td>\n",
       "    </tr>\n",
       "    <tr>\n",
       "      <th>10</th>\n",
       "      <td>89.0</td>\n",
       "      <td>487.0</td>\n",
       "      <td>1391.0</td>\n",
       "      <td>2745.0</td>\n",
       "      <td>4426.0</td>\n",
       "      <td>5948.0</td>\n",
       "      <td>7738.0</td>\n",
       "      <td>8600.0</td>\n",
       "      <td>9305.0</td>\n",
       "      <td>9271.0</td>\n",
       "      <td>NaN</td>\n",
       "    </tr>\n",
       "  </tbody>\n",
       "</table>\n",
       "</div>"
      ],
      "text/plain": [
       "away        0        1        2        3        4        5        6        7   \\\n",
       "home                                                                            \n",
       "0     100000.0  49991.0  24882.0  12450.0   6105.0   3050.0   1517.0    762.0   \n",
       "1      50009.0  50126.0  37291.0  24968.0  15603.0   9445.0   5524.0   3043.0   \n",
       "2      24992.0  37786.0  37635.0  31287.0  23309.0  16300.0  11061.0   6951.0   \n",
       "3      12473.0  25014.0  31259.0  31390.0  27357.0  21704.0  16424.0  11748.0   \n",
       "4       6278.0  15676.0  23413.0  27353.0  27422.0  24706.0  20438.0  16101.0   \n",
       "5       3125.0   9393.0  16479.0  21781.0  24628.0  24728.0  22615.0  19275.0   \n",
       "6       1533.0   5460.0  11059.0  16273.0  20475.0  22605.0  22656.0  20891.0   \n",
       "7        765.0   3167.0   7131.0  11666.0  15965.0  19256.0  20867.0  20858.0   \n",
       "8        374.0   1775.0   4492.0   8119.0  12063.0  15720.0  18267.0  19536.0   \n",
       "9        188.0    954.0   2740.0   5461.0   8756.0  12124.0  15352.0  17386.0   \n",
       "10        89.0    487.0   1391.0   2745.0   4426.0   5948.0   7738.0   8600.0   \n",
       "\n",
       "away       8        9       10  \n",
       "home                            \n",
       "0       389.0    202.0    97.0  \n",
       "1      1722.0    934.0   441.0  \n",
       "2      4379.0   2714.0  1394.0  \n",
       "3      8027.0   5315.0  2651.0  \n",
       "4     12075.0   8748.0  4408.0  \n",
       "5     15723.0  12165.0  6086.0  \n",
       "6     18457.0  15323.0  7875.0  \n",
       "7     19626.0  17379.0  8699.0  \n",
       "8     19459.0  18304.0  9131.0  \n",
       "9     18621.0  18489.0  9218.0  \n",
       "10     9305.0   9271.0     NaN  "
      ]
     },
     "execution_count": 141,
     "metadata": {},
     "output_type": "execute_result"
    }
   ],
   "source": [
    "df.pivot_table(\"result\", \"home\", \"away\", aggfunc=\"count\")"
   ]
  },
  {
   "cell_type": "code",
   "execution_count": null,
   "metadata": {},
   "outputs": [],
   "source": []
  }
 ],
 "metadata": {
  "kernelspec": {
   "display_name": "Python 3",
   "language": "python",
   "name": "python3"
  },
  "language_info": {
   "codemirror_mode": {
    "name": "ipython",
    "version": 3
   },
   "file_extension": ".py",
   "mimetype": "text/x-python",
   "name": "python",
   "nbconvert_exporter": "python",
   "pygments_lexer": "ipython3",
   "version": "3.6.6"
  }
 },
 "nbformat": 4,
 "nbformat_minor": 2
}

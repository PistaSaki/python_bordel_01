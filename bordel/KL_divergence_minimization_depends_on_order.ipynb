{
 "cells": [
  {
   "cell_type": "code",
   "execution_count": 1,
   "metadata": {},
   "outputs": [],
   "source": [
    "import sympy as sp\n",
    "sp.init_printing()"
   ]
  },
  {
   "cell_type": "code",
   "execution_count": 18,
   "metadata": {},
   "outputs": [],
   "source": [
    "from scipy.integrate import quad"
   ]
  },
  {
   "cell_type": "code",
   "execution_count": 2,
   "metadata": {},
   "outputs": [],
   "source": [
    "import numpy as np\n",
    "import matplotlib.pyplot as pl"
   ]
  },
  {
   "cell_type": "code",
   "execution_count": 3,
   "metadata": {},
   "outputs": [
    {
     "data": {
      "image/png": "[encoded data removed]",
      "text/latex": [
       "$$x$$"
      ],
      "text/plain": [
       "x"
      ]
     },
     "execution_count": 3,
     "metadata": {},
     "output_type": "execute_result"
    }
   ],
   "source": [
    "x, mu =sp.symbols(\"x mu\")"
   ]
  },
  {
   "cell_type": "code",
   "execution_count": 5,
   "metadata": {},
   "outputs": [],
   "source": [
    "def gauss_pdf(x, mu, sigma):\n",
    "    return 1/sp.sqrt(2 * sp.pi * sigma**2) * sp.exp(-(x - mu)**2 / (2 * sigma**2))"
   ]
  },
  {
   "cell_type": "code",
   "execution_count": 6,
   "metadata": {},
   "outputs": [],
   "source": [
    "q = gauss_pdf(x, mu, 1)"
   ]
  },
  {
   "cell_type": "code",
   "execution_count": 7,
   "metadata": {},
   "outputs": [
    {
     "data": {
      "image/png": "[encoded data removed]",
      "text/latex": [
       "$$\\frac{\\sqrt{2} e^{- \\frac{\\left(- \\mu + x\\right)^{2}}{2}}}{2 \\sqrt{\\pi}}$$"
      ],
      "text/plain": [
       "             2 \n",
       "    -(-μ + x)  \n",
       "    ───────────\n",
       "         2     \n",
       "√2⋅ℯ           \n",
       "───────────────\n",
       "      2⋅√π     "
      ]
     },
     "execution_count": 7,
     "metadata": {},
     "output_type": "execute_result"
    }
   ],
   "source": [
    "q"
   ]
  },
  {
   "cell_type": "code",
   "execution_count": 62,
   "metadata": {},
   "outputs": [],
   "source": [
    "p = 1/2 * gauss_pdf(x, -2, 1) + 1/2 * gauss_pdf(x, 2, 1)"
   ]
  },
  {
   "cell_type": "code",
   "execution_count": 9,
   "metadata": {},
   "outputs": [
    {
     "data": {
      "image/png": "[encoded data removed]",
      "text/latex": [
       "$$\\frac{0.25 \\sqrt{2} e^{- \\frac{\\left(x - 1\\right)^{2}}{2}}}{\\sqrt{\\pi}} + \\frac{0.25 \\sqrt{2} e^{- \\frac{x^{2}}{2}}}{\\sqrt{\\pi}}$$"
      ],
      "text/plain": [
       "                 2               2 \n",
       "         -(x - 1)              -x  \n",
       "         ──────────            ────\n",
       "             2                  2  \n",
       "0.25⋅√2⋅ℯ             0.25⋅√2⋅ℯ    \n",
       "─────────────────── + ─────────────\n",
       "         √π                 √π     "
      ]
     },
     "execution_count": 9,
     "metadata": {},
     "output_type": "execute_result"
    }
   ],
   "source": [
    "p"
   ]
  },
  {
   "cell_type": "code",
   "execution_count": 10,
   "metadata": {},
   "outputs": [
    {
     "data": {
      "image/png": "[encoded data removed]",
      "text/latex": [
       "$$0.1994711402 e^{- \\frac{\\left(x - 1\\right)^{2}}{2}} + 0.1994711402 e^{- \\frac{x^{2}}{2}}$$"
      ],
      "text/plain": [
       "                      2                    2 \n",
       "              -(x - 1)                   -x  \n",
       "              ──────────                 ────\n",
       "                  2                       2  \n",
       "0.1994711402⋅ℯ           + 0.1994711402⋅ℯ    "
      ]
     },
     "execution_count": 10,
     "metadata": {},
     "output_type": "execute_result"
    }
   ],
   "source": [
    "p.evalf(10, {x:np.linspace(-2, 3, 200)})"
   ]
  },
  {
   "cell_type": "code",
   "execution_count": 11,
   "metadata": {},
   "outputs": [
    {
     "data": {
      "image/png": "[encoded data removed]",
      "text/latex": [
       "$$\\frac{\\operatorname{erf}{\\left (\\frac{\\sqrt{2} \\left(- \\mu + x\\right)}{2} \\right )}}{2}$$"
      ],
      "text/plain": [
       "   ⎛√2⋅(-μ + x)⎞\n",
       "erf⎜───────────⎟\n",
       "   ⎝     2     ⎠\n",
       "────────────────\n",
       "       2        "
      ]
     },
     "execution_count": 11,
     "metadata": {},
     "output_type": "execute_result"
    }
   ],
   "source": [
    "sp.integrate(q, x, )"
   ]
  },
  {
   "cell_type": "code",
   "execution_count": 12,
   "metadata": {},
   "outputs": [
    {
     "data": {
      "image/png": "[encoded data removed]",
      "text/latex": [
       "$$1$$"
      ],
      "text/plain": [
       "1"
      ]
     },
     "execution_count": 12,
     "metadata": {},
     "output_type": "execute_result"
    }
   ],
   "source": [
    "sp.integrate(q, (x, -sp.oo, sp.oo), ).simplify()"
   ]
  },
  {
   "cell_type": "code",
   "execution_count": 16,
   "metadata": {},
   "outputs": [],
   "source": [
    "#sp.integrate( p * sp.log(p/q), (x, -sp.oo, sp.oo))"
   ]
  },
  {
   "cell_type": "code",
   "execution_count": 14,
   "metadata": {},
   "outputs": [
    {
     "data": {
      "text/plain": [
       "'1.2'"
      ]
     },
     "execution_count": 14,
     "metadata": {},
     "output_type": "execute_result"
    }
   ],
   "source": [
    "sp.__version__"
   ]
  },
  {
   "cell_type": "code",
   "execution_count": 47,
   "metadata": {},
   "outputs": [],
   "source": [
    "def KL_p_q(mu_val):\n",
    "    f = p * sp.log(p/q)\n",
    "    f = f.subs(mu, mu_val)\n",
    "    f = sp.lambdify([x], f)\n",
    "    return quad(f, -10, 10)[0]"
   ]
  },
  {
   "cell_type": "code",
   "execution_count": 57,
   "metadata": {},
   "outputs": [],
   "source": [
    "def KL_q_p(mu_val):\n",
    "    f = q * sp.log(q/p)\n",
    "    f = f.subs(mu, mu_val)\n",
    "    f = sp.lambdify([x], f)\n",
    "    return quad(f, -10, 10)[0]"
   ]
  },
  {
   "cell_type": "code",
   "execution_count": 64,
   "metadata": {},
   "outputs": [
    {
     "data": {
      "text/plain": [
       "[<matplotlib.lines.Line2D at 0x1b6bb986668>]"
      ]
     },
     "execution_count": 64,
     "metadata": {},
     "output_type": "execute_result"
    },
    {
     "data": {
      "image/png": "[encoded data removed]",
      "text/plain": [
       "<Figure size 432x288 with 1 Axes>"
      ]
     },
     "metadata": {
      "needs_background": "light"
     },
     "output_type": "display_data"
    }
   ],
   "source": [
    "mu_vals = np.linspace(-5, 5, 100)\n",
    "vals = [KL_p_q(mu_val) for mu_val in mu_vals]\n",
    "pl.plot(mu_vals, vals)"
   ]
  },
  {
   "cell_type": "code",
   "execution_count": 65,
   "metadata": {},
   "outputs": [
    {
     "data": {
      "text/plain": [
       "[<matplotlib.lines.Line2D at 0x1b6bb9d79e8>]"
      ]
     },
     "execution_count": 65,
     "metadata": {},
     "output_type": "execute_result"
    },
    {
     "data": {
      "image/png": "[encoded data removed]",
      "text/plain": [
       "<Figure size 432x288 with 1 Axes>"
      ]
     },
     "metadata": {
      "needs_background": "light"
     },
     "output_type": "display_data"
    }
   ],
   "source": [
    "mu_vals = np.linspace(-5, 5, 100)\n",
    "vals = [KL_q_p(mu_val) for mu_val in mu_vals]\n",
    "pl.plot(mu_vals, vals)"
   ]
  },
  {
   "cell_type": "code",
   "execution_count": 45,
   "metadata": {},
   "outputs": [
    {
     "data": {
      "image/png": "[encoded data removed]",
      "text/latex": [
       "$$\\frac{0.25 \\sqrt{2} \\left(e^{\\frac{x^{2}}{2}} + e^{\\frac{\\left(x - 1\\right)^{2}}{2}}\\right) \\left(\\log{\\left (\\left(e^{\\frac{x^{2}}{2}} + e^{\\frac{\\left(x - 1\\right)^{2}}{2}}\\right) e^{- \\frac{x^{2}}{2} + \\frac{\\left(\\mu - x\\right)^{2}}{2} - \\frac{\\left(x - 1\\right)^{2}}{2}} \\right )} - 0.693147180559945\\right) e^{- \\frac{x^{2}}{2} - \\frac{\\left(x - 1\\right)^{2}}{2}}}{\\sqrt{\\pi}}$$"
      ],
      "text/plain": [
       "        ⎛  2           2⎞ ⎛   ⎛⎛  2           2⎞     2          2          2⎞ \n",
       "        ⎜ x     (x - 1) ⎟ ⎜   ⎜⎜ x     (x - 1) ⎟    x    (μ - x)    (x - 1) ⎟ \n",
       "        ⎜ ──    ────────⎟ ⎜   ⎜⎜ ──    ────────⎟  - ── + ──────── - ────────⎟ \n",
       "        ⎜ 2        2    ⎟ ⎜   ⎜⎜ 2        2    ⎟    2       2          2    ⎟ \n",
       "0.25⋅√2⋅⎝ℯ   + ℯ        ⎠⋅⎝log⎝⎝ℯ   + ℯ        ⎠⋅ℯ                          ⎠ \n",
       "──────────────────────────────────────────────────────────────────────────────\n",
       "                                                         √π                   \n",
       "\n",
       "                   ⎞     2          2\n",
       "                   ⎟    x    (x - 1) \n",
       "                   ⎟  - ── - ────────\n",
       "                   ⎟    2       2    \n",
       "- 0.693147180559945⎠⋅ℯ               \n",
       "─────────────────────────────────────\n",
       "                                     "
      ]
     },
     "execution_count": 45,
     "metadata": {},
     "output_type": "execute_result"
    }
   ],
   "source": [
    "f = p * sp.log(p/q)\n",
    "f.simplify()"
   ]
  },
  {
   "cell_type": "code",
   "execution_count": null,
   "metadata": {},
   "outputs": [],
   "source": []
  },
  {
   "cell_type": "code",
   "execution_count": 46,
   "metadata": {},
   "outputs": [
    {
     "data": {
      "image/png": "[encoded data removed]",
      "text/latex": [
       "$$\\frac{0.25 \\sqrt{2} \\left(e^{\\frac{x^{2}}{2}} + e^{\\frac{\\left(x - 1\\right)^{2}}{2}}\\right) \\left(\\log{\\left (\\left(e^{\\frac{x^{2}}{2}} + e^{\\frac{\\left(x - 1\\right)^{2}}{2}}\\right) e^{- \\frac{x^{2}}{2} + \\frac{\\left(x - 200\\right)^{2}}{2} - \\frac{\\left(x - 1\\right)^{2}}{2}} \\right )} - 0.693147180559945\\right) e^{- \\frac{x^{2}}{2} - \\frac{\\left(x - 1\\right)^{2}}{2}}}{\\sqrt{\\pi}}$$"
      ],
      "text/plain": [
       "        ⎛  2           2⎞ ⎛   ⎛⎛  2           2⎞     2            2          2\n",
       "        ⎜ x     (x - 1) ⎟ ⎜   ⎜⎜ x     (x - 1) ⎟    x    (x - 200)    (x - 1) \n",
       "        ⎜ ──    ────────⎟ ⎜   ⎜⎜ ──    ────────⎟  - ── + ────────── - ────────\n",
       "        ⎜ 2        2    ⎟ ⎜   ⎜⎜ 2        2    ⎟    2        2           2    \n",
       "0.25⋅√2⋅⎝ℯ   + ℯ        ⎠⋅⎝log⎝⎝ℯ   + ℯ        ⎠⋅ℯ                            \n",
       "──────────────────────────────────────────────────────────────────────────────\n",
       "                                                          √π                  \n",
       "\n",
       "⎞                    ⎞     2          2\n",
       "⎟                    ⎟    x    (x - 1) \n",
       "⎟                    ⎟  - ── - ────────\n",
       "⎟                    ⎟    2       2    \n",
       "⎠ - 0.693147180559945⎠⋅ℯ               \n",
       "───────────────────────────────────────\n",
       "                                       "
      ]
     },
     "execution_count": 46,
     "metadata": {},
     "output_type": "execute_result"
    }
   ],
   "source": [
    "f = f.subs({mu: 200})\n",
    "f.simplify()"
   ]
  },
  {
   "cell_type": "code",
   "execution_count": 33,
   "metadata": {},
   "outputs": [
    {
     "data": {
      "image/png": "[encoded data removed]",
      "text/latex": [
       "$$\\frac{0.25 \\sqrt{2} \\left(e^{x} + e^{\\frac{1}{2}}\\right) e^{- \\frac{x^{2}}{2} - \\frac{1}{2}}}{\\sqrt{\\pi}}$$"
      ],
      "text/plain": [
       "                        2    \n",
       "                       x    1\n",
       "                     - ── - ─\n",
       "        ⎛ x    1/2⎞    2    2\n",
       "0.25⋅√2⋅⎝ℯ  + ℯ   ⎠⋅ℯ        \n",
       "─────────────────────────────\n",
       "              √π             "
      ]
     },
     "execution_count": 33,
     "metadata": {},
     "output_type": "execute_result"
    }
   ],
   "source": [
    "f = p.subs(mu, 2)\n",
    "f.simplify()"
   ]
  },
  {
   "cell_type": "code",
   "execution_count": null,
   "metadata": {},
   "outputs": [],
   "source": [
    "f = sp.lambdify([x], f)\n",
    "quad(f, -10, 10)[0]"
   ]
  },
  {
   "cell_type": "code",
   "execution_count": null,
   "metadata": {},
   "outputs": [],
   "source": []
  },
  {
   "cell_type": "code",
   "execution_count": 41,
   "metadata": {},
   "outputs": [
    {
     "data": {
      "image/png": "[encoded data removed]",
      "text/latex": [
       "$$\\mu x$$"
      ],
      "text/plain": [
       "μ⋅x"
      ]
     },
     "execution_count": 41,
     "metadata": {},
     "output_type": "execute_result"
    }
   ],
   "source": [
    "f = x * mu\n",
    "f"
   ]
  },
  {
   "cell_type": "code",
   "execution_count": 43,
   "metadata": {},
   "outputs": [
    {
     "data": {
      "image/png": "[encoded data removed]",
      "text/latex": [
       "$$x$$"
      ],
      "text/plain": [
       "x"
      ]
     },
     "execution_count": 43,
     "metadata": {},
     "output_type": "execute_result"
    }
   ],
   "source": [
    "f.subs(mu, 1)"
   ]
  },
  {
   "cell_type": "code",
   "execution_count": 63,
   "metadata": {},
   "outputs": [
    {
     "data": {
      "text/plain": [
       "[<matplotlib.lines.Line2D at 0x1b6bb8b0b00>]"
      ]
     },
     "execution_count": 63,
     "metadata": {},
     "output_type": "execute_result"
    },
    {
     "data": {
      "image/png": "[encoded data removed]",
      "text/plain": [
       "<Figure size 432x288 with 1 Axes>"
      ]
     },
     "metadata": {
      "needs_background": "light"
     },
     "output_type": "display_data"
    }
   ],
   "source": [
    "xxx = np.linspace(-10, 10,200)\n",
    "pl.plot( xxx, [p.subs({x:v}) for v in xxx])"
   ]
  },
  {
   "cell_type": "code",
   "execution_count": null,
   "metadata": {},
   "outputs": [],
   "source": []
  }
 ],
 "metadata": {
  "kernelspec": {
   "display_name": "Python 3",
   "language": "python",
   "name": "python3"
  },
  "language_info": {
   "codemirror_mode": {
    "name": "ipython",
    "version": 3
   },
   "file_extension": ".py",
   "mimetype": "text/x-python",
   "name": "python",
   "nbconvert_exporter": "python",
   "pygments_lexer": "ipython3",
   "version": "3.6.6"
  }
 },
 "nbformat": 4,
 "nbformat_minor": 2
}

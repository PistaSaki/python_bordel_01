{
 "cells": [
  {
   "cell_type": "code",
   "execution_count": 3,
   "metadata": {
    "collapsed": true
   },
   "outputs": [],
   "source": [
    "import numpy as np\n",
    "import numpy.linalg as la\n",
    "import tensorflow as tf"
   ]
  },
  {
   "cell_type": "code",
   "execution_count": 11,
   "metadata": {
    "collapsed": true
   },
   "outputs": [],
   "source": [
    "## choose our matrix\n",
    "A = np.array([\n",
    "        [ 0.13006589, -0.12793152],\n",
    "        [-0.04599907, -0.04176966],\n",
    "        [ 0.        , -0.        ],\n",
    "    ])\n"
   ]
  },
  {
   "cell_type": "code",
   "execution_count": 25,
   "metadata": {
    "collapsed": false
   },
   "outputs": [],
   "source": [
    "## a method for checking the SVD of A\n",
    "def check_USV(U, S, V):\n",
    "    S_diag = S * np.eye(*A.shape)\n",
    "    reconstruction = U @  S_diag @ V\n",
    "    print( reconstruction )\n",
    "    print(\"error =\", np.max(np.abs(A - reconstruction)))"
   ]
  },
  {
   "cell_type": "code",
   "execution_count": 26,
   "metadata": {
    "collapsed": false
   },
   "outputs": [
    {
     "name": "stdout",
     "output_type": "stream",
     "text": [
      "[[ 0.13006589 -0.12793152]\n",
      " [-0.04599907 -0.04176966]\n",
      " [ 0.          0.        ]]\n",
      "error = 8.32667268469e-17\n"
     ]
    }
   ],
   "source": [
    "#############\n",
    "## Numpy SVD\n",
    "\n",
    "U, S, V = la.svd(A)\n",
    "check_USV(U, S, V)"
   ]
  },
  {
   "cell_type": "code",
   "execution_count": 33,
   "metadata": {
    "collapsed": false
   },
   "outputs": [
    {
     "name": "stdout",
     "output_type": "stream",
     "text": [
      "[[ 0.13194017  0.12599762]\n",
      " [ 0.04030932 -0.04728401]\n",
      " [ 0.          0.        ]]\n",
      "error = 0.253929142182\n"
     ]
    }
   ],
   "source": [
    "############\n",
    "## Tensorflow SVD\n",
    "\n",
    "## tensorflow.svd has different ordering of outputs \n",
    "s, u, v = tf.svd(tf.constant(A), full_matrices=True)\n",
    "\n",
    "with tf.Session() as sess:\n",
    "    U_tf, S_tf, V_tf =  sess.run([u, s, v])\n",
    "\n",
    "check_USV(U_tf, S_tf, V_tf)"
   ]
  },
  {
   "cell_type": "code",
   "execution_count": 31,
   "metadata": {
    "collapsed": false
   },
   "outputs": [
    {
     "name": "stdout",
     "output_type": "stream",
     "text": [
      "[[-0.99976429  0.02171097  0.        ]\n",
      " [ 0.02171097  0.99976429  0.        ]\n",
      " [ 0.          0.          1.        ]]\n",
      "[[ 0.99976429 -0.02171097  0.        ]\n",
      " [-0.02171097 -0.99976429  0.        ]\n",
      " [ 0.         -0.          1.        ]]\n"
     ]
    }
   ],
   "source": [
    "print(U)\n",
    "print(U_tf)"
   ]
  },
  {
   "cell_type": "code",
   "execution_count": 32,
   "metadata": {
    "collapsed": false
   },
   "outputs": [
    {
     "name": "stdout",
     "output_type": "stream",
     "text": [
      "[[-0.71808849  0.69595181]\n",
      " [-0.69595181 -0.71808849]]\n",
      "[[ 0.71808849  0.69595181]\n",
      " [-0.69595181  0.71808849]]\n"
     ]
    }
   ],
   "source": [
    "print(V)\n",
    "print(V_tf)"
   ]
  },
  {
   "cell_type": "code",
   "execution_count": null,
   "metadata": {
    "collapsed": true
   },
   "outputs": [],
   "source": []
  }
 ],
 "metadata": {
  "kernelspec": {
   "display_name": "Python 3",
   "language": "python",
   "name": "python3"
  },
  "language_info": {
   "codemirror_mode": {
    "name": "ipython",
    "version": 3
   },
   "file_extension": ".py",
   "mimetype": "text/x-python",
   "name": "python",
   "nbconvert_exporter": "python",
   "pygments_lexer": "ipython3",
   "version": "3.5.2"
  }
 },
 "nbformat": 4,
 "nbformat_minor": 1
}

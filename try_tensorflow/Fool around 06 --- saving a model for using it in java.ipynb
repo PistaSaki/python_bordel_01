{
 "cells": [
  {
   "cell_type": "code",
   "execution_count": 1,
   "metadata": {
    "collapsed": true
   },
   "outputs": [],
   "source": [
    "import tensorflow as tf"
   ]
  },
  {
   "cell_type": "code",
   "execution_count": 2,
   "metadata": {},
   "outputs": [
    {
     "data": {
      "text/html": [
       "<style>.container { width:100% !important; }</style>"
      ],
      "text/plain": [
       "<IPython.core.display.HTML object>"
      ]
     },
     "execution_count": 2,
     "metadata": {},
     "output_type": "execute_result"
    }
   ],
   "source": [
    "## changing the width of cells\n",
    "from IPython.core.display import HTML\n",
    "HTML(\"<style>.container { width:100% !important; }</style>\")"
   ]
  },
  {
   "cell_type": "markdown",
   "metadata": {},
   "source": [
    "## Create a graph"
   ]
  },
  {
   "cell_type": "code",
   "execution_count": 3,
   "metadata": {
    "collapsed": true
   },
   "outputs": [],
   "source": [
    "a = tf.constant(3, name = \"a\")\n",
    "b = tf.constant(-1, name = \"b\")"
   ]
  },
  {
   "cell_type": "code",
   "execution_count": 4,
   "metadata": {
    "collapsed": true
   },
   "outputs": [],
   "source": [
    "x = tf.Variable(1, name = \"x\")"
   ]
  },
  {
   "cell_type": "markdown",
   "metadata": {},
   "source": [
    "We use `tf.identity` to be able to assign a name to the output of our computation, so that we can later \"fetch\" it in java:"
   ]
  },
  {
   "cell_type": "code",
   "execution_count": 5,
   "metadata": {
    "collapsed": true
   },
   "outputs": [],
   "source": [
    "f = tf.identity(a * x + b, name = \"f\")"
   ]
  },
  {
   "cell_type": "markdown",
   "metadata": {},
   "source": [
    "## Run it in a session"
   ]
  },
  {
   "cell_type": "code",
   "execution_count": 6,
   "metadata": {
    "collapsed": true
   },
   "outputs": [],
   "source": [
    "sess = tf.InteractiveSession()"
   ]
  },
  {
   "cell_type": "code",
   "execution_count": 7,
   "metadata": {
    "collapsed": true
   },
   "outputs": [],
   "source": [
    "sess.run(tf.global_variables_initializer())"
   ]
  },
  {
   "cell_type": "code",
   "execution_count": 8,
   "metadata": {},
   "outputs": [
    {
     "name": "stdout",
     "output_type": "stream",
     "text": [
      "5\n"
     ]
    }
   ],
   "source": [
    "print(sess.run(f, feed_dict={x: 2}))"
   ]
  },
  {
   "cell_type": "markdown",
   "metadata": {},
   "source": [
    "## Saving"
   ]
  },
  {
   "cell_type": "code",
   "execution_count": 11,
   "metadata": {},
   "outputs": [],
   "source": [
    "builder = tf.saved_model.builder.SavedModelBuilder('d:/tmp/model03')"
   ]
  },
  {
   "cell_type": "code",
   "execution_count": 12,
   "metadata": {},
   "outputs": [
    {
     "name": "stdout",
     "output_type": "stream",
     "text": [
      "INFO:tensorflow:No assets to save.\n",
      "INFO:tensorflow:No assets to write.\n"
     ]
    }
   ],
   "source": [
    "builder.add_meta_graph_and_variables(sess, [tf.saved_model.tag_constants.SERVING])"
   ]
  },
  {
   "cell_type": "code",
   "execution_count": 13,
   "metadata": {},
   "outputs": [
    {
     "name": "stdout",
     "output_type": "stream",
     "text": [
      "INFO:tensorflow:SavedModel written to: b'd:/tmp/model03\\\\saved_model.pb'\n"
     ]
    },
    {
     "data": {
      "text/plain": [
       "b'd:/tmp/model03\\\\saved_model.pb'"
      ]
     },
     "execution_count": 13,
     "metadata": {},
     "output_type": "execute_result"
    }
   ],
   "source": [
    "builder.save() "
   ]
  },
  {
   "cell_type": "markdown",
   "metadata": {},
   "source": [
    "## Calling it from Java\n",
    "```java\n",
    "import org.tensorflow.Graph;\n",
    "import org.tensorflow.SavedModelBundle;\n",
    "import org.tensorflow.Session;\n",
    "import org.tensorflow.Session.Runner;\n",
    "import org.tensorflow.Tensor;\n",
    "import org.tensorflow.TensorFlow;\n",
    "\n",
    "public class ImportModel_01 {\n",
    "\t\n",
    "\t/*\n",
    "\t * This block is here to import the tensorflow dll.\n",
    "\t * There are probably better ways to do it : setting a Path variable \n",
    "\t * so that java can find it automaticaly. \n",
    "\t */\n",
    "\tstatic {\n",
    "\t    try {\n",
    "\t    \tSystem.load(\"C:/Users/sakalos/moje/java_libs/tensorflow/libtensorflow_jni-cpu-windows-x86_64-1.1.0/tensorflow_jni.dll\");\n",
    "\t    } catch (UnsatisfiedLinkError e) {\n",
    "\t      System.err.println(\"TensorFlow dll file failed to load.\\n\" + e);\n",
    "\t      System.exit(1);\n",
    "\t    }\n",
    "\t  }\n",
    "\t\n",
    "  public static void main(String[] args) throws Exception {\n",
    "\t  try (SavedModelBundle bundle = SavedModelBundle.load(\"d:/tmp/model01\", \"serve\")) {\n",
    "\t\t  Session sess = bundle.session();\n",
    "\t\t  Tensor a = sess.runner().fetch(\"a\").run().get(0);\n",
    "\t\t  Tensor b = sess.runner().fetch(\"b\").run().get(0);\n",
    "\t\t  System.out.println(\n",
    "\t\t\t\t  \"a = \" + a.intValue());\n",
    "\t\t  System.out.println(\n",
    "\t\t\t\t  \"b = \" + b.intValue());\n",
    "\t\t  \n",
    "\t\t  Runner f = sess.runner().fetch(\"f\");\n",
    "\t\t  try(Tensor x_val = Tensor.create( 4 )) {\n",
    "\t\t\t  System.out.println(\n",
    "\t\t\t\t\t  \"x_val = \" + x_val.intValue());\n",
    "\t\t\t  System.out.println(\n",
    "\t\t\t\t\t  \"f(x) = \" + f.feed(\"x\", x_val).run().get(0).intValue()\n",
    "\t\t\t\t\t);\n",
    "\t\t  }\n",
    "\t\t  \n",
    "\t}\n",
    "  }\n",
    "}\n",
    "```"
   ]
  },
  {
   "cell_type": "code",
   "execution_count": null,
   "metadata": {
    "collapsed": true
   },
   "outputs": [],
   "source": []
  }
 ],
 "metadata": {
  "kernelspec": {
   "display_name": "Python 3",
   "language": "python",
   "name": "python3"
  },
  "language_info": {
   "codemirror_mode": {
    "name": "ipython",
    "version": 3
   },
   "file_extension": ".py",
   "mimetype": "text/x-python",
   "name": "python",
   "nbconvert_exporter": "python",
   "pygments_lexer": "ipython3",
   "version": "3.7.0"
  },
  "toc": {
   "base_numbering": 1,
   "nav_menu": {
    "height": "86px",
    "width": "252px"
   },
   "number_sections": true,
   "sideBar": true,
   "skip_h1_title": false,
   "title_cell": "Table of Contents",
   "title_sidebar": "Contents",
   "toc_cell": false,
   "toc_position": {},
   "toc_section_display": "block",
   "toc_window_display": false
  }
 },
 "nbformat": 4,
 "nbformat_minor": 1
}

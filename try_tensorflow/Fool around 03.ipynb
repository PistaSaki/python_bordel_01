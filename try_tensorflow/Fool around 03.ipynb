{
 "cells": [
  {
   "cell_type": "code",
   "execution_count": 1,
   "metadata": {
    "collapsed": false
   },
   "outputs": [
    {
     "name": "stdout",
     "output_type": "stream",
     "text": [
      "Populating the interactive namespace from numpy and matplotlib\n"
     ]
    }
   ],
   "source": [
    "import tensorflow as tf\n",
    "\n",
    "import numpy as np\n",
    "\n",
    "import pylab as pl\n",
    "%pylab inline\n",
    "\n",
    "import pandas as pd\n",
    "from pandas import Series, DataFrame"
   ]
  },
  {
   "cell_type": "code",
   "execution_count": null,
   "metadata": {
    "collapsed": true
   },
   "outputs": [],
   "source": []
  },
  {
   "cell_type": "code",
   "execution_count": null,
   "metadata": {
    "collapsed": true
   },
   "outputs": [],
   "source": [
    "WP0 = [\n",
    "    [\n",
    "        \n",
    "    ]\n",
    "]"
   ]
  },
  {
   "cell_type": "code",
   "execution_count": 8,
   "metadata": {
    "collapsed": true
   },
   "outputs": [],
   "source": [
    "x_ph = tf.placeholder(tf.float32, shape= 2, name = \"x_pl\")"
   ]
  },
  {
   "cell_type": "code",
   "execution_count": 9,
   "metadata": {
    "collapsed": true
   },
   "outputs": [],
   "source": [
    "A = tf.Variable(np.eye(3), dtype = tf.float32, name = \"A\")"
   ]
  },
  {
   "cell_type": "code",
   "execution_count": 23,
   "metadata": {
    "collapsed": false
   },
   "outputs": [
    {
     "data": {
      "text/plain": [
       "<tf.Tensor 'MatMul_7:0' shape=(3, 1) dtype=float32>"
      ]
     },
     "execution_count": 23,
     "metadata": {},
     "output_type": "execute_result"
    }
   ],
   "source": [
    "expr = tf.matmul(A, tf.expand_dims(tf.concat([x_ph, [1]], axis = 0),1) )\n",
    "expr"
   ]
  },
  {
   "cell_type": "code",
   "execution_count": 31,
   "metadata": {
    "collapsed": false
   },
   "outputs": [
    {
     "name": "stdout",
     "output_type": "stream",
     "text": [
      "[[ 1.]\n",
      " [ 4.]\n",
      " [ 3.]]\n",
      "[[ 1.]\n",
      " [ 2.]\n",
      " [ 1.]]\n"
     ]
    }
   ],
   "source": [
    "with tf.Session().as_default():\n",
    "    tf.global_variables_initializer().run()\n",
    "    val = expr.eval({\n",
    "            A : np.diag([1, 2, 3]),\n",
    "            x_ph: [1, 2]\n",
    "        })\n",
    "    \n",
    "    print(val)\n",
    "    \n",
    "    val = expr.eval({\n",
    "            #A : np.diag([1, 2, 3]),\n",
    "            x_ph: [1, 2]\n",
    "        })\n",
    "    \n",
    "    print(val)"
   ]
  },
  {
   "cell_type": "code",
   "execution_count": 33,
   "metadata": {
    "collapsed": false
   },
   "outputs": [
    {
     "data": {
      "text/plain": [
       "<tensorflow.python.framework.ops.Graph at 0x63f29e8>"
      ]
     },
     "execution_count": 33,
     "metadata": {},
     "output_type": "execute_result"
    }
   ],
   "source": [
    "graph = tf.get_default_graph()\n",
    "graph"
   ]
  },
  {
   "cell_type": "code",
   "execution_count": 29,
   "metadata": {
    "collapsed": false
   },
   "outputs": [
    {
     "data": {
      "text/plain": [
       "[<tf.Variable 'n:0' shape=() dtype=int16_ref>,\n",
       " <tf.Variable 'x:0' shape=() dtype=float32_ref>,\n",
       " <tf.Variable 'v:0' shape=(4,) dtype=float32_ref>,\n",
       " <tf.Variable 'A:0' shape=(3, 3) dtype=float32_ref>]"
      ]
     },
     "execution_count": 29,
     "metadata": {},
     "output_type": "execute_result"
    }
   ],
   "source": [
    "graph."
   ]
  }
 ],
 "metadata": {
  "kernelspec": {
   "display_name": "Python 3",
   "language": "python",
   "name": "python3"
  },
  "language_info": {
   "codemirror_mode": {
    "name": "ipython",
    "version": 3
   },
   "file_extension": ".py",
   "mimetype": "text/x-python",
   "name": "python",
   "nbconvert_exporter": "python",
   "pygments_lexer": "ipython3",
   "version": "3.5.2"
  }
 },
 "nbformat": 4,
 "nbformat_minor": 1
}

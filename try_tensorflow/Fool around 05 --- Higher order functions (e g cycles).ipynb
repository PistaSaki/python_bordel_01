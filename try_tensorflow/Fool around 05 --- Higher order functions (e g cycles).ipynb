{
 "cells": [
  {
   "cell_type": "code",
   "execution_count": 25,
   "metadata": {
    "collapsed": false
   },
   "outputs": [
    {
     "name": "stdout",
     "output_type": "stream",
     "text": [
      "Populating the interactive namespace from numpy and matplotlib\n"
     ]
    }
   ],
   "source": [
    "import tensorflow as tf\n",
    "\n",
    "import numpy as np\n",
    "import numpy.linalg as la\n",
    "\n",
    "import pylab as pl\n",
    "%pylab inline\n",
    "\n",
    "import pandas as pd\n",
    "from pandas import Series, DataFrame"
   ]
  },
  {
   "cell_type": "code",
   "execution_count": 5,
   "metadata": {
    "collapsed": false
   },
   "outputs": [],
   "source": [
    "elems = np.array([1, 2, 3, 4, 5, 6])\n",
    "tf_sum = tf.scan(lambda a, x: a + x, elems)"
   ]
  },
  {
   "cell_type": "code",
   "execution_count": 8,
   "metadata": {
    "collapsed": false
   },
   "outputs": [],
   "source": [
    "sess = tf.InteractiveSession()"
   ]
  },
  {
   "cell_type": "code",
   "execution_count": 9,
   "metadata": {
    "collapsed": false
   },
   "outputs": [
    {
     "data": {
      "text/plain": [
       "array([ 1,  3,  6, 10, 15, 21])"
      ]
     },
     "execution_count": 9,
     "metadata": {},
     "output_type": "execute_result"
    }
   ],
   "source": [
    "sess.run(tf_sum)"
   ]
  },
  {
   "cell_type": "code",
   "execution_count": null,
   "metadata": {
    "collapsed": true
   },
   "outputs": [],
   "source": []
  },
  {
   "cell_type": "markdown",
   "metadata": {},
   "source": [
    "# polynomial of matrix evaluated on vector"
   ]
  },
  {
   "cell_type": "code",
   "execution_count": 24,
   "metadata": {
    "collapsed": false
   },
   "outputs": [
    {
     "data": {
      "text/plain": [
       "<tf.Variable 'weights:0' shape=(3,) dtype=float32_ref>"
      ]
     },
     "execution_count": 24,
     "metadata": {},
     "output_type": "execute_result"
    }
   ],
   "source": []
  },
  {
   "cell_type": "code",
   "execution_count": 12,
   "metadata": {
    "collapsed": false
   },
   "outputs": [],
   "source": [
    "M = tf.Variable(np.diag([2, 3]), name = \"M\", dtype = np.float32)"
   ]
  },
  {
   "cell_type": "code",
   "execution_count": 14,
   "metadata": {
    "collapsed": false
   },
   "outputs": [],
   "source": [
    "v0 = tf.Variable([[2], [3]], name = \"v0\", dtype = np.float32)"
   ]
  },
  {
   "cell_type": "code",
   "execution_count": 15,
   "metadata": {
    "collapsed": true
   },
   "outputs": [],
   "source": [
    "weights = tf.Variable([1, 0, 1], name = \"weights\", dtype = np.float32)"
   ]
  },
  {
   "cell_type": "code",
   "execution_count": 21,
   "metadata": {
    "collapsed": false
   },
   "outputs": [],
   "source": [
    "Mn_v0 = tf.scan(\n",
    "    fn = lambda vt, w: tf.matmul(M, vt),\n",
    "    initializer = v0,\n",
    "    elems = weights,\n",
    ")"
   ]
  },
  {
   "cell_type": "code",
   "execution_count": 29,
   "metadata": {
    "collapsed": false
   },
   "outputs": [],
   "source": [
    "evol1 = tf.matmul(\n",
    "    tf.stack([weights]),\n",
    "    tf.reshape(Mn_v0, Mn_v0.shape[:-1])\n",
    ")"
   ]
  },
  {
   "cell_type": "code",
   "execution_count": 18,
   "metadata": {
    "collapsed": true
   },
   "outputs": [],
   "source": [
    "sess.run(tf.global_variables_initializer())"
   ]
  },
  {
   "cell_type": "code",
   "execution_count": 30,
   "metadata": {
    "collapsed": false
   },
   "outputs": [
    {
     "data": {
      "text/plain": [
       "array([[[  4.],\n",
       "        [  9.]],\n",
       "\n",
       "       [[  8.],\n",
       "        [ 27.]],\n",
       "\n",
       "       [[ 16.],\n",
       "        [ 81.]]], dtype=float32)"
      ]
     },
     "execution_count": 30,
     "metadata": {},
     "output_type": "execute_result"
    }
   ],
   "source": [
    "sess.run(Mn_v0)"
   ]
  },
  {
   "cell_type": "code",
   "execution_count": 31,
   "metadata": {
    "collapsed": false
   },
   "outputs": [
    {
     "data": {
      "text/plain": [
       "array([[ 20.,  90.]], dtype=float32)"
      ]
     },
     "execution_count": 31,
     "metadata": {},
     "output_type": "execute_result"
    }
   ],
   "source": [
    "sess.run(evol1)"
   ]
  },
  {
   "cell_type": "code",
   "execution_count": 33,
   "metadata": {
    "collapsed": false
   },
   "outputs": [],
   "source": [
    "Mn_v0_last = tf.foldl(\n",
    "    fn = lambda v, w: tf.matmul(M, v),\n",
    "    initializer = v0,\n",
    "    elems = weights,\n",
    ")"
   ]
  },
  {
   "cell_type": "code",
   "execution_count": 34,
   "metadata": {
    "collapsed": false
   },
   "outputs": [
    {
     "data": {
      "text/plain": [
       "array([[ 16.],\n",
       "       [ 81.]], dtype=float32)"
      ]
     },
     "execution_count": 34,
     "metadata": {},
     "output_type": "execute_result"
    }
   ],
   "source": [
    "sess.run(Mn_v0_last)"
   ]
  },
  {
   "cell_type": "code",
   "execution_count": null,
   "metadata": {
    "collapsed": true
   },
   "outputs": [],
   "source": []
  },
  {
   "cell_type": "code",
   "execution_count": 44,
   "metadata": {
    "collapsed": false
   },
   "outputs": [],
   "source": [
    "evol = tf.scan(\n",
    "    fn = lambda v, w: (tf.matmul(M, v[0]), v[1] +  w * v[0] ),\n",
    "    initializer = (v0, tf.zeros_like(v0)),\n",
    "    elems = weights,\n",
    ")"
   ]
  },
  {
   "cell_type": "code",
   "execution_count": 52,
   "metadata": {
    "collapsed": false
   },
   "outputs": [
    {
     "data": {
      "text/plain": [
       "(array([[[  4.],\n",
       "         [  9.]],\n",
       " \n",
       "        [[  8.],\n",
       "         [ 27.]],\n",
       " \n",
       "        [[ 16.],\n",
       "         [ 81.]]], dtype=float32), array([[[  2.],\n",
       "         [  3.]],\n",
       " \n",
       "        [[  2.],\n",
       "         [  3.]],\n",
       " \n",
       "        [[ 10.],\n",
       "         [ 30.]]], dtype=float32))"
      ]
     },
     "execution_count": 52,
     "metadata": {},
     "output_type": "execute_result"
    }
   ],
   "source": [
    "sess.run(evol)"
   ]
  },
  {
   "cell_type": "markdown",
   "metadata": {},
   "source": [
    "To my great dismay, replacing `scan` with `foldl` does not work:"
   ]
  },
  {
   "cell_type": "code",
   "execution_count": 53,
   "metadata": {
    "collapsed": false
   },
   "outputs": [
    {
     "ename": "ValueError",
     "evalue": "The two structures don't have the same number of elements. First structure: [<tf.Tensor 'foldl_7/while/Identity:0' shape=() dtype=int32>, <tf.Tensor 'foldl_7/while/Identity_1:0' shape=(2, 2, 1) dtype=float32>], second structure: [<tf.Tensor 'foldl_7/while/add_1:0' shape=() dtype=int32>, [<tf.Tensor 'foldl_7/while/MatMul:0' shape=(2, 1) dtype=float32>, <tf.Tensor 'foldl_7/while/add:0' shape=(2, 1) dtype=float32>]].",
     "output_type": "error",
     "traceback": [
      "\u001b[0;31m---------------------------------------------------------------------------\u001b[0m",
      "\u001b[0;31mValueError\u001b[0m                                Traceback (most recent call last)",
      "\u001b[0;32m<ipython-input-53-aab7855cd9a8>\u001b[0m in \u001b[0;36m<module>\u001b[0;34m()\u001b[0m\n\u001b[1;32m      2\u001b[0m     \u001b[0mfn\u001b[0m \u001b[1;33m=\u001b[0m \u001b[1;32mlambda\u001b[0m \u001b[0mv\u001b[0m\u001b[1;33m,\u001b[0m \u001b[0mw\u001b[0m\u001b[1;33m:\u001b[0m \u001b[1;33m[\u001b[0m\u001b[0mtf\u001b[0m\u001b[1;33m.\u001b[0m\u001b[0mmatmul\u001b[0m\u001b[1;33m(\u001b[0m\u001b[0mM\u001b[0m\u001b[1;33m,\u001b[0m \u001b[0mv\u001b[0m\u001b[1;33m[\u001b[0m\u001b[1;36m0\u001b[0m\u001b[1;33m]\u001b[0m\u001b[1;33m)\u001b[0m\u001b[1;33m,\u001b[0m \u001b[0mv\u001b[0m\u001b[1;33m[\u001b[0m\u001b[1;36m1\u001b[0m\u001b[1;33m]\u001b[0m \u001b[1;33m+\u001b[0m  \u001b[0mw\u001b[0m \u001b[1;33m*\u001b[0m \u001b[0mv\u001b[0m\u001b[1;33m[\u001b[0m\u001b[1;36m0\u001b[0m\u001b[1;33m]\u001b[0m \u001b[1;33m]\u001b[0m\u001b[1;33m,\u001b[0m\u001b[1;33m\u001b[0m\u001b[0m\n\u001b[1;32m      3\u001b[0m     \u001b[0minitializer\u001b[0m \u001b[1;33m=\u001b[0m \u001b[1;33m(\u001b[0m\u001b[0mv0\u001b[0m\u001b[1;33m,\u001b[0m \u001b[0mtf\u001b[0m\u001b[1;33m.\u001b[0m\u001b[0mzeros_like\u001b[0m\u001b[1;33m(\u001b[0m\u001b[0mv0\u001b[0m\u001b[1;33m)\u001b[0m\u001b[1;33m)\u001b[0m\u001b[1;33m,\u001b[0m\u001b[1;33m\u001b[0m\u001b[0m\n\u001b[0;32m----> 4\u001b[0;31m     \u001b[0melems\u001b[0m \u001b[1;33m=\u001b[0m \u001b[0mweights\u001b[0m\u001b[1;33m,\u001b[0m\u001b[1;33m\u001b[0m\u001b[0m\n\u001b[0m\u001b[1;32m      5\u001b[0m )\n",
      "\u001b[0;32mC:\\Users\\sakalos\\moje\\python\\WinPython\\WinPython-64bit-3.5.2.3\\python-3.5.2.amd64\\lib\\site-packages\\tensorflow\\python\\ops\\functional_ops.py\u001b[0m in \u001b[0;36mfoldl\u001b[0;34m(fn, elems, initializer, parallel_iterations, back_prop, swap_memory, name)\u001b[0m\n\u001b[1;32m    120\u001b[0m         \u001b[0mparallel_iterations\u001b[0m\u001b[1;33m=\u001b[0m\u001b[0mparallel_iterations\u001b[0m\u001b[1;33m,\u001b[0m\u001b[1;33m\u001b[0m\u001b[0m\n\u001b[1;32m    121\u001b[0m         \u001b[0mback_prop\u001b[0m\u001b[1;33m=\u001b[0m\u001b[0mback_prop\u001b[0m\u001b[1;33m,\u001b[0m\u001b[1;33m\u001b[0m\u001b[0m\n\u001b[0;32m--> 122\u001b[0;31m         swap_memory=swap_memory)\n\u001b[0m\u001b[1;32m    123\u001b[0m \u001b[1;33m\u001b[0m\u001b[0m\n\u001b[1;32m    124\u001b[0m     \u001b[1;32mif\u001b[0m \u001b[0mvarscope_caching_device_was_none\u001b[0m\u001b[1;33m:\u001b[0m\u001b[1;33m\u001b[0m\u001b[0m\n",
      "\u001b[0;32mC:\\Users\\sakalos\\moje\\python\\WinPython\\WinPython-64bit-3.5.2.3\\python-3.5.2.amd64\\lib\\site-packages\\tensorflow\\python\\ops\\control_flow_ops.py\u001b[0m in \u001b[0;36mwhile_loop\u001b[0;34m(cond, body, loop_vars, shape_invariants, parallel_iterations, back_prop, swap_memory, name)\u001b[0m\n\u001b[1;32m   2621\u001b[0m     \u001b[0mcontext\u001b[0m \u001b[1;33m=\u001b[0m \u001b[0mWhileContext\u001b[0m\u001b[1;33m(\u001b[0m\u001b[0mparallel_iterations\u001b[0m\u001b[1;33m,\u001b[0m \u001b[0mback_prop\u001b[0m\u001b[1;33m,\u001b[0m \u001b[0mswap_memory\u001b[0m\u001b[1;33m,\u001b[0m \u001b[0mname\u001b[0m\u001b[1;33m)\u001b[0m\u001b[1;33m\u001b[0m\u001b[0m\n\u001b[1;32m   2622\u001b[0m     \u001b[0mops\u001b[0m\u001b[1;33m.\u001b[0m\u001b[0madd_to_collection\u001b[0m\u001b[1;33m(\u001b[0m\u001b[0mops\u001b[0m\u001b[1;33m.\u001b[0m\u001b[0mGraphKeys\u001b[0m\u001b[1;33m.\u001b[0m\u001b[0mWHILE_CONTEXT\u001b[0m\u001b[1;33m,\u001b[0m \u001b[0mcontext\u001b[0m\u001b[1;33m)\u001b[0m\u001b[1;33m\u001b[0m\u001b[0m\n\u001b[0;32m-> 2623\u001b[0;31m     \u001b[0mresult\u001b[0m \u001b[1;33m=\u001b[0m \u001b[0mcontext\u001b[0m\u001b[1;33m.\u001b[0m\u001b[0mBuildLoop\u001b[0m\u001b[1;33m(\u001b[0m\u001b[0mcond\u001b[0m\u001b[1;33m,\u001b[0m \u001b[0mbody\u001b[0m\u001b[1;33m,\u001b[0m \u001b[0mloop_vars\u001b[0m\u001b[1;33m,\u001b[0m \u001b[0mshape_invariants\u001b[0m\u001b[1;33m)\u001b[0m\u001b[1;33m\u001b[0m\u001b[0m\n\u001b[0m\u001b[1;32m   2624\u001b[0m     \u001b[1;32mreturn\u001b[0m \u001b[0mresult\u001b[0m\u001b[1;33m\u001b[0m\u001b[0m\n\u001b[1;32m   2625\u001b[0m \u001b[1;33m\u001b[0m\u001b[0m\n",
      "\u001b[0;32mC:\\Users\\sakalos\\moje\\python\\WinPython\\WinPython-64bit-3.5.2.3\\python-3.5.2.amd64\\lib\\site-packages\\tensorflow\\python\\ops\\control_flow_ops.py\u001b[0m in \u001b[0;36mBuildLoop\u001b[0;34m(self, pred, body, loop_vars, shape_invariants)\u001b[0m\n\u001b[1;32m   2454\u001b[0m       \u001b[0mself\u001b[0m\u001b[1;33m.\u001b[0m\u001b[0mEnter\u001b[0m\u001b[1;33m(\u001b[0m\u001b[1;33m)\u001b[0m\u001b[1;33m\u001b[0m\u001b[0m\n\u001b[1;32m   2455\u001b[0m       original_body_result, exit_vars = self._BuildLoop(\n\u001b[0;32m-> 2456\u001b[0;31m           pred, body, original_loop_vars, loop_vars, shape_invariants)\n\u001b[0m\u001b[1;32m   2457\u001b[0m     \u001b[1;32mfinally\u001b[0m\u001b[1;33m:\u001b[0m\u001b[1;33m\u001b[0m\u001b[0m\n\u001b[1;32m   2458\u001b[0m       \u001b[0mself\u001b[0m\u001b[1;33m.\u001b[0m\u001b[0mExit\u001b[0m\u001b[1;33m(\u001b[0m\u001b[1;33m)\u001b[0m\u001b[1;33m\u001b[0m\u001b[0m\n",
      "\u001b[0;32mC:\\Users\\sakalos\\moje\\python\\WinPython\\WinPython-64bit-3.5.2.3\\python-3.5.2.amd64\\lib\\site-packages\\tensorflow\\python\\ops\\control_flow_ops.py\u001b[0m in \u001b[0;36m_BuildLoop\u001b[0;34m(self, pred, body, original_loop_vars, loop_vars, shape_invariants)\u001b[0m\n\u001b[1;32m   2411\u001b[0m     \u001b[1;31m# during this comparison, because inputs are typically lists and\u001b[0m\u001b[1;33m\u001b[0m\u001b[1;33m\u001b[0m\u001b[0m\n\u001b[1;32m   2412\u001b[0m     \u001b[1;31m# outputs of the body are typically tuples.\u001b[0m\u001b[1;33m\u001b[0m\u001b[1;33m\u001b[0m\u001b[0m\n\u001b[0;32m-> 2413\u001b[0;31m     \u001b[0mnest\u001b[0m\u001b[1;33m.\u001b[0m\u001b[0massert_same_structure\u001b[0m\u001b[1;33m(\u001b[0m\u001b[0mlist\u001b[0m\u001b[1;33m(\u001b[0m\u001b[0mpacked_vars_for_body\u001b[0m\u001b[1;33m)\u001b[0m\u001b[1;33m,\u001b[0m \u001b[0mlist\u001b[0m\u001b[1;33m(\u001b[0m\u001b[0mbody_result\u001b[0m\u001b[1;33m)\u001b[0m\u001b[1;33m)\u001b[0m\u001b[1;33m\u001b[0m\u001b[0m\n\u001b[0m\u001b[1;32m   2414\u001b[0m \u001b[1;33m\u001b[0m\u001b[0m\n\u001b[1;32m   2415\u001b[0m     \u001b[1;31m# Store body_result to keep track of TensorArrays returned by body\u001b[0m\u001b[1;33m\u001b[0m\u001b[1;33m\u001b[0m\u001b[0m\n",
      "\u001b[0;32mC:\\Users\\sakalos\\moje\\python\\WinPython\\WinPython-64bit-3.5.2.3\\python-3.5.2.amd64\\lib\\site-packages\\tensorflow\\python\\util\\nest.py\u001b[0m in \u001b[0;36massert_same_structure\u001b[0;34m(nest1, nest2)\u001b[0m\n\u001b[1;32m    138\u001b[0m     raise ValueError(\"The two structures don't have the same number of \"\n\u001b[1;32m    139\u001b[0m                      \u001b[1;34m\"elements. First structure: %s, second structure: %s.\"\u001b[0m\u001b[1;33m\u001b[0m\u001b[0m\n\u001b[0;32m--> 140\u001b[0;31m                      % (nest1, nest2))\n\u001b[0m\u001b[1;32m    141\u001b[0m   \u001b[0m_recursive_assert_same_structure\u001b[0m\u001b[1;33m(\u001b[0m\u001b[0mnest1\u001b[0m\u001b[1;33m,\u001b[0m \u001b[0mnest2\u001b[0m\u001b[1;33m)\u001b[0m\u001b[1;33m\u001b[0m\u001b[0m\n\u001b[1;32m    142\u001b[0m \u001b[1;33m\u001b[0m\u001b[0m\n",
      "\u001b[0;31mValueError\u001b[0m: The two structures don't have the same number of elements. First structure: [<tf.Tensor 'foldl_7/while/Identity:0' shape=() dtype=int32>, <tf.Tensor 'foldl_7/while/Identity_1:0' shape=(2, 2, 1) dtype=float32>], second structure: [<tf.Tensor 'foldl_7/while/add_1:0' shape=() dtype=int32>, [<tf.Tensor 'foldl_7/while/MatMul:0' shape=(2, 1) dtype=float32>, <tf.Tensor 'foldl_7/while/add:0' shape=(2, 1) dtype=float32>]]."
     ]
    }
   ],
   "source": [
    "evol = tf.foldl(\n",
    "    fn = lambda v, w: (tf.matmul(M, v[0]), v[1] +  w * v[0] ),\n",
    "    initializer = (v0, tf.zeros_like(v0)),\n",
    "    elems = weights,\n",
    ")"
   ]
  },
  {
   "cell_type": "code",
   "execution_count": null,
   "metadata": {
    "collapsed": true
   },
   "outputs": [],
   "source": []
  },
  {
   "cell_type": "code",
   "execution_count": 46,
   "metadata": {
    "collapsed": false
   },
   "outputs": [],
   "source": [
    "power = tf.foldl(\n",
    "    fn = lambda v, w: tf.matmul(M, v),\n",
    "    initializer = v0,\n",
    "    elems = weights,\n",
    ")"
   ]
  },
  {
   "cell_type": "code",
   "execution_count": 47,
   "metadata": {
    "collapsed": false
   },
   "outputs": [
    {
     "data": {
      "text/plain": [
       "array([[ 16.],\n",
       "       [ 81.]], dtype=float32)"
      ]
     },
     "execution_count": 47,
     "metadata": {},
     "output_type": "execute_result"
    }
   ],
   "source": [
    "sess.run(power)"
   ]
  },
  {
   "cell_type": "code",
   "execution_count": null,
   "metadata": {
    "collapsed": true
   },
   "outputs": [],
   "source": []
  },
  {
   "cell_type": "markdown",
   "metadata": {
    "collapsed": true
   },
   "source": [
    "## Cycle through a dimension of length unknown in advance"
   ]
  },
  {
   "cell_type": "code",
   "execution_count": 1,
   "metadata": {
    "collapsed": true
   },
   "outputs": [],
   "source": [
    "import tensorflow as tf"
   ]
  },
  {
   "cell_type": "code",
   "execution_count": 2,
   "metadata": {
    "collapsed": true
   },
   "outputs": [],
   "source": [
    "a = tf.Variable([1, 2, 3], validate_shape=False)\n",
    "b = tf.Variable([-1, 1, -1], validate_shape=False)\n",
    "\n",
    "a.set_shape([None])\n",
    "b.set_shape([None])"
   ]
  },
  {
   "cell_type": "code",
   "execution_count": 3,
   "metadata": {
    "collapsed": true
   },
   "outputs": [],
   "source": [
    "sess = tf.InteractiveSession()"
   ]
  },
  {
   "cell_type": "code",
   "execution_count": 4,
   "metadata": {
    "collapsed": true
   },
   "outputs": [],
   "source": [
    "sess.run(tf.global_variables_initializer())"
   ]
  },
  {
   "cell_type": "code",
   "execution_count": 5,
   "metadata": {
    "collapsed": false
   },
   "outputs": [
    {
     "data": {
      "text/plain": [
       "[array([1, 2, 3]), array([-1,  1, -1])]"
      ]
     },
     "execution_count": 5,
     "metadata": {},
     "output_type": "execute_result"
    }
   ],
   "source": [
    "sess.run([a, b])"
   ]
  },
  {
   "cell_type": "code",
   "execution_count": 6,
   "metadata": {
    "collapsed": false
   },
   "outputs": [],
   "source": [
    "cyc = tf.map_fn(\n",
    "    fn = lambda x: x[0] * x[1], \n",
    "    elems = (a, b),\n",
    "    dtype = tf.int32\n",
    ")"
   ]
  },
  {
   "cell_type": "code",
   "execution_count": 7,
   "metadata": {
    "collapsed": false
   },
   "outputs": [
    {
     "data": {
      "text/plain": [
       "array([-1,  2, -3])"
      ]
     },
     "execution_count": 7,
     "metadata": {},
     "output_type": "execute_result"
    }
   ],
   "source": [
    "sess.run(cyc)"
   ]
  },
  {
   "cell_type": "code",
   "execution_count": 9,
   "metadata": {
    "collapsed": false
   },
   "outputs": [
    {
     "data": {
      "text/plain": [
       "array([-1,  2, -3,  4])"
      ]
     },
     "execution_count": 9,
     "metadata": {},
     "output_type": "execute_result"
    }
   ],
   "source": [
    "sess.run(cyc, {a: [1, 2, 3, 4], b : [-1, 1, -1, 1]})"
   ]
  },
  {
   "cell_type": "code",
   "execution_count": 12,
   "metadata": {
    "collapsed": false
   },
   "outputs": [
    {
     "data": {
      "text/plain": [
       "array([-1,  2, -3,  4])"
      ]
     },
     "execution_count": 12,
     "metadata": {},
     "output_type": "execute_result"
    }
   ],
   "source": [
    "sess.run(cyc, {a: [1, 2, 3, 4], b : [-1, 1, -1, 1]})"
   ]
  },
  {
   "cell_type": "markdown",
   "metadata": {},
   "source": [
    "##### It seems however that broadcasting does not work"
   ]
  },
  {
   "cell_type": "code",
   "execution_count": 13,
   "metadata": {
    "collapsed": true
   },
   "outputs": [],
   "source": [
    "X = tf.Variable([[1, 2, 3], [4, 5, 6]], validate_shape=False)\n",
    "X.set_shape([None, 3])\n",
    "\n",
    "y = tf.Variable([-1, 1, -1])"
   ]
  },
  {
   "cell_type": "code",
   "execution_count": 14,
   "metadata": {
    "collapsed": true
   },
   "outputs": [],
   "source": [
    "sess.run(tf.global_variables_initializer())"
   ]
  },
  {
   "cell_type": "code",
   "execution_count": 19,
   "metadata": {
    "collapsed": false
   },
   "outputs": [],
   "source": [
    "cyc2 = tf.map_fn(\n",
    "    fn = lambda x: x[0] * x[1], \n",
    "    elems = (X, y[None, :]),\n",
    "    dtype = tf.int32\n",
    ")"
   ]
  },
  {
   "cell_type": "code",
   "execution_count": 20,
   "metadata": {
    "collapsed": false
   },
   "outputs": [
    {
     "data": {
      "text/plain": [
       "array([[-1,  2, -3]])"
      ]
     },
     "execution_count": 20,
     "metadata": {},
     "output_type": "execute_result"
    }
   ],
   "source": [
    "sess.run(cyc2, {X : [[1, 2, 3]]})"
   ]
  },
  {
   "cell_type": "code",
   "execution_count": 21,
   "metadata": {
    "collapsed": false
   },
   "outputs": [
    {
     "ename": "InvalidArgumentError",
     "evalue": "TensorArray map_2/TensorArray_1_22: Could not read from TensorArray index 1 because it has not yet been written to.\n\t [[Node: map_2/while/TensorArrayReadV3_1 = TensorArrayReadV3[dtype=DT_INT32, _device=\"/job:localhost/replica:0/task:0/cpu:0\"](map_2/while/TensorArrayReadV3_1/Enter, map_2/while/Identity, map_2/while/TensorArrayReadV3_1/Enter_1)]]\n\nCaused by op 'map_2/while/TensorArrayReadV3_1', defined at:\n  File \"C:\\Users\\sakalos\\moje\\python\\WinPython\\WinPython-64bit-3.5.2.3\\python-3.5.2.amd64\\lib\\runpy.py\", line 184, in _run_module_as_main\n    \"__main__\", mod_spec)\n  File \"C:\\Users\\sakalos\\moje\\python\\WinPython\\WinPython-64bit-3.5.2.3\\python-3.5.2.amd64\\lib\\runpy.py\", line 85, in _run_code\n    exec(code, run_globals)\n  File \"C:\\Users\\sakalos\\moje\\python\\WinPython\\WinPython-64bit-3.5.2.3\\python-3.5.2.amd64\\lib\\site-packages\\ipykernel\\__main__.py\", line 3, in <module>\n    app.launch_new_instance()\n  File \"C:\\Users\\sakalos\\moje\\python\\WinPython\\WinPython-64bit-3.5.2.3\\python-3.5.2.amd64\\lib\\site-packages\\traitlets\\config\\application.py\", line 658, in launch_instance\n    app.start()\n  File \"C:\\Users\\sakalos\\moje\\python\\WinPython\\WinPython-64bit-3.5.2.3\\python-3.5.2.amd64\\lib\\site-packages\\ipykernel\\kernelapp.py\", line 474, in start\n    ioloop.IOLoop.instance().start()\n  File \"C:\\Users\\sakalos\\moje\\python\\WinPython\\WinPython-64bit-3.5.2.3\\python-3.5.2.amd64\\lib\\site-packages\\zmq\\eventloop\\ioloop.py\", line 162, in start\n    super(ZMQIOLoop, self).start()\n  File \"C:\\Users\\sakalos\\moje\\python\\WinPython\\WinPython-64bit-3.5.2.3\\python-3.5.2.amd64\\lib\\site-packages\\tornado\\ioloop.py\", line 887, in start\n    handler_func(fd_obj, events)\n  File \"C:\\Users\\sakalos\\moje\\python\\WinPython\\WinPython-64bit-3.5.2.3\\python-3.5.2.amd64\\lib\\site-packages\\tornado\\stack_context.py\", line 275, in null_wrapper\n    return fn(*args, **kwargs)\n  File \"C:\\Users\\sakalos\\moje\\python\\WinPython\\WinPython-64bit-3.5.2.3\\python-3.5.2.amd64\\lib\\site-packages\\zmq\\eventloop\\zmqstream.py\", line 440, in _handle_events\n    self._handle_recv()\n  File \"C:\\Users\\sakalos\\moje\\python\\WinPython\\WinPython-64bit-3.5.2.3\\python-3.5.2.amd64\\lib\\site-packages\\zmq\\eventloop\\zmqstream.py\", line 472, in _handle_recv\n    self._run_callback(callback, msg)\n  File \"C:\\Users\\sakalos\\moje\\python\\WinPython\\WinPython-64bit-3.5.2.3\\python-3.5.2.amd64\\lib\\site-packages\\zmq\\eventloop\\zmqstream.py\", line 414, in _run_callback\n    callback(*args, **kwargs)\n  File \"C:\\Users\\sakalos\\moje\\python\\WinPython\\WinPython-64bit-3.5.2.3\\python-3.5.2.amd64\\lib\\site-packages\\tornado\\stack_context.py\", line 275, in null_wrapper\n    return fn(*args, **kwargs)\n  File \"C:\\Users\\sakalos\\moje\\python\\WinPython\\WinPython-64bit-3.5.2.3\\python-3.5.2.amd64\\lib\\site-packages\\ipykernel\\kernelbase.py\", line 276, in dispatcher\n    return self.dispatch_shell(stream, msg)\n  File \"C:\\Users\\sakalos\\moje\\python\\WinPython\\WinPython-64bit-3.5.2.3\\python-3.5.2.amd64\\lib\\site-packages\\ipykernel\\kernelbase.py\", line 228, in dispatch_shell\n    handler(stream, idents, msg)\n  File \"C:\\Users\\sakalos\\moje\\python\\WinPython\\WinPython-64bit-3.5.2.3\\python-3.5.2.amd64\\lib\\site-packages\\ipykernel\\kernelbase.py\", line 390, in execute_request\n    user_expressions, allow_stdin)\n  File \"C:\\Users\\sakalos\\moje\\python\\WinPython\\WinPython-64bit-3.5.2.3\\python-3.5.2.amd64\\lib\\site-packages\\ipykernel\\ipkernel.py\", line 196, in do_execute\n    res = shell.run_cell(code, store_history=store_history, silent=silent)\n  File \"C:\\Users\\sakalos\\moje\\python\\WinPython\\WinPython-64bit-3.5.2.3\\python-3.5.2.amd64\\lib\\site-packages\\ipykernel\\zmqshell.py\", line 501, in run_cell\n    return super(ZMQInteractiveShell, self).run_cell(*args, **kwargs)\n  File \"C:\\Users\\sakalos\\moje\\python\\WinPython\\WinPython-64bit-3.5.2.3\\python-3.5.2.amd64\\lib\\site-packages\\IPython\\core\\interactiveshell.py\", line 2717, in run_cell\n    interactivity=interactivity, compiler=compiler, result=result)\n  File \"C:\\Users\\sakalos\\moje\\python\\WinPython\\WinPython-64bit-3.5.2.3\\python-3.5.2.amd64\\lib\\site-packages\\IPython\\core\\interactiveshell.py\", line 2821, in run_ast_nodes\n    if self.run_code(code, result):\n  File \"C:\\Users\\sakalos\\moje\\python\\WinPython\\WinPython-64bit-3.5.2.3\\python-3.5.2.amd64\\lib\\site-packages\\IPython\\core\\interactiveshell.py\", line 2881, in run_code\n    exec(code_obj, self.user_global_ns, self.user_ns)\n  File \"<ipython-input-19-dd88dc595acc>\", line 4, in <module>\n    dtype = tf.int32\n  File \"C:\\Users\\sakalos\\moje\\python\\WinPython\\WinPython-64bit-3.5.2.3\\python-3.5.2.amd64\\lib\\site-packages\\tensorflow\\python\\ops\\functional_ops.py\", line 389, in map_fn\n    swap_memory=swap_memory)\n  File \"C:\\Users\\sakalos\\moje\\python\\WinPython\\WinPython-64bit-3.5.2.3\\python-3.5.2.amd64\\lib\\site-packages\\tensorflow\\python\\ops\\control_flow_ops.py\", line 2770, in while_loop\n    result = context.BuildLoop(cond, body, loop_vars, shape_invariants)\n  File \"C:\\Users\\sakalos\\moje\\python\\WinPython\\WinPython-64bit-3.5.2.3\\python-3.5.2.amd64\\lib\\site-packages\\tensorflow\\python\\ops\\control_flow_ops.py\", line 2599, in BuildLoop\n    pred, body, original_loop_vars, loop_vars, shape_invariants)\n  File \"C:\\Users\\sakalos\\moje\\python\\WinPython\\WinPython-64bit-3.5.2.3\\python-3.5.2.amd64\\lib\\site-packages\\tensorflow\\python\\ops\\control_flow_ops.py\", line 2549, in _BuildLoop\n    body_result = body(*packed_vars_for_body)\n  File \"C:\\Users\\sakalos\\moje\\python\\WinPython\\WinPython-64bit-3.5.2.3\\python-3.5.2.amd64\\lib\\site-packages\\tensorflow\\python\\ops\\functional_ops.py\", line 378, in compute\n    packed_values = input_pack([elem_ta.read(i) for elem_ta in elems_ta])\n  File \"C:\\Users\\sakalos\\moje\\python\\WinPython\\WinPython-64bit-3.5.2.3\\python-3.5.2.amd64\\lib\\site-packages\\tensorflow\\python\\ops\\functional_ops.py\", line 378, in <listcomp>\n    packed_values = input_pack([elem_ta.read(i) for elem_ta in elems_ta])\n  File \"C:\\Users\\sakalos\\moje\\python\\WinPython\\WinPython-64bit-3.5.2.3\\python-3.5.2.amd64\\lib\\site-packages\\tensorflow\\python\\util\\tf_should_use.py\", line 88, in fn\n    return method(self, *args, **kwargs)\n  File \"C:\\Users\\sakalos\\moje\\python\\WinPython\\WinPython-64bit-3.5.2.3\\python-3.5.2.amd64\\lib\\site-packages\\tensorflow\\python\\ops\\tensor_array_ops.py\", line 280, in read\n    name=name)\n  File \"C:\\Users\\sakalos\\moje\\python\\WinPython\\WinPython-64bit-3.5.2.3\\python-3.5.2.amd64\\lib\\site-packages\\tensorflow\\python\\ops\\gen_data_flow_ops.py\", line 1997, in _tensor_array_read_v3\n    name=name)\n  File \"C:\\Users\\sakalos\\moje\\python\\WinPython\\WinPython-64bit-3.5.2.3\\python-3.5.2.amd64\\lib\\site-packages\\tensorflow\\python\\framework\\op_def_library.py\", line 767, in apply_op\n    op_def=op_def)\n  File \"C:\\Users\\sakalos\\moje\\python\\WinPython\\WinPython-64bit-3.5.2.3\\python-3.5.2.amd64\\lib\\site-packages\\tensorflow\\python\\framework\\ops.py\", line 2506, in create_op\n    original_op=self._default_original_op, op_def=op_def)\n  File \"C:\\Users\\sakalos\\moje\\python\\WinPython\\WinPython-64bit-3.5.2.3\\python-3.5.2.amd64\\lib\\site-packages\\tensorflow\\python\\framework\\ops.py\", line 1269, in __init__\n    self._traceback = _extract_stack()\n\nInvalidArgumentError (see above for traceback): TensorArray map_2/TensorArray_1_22: Could not read from TensorArray index 1 because it has not yet been written to.\n\t [[Node: map_2/while/TensorArrayReadV3_1 = TensorArrayReadV3[dtype=DT_INT32, _device=\"/job:localhost/replica:0/task:0/cpu:0\"](map_2/while/TensorArrayReadV3_1/Enter, map_2/while/Identity, map_2/while/TensorArrayReadV3_1/Enter_1)]]\n",
     "output_type": "error",
     "traceback": [
      "\u001b[0;31m---------------------------------------------------------------------------\u001b[0m",
      "\u001b[0;31mInvalidArgumentError\u001b[0m                      Traceback (most recent call last)",
      "\u001b[0;32mC:\\Users\\sakalos\\moje\\python\\WinPython\\WinPython-64bit-3.5.2.3\\python-3.5.2.amd64\\lib\\site-packages\\tensorflow\\python\\client\\session.py\u001b[0m in \u001b[0;36m_do_call\u001b[0;34m(self, fn, *args)\u001b[0m\n\u001b[1;32m   1138\u001b[0m     \u001b[1;32mtry\u001b[0m\u001b[1;33m:\u001b[0m\u001b[1;33m\u001b[0m\u001b[0m\n\u001b[0;32m-> 1139\u001b[0;31m       \u001b[1;32mreturn\u001b[0m \u001b[0mfn\u001b[0m\u001b[1;33m(\u001b[0m\u001b[1;33m*\u001b[0m\u001b[0margs\u001b[0m\u001b[1;33m)\u001b[0m\u001b[1;33m\u001b[0m\u001b[0m\n\u001b[0m\u001b[1;32m   1140\u001b[0m     \u001b[1;32mexcept\u001b[0m \u001b[0merrors\u001b[0m\u001b[1;33m.\u001b[0m\u001b[0mOpError\u001b[0m \u001b[1;32mas\u001b[0m \u001b[0me\u001b[0m\u001b[1;33m:\u001b[0m\u001b[1;33m\u001b[0m\u001b[0m\n",
      "\u001b[0;32mC:\\Users\\sakalos\\moje\\python\\WinPython\\WinPython-64bit-3.5.2.3\\python-3.5.2.amd64\\lib\\site-packages\\tensorflow\\python\\client\\session.py\u001b[0m in \u001b[0;36m_run_fn\u001b[0;34m(session, feed_dict, fetch_list, target_list, options, run_metadata)\u001b[0m\n\u001b[1;32m   1120\u001b[0m                                  \u001b[0mfeed_dict\u001b[0m\u001b[1;33m,\u001b[0m \u001b[0mfetch_list\u001b[0m\u001b[1;33m,\u001b[0m \u001b[0mtarget_list\u001b[0m\u001b[1;33m,\u001b[0m\u001b[1;33m\u001b[0m\u001b[0m\n\u001b[0;32m-> 1121\u001b[0;31m                                  status, run_metadata)\n\u001b[0m\u001b[1;32m   1122\u001b[0m \u001b[1;33m\u001b[0m\u001b[0m\n",
      "\u001b[0;32mC:\\Users\\sakalos\\moje\\python\\WinPython\\WinPython-64bit-3.5.2.3\\python-3.5.2.amd64\\lib\\contextlib.py\u001b[0m in \u001b[0;36m__exit__\u001b[0;34m(self, type, value, traceback)\u001b[0m\n\u001b[1;32m     65\u001b[0m             \u001b[1;32mtry\u001b[0m\u001b[1;33m:\u001b[0m\u001b[1;33m\u001b[0m\u001b[0m\n\u001b[0;32m---> 66\u001b[0;31m                 \u001b[0mnext\u001b[0m\u001b[1;33m(\u001b[0m\u001b[0mself\u001b[0m\u001b[1;33m.\u001b[0m\u001b[0mgen\u001b[0m\u001b[1;33m)\u001b[0m\u001b[1;33m\u001b[0m\u001b[0m\n\u001b[0m\u001b[1;32m     67\u001b[0m             \u001b[1;32mexcept\u001b[0m \u001b[0mStopIteration\u001b[0m\u001b[1;33m:\u001b[0m\u001b[1;33m\u001b[0m\u001b[0m\n",
      "\u001b[0;32mC:\\Users\\sakalos\\moje\\python\\WinPython\\WinPython-64bit-3.5.2.3\\python-3.5.2.amd64\\lib\\site-packages\\tensorflow\\python\\framework\\errors_impl.py\u001b[0m in \u001b[0;36mraise_exception_on_not_ok_status\u001b[0;34m()\u001b[0m\n\u001b[1;32m    465\u001b[0m           \u001b[0mcompat\u001b[0m\u001b[1;33m.\u001b[0m\u001b[0mas_text\u001b[0m\u001b[1;33m(\u001b[0m\u001b[0mpywrap_tensorflow\u001b[0m\u001b[1;33m.\u001b[0m\u001b[0mTF_Message\u001b[0m\u001b[1;33m(\u001b[0m\u001b[0mstatus\u001b[0m\u001b[1;33m)\u001b[0m\u001b[1;33m)\u001b[0m\u001b[1;33m,\u001b[0m\u001b[1;33m\u001b[0m\u001b[0m\n\u001b[0;32m--> 466\u001b[0;31m           pywrap_tensorflow.TF_GetCode(status))\n\u001b[0m\u001b[1;32m    467\u001b[0m   \u001b[1;32mfinally\u001b[0m\u001b[1;33m:\u001b[0m\u001b[1;33m\u001b[0m\u001b[0m\n",
      "\u001b[0;31mInvalidArgumentError\u001b[0m: TensorArray map_2/TensorArray_1_22: Could not read from TensorArray index 1 because it has not yet been written to.\n\t [[Node: map_2/while/TensorArrayReadV3_1 = TensorArrayReadV3[dtype=DT_INT32, _device=\"/job:localhost/replica:0/task:0/cpu:0\"](map_2/while/TensorArrayReadV3_1/Enter, map_2/while/Identity, map_2/while/TensorArrayReadV3_1/Enter_1)]]",
      "\nDuring handling of the above exception, another exception occurred:\n",
      "\u001b[0;31mInvalidArgumentError\u001b[0m                      Traceback (most recent call last)",
      "\u001b[0;32m<ipython-input-21-d3c69afd13b2>\u001b[0m in \u001b[0;36m<module>\u001b[0;34m()\u001b[0m\n\u001b[0;32m----> 1\u001b[0;31m \u001b[0msess\u001b[0m\u001b[1;33m.\u001b[0m\u001b[0mrun\u001b[0m\u001b[1;33m(\u001b[0m\u001b[0mcyc2\u001b[0m\u001b[1;33m)\u001b[0m\u001b[1;33m\u001b[0m\u001b[0m\n\u001b[0m",
      "\u001b[0;32mC:\\Users\\sakalos\\moje\\python\\WinPython\\WinPython-64bit-3.5.2.3\\python-3.5.2.amd64\\lib\\site-packages\\tensorflow\\python\\client\\session.py\u001b[0m in \u001b[0;36mrun\u001b[0;34m(self, fetches, feed_dict, options, run_metadata)\u001b[0m\n\u001b[1;32m    787\u001b[0m     \u001b[1;32mtry\u001b[0m\u001b[1;33m:\u001b[0m\u001b[1;33m\u001b[0m\u001b[0m\n\u001b[1;32m    788\u001b[0m       result = self._run(None, fetches, feed_dict, options_ptr,\n\u001b[0;32m--> 789\u001b[0;31m                          run_metadata_ptr)\n\u001b[0m\u001b[1;32m    790\u001b[0m       \u001b[1;32mif\u001b[0m \u001b[0mrun_metadata\u001b[0m\u001b[1;33m:\u001b[0m\u001b[1;33m\u001b[0m\u001b[0m\n\u001b[1;32m    791\u001b[0m         \u001b[0mproto_data\u001b[0m \u001b[1;33m=\u001b[0m \u001b[0mtf_session\u001b[0m\u001b[1;33m.\u001b[0m\u001b[0mTF_GetBuffer\u001b[0m\u001b[1;33m(\u001b[0m\u001b[0mrun_metadata_ptr\u001b[0m\u001b[1;33m)\u001b[0m\u001b[1;33m\u001b[0m\u001b[0m\n",
      "\u001b[0;32mC:\\Users\\sakalos\\moje\\python\\WinPython\\WinPython-64bit-3.5.2.3\\python-3.5.2.amd64\\lib\\site-packages\\tensorflow\\python\\client\\session.py\u001b[0m in \u001b[0;36m_run\u001b[0;34m(self, handle, fetches, feed_dict, options, run_metadata)\u001b[0m\n\u001b[1;32m    995\u001b[0m     \u001b[1;32mif\u001b[0m \u001b[0mfinal_fetches\u001b[0m \u001b[1;32mor\u001b[0m \u001b[0mfinal_targets\u001b[0m\u001b[1;33m:\u001b[0m\u001b[1;33m\u001b[0m\u001b[0m\n\u001b[1;32m    996\u001b[0m       results = self._do_run(handle, final_targets, final_fetches,\n\u001b[0;32m--> 997\u001b[0;31m                              feed_dict_string, options, run_metadata)\n\u001b[0m\u001b[1;32m    998\u001b[0m     \u001b[1;32melse\u001b[0m\u001b[1;33m:\u001b[0m\u001b[1;33m\u001b[0m\u001b[0m\n\u001b[1;32m    999\u001b[0m       \u001b[0mresults\u001b[0m \u001b[1;33m=\u001b[0m \u001b[1;33m[\u001b[0m\u001b[1;33m]\u001b[0m\u001b[1;33m\u001b[0m\u001b[0m\n",
      "\u001b[0;32mC:\\Users\\sakalos\\moje\\python\\WinPython\\WinPython-64bit-3.5.2.3\\python-3.5.2.amd64\\lib\\site-packages\\tensorflow\\python\\client\\session.py\u001b[0m in \u001b[0;36m_do_run\u001b[0;34m(self, handle, target_list, fetch_list, feed_dict, options, run_metadata)\u001b[0m\n\u001b[1;32m   1130\u001b[0m     \u001b[1;32mif\u001b[0m \u001b[0mhandle\u001b[0m \u001b[1;32mis\u001b[0m \u001b[1;32mNone\u001b[0m\u001b[1;33m:\u001b[0m\u001b[1;33m\u001b[0m\u001b[0m\n\u001b[1;32m   1131\u001b[0m       return self._do_call(_run_fn, self._session, feed_dict, fetch_list,\n\u001b[0;32m-> 1132\u001b[0;31m                            target_list, options, run_metadata)\n\u001b[0m\u001b[1;32m   1133\u001b[0m     \u001b[1;32melse\u001b[0m\u001b[1;33m:\u001b[0m\u001b[1;33m\u001b[0m\u001b[0m\n\u001b[1;32m   1134\u001b[0m       return self._do_call(_prun_fn, self._session, handle, feed_dict,\n",
      "\u001b[0;32mC:\\Users\\sakalos\\moje\\python\\WinPython\\WinPython-64bit-3.5.2.3\\python-3.5.2.amd64\\lib\\site-packages\\tensorflow\\python\\client\\session.py\u001b[0m in \u001b[0;36m_do_call\u001b[0;34m(self, fn, *args)\u001b[0m\n\u001b[1;32m   1150\u001b[0m         \u001b[1;32mexcept\u001b[0m \u001b[0mKeyError\u001b[0m\u001b[1;33m:\u001b[0m\u001b[1;33m\u001b[0m\u001b[0m\n\u001b[1;32m   1151\u001b[0m           \u001b[1;32mpass\u001b[0m\u001b[1;33m\u001b[0m\u001b[0m\n\u001b[0;32m-> 1152\u001b[0;31m       \u001b[1;32mraise\u001b[0m \u001b[0mtype\u001b[0m\u001b[1;33m(\u001b[0m\u001b[0me\u001b[0m\u001b[1;33m)\u001b[0m\u001b[1;33m(\u001b[0m\u001b[0mnode_def\u001b[0m\u001b[1;33m,\u001b[0m \u001b[0mop\u001b[0m\u001b[1;33m,\u001b[0m \u001b[0mmessage\u001b[0m\u001b[1;33m)\u001b[0m\u001b[1;33m\u001b[0m\u001b[0m\n\u001b[0m\u001b[1;32m   1153\u001b[0m \u001b[1;33m\u001b[0m\u001b[0m\n\u001b[1;32m   1154\u001b[0m   \u001b[1;32mdef\u001b[0m \u001b[0m_extend_graph\u001b[0m\u001b[1;33m(\u001b[0m\u001b[0mself\u001b[0m\u001b[1;33m)\u001b[0m\u001b[1;33m:\u001b[0m\u001b[1;33m\u001b[0m\u001b[0m\n",
      "\u001b[0;31mInvalidArgumentError\u001b[0m: TensorArray map_2/TensorArray_1_22: Could not read from TensorArray index 1 because it has not yet been written to.\n\t [[Node: map_2/while/TensorArrayReadV3_1 = TensorArrayReadV3[dtype=DT_INT32, _device=\"/job:localhost/replica:0/task:0/cpu:0\"](map_2/while/TensorArrayReadV3_1/Enter, map_2/while/Identity, map_2/while/TensorArrayReadV3_1/Enter_1)]]\n\nCaused by op 'map_2/while/TensorArrayReadV3_1', defined at:\n  File \"C:\\Users\\sakalos\\moje\\python\\WinPython\\WinPython-64bit-3.5.2.3\\python-3.5.2.amd64\\lib\\runpy.py\", line 184, in _run_module_as_main\n    \"__main__\", mod_spec)\n  File \"C:\\Users\\sakalos\\moje\\python\\WinPython\\WinPython-64bit-3.5.2.3\\python-3.5.2.amd64\\lib\\runpy.py\", line 85, in _run_code\n    exec(code, run_globals)\n  File \"C:\\Users\\sakalos\\moje\\python\\WinPython\\WinPython-64bit-3.5.2.3\\python-3.5.2.amd64\\lib\\site-packages\\ipykernel\\__main__.py\", line 3, in <module>\n    app.launch_new_instance()\n  File \"C:\\Users\\sakalos\\moje\\python\\WinPython\\WinPython-64bit-3.5.2.3\\python-3.5.2.amd64\\lib\\site-packages\\traitlets\\config\\application.py\", line 658, in launch_instance\n    app.start()\n  File \"C:\\Users\\sakalos\\moje\\python\\WinPython\\WinPython-64bit-3.5.2.3\\python-3.5.2.amd64\\lib\\site-packages\\ipykernel\\kernelapp.py\", line 474, in start\n    ioloop.IOLoop.instance().start()\n  File \"C:\\Users\\sakalos\\moje\\python\\WinPython\\WinPython-64bit-3.5.2.3\\python-3.5.2.amd64\\lib\\site-packages\\zmq\\eventloop\\ioloop.py\", line 162, in start\n    super(ZMQIOLoop, self).start()\n  File \"C:\\Users\\sakalos\\moje\\python\\WinPython\\WinPython-64bit-3.5.2.3\\python-3.5.2.amd64\\lib\\site-packages\\tornado\\ioloop.py\", line 887, in start\n    handler_func(fd_obj, events)\n  File \"C:\\Users\\sakalos\\moje\\python\\WinPython\\WinPython-64bit-3.5.2.3\\python-3.5.2.amd64\\lib\\site-packages\\tornado\\stack_context.py\", line 275, in null_wrapper\n    return fn(*args, **kwargs)\n  File \"C:\\Users\\sakalos\\moje\\python\\WinPython\\WinPython-64bit-3.5.2.3\\python-3.5.2.amd64\\lib\\site-packages\\zmq\\eventloop\\zmqstream.py\", line 440, in _handle_events\n    self._handle_recv()\n  File \"C:\\Users\\sakalos\\moje\\python\\WinPython\\WinPython-64bit-3.5.2.3\\python-3.5.2.amd64\\lib\\site-packages\\zmq\\eventloop\\zmqstream.py\", line 472, in _handle_recv\n    self._run_callback(callback, msg)\n  File \"C:\\Users\\sakalos\\moje\\python\\WinPython\\WinPython-64bit-3.5.2.3\\python-3.5.2.amd64\\lib\\site-packages\\zmq\\eventloop\\zmqstream.py\", line 414, in _run_callback\n    callback(*args, **kwargs)\n  File \"C:\\Users\\sakalos\\moje\\python\\WinPython\\WinPython-64bit-3.5.2.3\\python-3.5.2.amd64\\lib\\site-packages\\tornado\\stack_context.py\", line 275, in null_wrapper\n    return fn(*args, **kwargs)\n  File \"C:\\Users\\sakalos\\moje\\python\\WinPython\\WinPython-64bit-3.5.2.3\\python-3.5.2.amd64\\lib\\site-packages\\ipykernel\\kernelbase.py\", line 276, in dispatcher\n    return self.dispatch_shell(stream, msg)\n  File \"C:\\Users\\sakalos\\moje\\python\\WinPython\\WinPython-64bit-3.5.2.3\\python-3.5.2.amd64\\lib\\site-packages\\ipykernel\\kernelbase.py\", line 228, in dispatch_shell\n    handler(stream, idents, msg)\n  File \"C:\\Users\\sakalos\\moje\\python\\WinPython\\WinPython-64bit-3.5.2.3\\python-3.5.2.amd64\\lib\\site-packages\\ipykernel\\kernelbase.py\", line 390, in execute_request\n    user_expressions, allow_stdin)\n  File \"C:\\Users\\sakalos\\moje\\python\\WinPython\\WinPython-64bit-3.5.2.3\\python-3.5.2.amd64\\lib\\site-packages\\ipykernel\\ipkernel.py\", line 196, in do_execute\n    res = shell.run_cell(code, store_history=store_history, silent=silent)\n  File \"C:\\Users\\sakalos\\moje\\python\\WinPython\\WinPython-64bit-3.5.2.3\\python-3.5.2.amd64\\lib\\site-packages\\ipykernel\\zmqshell.py\", line 501, in run_cell\n    return super(ZMQInteractiveShell, self).run_cell(*args, **kwargs)\n  File \"C:\\Users\\sakalos\\moje\\python\\WinPython\\WinPython-64bit-3.5.2.3\\python-3.5.2.amd64\\lib\\site-packages\\IPython\\core\\interactiveshell.py\", line 2717, in run_cell\n    interactivity=interactivity, compiler=compiler, result=result)\n  File \"C:\\Users\\sakalos\\moje\\python\\WinPython\\WinPython-64bit-3.5.2.3\\python-3.5.2.amd64\\lib\\site-packages\\IPython\\core\\interactiveshell.py\", line 2821, in run_ast_nodes\n    if self.run_code(code, result):\n  File \"C:\\Users\\sakalos\\moje\\python\\WinPython\\WinPython-64bit-3.5.2.3\\python-3.5.2.amd64\\lib\\site-packages\\IPython\\core\\interactiveshell.py\", line 2881, in run_code\n    exec(code_obj, self.user_global_ns, self.user_ns)\n  File \"<ipython-input-19-dd88dc595acc>\", line 4, in <module>\n    dtype = tf.int32\n  File \"C:\\Users\\sakalos\\moje\\python\\WinPython\\WinPython-64bit-3.5.2.3\\python-3.5.2.amd64\\lib\\site-packages\\tensorflow\\python\\ops\\functional_ops.py\", line 389, in map_fn\n    swap_memory=swap_memory)\n  File \"C:\\Users\\sakalos\\moje\\python\\WinPython\\WinPython-64bit-3.5.2.3\\python-3.5.2.amd64\\lib\\site-packages\\tensorflow\\python\\ops\\control_flow_ops.py\", line 2770, in while_loop\n    result = context.BuildLoop(cond, body, loop_vars, shape_invariants)\n  File \"C:\\Users\\sakalos\\moje\\python\\WinPython\\WinPython-64bit-3.5.2.3\\python-3.5.2.amd64\\lib\\site-packages\\tensorflow\\python\\ops\\control_flow_ops.py\", line 2599, in BuildLoop\n    pred, body, original_loop_vars, loop_vars, shape_invariants)\n  File \"C:\\Users\\sakalos\\moje\\python\\WinPython\\WinPython-64bit-3.5.2.3\\python-3.5.2.amd64\\lib\\site-packages\\tensorflow\\python\\ops\\control_flow_ops.py\", line 2549, in _BuildLoop\n    body_result = body(*packed_vars_for_body)\n  File \"C:\\Users\\sakalos\\moje\\python\\WinPython\\WinPython-64bit-3.5.2.3\\python-3.5.2.amd64\\lib\\site-packages\\tensorflow\\python\\ops\\functional_ops.py\", line 378, in compute\n    packed_values = input_pack([elem_ta.read(i) for elem_ta in elems_ta])\n  File \"C:\\Users\\sakalos\\moje\\python\\WinPython\\WinPython-64bit-3.5.2.3\\python-3.5.2.amd64\\lib\\site-packages\\tensorflow\\python\\ops\\functional_ops.py\", line 378, in <listcomp>\n    packed_values = input_pack([elem_ta.read(i) for elem_ta in elems_ta])\n  File \"C:\\Users\\sakalos\\moje\\python\\WinPython\\WinPython-64bit-3.5.2.3\\python-3.5.2.amd64\\lib\\site-packages\\tensorflow\\python\\util\\tf_should_use.py\", line 88, in fn\n    return method(self, *args, **kwargs)\n  File \"C:\\Users\\sakalos\\moje\\python\\WinPython\\WinPython-64bit-3.5.2.3\\python-3.5.2.amd64\\lib\\site-packages\\tensorflow\\python\\ops\\tensor_array_ops.py\", line 280, in read\n    name=name)\n  File \"C:\\Users\\sakalos\\moje\\python\\WinPython\\WinPython-64bit-3.5.2.3\\python-3.5.2.amd64\\lib\\site-packages\\tensorflow\\python\\ops\\gen_data_flow_ops.py\", line 1997, in _tensor_array_read_v3\n    name=name)\n  File \"C:\\Users\\sakalos\\moje\\python\\WinPython\\WinPython-64bit-3.5.2.3\\python-3.5.2.amd64\\lib\\site-packages\\tensorflow\\python\\framework\\op_def_library.py\", line 767, in apply_op\n    op_def=op_def)\n  File \"C:\\Users\\sakalos\\moje\\python\\WinPython\\WinPython-64bit-3.5.2.3\\python-3.5.2.amd64\\lib\\site-packages\\tensorflow\\python\\framework\\ops.py\", line 2506, in create_op\n    original_op=self._default_original_op, op_def=op_def)\n  File \"C:\\Users\\sakalos\\moje\\python\\WinPython\\WinPython-64bit-3.5.2.3\\python-3.5.2.amd64\\lib\\site-packages\\tensorflow\\python\\framework\\ops.py\", line 1269, in __init__\n    self._traceback = _extract_stack()\n\nInvalidArgumentError (see above for traceback): TensorArray map_2/TensorArray_1_22: Could not read from TensorArray index 1 because it has not yet been written to.\n\t [[Node: map_2/while/TensorArrayReadV3_1 = TensorArrayReadV3[dtype=DT_INT32, _device=\"/job:localhost/replica:0/task:0/cpu:0\"](map_2/while/TensorArrayReadV3_1/Enter, map_2/while/Identity, map_2/while/TensorArrayReadV3_1/Enter_1)]]\n"
     ]
    }
   ],
   "source": [
    "sess.run(cyc2)"
   ]
  },
  {
   "cell_type": "code",
   "execution_count": null,
   "metadata": {
    "collapsed": true
   },
   "outputs": [],
   "source": []
  }
 ],
 "metadata": {
  "kernelspec": {
   "display_name": "Python 3",
   "language": "python",
   "name": "python3"
  },
  "language_info": {
   "codemirror_mode": {
    "name": "ipython",
    "version": 3
   },
   "file_extension": ".py",
   "mimetype": "text/x-python",
   "name": "python",
   "nbconvert_exporter": "python",
   "pygments_lexer": "ipython3",
   "version": "3.5.2"
  }
 },
 "nbformat": 4,
 "nbformat_minor": 1
}

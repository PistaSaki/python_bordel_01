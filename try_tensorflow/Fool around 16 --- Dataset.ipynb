{
 "cells": [
  {
   "cell_type": "code",
   "execution_count": 1,
   "metadata": {
    "ExecuteTime": {
     "end_time": "2018-01-18T17:07:47.084301Z",
     "start_time": "2018-01-18T17:07:45.142301Z"
    }
   },
   "outputs": [],
   "source": [
    "import tensorflow as tf"
   ]
  },
  {
   "cell_type": "code",
   "execution_count": 2,
   "metadata": {
    "ExecuteTime": {
     "end_time": "2018-01-18T17:07:47.088301Z",
     "start_time": "2018-01-18T17:07:47.085301Z"
    }
   },
   "outputs": [],
   "source": [
    "import numpy as np\n",
    "import numpy.random as rnd"
   ]
  },
  {
   "cell_type": "code",
   "execution_count": 5,
   "metadata": {
    "ExecuteTime": {
     "end_time": "2018-01-18T17:07:47.101301Z",
     "start_time": "2018-01-18T17:07:47.090301Z"
    }
   },
   "outputs": [],
   "source": [
    "dat = tf.data.Dataset.from_tensor_slices(\n",
    "    tensors = {\n",
    "        \"name\": [\"a\", \"b\", \"c\"],\n",
    "        \"id\": [1, 2, 3],\n",
    "        \"x\": rnd.rand(3, 2),\n",
    "        \"y\": rnd.rand(3, 1),\n",
    "    }\n",
    ")"
   ]
  },
  {
   "cell_type": "code",
   "execution_count": 6,
   "metadata": {
    "ExecuteTime": {
     "end_time": "2018-01-18T17:08:19.068301Z",
     "start_time": "2018-01-18T17:08:19.047301Z"
    }
   },
   "outputs": [
    {
     "data": {
      "text/plain": [
       "<TensorSliceDataset shapes: {name: (), id: (), x: (2,), y: (1,)}, types: {name: tf.string, id: tf.int32, x: tf.float64, y: tf.float64}>"
      ]
     },
     "execution_count": 6,
     "metadata": {},
     "output_type": "execute_result"
    }
   ],
   "source": [
    "dat"
   ]
  },
  {
   "cell_type": "markdown",
   "metadata": {},
   "source": [
    "##### One shot iterator\n",
    "No initializer, we can iterate once and at the end we get `tf.errors.OutOfRangeError`. Since we have no initializer, we can not reinitialize the iterator in the same session."
   ]
  },
  {
   "cell_type": "code",
   "execution_count": 26,
   "metadata": {},
   "outputs": [],
   "source": [
    "iterator = dat.make_one_shot_iterator()"
   ]
  },
  {
   "cell_type": "code",
   "execution_count": 27,
   "metadata": {},
   "outputs": [],
   "source": [
    "row = iterator.get_next()"
   ]
  },
  {
   "cell_type": "code",
   "execution_count": 29,
   "metadata": {},
   "outputs": [
    {
     "name": "stdout",
     "output_type": "stream",
     "text": [
      "{'name': b'a', 'id': 1, 'x': array([0.30432704, 0.26048328]), 'y': array([0.0285219])}\n",
      "{'name': b'b', 'id': 2, 'x': array([0.54543213, 0.25145685]), 'y': array([0.65539612])}\n",
      "{'name': b'c', 'id': 3, 'x': array([0.12961328, 0.82632586]), 'y': array([0.81019914])}\n",
      "<class 'tensorflow.python.framework.errors_impl.OutOfRangeError'>\n"
     ]
    }
   ],
   "source": [
    "with tf.Session() as sess:\n",
    "    \n",
    "    for i in range(4):\n",
    "        try:\n",
    "            print(sess.run(row))\n",
    "        except tf.errors.OutOfRangeError as exc:\n",
    "            print(type(exc))"
   ]
  },
  {
   "cell_type": "markdown",
   "metadata": {},
   "source": [
    "#### Initializable iterator"
   ]
  },
  {
   "cell_type": "code",
   "execution_count": 30,
   "metadata": {},
   "outputs": [],
   "source": [
    "iterator = dat.make_initializable_iterator()"
   ]
  },
  {
   "cell_type": "code",
   "execution_count": 31,
   "metadata": {},
   "outputs": [],
   "source": [
    "row = iterator.get_next()"
   ]
  },
  {
   "cell_type": "code",
   "execution_count": 34,
   "metadata": {},
   "outputs": [
    {
     "name": "stdout",
     "output_type": "stream",
     "text": [
      "{'name': b'a', 'id': 1, 'x': array([0.30432704, 0.26048328]), 'y': array([0.0285219])}\n",
      "{'name': b'b', 'id': 2, 'x': array([0.54543213, 0.25145685]), 'y': array([0.65539612])}\n",
      "{'name': b'c', 'id': 3, 'x': array([0.12961328, 0.82632586]), 'y': array([0.81019914])}\n",
      "<class 'tensorflow.python.framework.errors_impl.OutOfRangeError'>\n",
      "\n",
      "We can reinitialize and iterate once again:\n",
      "\n",
      "{'name': b'a', 'id': 1, 'x': array([0.30432704, 0.26048328]), 'y': array([0.0285219])}\n",
      "{'name': b'b', 'id': 2, 'x': array([0.54543213, 0.25145685]), 'y': array([0.65539612])}\n",
      "{'name': b'c', 'id': 3, 'x': array([0.12961328, 0.82632586]), 'y': array([0.81019914])}\n",
      "<class 'tensorflow.python.framework.errors_impl.OutOfRangeError'>\n"
     ]
    }
   ],
   "source": [
    "with tf.Session() as sess:\n",
    "    sess.run(iterator.initializer)\n",
    "    for i in range(4):\n",
    "        try:\n",
    "            print(sess.run(row))\n",
    "        except tf.errors.OutOfRangeError as exc:\n",
    "            print(type(exc))\n",
    "            \n",
    "    print(\"\\nWe can reinitialize and iterate once again:\\n\")\n",
    "    sess.run(iterator.initializer)\n",
    "    for i in range(4):\n",
    "        try:\n",
    "            print(sess.run(row))\n",
    "        except tf.errors.OutOfRangeError as exc:\n",
    "            print(type(exc))"
   ]
  },
  {
   "cell_type": "markdown",
   "metadata": {},
   "source": [
    "If we define the dataset from variables or placeholders, we can change the data:"
   ]
  },
  {
   "cell_type": "code",
   "execution_count": 46,
   "metadata": {},
   "outputs": [],
   "source": [
    "x_data = tf.placeholder(np.float32, [10, 2])\n",
    "y_data = tf.placeholder(np.float32, [10, 1])\n",
    "dat2 = tf.data.Dataset.from_tensor_slices({\"x\": x_data, \"y\": y_data})"
   ]
  },
  {
   "cell_type": "code",
   "execution_count": 47,
   "metadata": {},
   "outputs": [],
   "source": [
    "iterator = dat2.make_initializable_iterator()"
   ]
  },
  {
   "cell_type": "code",
   "execution_count": 48,
   "metadata": {},
   "outputs": [],
   "source": [
    "row = iterator.get_next()"
   ]
  },
  {
   "cell_type": "code",
   "execution_count": 49,
   "metadata": {},
   "outputs": [
    {
     "name": "stdout",
     "output_type": "stream",
     "text": [
      "{'x': array([1., 1.], dtype=float32), 'y': array([1.], dtype=float32)}\n",
      "{'x': array([1., 1.], dtype=float32), 'y': array([1.], dtype=float32)}\n",
      "{'x': array([1., 1.], dtype=float32), 'y': array([1.], dtype=float32)}\n",
      "{'x': array([1., 1.], dtype=float32), 'y': array([1.], dtype=float32)}\n"
     ]
    }
   ],
   "source": [
    "with tf.Session() as sess:\n",
    "    sess.run(iterator.initializer, \n",
    "        feed_dict={\n",
    "            x_data: np.ones([10, 2]),\n",
    "            y_data: np.ones([10, 1]),\n",
    "        }\n",
    "    )\n",
    "    for i in range(4):\n",
    "        print(sess.run(row)) "
   ]
  },
  {
   "cell_type": "markdown",
   "metadata": {},
   "source": [
    "#### Reinitializable iterator\n",
    "Initializer is defined independently of the Datasets and Datasets can be assigned to it and changed in the session-run-time."
   ]
  },
  {
   "cell_type": "code",
   "execution_count": 51,
   "metadata": {},
   "outputs": [],
   "source": [
    "iterator = tf.data.Iterator.from_structure(\n",
    "    output_types = dat.output_types,\n",
    "    output_shapes = dat.output_shapes\n",
    ")"
   ]
  },
  {
   "cell_type": "code",
   "execution_count": 57,
   "metadata": {},
   "outputs": [],
   "source": [
    "row = iterator.get_next()"
   ]
  },
  {
   "cell_type": "code",
   "execution_count": 54,
   "metadata": {},
   "outputs": [],
   "source": [
    "train_data_initializer = iterator.make_initializer(dat)"
   ]
  },
  {
   "cell_type": "code",
   "execution_count": 50,
   "metadata": {},
   "outputs": [],
   "source": [
    "dat2 = tf.data.Dataset.from_tensor_slices(\n",
    "    tensors = {\n",
    "        \"name\": [\"d\", \"e\", \"f\"],\n",
    "        \"id\": [4, 5, 6],\n",
    "        \"x\": rnd.rand(3, 2),\n",
    "        \"y\": rnd.rand(3, 1),\n",
    "    }\n",
    ")"
   ]
  },
  {
   "cell_type": "code",
   "execution_count": 55,
   "metadata": {},
   "outputs": [],
   "source": [
    "test_data_initializer = iterator.make_initializer(dat2)"
   ]
  },
  {
   "cell_type": "code",
   "execution_count": 60,
   "metadata": {},
   "outputs": [
    {
     "name": "stdout",
     "output_type": "stream",
     "text": [
      "{'name': b'a', 'id': 1, 'x': array([0.30432704, 0.26048328]), 'y': array([0.0285219])}\n",
      "{'name': b'd', 'id': 4, 'x': array([0.08073161, 0.78845586]), 'y': array([0.67837993])}\n",
      "{'name': b'a', 'id': 1, 'x': array([0.30432704, 0.26048328]), 'y': array([0.0285219])}\n"
     ]
    }
   ],
   "source": [
    "with tf.Session() as sess:\n",
    "    sess.run(train_data_initializer)\n",
    "    print(sess.run(row)) \n",
    "        \n",
    "    sess.run(test_data_initializer)\n",
    "    print(sess.run(row)) \n",
    "    \n",
    "    sess.run(train_data_initializer)\n",
    "    print(sess.run(row)) "
   ]
  },
  {
   "cell_type": "markdown",
   "metadata": {},
   "source": [
    "#### Feedable iterator\n",
    "switches between iterators. So unlike the preceding one, the state of each iterators is preserved after switching."
   ]
  },
  {
   "cell_type": "code",
   "execution_count": 61,
   "metadata": {},
   "outputs": [],
   "source": [
    "iterator1 = dat.make_one_shot_iterator()\n",
    "iterator2 = dat.make_one_shot_iterator()"
   ]
  },
  {
   "cell_type": "code",
   "execution_count": 78,
   "metadata": {},
   "outputs": [],
   "source": [
    "handle = tf.placeholder(dtype=tf.string, shape = [], name = \"iterator_handle\")\n",
    "iterator = tf.data.Iterator.from_string_handle(\n",
    "    string_handle=handle, \n",
    "    output_types=dat.output_types, \n",
    "    output_shapes=dat.output_shapes\n",
    ")"
   ]
  },
  {
   "cell_type": "code",
   "execution_count": 79,
   "metadata": {},
   "outputs": [],
   "source": [
    "row = iterator.get_next()"
   ]
  },
  {
   "cell_type": "code",
   "execution_count": 83,
   "metadata": {},
   "outputs": [
    {
     "name": "stdout",
     "output_type": "stream",
     "text": [
      "b\"\\n,/job:localhost/replica:0/task:0/device:CPU:0\\x12\\tlocalhost\\x1a\\x15_39_OneShotIterator_2 \\xe4\\xed\\xb1\\xef\\xf7\\xd8\\x80\\x89,*9class tensorflow::`anonymous namespace'::IteratorResource\" b\"\\n,/job:localhost/replica:0/task:0/device:CPU:0\\x12\\tlocalhost\\x1a\\x15_40_OneShotIterator_3 \\xe4\\xed\\xb1\\xef\\xf7\\xd8\\x80\\x89,*9class tensorflow::`anonymous namespace'::IteratorResource\"\n"
     ]
    },
    {
     "ename": "InvalidArgumentError",
     "evalue": "You must feed a value for placeholder tensor 'iterator_handle' with dtype string\n\t [[Node: iterator_handle = Placeholder[dtype=DT_STRING, shape=[], _device=\"/job:localhost/replica:0/task:0/device:CPU:0\"]()]]\n\nCaused by op 'iterator_handle', defined at:\n  File \"C:\\~Lokalni data\\WPy-3662\\python-3.6.6.amd64\\lib\\runpy.py\", line 193, in _run_module_as_main\n    \"__main__\", mod_spec)\n  File \"C:\\~Lokalni data\\WPy-3662\\python-3.6.6.amd64\\lib\\runpy.py\", line 85, in _run_code\n    exec(code, run_globals)\n  File \"C:\\~Lokalni data\\WPy-3662\\python-3.6.6.amd64\\lib\\site-packages\\ipykernel_launcher.py\", line 16, in <module>\n    app.launch_new_instance()\n  File \"C:\\~Lokalni data\\WPy-3662\\python-3.6.6.amd64\\lib\\site-packages\\traitlets\\config\\application.py\", line 658, in launch_instance\n    app.start()\n  File \"C:\\~Lokalni data\\WPy-3662\\python-3.6.6.amd64\\lib\\site-packages\\ipykernel\\kernelapp.py\", line 497, in start\n    self.io_loop.start()\n  File \"C:\\~Lokalni data\\WPy-3662\\python-3.6.6.amd64\\lib\\site-packages\\tornado\\platform\\asyncio.py\", line 132, in start\n    self.asyncio_loop.run_forever()\n  File \"C:\\~Lokalni data\\WPy-3662\\python-3.6.6.amd64\\lib\\asyncio\\base_events.py\", line 422, in run_forever\n    self._run_once()\n  File \"C:\\~Lokalni data\\WPy-3662\\python-3.6.6.amd64\\lib\\asyncio\\base_events.py\", line 1434, in _run_once\n    handle._run()\n  File \"C:\\~Lokalni data\\WPy-3662\\python-3.6.6.amd64\\lib\\asyncio\\events.py\", line 145, in _run\n    self._callback(*self._args)\n  File \"C:\\~Lokalni data\\WPy-3662\\python-3.6.6.amd64\\lib\\site-packages\\tornado\\platform\\asyncio.py\", line 122, in _handle_events\n    handler_func(fileobj, events)\n  File \"C:\\~Lokalni data\\WPy-3662\\python-3.6.6.amd64\\lib\\site-packages\\tornado\\stack_context.py\", line 300, in null_wrapper\n    return fn(*args, **kwargs)\n  File \"C:\\~Lokalni data\\WPy-3662\\python-3.6.6.amd64\\lib\\site-packages\\zmq\\eventloop\\zmqstream.py\", line 450, in _handle_events\n    self._handle_recv()\n  File \"C:\\~Lokalni data\\WPy-3662\\python-3.6.6.amd64\\lib\\site-packages\\zmq\\eventloop\\zmqstream.py\", line 480, in _handle_recv\n    self._run_callback(callback, msg)\n  File \"C:\\~Lokalni data\\WPy-3662\\python-3.6.6.amd64\\lib\\site-packages\\zmq\\eventloop\\zmqstream.py\", line 432, in _run_callback\n    callback(*args, **kwargs)\n  File \"C:\\~Lokalni data\\WPy-3662\\python-3.6.6.amd64\\lib\\site-packages\\tornado\\stack_context.py\", line 300, in null_wrapper\n    return fn(*args, **kwargs)\n  File \"C:\\~Lokalni data\\WPy-3662\\python-3.6.6.amd64\\lib\\site-packages\\ipykernel\\kernelbase.py\", line 283, in dispatcher\n    return self.dispatch_shell(stream, msg)\n  File \"C:\\~Lokalni data\\WPy-3662\\python-3.6.6.amd64\\lib\\site-packages\\ipykernel\\kernelbase.py\", line 233, in dispatch_shell\n    handler(stream, idents, msg)\n  File \"C:\\~Lokalni data\\WPy-3662\\python-3.6.6.amd64\\lib\\site-packages\\ipykernel\\kernelbase.py\", line 399, in execute_request\n    user_expressions, allow_stdin)\n  File \"C:\\~Lokalni data\\WPy-3662\\python-3.6.6.amd64\\lib\\site-packages\\ipykernel\\ipkernel.py\", line 208, in do_execute\n    res = shell.run_cell(code, store_history=store_history, silent=silent)\n  File \"C:\\~Lokalni data\\WPy-3662\\python-3.6.6.amd64\\lib\\site-packages\\ipykernel\\zmqshell.py\", line 537, in run_cell\n    return super(ZMQInteractiveShell, self).run_cell(*args, **kwargs)\n  File \"C:\\~Lokalni data\\WPy-3662\\python-3.6.6.amd64\\lib\\site-packages\\IPython\\core\\interactiveshell.py\", line 2662, in run_cell\n    raw_cell, store_history, silent, shell_futures)\n  File \"C:\\~Lokalni data\\WPy-3662\\python-3.6.6.amd64\\lib\\site-packages\\IPython\\core\\interactiveshell.py\", line 2785, in _run_cell\n    interactivity=interactivity, compiler=compiler, result=result)\n  File \"C:\\~Lokalni data\\WPy-3662\\python-3.6.6.amd64\\lib\\site-packages\\IPython\\core\\interactiveshell.py\", line 2901, in run_ast_nodes\n    if self.run_code(code, result):\n  File \"C:\\~Lokalni data\\WPy-3662\\python-3.6.6.amd64\\lib\\site-packages\\IPython\\core\\interactiveshell.py\", line 2961, in run_code\n    exec(code_obj, self.user_global_ns, self.user_ns)\n  File \"<ipython-input-78-48e62ff1c6cd>\", line 1, in <module>\n    handle = tf.placeholder(tf.string, shape = [], name = \"iterator_handle\")\n  File \"C:\\~Lokalni data\\WPy-3662\\python-3.6.6.amd64\\lib\\site-packages\\tensorflow\\python\\ops\\array_ops.py\", line 1735, in placeholder\n    return gen_array_ops.placeholder(dtype=dtype, shape=shape, name=name)\n  File \"C:\\~Lokalni data\\WPy-3662\\python-3.6.6.amd64\\lib\\site-packages\\tensorflow\\python\\ops\\gen_array_ops.py\", line 5928, in placeholder\n    \"Placeholder\", dtype=dtype, shape=shape, name=name)\n  File \"C:\\~Lokalni data\\WPy-3662\\python-3.6.6.amd64\\lib\\site-packages\\tensorflow\\python\\framework\\op_def_library.py\", line 787, in _apply_op_helper\n    op_def=op_def)\n  File \"C:\\~Lokalni data\\WPy-3662\\python-3.6.6.amd64\\lib\\site-packages\\tensorflow\\python\\util\\deprecation.py\", line 454, in new_func\n    return func(*args, **kwargs)\n  File \"C:\\~Lokalni data\\WPy-3662\\python-3.6.6.amd64\\lib\\site-packages\\tensorflow\\python\\framework\\ops.py\", line 3155, in create_op\n    op_def=op_def)\n  File \"C:\\~Lokalni data\\WPy-3662\\python-3.6.6.amd64\\lib\\site-packages\\tensorflow\\python\\framework\\ops.py\", line 1717, in __init__\n    self._traceback = tf_stack.extract_stack()\n\nInvalidArgumentError (see above for traceback): You must feed a value for placeholder tensor 'iterator_handle' with dtype string\n\t [[Node: iterator_handle = Placeholder[dtype=DT_STRING, shape=[], _device=\"/job:localhost/replica:0/task:0/device:CPU:0\"]()]]\n",
     "output_type": "error",
     "traceback": [
      "\u001b[1;31m---------------------------------------------------------------------------\u001b[0m",
      "\u001b[1;31mInvalidArgumentError\u001b[0m                      Traceback (most recent call last)",
      "\u001b[1;32mC:\\~Lokalni data\\WPy-3662\\python-3.6.6.amd64\\lib\\site-packages\\tensorflow\\python\\client\\session.py\u001b[0m in \u001b[0;36m_do_call\u001b[1;34m(self, fn, *args)\u001b[0m\n\u001b[0;32m   1277\u001b[0m     \u001b[1;32mtry\u001b[0m\u001b[1;33m:\u001b[0m\u001b[1;33m\u001b[0m\u001b[0m\n\u001b[1;32m-> 1278\u001b[1;33m       \u001b[1;32mreturn\u001b[0m \u001b[0mfn\u001b[0m\u001b[1;33m(\u001b[0m\u001b[1;33m*\u001b[0m\u001b[0margs\u001b[0m\u001b[1;33m)\u001b[0m\u001b[1;33m\u001b[0m\u001b[0m\n\u001b[0m\u001b[0;32m   1279\u001b[0m     \u001b[1;32mexcept\u001b[0m \u001b[0merrors\u001b[0m\u001b[1;33m.\u001b[0m\u001b[0mOpError\u001b[0m \u001b[1;32mas\u001b[0m \u001b[0me\u001b[0m\u001b[1;33m:\u001b[0m\u001b[1;33m\u001b[0m\u001b[0m\n",
      "\u001b[1;32mC:\\~Lokalni data\\WPy-3662\\python-3.6.6.amd64\\lib\\site-packages\\tensorflow\\python\\client\\session.py\u001b[0m in \u001b[0;36m_run_fn\u001b[1;34m(feed_dict, fetch_list, target_list, options, run_metadata)\u001b[0m\n\u001b[0;32m   1262\u001b[0m       return self._call_tf_sessionrun(\n\u001b[1;32m-> 1263\u001b[1;33m           options, feed_dict, fetch_list, target_list, run_metadata)\n\u001b[0m\u001b[0;32m   1264\u001b[0m \u001b[1;33m\u001b[0m\u001b[0m\n",
      "\u001b[1;32mC:\\~Lokalni data\\WPy-3662\\python-3.6.6.amd64\\lib\\site-packages\\tensorflow\\python\\client\\session.py\u001b[0m in \u001b[0;36m_call_tf_sessionrun\u001b[1;34m(self, options, feed_dict, fetch_list, target_list, run_metadata)\u001b[0m\n\u001b[0;32m   1349\u001b[0m         \u001b[0mself\u001b[0m\u001b[1;33m.\u001b[0m\u001b[0m_session\u001b[0m\u001b[1;33m,\u001b[0m \u001b[0moptions\u001b[0m\u001b[1;33m,\u001b[0m \u001b[0mfeed_dict\u001b[0m\u001b[1;33m,\u001b[0m \u001b[0mfetch_list\u001b[0m\u001b[1;33m,\u001b[0m \u001b[0mtarget_list\u001b[0m\u001b[1;33m,\u001b[0m\u001b[1;33m\u001b[0m\u001b[0m\n\u001b[1;32m-> 1350\u001b[1;33m         run_metadata)\n\u001b[0m\u001b[0;32m   1351\u001b[0m \u001b[1;33m\u001b[0m\u001b[0m\n",
      "\u001b[1;31mInvalidArgumentError\u001b[0m: You must feed a value for placeholder tensor 'iterator_handle' with dtype string\n\t [[Node: iterator_handle = Placeholder[dtype=DT_STRING, shape=[], _device=\"/job:localhost/replica:0/task:0/device:CPU:0\"]()]]",
      "\nDuring handling of the above exception, another exception occurred:\n",
      "\u001b[1;31mInvalidArgumentError\u001b[0m                      Traceback (most recent call last)",
      "\u001b[1;32m<ipython-input-83-0b016d41b173>\u001b[0m in \u001b[0;36m<module>\u001b[1;34m()\u001b[0m\n\u001b[0;32m      4\u001b[0m     \u001b[0mprint\u001b[0m\u001b[1;33m(\u001b[0m\u001b[0mh1\u001b[0m\u001b[1;33m,\u001b[0m \u001b[0mh2\u001b[0m\u001b[1;33m)\u001b[0m\u001b[1;33m\u001b[0m\u001b[0m\n\u001b[0;32m      5\u001b[0m \u001b[1;33m\u001b[0m\u001b[0m\n\u001b[1;32m----> 6\u001b[1;33m     \u001b[0mprint\u001b[0m\u001b[1;33m(\u001b[0m\u001b[0msess\u001b[0m\u001b[1;33m.\u001b[0m\u001b[0mrun\u001b[0m\u001b[1;33m(\u001b[0m\u001b[0mrow\u001b[0m\u001b[1;33m)\u001b[0m\u001b[1;33m,\u001b[0m \u001b[1;33m{\u001b[0m\u001b[0mhandle\u001b[0m\u001b[1;33m:\u001b[0m \u001b[0mh1\u001b[0m\u001b[1;33m}\u001b[0m\u001b[1;33m)\u001b[0m\u001b[1;33m\u001b[0m\u001b[0m\n\u001b[0m\u001b[0;32m      7\u001b[0m \u001b[1;33m\u001b[0m\u001b[0m\n",
      "\u001b[1;32mC:\\~Lokalni data\\WPy-3662\\python-3.6.6.amd64\\lib\\site-packages\\tensorflow\\python\\client\\session.py\u001b[0m in \u001b[0;36mrun\u001b[1;34m(self, fetches, feed_dict, options, run_metadata)\u001b[0m\n\u001b[0;32m    875\u001b[0m     \u001b[1;32mtry\u001b[0m\u001b[1;33m:\u001b[0m\u001b[1;33m\u001b[0m\u001b[0m\n\u001b[0;32m    876\u001b[0m       result = self._run(None, fetches, feed_dict, options_ptr,\n\u001b[1;32m--> 877\u001b[1;33m                          run_metadata_ptr)\n\u001b[0m\u001b[0;32m    878\u001b[0m       \u001b[1;32mif\u001b[0m \u001b[0mrun_metadata\u001b[0m\u001b[1;33m:\u001b[0m\u001b[1;33m\u001b[0m\u001b[0m\n\u001b[0;32m    879\u001b[0m         \u001b[0mproto_data\u001b[0m \u001b[1;33m=\u001b[0m \u001b[0mtf_session\u001b[0m\u001b[1;33m.\u001b[0m\u001b[0mTF_GetBuffer\u001b[0m\u001b[1;33m(\u001b[0m\u001b[0mrun_metadata_ptr\u001b[0m\u001b[1;33m)\u001b[0m\u001b[1;33m\u001b[0m\u001b[0m\n",
      "\u001b[1;32mC:\\~Lokalni data\\WPy-3662\\python-3.6.6.amd64\\lib\\site-packages\\tensorflow\\python\\client\\session.py\u001b[0m in \u001b[0;36m_run\u001b[1;34m(self, handle, fetches, feed_dict, options, run_metadata)\u001b[0m\n\u001b[0;32m   1098\u001b[0m     \u001b[1;32mif\u001b[0m \u001b[0mfinal_fetches\u001b[0m \u001b[1;32mor\u001b[0m \u001b[0mfinal_targets\u001b[0m \u001b[1;32mor\u001b[0m \u001b[1;33m(\u001b[0m\u001b[0mhandle\u001b[0m \u001b[1;32mand\u001b[0m \u001b[0mfeed_dict_tensor\u001b[0m\u001b[1;33m)\u001b[0m\u001b[1;33m:\u001b[0m\u001b[1;33m\u001b[0m\u001b[0m\n\u001b[0;32m   1099\u001b[0m       results = self._do_run(handle, final_targets, final_fetches,\n\u001b[1;32m-> 1100\u001b[1;33m                              feed_dict_tensor, options, run_metadata)\n\u001b[0m\u001b[0;32m   1101\u001b[0m     \u001b[1;32melse\u001b[0m\u001b[1;33m:\u001b[0m\u001b[1;33m\u001b[0m\u001b[0m\n\u001b[0;32m   1102\u001b[0m       \u001b[0mresults\u001b[0m \u001b[1;33m=\u001b[0m \u001b[1;33m[\u001b[0m\u001b[1;33m]\u001b[0m\u001b[1;33m\u001b[0m\u001b[0m\n",
      "\u001b[1;32mC:\\~Lokalni data\\WPy-3662\\python-3.6.6.amd64\\lib\\site-packages\\tensorflow\\python\\client\\session.py\u001b[0m in \u001b[0;36m_do_run\u001b[1;34m(self, handle, target_list, fetch_list, feed_dict, options, run_metadata)\u001b[0m\n\u001b[0;32m   1270\u001b[0m     \u001b[1;32mif\u001b[0m \u001b[0mhandle\u001b[0m \u001b[1;32mis\u001b[0m \u001b[1;32mNone\u001b[0m\u001b[1;33m:\u001b[0m\u001b[1;33m\u001b[0m\u001b[0m\n\u001b[0;32m   1271\u001b[0m       return self._do_call(_run_fn, feeds, fetches, targets, options,\n\u001b[1;32m-> 1272\u001b[1;33m                            run_metadata)\n\u001b[0m\u001b[0;32m   1273\u001b[0m     \u001b[1;32melse\u001b[0m\u001b[1;33m:\u001b[0m\u001b[1;33m\u001b[0m\u001b[0m\n\u001b[0;32m   1274\u001b[0m       \u001b[1;32mreturn\u001b[0m \u001b[0mself\u001b[0m\u001b[1;33m.\u001b[0m\u001b[0m_do_call\u001b[0m\u001b[1;33m(\u001b[0m\u001b[0m_prun_fn\u001b[0m\u001b[1;33m,\u001b[0m \u001b[0mhandle\u001b[0m\u001b[1;33m,\u001b[0m \u001b[0mfeeds\u001b[0m\u001b[1;33m,\u001b[0m \u001b[0mfetches\u001b[0m\u001b[1;33m)\u001b[0m\u001b[1;33m\u001b[0m\u001b[0m\n",
      "\u001b[1;32mC:\\~Lokalni data\\WPy-3662\\python-3.6.6.amd64\\lib\\site-packages\\tensorflow\\python\\client\\session.py\u001b[0m in \u001b[0;36m_do_call\u001b[1;34m(self, fn, *args)\u001b[0m\n\u001b[0;32m   1289\u001b[0m         \u001b[1;32mexcept\u001b[0m \u001b[0mKeyError\u001b[0m\u001b[1;33m:\u001b[0m\u001b[1;33m\u001b[0m\u001b[0m\n\u001b[0;32m   1290\u001b[0m           \u001b[1;32mpass\u001b[0m\u001b[1;33m\u001b[0m\u001b[0m\n\u001b[1;32m-> 1291\u001b[1;33m       \u001b[1;32mraise\u001b[0m \u001b[0mtype\u001b[0m\u001b[1;33m(\u001b[0m\u001b[0me\u001b[0m\u001b[1;33m)\u001b[0m\u001b[1;33m(\u001b[0m\u001b[0mnode_def\u001b[0m\u001b[1;33m,\u001b[0m \u001b[0mop\u001b[0m\u001b[1;33m,\u001b[0m \u001b[0mmessage\u001b[0m\u001b[1;33m)\u001b[0m\u001b[1;33m\u001b[0m\u001b[0m\n\u001b[0m\u001b[0;32m   1292\u001b[0m \u001b[1;33m\u001b[0m\u001b[0m\n\u001b[0;32m   1293\u001b[0m   \u001b[1;32mdef\u001b[0m \u001b[0m_extend_graph\u001b[0m\u001b[1;33m(\u001b[0m\u001b[0mself\u001b[0m\u001b[1;33m)\u001b[0m\u001b[1;33m:\u001b[0m\u001b[1;33m\u001b[0m\u001b[0m\n",
      "\u001b[1;31mInvalidArgumentError\u001b[0m: You must feed a value for placeholder tensor 'iterator_handle' with dtype string\n\t [[Node: iterator_handle = Placeholder[dtype=DT_STRING, shape=[], _device=\"/job:localhost/replica:0/task:0/device:CPU:0\"]()]]\n\nCaused by op 'iterator_handle', defined at:\n  File \"C:\\~Lokalni data\\WPy-3662\\python-3.6.6.amd64\\lib\\runpy.py\", line 193, in _run_module_as_main\n    \"__main__\", mod_spec)\n  File \"C:\\~Lokalni data\\WPy-3662\\python-3.6.6.amd64\\lib\\runpy.py\", line 85, in _run_code\n    exec(code, run_globals)\n  File \"C:\\~Lokalni data\\WPy-3662\\python-3.6.6.amd64\\lib\\site-packages\\ipykernel_launcher.py\", line 16, in <module>\n    app.launch_new_instance()\n  File \"C:\\~Lokalni data\\WPy-3662\\python-3.6.6.amd64\\lib\\site-packages\\traitlets\\config\\application.py\", line 658, in launch_instance\n    app.start()\n  File \"C:\\~Lokalni data\\WPy-3662\\python-3.6.6.amd64\\lib\\site-packages\\ipykernel\\kernelapp.py\", line 497, in start\n    self.io_loop.start()\n  File \"C:\\~Lokalni data\\WPy-3662\\python-3.6.6.amd64\\lib\\site-packages\\tornado\\platform\\asyncio.py\", line 132, in start\n    self.asyncio_loop.run_forever()\n  File \"C:\\~Lokalni data\\WPy-3662\\python-3.6.6.amd64\\lib\\asyncio\\base_events.py\", line 422, in run_forever\n    self._run_once()\n  File \"C:\\~Lokalni data\\WPy-3662\\python-3.6.6.amd64\\lib\\asyncio\\base_events.py\", line 1434, in _run_once\n    handle._run()\n  File \"C:\\~Lokalni data\\WPy-3662\\python-3.6.6.amd64\\lib\\asyncio\\events.py\", line 145, in _run\n    self._callback(*self._args)\n  File \"C:\\~Lokalni data\\WPy-3662\\python-3.6.6.amd64\\lib\\site-packages\\tornado\\platform\\asyncio.py\", line 122, in _handle_events\n    handler_func(fileobj, events)\n  File \"C:\\~Lokalni data\\WPy-3662\\python-3.6.6.amd64\\lib\\site-packages\\tornado\\stack_context.py\", line 300, in null_wrapper\n    return fn(*args, **kwargs)\n  File \"C:\\~Lokalni data\\WPy-3662\\python-3.6.6.amd64\\lib\\site-packages\\zmq\\eventloop\\zmqstream.py\", line 450, in _handle_events\n    self._handle_recv()\n  File \"C:\\~Lokalni data\\WPy-3662\\python-3.6.6.amd64\\lib\\site-packages\\zmq\\eventloop\\zmqstream.py\", line 480, in _handle_recv\n    self._run_callback(callback, msg)\n  File \"C:\\~Lokalni data\\WPy-3662\\python-3.6.6.amd64\\lib\\site-packages\\zmq\\eventloop\\zmqstream.py\", line 432, in _run_callback\n    callback(*args, **kwargs)\n  File \"C:\\~Lokalni data\\WPy-3662\\python-3.6.6.amd64\\lib\\site-packages\\tornado\\stack_context.py\", line 300, in null_wrapper\n    return fn(*args, **kwargs)\n  File \"C:\\~Lokalni data\\WPy-3662\\python-3.6.6.amd64\\lib\\site-packages\\ipykernel\\kernelbase.py\", line 283, in dispatcher\n    return self.dispatch_shell(stream, msg)\n  File \"C:\\~Lokalni data\\WPy-3662\\python-3.6.6.amd64\\lib\\site-packages\\ipykernel\\kernelbase.py\", line 233, in dispatch_shell\n    handler(stream, idents, msg)\n  File \"C:\\~Lokalni data\\WPy-3662\\python-3.6.6.amd64\\lib\\site-packages\\ipykernel\\kernelbase.py\", line 399, in execute_request\n    user_expressions, allow_stdin)\n  File \"C:\\~Lokalni data\\WPy-3662\\python-3.6.6.amd64\\lib\\site-packages\\ipykernel\\ipkernel.py\", line 208, in do_execute\n    res = shell.run_cell(code, store_history=store_history, silent=silent)\n  File \"C:\\~Lokalni data\\WPy-3662\\python-3.6.6.amd64\\lib\\site-packages\\ipykernel\\zmqshell.py\", line 537, in run_cell\n    return super(ZMQInteractiveShell, self).run_cell(*args, **kwargs)\n  File \"C:\\~Lokalni data\\WPy-3662\\python-3.6.6.amd64\\lib\\site-packages\\IPython\\core\\interactiveshell.py\", line 2662, in run_cell\n    raw_cell, store_history, silent, shell_futures)\n  File \"C:\\~Lokalni data\\WPy-3662\\python-3.6.6.amd64\\lib\\site-packages\\IPython\\core\\interactiveshell.py\", line 2785, in _run_cell\n    interactivity=interactivity, compiler=compiler, result=result)\n  File \"C:\\~Lokalni data\\WPy-3662\\python-3.6.6.amd64\\lib\\site-packages\\IPython\\core\\interactiveshell.py\", line 2901, in run_ast_nodes\n    if self.run_code(code, result):\n  File \"C:\\~Lokalni data\\WPy-3662\\python-3.6.6.amd64\\lib\\site-packages\\IPython\\core\\interactiveshell.py\", line 2961, in run_code\n    exec(code_obj, self.user_global_ns, self.user_ns)\n  File \"<ipython-input-78-48e62ff1c6cd>\", line 1, in <module>\n    handle = tf.placeholder(tf.string, shape = [], name = \"iterator_handle\")\n  File \"C:\\~Lokalni data\\WPy-3662\\python-3.6.6.amd64\\lib\\site-packages\\tensorflow\\python\\ops\\array_ops.py\", line 1735, in placeholder\n    return gen_array_ops.placeholder(dtype=dtype, shape=shape, name=name)\n  File \"C:\\~Lokalni data\\WPy-3662\\python-3.6.6.amd64\\lib\\site-packages\\tensorflow\\python\\ops\\gen_array_ops.py\", line 5928, in placeholder\n    \"Placeholder\", dtype=dtype, shape=shape, name=name)\n  File \"C:\\~Lokalni data\\WPy-3662\\python-3.6.6.amd64\\lib\\site-packages\\tensorflow\\python\\framework\\op_def_library.py\", line 787, in _apply_op_helper\n    op_def=op_def)\n  File \"C:\\~Lokalni data\\WPy-3662\\python-3.6.6.amd64\\lib\\site-packages\\tensorflow\\python\\util\\deprecation.py\", line 454, in new_func\n    return func(*args, **kwargs)\n  File \"C:\\~Lokalni data\\WPy-3662\\python-3.6.6.amd64\\lib\\site-packages\\tensorflow\\python\\framework\\ops.py\", line 3155, in create_op\n    op_def=op_def)\n  File \"C:\\~Lokalni data\\WPy-3662\\python-3.6.6.amd64\\lib\\site-packages\\tensorflow\\python\\framework\\ops.py\", line 1717, in __init__\n    self._traceback = tf_stack.extract_stack()\n\nInvalidArgumentError (see above for traceback): You must feed a value for placeholder tensor 'iterator_handle' with dtype string\n\t [[Node: iterator_handle = Placeholder[dtype=DT_STRING, shape=[], _device=\"/job:localhost/replica:0/task:0/device:CPU:0\"]()]]\n"
     ]
    }
   ],
   "source": [
    "with tf.Session() as sess:\n",
    "    h1 = sess.run(iterator1.string_handle())\n",
    "    h2 = sess.run(iterator2.string_handle())\n",
    "    print(h1, h2)\n",
    "    \n",
    "    print(sess.run(row), {handle: h1}) \n",
    "    "
   ]
  },
  {
   "cell_type": "markdown",
   "metadata": {},
   "source": [
    "## Operations\n",
    "#### `repeat` and `batch`"
   ]
  },
  {
   "cell_type": "code",
   "execution_count": 110,
   "metadata": {},
   "outputs": [
    {
     "data": {
      "text/plain": [
       "{'name': <tf.Tensor 'IteratorGetNext_16:1' shape=(?,) dtype=string>,\n",
       " 'id': <tf.Tensor 'IteratorGetNext_16:0' shape=(?,) dtype=int32>,\n",
       " 'x': <tf.Tensor 'IteratorGetNext_16:2' shape=(?, 2) dtype=float64>,\n",
       " 'y': <tf.Tensor 'IteratorGetNext_16:3' shape=(?, 1) dtype=float64>}"
      ]
     },
     "execution_count": 110,
     "metadata": {},
     "output_type": "execute_result"
    }
   ],
   "source": [
    "iterator = dat.repeat().batch(2).make_one_shot_iterator()\n",
    "batch = iterator.get_next()\n",
    "batch"
   ]
  },
  {
   "cell_type": "code",
   "execution_count": 111,
   "metadata": {},
   "outputs": [
    {
     "name": "stdout",
     "output_type": "stream",
     "text": [
      "{'name': array([b'a', b'b'], dtype=object), 'id': array([1, 2]), 'x': array([[0.30432704, 0.26048328],\n",
      "       [0.54543213, 0.25145685]]), 'y': array([[0.0285219 ],\n",
      "       [0.65539612]])}\n",
      "{'name': array([b'c', b'a'], dtype=object), 'id': array([3, 1]), 'x': array([[0.12961328, 0.82632586],\n",
      "       [0.30432704, 0.26048328]]), 'y': array([[0.81019914],\n",
      "       [0.0285219 ]])}\n"
     ]
    }
   ],
   "source": [
    "with tf.Session() as sess:\n",
    "    for i in range(2):\n",
    "        print(sess.run(batch))"
   ]
  },
  {
   "cell_type": "code",
   "execution_count": 112,
   "metadata": {},
   "outputs": [
    {
     "name": "stdout",
     "output_type": "stream",
     "text": [
      "Help on method shuffle in module tensorflow.python.data.ops.dataset_ops:\n",
      "\n",
      "shuffle(buffer_size, seed=None, reshuffle_each_iteration=None) method of tensorflow.python.data.ops.dataset_ops.TensorSliceDataset instance\n",
      "    Randomly shuffles the elements of this dataset.\n",
      "    \n",
      "    Args:\n",
      "      buffer_size: A `tf.int64` scalar `tf.Tensor`, representing the\n",
      "        number of elements from this dataset from which the new\n",
      "        dataset will sample.\n",
      "      seed: (Optional.) A `tf.int64` scalar `tf.Tensor`, representing the\n",
      "        random seed that will be used to create the distribution. See\n",
      "        @{tf.set_random_seed} for behavior.\n",
      "      reshuffle_each_iteration: (Optional.) A boolean, which if true indicates\n",
      "        that the dataset should be pseudorandomly reshuffled each time it is\n",
      "        iterated over. (Defaults to `True`.)\n",
      "    \n",
      "    Returns:\n",
      "      Dataset: A `Dataset`.\n",
      "\n"
     ]
    }
   ],
   "source": [
    "help(dat.shuffle)"
   ]
  },
  {
   "cell_type": "markdown",
   "metadata": {},
   "source": [
    "#### `shuffle`\n",
    "The mysterious argument `buffer_size` means the following. Imagine the data is sequentioally read from disk or whatever. In order to properly shuffle the samples we would need to read them all in. This argument controls how many rows we first read from the `Dataset` and then shuffle. In particular, when `buffer_size = 1`, there is no shuffling."
   ]
  },
  {
   "cell_type": "code",
   "execution_count": 126,
   "metadata": {},
   "outputs": [],
   "source": [
    "iterator = dat.shuffle(buffer_size = 100).make_one_shot_iterator()\n",
    "row = iterator.get_next()"
   ]
  },
  {
   "cell_type": "code",
   "execution_count": 136,
   "metadata": {},
   "outputs": [
    {
     "name": "stdout",
     "output_type": "stream",
     "text": [
      "{'name': b'b', 'id': 2, 'x': array([0.54543213, 0.25145685]), 'y': array([0.65539612])}\n",
      "{'name': b'a', 'id': 1, 'x': array([0.30432704, 0.26048328]), 'y': array([0.0285219])}\n",
      "{'name': b'c', 'id': 3, 'x': array([0.12961328, 0.82632586]), 'y': array([0.81019914])}\n"
     ]
    }
   ],
   "source": [
    "with tf.Session() as sess:\n",
    "    for i in range(3):\n",
    "        print(sess.run(row))"
   ]
  },
  {
   "cell_type": "markdown",
   "metadata": {},
   "source": [
    "#### `map`"
   ]
  },
  {
   "cell_type": "code",
   "execution_count": 150,
   "metadata": {},
   "outputs": [],
   "source": [
    "dat_transf = dat.map(lambda x: {\"x_sum\": tf.reduce_sum(x[\"x\"]), \"y_square\": x[\"y\"]**2})"
   ]
  },
  {
   "cell_type": "code",
   "execution_count": 151,
   "metadata": {},
   "outputs": [],
   "source": [
    "iterator = dat_transf.make_one_shot_iterator()\n",
    "row = iterator.get_next()"
   ]
  },
  {
   "cell_type": "code",
   "execution_count": 152,
   "metadata": {},
   "outputs": [
    {
     "name": "stdout",
     "output_type": "stream",
     "text": [
      "{'x_sum': 0.5648103279428714, 'y_square': array([0.0008135])}\n",
      "{'x_sum': 0.7968889858971598, 'y_square': array([0.42954407])}\n",
      "{'x_sum': 0.9559391372359453, 'y_square': array([0.65642265])}\n"
     ]
    }
   ],
   "source": [
    "with tf.Session() as sess:\n",
    "    for i in range(3):\n",
    "        print(sess.run(row))"
   ]
  },
  {
   "cell_type": "code",
   "execution_count": 154,
   "metadata": {},
   "outputs": [
    {
     "data": {
      "text/plain": [
       "23040000"
      ]
     },
     "execution_count": 154,
     "metadata": {},
     "output_type": "execute_result"
    }
   ],
   "source": [
    "1200 * 800 * 3 * 4 * 2"
   ]
  },
  {
   "cell_type": "markdown",
   "metadata": {},
   "source": [
    "# Training with shuffling and batching"
   ]
  },
  {
   "cell_type": "code",
   "execution_count": 3,
   "metadata": {},
   "outputs": [],
   "source": [
    "dataset = tf.data.Dataset.from_tensor_slices(np.arange(10))"
   ]
  },
  {
   "cell_type": "code",
   "execution_count": 4,
   "metadata": {},
   "outputs": [],
   "source": [
    "train_dataset = dataset.shuffle(100).batch(4)"
   ]
  },
  {
   "cell_type": "code",
   "execution_count": 5,
   "metadata": {},
   "outputs": [],
   "source": [
    "train_iterator = train_dataset.make_initializable_iterator()"
   ]
  },
  {
   "cell_type": "code",
   "execution_count": 6,
   "metadata": {},
   "outputs": [],
   "source": [
    "train_batch = train_iterator.get_next()"
   ]
  },
  {
   "cell_type": "code",
   "execution_count": 11,
   "metadata": {},
   "outputs": [
    {
     "name": "stdout",
     "output_type": "stream",
     "text": [
      "[9 1 3 0]\n",
      "[8 5 6 2]\n",
      "[4 7]\n",
      "End of epoch 0.\n",
      "[0 1 4 9]\n",
      "[8 5 6 7]\n",
      "[3 2]\n",
      "End of epoch 1.\n",
      "[3 5 0 4]\n",
      "[2 6 9 1]\n",
      "[7 8]\n",
      "End of epoch 2.\n"
     ]
    }
   ],
   "source": [
    "with tf.Session() as sess:\n",
    "    for epoch in range(3):\n",
    "        sess.run(train_iterator.initializer)\n",
    "    \n",
    "        try:\n",
    "            while True:\n",
    "                print(sess.run(train_batch))\n",
    "        except tf.errors.OutOfRangeError:\n",
    "            print(f\"End of epoch {epoch}.\")"
   ]
  },
  {
   "cell_type": "code",
   "execution_count": null,
   "metadata": {},
   "outputs": [],
   "source": []
  }
 ],
 "metadata": {
  "kernelspec": {
   "display_name": "Python 3",
   "language": "python",
   "name": "python3"
  },
  "language_info": {
   "codemirror_mode": {
    "name": "ipython",
    "version": 3
   },
   "file_extension": ".py",
   "mimetype": "text/x-python",
   "name": "python",
   "nbconvert_exporter": "python",
   "pygments_lexer": "ipython3",
   "version": "3.6.6"
  },
  "toc": {
   "colors": {
    "hover_highlight": "#DAA520",
    "navigate_num": "#000000",
    "navigate_text": "#400040",
    "running_highlight": "#FF0000",
    "selected_highlight": "#FFD700",
    "sidebar_border": "#000000",
    "wrapper_background": "#ffffff"
   },
   "moveMenuLeft": true,
   "nav_menu": {
    "height": "12px",
    "width": "252px"
   },
   "navigate_menu": true,
   "number_sections": true,
   "sideBar": true,
   "threshold": 4,
   "toc_cell": false,
   "toc_section_display": "block",
   "toc_window_display": false,
   "widenNotebook": false
  }
 },
 "nbformat": 4,
 "nbformat_minor": 2
}

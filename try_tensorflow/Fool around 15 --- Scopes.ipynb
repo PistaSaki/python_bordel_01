{
 "cells": [
  {
   "cell_type": "code",
   "execution_count": 3,
   "metadata": {
    "ExecuteTime": {
     "end_time": "2017-11-07T07:28:37.570949Z",
     "start_time": "2017-11-07T07:28:31.714363Z"
    }
   },
   "outputs": [],
   "source": [
    "import tensorflow as tf\n",
    "\n",
    "import numpy as np\n",
    "import numpy.random as rnd"
   ]
  },
  {
   "cell_type": "code",
   "execution_count": 3,
   "metadata": {
    "ExecuteTime": {
     "end_time": "2017-11-02T13:51:45.849814Z",
     "start_time": "2017-11-02T13:51:45.846814Z"
    }
   },
   "outputs": [],
   "source": [
    "floatX = np.float64"
   ]
  },
  {
   "cell_type": "code",
   "execution_count": 4,
   "metadata": {
    "ExecuteTime": {
     "end_time": "2017-11-02T13:51:46.491851Z",
     "start_time": "2017-11-02T13:51:46.476850Z"
    }
   },
   "outputs": [],
   "source": [
    "sess = tf.InteractiveSession()"
   ]
  },
  {
   "cell_type": "markdown",
   "metadata": {},
   "source": [
    "**Example 01**"
   ]
  },
  {
   "cell_type": "code",
   "execution_count": 8,
   "metadata": {
    "ExecuteTime": {
     "end_time": "2017-11-07T07:49:18.577037Z",
     "start_time": "2017-11-07T07:49:18.546034Z"
    }
   },
   "outputs": [
    {
     "name": "stdout",
     "output_type": "stream",
     "text": [
      "<tf.Variable 'some_scope1/Variable:0' shape=() dtype=int32_ref>\n",
      "<tf.Variable 'some_scope1/Variable_1:0' shape=() dtype=int32_ref>\n",
      "<tf.Variable 'some_scope1/Variable_2:0' shape=() dtype=int32_ref>\n",
      "<tf.Variable 'some_scope2/Variable:0' shape=() dtype=int32_ref>\n",
      "<tf.Variable 'some_scope2/Variable_1:0' shape=() dtype=int32_ref>\n",
      "<tf.Variable 'some_scope2/Variable_2:0' shape=() dtype=int32_ref>\n"
     ]
    }
   ],
   "source": [
    "with tf.name_scope('name_scope1'):\n",
    "    a = tf.Variable(1, 'a')\n",
    "    b = tf.get_variable('b', [] )\n",
    "    c = tf.Variable(3, 'c')\n",
    "\n",
    "with tf.name_scope('name_scope2'):\n",
    "    d = tf.Variable(4, 'd')\n",
    "    e = tf.Variable(5, 'e')\n",
    "    f = tf.Variable(6, 'f')\n",
    "\n",
    "h = tf.Variable(8, 'h')\n",
    "\n",
    "for i in tf.get_collection(tf.GraphKeys.GLOBAL_VARIABLES, scope='some_scope'):\n",
    "    print(i)   # i.name if you want just a name"
   ]
  },
  {
   "cell_type": "code",
   "execution_count": 9,
   "metadata": {
    "ExecuteTime": {
     "end_time": "2017-11-07T07:49:33.471526Z",
     "start_time": "2017-11-07T07:49:33.431522Z"
    }
   },
   "outputs": [
    {
     "name": "stdout",
     "output_type": "stream",
     "text": [
      "<tf.Variable 'some_scope1/Variable:0' shape=() dtype=int32_ref>\n",
      "<tf.Variable 'some_scope1/Variable_1:0' shape=() dtype=int32_ref>\n",
      "<tf.Variable 'some_scope1/Variable_2:0' shape=() dtype=int32_ref>\n",
      "<tf.Variable 'some_scope2/Variable:0' shape=() dtype=int32_ref>\n",
      "<tf.Variable 'some_scope2/Variable_1:0' shape=() dtype=int32_ref>\n",
      "<tf.Variable 'some_scope2/Variable_2:0' shape=() dtype=int32_ref>\n"
     ]
    }
   ],
   "source": [
    "with tf.variable_scope('var_scope1'):\n",
    "    a = tf.Variable(1, 'a')\n",
    "    b = tf.get_variable('b', [] )\n",
    "    c = tf.Variable(3, 'c')\n",
    "\n",
    "with tf.variable_scope('var_scope2'):\n",
    "    d = tf.Variable(4, 'd')\n",
    "    e = tf.Variable(5, 'e')\n",
    "    f = tf.Variable(6, 'f')\n",
    "\n",
    "h = tf.Variable(8, 'h')\n",
    "\n",
    "for i in tf.get_collection(tf.GraphKeys.GLOBAL_VARIABLES, scope='some_scope'):\n",
    "    print(i)   # i.name if you want just a name"
   ]
  },
  {
   "cell_type": "code",
   "execution_count": 10,
   "metadata": {
    "ExecuteTime": {
     "end_time": "2017-11-07T07:50:37.863965Z",
     "start_time": "2017-11-07T07:50:37.858964Z"
    }
   },
   "outputs": [
    {
     "data": {
      "text/plain": [
       "<tensorflow.python.ops.variable_scope.VariableScope at 0xd512d68>"
      ]
     },
     "execution_count": 10,
     "metadata": {},
     "output_type": "execute_result"
    }
   ],
   "source": [
    "tf.get_variable_scope()"
   ]
  },
  {
   "cell_type": "markdown",
   "metadata": {},
   "source": [
    "**Example 02**"
   ]
  },
  {
   "cell_type": "code",
   "execution_count": 5,
   "metadata": {
    "ExecuteTime": {
     "end_time": "2017-11-07T07:32:54.113600Z",
     "start_time": "2017-11-07T07:32:54.103599Z"
    }
   },
   "outputs": [
    {
     "data": {
      "text/plain": [
       "'foo/bar/qux:0'"
      ]
     },
     "execution_count": 5,
     "metadata": {},
     "output_type": "execute_result"
    }
   ],
   "source": [
    "with tf.variable_scope('foo'):\n",
    "    with tf.variable_scope('bar'):\n",
    "        x = tf.zeros((), name='qux')\n",
    "        \n",
    "x.name"
   ]
  },
  {
   "cell_type": "code",
   "execution_count": null,
   "metadata": {},
   "outputs": [],
   "source": []
  }
 ],
 "metadata": {
  "kernelspec": {
   "display_name": "Python 3",
   "language": "python",
   "name": "python3"
  },
  "language_info": {
   "codemirror_mode": {
    "name": "ipython",
    "version": 3
   },
   "file_extension": ".py",
   "mimetype": "text/x-python",
   "name": "python",
   "nbconvert_exporter": "python",
   "pygments_lexer": "ipython3",
   "version": "3.5.2"
  },
  "toc": {
   "colors": {
    "hover_highlight": "#DAA520",
    "navigate_num": "#000000",
    "navigate_text": "#400040",
    "running_highlight": "#FF0000",
    "selected_highlight": "#FFD700",
    "sidebar_border": "#000000",
    "wrapper_background": "#ffffff"
   },
   "moveMenuLeft": true,
   "nav_menu": {
    "height": "30px",
    "width": "252px"
   },
   "navigate_menu": true,
   "number_sections": true,
   "sideBar": true,
   "threshold": 4,
   "toc_cell": false,
   "toc_section_display": "block",
   "toc_window_display": false,
   "widenNotebook": false
  }
 },
 "nbformat": 4,
 "nbformat_minor": 2
}

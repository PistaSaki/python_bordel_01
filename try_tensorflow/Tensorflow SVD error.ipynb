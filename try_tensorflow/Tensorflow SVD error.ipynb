{
 "cells": [
  {
   "cell_type": "code",
   "execution_count": 87,
   "metadata": {
    "collapsed": true
   },
   "outputs": [],
   "source": [
    "import numpy as np\n",
    "import numpy.linalg as la\n",
    "import tensorflow as tf"
   ]
  },
  {
   "cell_type": "code",
   "execution_count": 88,
   "metadata": {
    "collapsed": true
   },
   "outputs": [],
   "source": [
    "## choose our matrix\n",
    "A = np.array([\n",
    "        [ 10, -10],\n",
    "        [-45, -41],\n",
    "    ],\n",
    "    dtype = np.float32      \n",
    ")"
   ]
  },
  {
   "cell_type": "code",
   "execution_count": 89,
   "metadata": {
    "collapsed": false
   },
   "outputs": [],
   "source": [
    "## a method for checking the SVD of A\n",
    "def check_USV(U, S, V):\n",
    "    S_diag = S * np.eye(*A.shape)\n",
    "    reconstruction = U @  np.diag(S) @ V\n",
    "    print( reconstruction )\n",
    "    print(\"error =\", np.max(np.abs(A - reconstruction)))"
   ]
  },
  {
   "cell_type": "code",
   "execution_count": 90,
   "metadata": {
    "collapsed": false
   },
   "outputs": [
    {
     "name": "stdout",
     "output_type": "stream",
     "text": [
      "[[ 10. -10.]\n",
      " [-45. -41.]]\n",
      "error = 0.0\n"
     ]
    }
   ],
   "source": [
    "#############\n",
    "## Numpy SVD\n",
    "\n",
    "U, S, V = la.svd(A)\n",
    "check_USV(U, S, V)"
   ]
  },
  {
   "cell_type": "code",
   "execution_count": 91,
   "metadata": {
    "collapsed": false
   },
   "outputs": [
    {
     "name": "stdout",
     "output_type": "stream",
     "text": [
      "[[ -8.97085476 -10.93269444]\n",
      " [-45.21641159  40.76120758]]\n",
      "error = 81.7612\n"
     ]
    }
   ],
   "source": [
    "############\n",
    "## Tensorflow SVD\n",
    "\n",
    "## tensorflow.svd has different ordering of outputs \n",
    "s, u, v = tf.svd(tf.constant(A), full_matrices=True)\n",
    "\n",
    "with tf.Session() as sess:\n",
    "    U_tf, S_tf, V_tf =  sess.run([u, s, v])\n",
    "\n",
    "check_USV(U_tf, S_tf, V_tf)"
   ]
  },
  {
   "cell_type": "code",
   "execution_count": 93,
   "metadata": {
    "collapsed": false
   },
   "outputs": [
    {
     "name": "stdout",
     "output_type": "stream",
     "text": [
      "[[-0.74097639 -0.67153108]\n",
      " [ 0.67153108 -0.74097639]]\n",
      "[[ 0.74097639 -0.67153108]\n",
      " [ 0.67153108  0.74097639]]\n"
     ]
    }
   ],
   "source": [
    "print(V)\n",
    "print(V_tf)"
   ]
  },
  {
   "cell_type": "code",
   "execution_count": 95,
   "metadata": {
    "collapsed": false
   },
   "outputs": [
    {
     "name": "stdout",
     "output_type": "stream",
     "text": [
      "[[-0.01140679  0.99993491]\n",
      " [ 0.99993491  0.01140679]]\n",
      "[[ 0.01140678 -0.99993497]\n",
      " [-0.99993497 -0.01140678]]\n"
     ]
    }
   ],
   "source": [
    "print(U)\n",
    "print(U_tf)"
   ]
  },
  {
   "cell_type": "code",
   "execution_count": 97,
   "metadata": {
    "collapsed": false
   },
   "outputs": [
    {
     "data": {
      "text/plain": [
       "array([[ 10.00000095, -10.00000095],\n",
       "       [-45.00000381, -41.        ]], dtype=float32)"
      ]
     },
     "execution_count": 97,
     "metadata": {},
     "output_type": "execute_result"
    }
   ],
   "source": [
    "U_tf @  np.diag(S_tf) @ V_tf.T"
   ]
  },
  {
   "cell_type": "code",
   "execution_count": null,
   "metadata": {
    "collapsed": true
   },
   "outputs": [],
   "source": []
  }
 ],
 "metadata": {
  "kernelspec": {
   "display_name": "Python 3",
   "language": "python",
   "name": "python3"
  },
  "language_info": {
   "codemirror_mode": {
    "name": "ipython",
    "version": 3
   },
   "file_extension": ".py",
   "mimetype": "text/x-python",
   "name": "python",
   "nbconvert_exporter": "python",
   "pygments_lexer": "ipython3",
   "version": "3.5.2"
  }
 },
 "nbformat": 4,
 "nbformat_minor": 1
}

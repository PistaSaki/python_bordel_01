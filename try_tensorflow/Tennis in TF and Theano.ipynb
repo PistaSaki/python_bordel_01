{
 "cells": [
  {
   "cell_type": "code",
   "execution_count": 1,
   "metadata": {
    "collapsed": false
   },
   "outputs": [
    {
     "name": "stdout",
     "output_type": "stream",
     "text": [
      "Populating the interactive namespace from numpy and matplotlib\n"
     ]
    }
   ],
   "source": [
    "import tensorflow as tf\n",
    "\n",
    "import numpy as np\n",
    "\n",
    "import pylab as pl\n",
    "%pylab inline\n",
    "\n",
    "import pandas as pd\n",
    "from pandas import Series, DataFrame"
   ]
  },
  {
   "cell_type": "code",
   "execution_count": 2,
   "metadata": {
    "collapsed": true
   },
   "outputs": [],
   "source": [
    "import sys\n",
    "\n",
    "sys.path.append(r\"../Commons\")\n",
    "import ptf_02 as ptf"
   ]
  },
  {
   "cell_type": "code",
   "execution_count": 3,
   "metadata": {
    "collapsed": true
   },
   "outputs": [],
   "source": [
    "import itertools as itt"
   ]
  },
  {
   "cell_type": "code",
   "execution_count": 4,
   "metadata": {
    "collapsed": false
   },
   "outputs": [
    {
     "data": {
      "text/html": [
       "<style>.container { width:100% !important; }</style>"
      ],
      "text/plain": [
       "<IPython.core.display.HTML object>"
      ]
     },
     "execution_count": 4,
     "metadata": {},
     "output_type": "execute_result"
    }
   ],
   "source": [
    "## changing the width of cells\n",
    "from IPython.core.display import HTML\n",
    "HTML(\"<style>.container { width:100% !important; }</style>\")"
   ]
  },
  {
   "cell_type": "code",
   "execution_count": 5,
   "metadata": {
    "collapsed": false
   },
   "outputs": [],
   "source": [
    "def get_game_passage_probas_in_one_set(gps, first_server = None):\n",
    "    \"\"\"\n",
    "    gps = game proba server\n",
    "    gps is indexed by (pl, i, j) in {0,1}x{0,..6}x{0,..6}\n",
    "    Here pl is the player serving, (i,j) is the current state \n",
    "    i = games won by pl, j = games won by the non-server\n",
    "    \"\"\"\n",
    "    \n",
    "    ##########\n",
    "    ## First deal with cases when first_server != 0\n",
    "    \n",
    "    if first_server is None:\n",
    "        return 1/2 * (\n",
    "            get_game_passage_probas_in_one_set(gps, 0) + get_game_passage_probas_in_one_set(gps, 1) \n",
    "        )\n",
    "\n",
    "    if first_server == 1:\n",
    "        return get_game_passage_probas_in_one_set([gps[1], gps[0]], 0).T\n",
    "    \n",
    "    #########\n",
    "    ## So in the rest we can assume that the first server is 0\n",
    "    \n",
    "    ## active nodes\n",
    "    active = list(itt.product(range(6), range(6))) + [(6, 5), (5, 6), (6, 6)]\n",
    "    \n",
    "    def gp0(i,j):\n",
    "        \"\"\"Returns proba of the 0-th player to win this game.\"\"\"\n",
    "        if (i + j) % 2 == 0:\n",
    "            return gps[0][i,j]\n",
    "        else:\n",
    "            return 1 - gps[1][j,i]\n",
    "\n",
    "    if isinstance(gps[0], np.ndarray):\n",
    "        dtype = gps[0].dtype\n",
    "    else:\n",
    "        dtype = np.object\n",
    "        \n",
    "    p = np.zeros((8, 8)).astype(dtype)\n",
    "    p[0, 0] = 1\n",
    "    for s in range(1, 15):\n",
    "        for i in range(s + 1):\n",
    "            j = s - i\n",
    "            \n",
    "            if (i-1, j) in active:\n",
    "                p[i,j] = p[i,j] + p[i-1, j] * gp0(i-1, j)\n",
    "            \n",
    "            if (i, j-1) in active:\n",
    "                p[i,j] = p[i,j] + p[i, j-1] * (1 - gp0(i, j-1))\n",
    "                \n",
    "                \n",
    "    return p\n",
    "    "
   ]
  },
  {
   "cell_type": "code",
   "execution_count": 6,
   "metadata": {
    "collapsed": false
   },
   "outputs": [
    {
     "data": {
      "text/plain": [
       "array([[ 1.   ,  0.5  ,  0.21 ,  0.105,  0.044,  0.022,  0.009,  0.   ],\n",
       "       [ 0.5  ,  0.58 ,  0.395,  0.244,  0.144,  0.077,  0.038,  0.   ],\n",
       "       [ 0.21 ,  0.395,  0.425,  0.334,  0.24 ,  0.158,  0.073,  0.   ],\n",
       "       [ 0.105,  0.244,  0.334,  0.349,  0.294,  0.228,  0.114,  0.   ],\n",
       "       [ 0.044,  0.144,  0.24 ,  0.294,  0.303,  0.266,  0.13 ,  0.   ],\n",
       "       [ 0.022,  0.077,  0.158,  0.228,  0.266,  0.272,  0.136,  0.057],\n",
       "       [ 0.009,  0.038,  0.073,  0.114,  0.13 ,  0.136,  0.158,  0.079],\n",
       "       [ 0.   ,  0.   ,  0.   ,  0.   ,  0.   ,  0.057,  0.079,  0.   ]])"
      ]
     },
     "execution_count": 6,
     "metadata": {},
     "output_type": "execute_result"
    }
   ],
   "source": [
    "probas = get_game_passage_probas_in_one_set(\n",
    "    gps = [0.7 * np.ones((7,7)), 0.7 * np.ones((7,7))],\n",
    "    first_server = None,\n",
    ")\n",
    "probas.round(3)"
   ]
  },
  {
   "cell_type": "code",
   "execution_count": 7,
   "metadata": {
    "collapsed": false
   },
   "outputs": [
    {
     "data": {
      "text/plain": [
       "[(6, 0),\n",
       " (6, 1),\n",
       " (6, 2),\n",
       " (6, 3),\n",
       " (6, 4),\n",
       " (0, 6),\n",
       " (1, 6),\n",
       " (2, 6),\n",
       " (3, 6),\n",
       " (4, 6),\n",
       " (7, 5),\n",
       " (7, 6),\n",
       " (5, 7),\n",
       " (6, 7)]"
      ]
     },
     "execution_count": 7,
     "metadata": {},
     "output_type": "execute_result"
    }
   ],
   "source": [
    "set_final_states = [(6, i) for i in range(0,5)] + [(i, 6) for i in range(0,5)] + [(7, 5), (7, 6), (5, 7), (6, 7)]\n",
    "set_final_states"
   ]
  },
  {
   "cell_type": "code",
   "execution_count": 8,
   "metadata": {
    "collapsed": false
   },
   "outputs": [
    {
     "data": {
      "text/plain": [
       "0.5"
      ]
     },
     "execution_count": 8,
     "metadata": {},
     "output_type": "execute_result"
    }
   ],
   "source": [
    "## win proba for player 0\n",
    "sum( probas[i, j] for i, j in set_final_states if i > j)"
   ]
  },
  {
   "cell_type": "code",
   "execution_count": 9,
   "metadata": {
    "collapsed": false
   },
   "outputs": [
    {
     "data": {
      "text/plain": [
       "0.46879265999999997"
      ]
     },
     "execution_count": 9,
     "metadata": {},
     "output_type": "execute_result"
    }
   ],
   "source": [
    "## under 9.5 proba\n",
    "sum( probas[i, j] for i, j in set_final_states if i + j < 9.5)"
   ]
  },
  {
   "cell_type": "markdown",
   "metadata": {},
   "source": [
    "## Try in TF"
   ]
  },
  {
   "cell_type": "code",
   "execution_count": 10,
   "metadata": {
    "collapsed": true
   },
   "outputs": [],
   "source": [
    "tf_gps0 = tf.placeholder(dtype = \"float\", shape = [7, 7], name = \"gps0\")    \n",
    "tf_gps1 = tf.placeholder(dtype = \"float\", shape = [7, 7], name = \"gps1\")    "
   ]
  },
  {
   "cell_type": "code",
   "execution_count": 11,
   "metadata": {
    "collapsed": false
   },
   "outputs": [],
   "source": [
    "tf_probas = get_game_passage_probas_in_one_set([tf_gps0, tf_gps1])"
   ]
  },
  {
   "cell_type": "code",
   "execution_count": 12,
   "metadata": {
    "collapsed": false
   },
   "outputs": [],
   "source": [
    "tf_wp0 = sum( tf_probas[i,j] for i, j in set_final_states if i > j )"
   ]
  },
  {
   "cell_type": "code",
   "execution_count": 13,
   "metadata": {
    "collapsed": true
   },
   "outputs": [],
   "source": [
    "sess = tf.InteractiveSession() "
   ]
  },
  {
   "cell_type": "code",
   "execution_count": 14,
   "metadata": {
    "collapsed": false
   },
   "outputs": [
    {
     "data": {
      "text/plain": [
       "0.5"
      ]
     },
     "execution_count": 14,
     "metadata": {},
     "output_type": "execute_result"
    }
   ],
   "source": [
    "sess.run(tf_wp0, \n",
    "    feed_dict ={\n",
    "        tf_gps0: 0.7 * np.ones((7,7)), \n",
    "        tf_gps1: 0.7 * np.ones((7,7)), \n",
    "    }\n",
    ")"
   ]
  },
  {
   "cell_type": "markdown",
   "metadata": {},
   "source": [
    "### linear model"
   ]
  },
  {
   "cell_type": "code",
   "execution_count": 15,
   "metadata": {
    "collapsed": false
   },
   "outputs": [],
   "source": [
    "def get_game_passage_probas_in_one_set_linear_model_tf(le, explanatory, first_server = None): \n",
    "    \"\"\"\n",
    "    le.shape = (7, 7, 3)\n",
    "    explanatory.shape = (?, 3)\n",
    "    \"\"\"\n",
    "    switch = np.array(\n",
    "        [[0, 1, 0], [1, 0, 0], [0, 0, 1]],\n",
    "        dtype = np.float\n",
    "    )\n",
    "    \n",
    "    gps0 = ptf.logist(tf.einsum(\"ijk,nk\", le, explanatory))\n",
    "    gps1 = ptf.logist(tf.einsum(\"ijk,nk\", le, tf.matmul(explanatory, switch)))\n",
    "    return get_game_passage_probas_in_one_set(\n",
    "        gps = [gps0, gps1],\n",
    "        first_server = None,\n",
    "    )\n"
   ]
  },
  {
   "cell_type": "code",
   "execution_count": 16,
   "metadata": {
    "collapsed": true
   },
   "outputs": [],
   "source": [
    "import numpy.random as rnd"
   ]
  },
  {
   "cell_type": "code",
   "execution_count": 17,
   "metadata": {
    "collapsed": true
   },
   "outputs": [],
   "source": [
    "le = rnd.random(size = 7 * 7 * 3).reshape([7, 7, 3])"
   ]
  },
  {
   "cell_type": "code",
   "execution_count": 18,
   "metadata": {
    "collapsed": false
   },
   "outputs": [],
   "source": [
    "expl = rnd.rand(10, 3)"
   ]
  },
  {
   "cell_type": "code",
   "execution_count": 19,
   "metadata": {
    "collapsed": false
   },
   "outputs": [],
   "source": [
    "probas_tf = get_game_passage_probas_in_one_set_linear_model_tf( tf.constant(le), tf.constant(expl))"
   ]
  },
  {
   "cell_type": "code",
   "execution_count": 20,
   "metadata": {
    "collapsed": false
   },
   "outputs": [
    {
     "data": {
      "text/plain": [
       "array([ 0.48393132,  0.53906265,  0.49127853,  0.49953771,  0.5605586 ,\n",
       "        0.51880966,  0.47393575,  0.56382136,  0.53329533,  0.5211279 ])"
      ]
     },
     "execution_count": 20,
     "metadata": {},
     "output_type": "execute_result"
    }
   ],
   "source": [
    "sess.run(\n",
    "        sum( probas_tf[i,j] for i, j in set_final_states if i > j )\n",
    "    )"
   ]
  },
  {
   "cell_type": "code",
   "execution_count": 21,
   "metadata": {
    "collapsed": false
   },
   "outputs": [
    {
     "data": {
      "text/plain": [
       "array([ 0.47682095,  0.4901628 ,  0.51671739,  0.50802544,  0.49618278,\n",
       "        0.49228657,  0.46979532,  0.50201041,  0.51613763,  0.50594515])"
      ]
     },
     "execution_count": 21,
     "metadata": {},
     "output_type": "execute_result"
    }
   ],
   "source": [
    "sess.run(\n",
    "        sum( probas_tf[i,j] for i, j in set_final_states if i+j < 9.5 )\n",
    "    )"
   ]
  },
  {
   "cell_type": "markdown",
   "metadata": {},
   "source": [
    "We will compare these results with ones calculated in the old theano way"
   ]
  },
  {
   "cell_type": "code",
   "execution_count": 22,
   "metadata": {
    "collapsed": true
   },
   "outputs": [],
   "source": [
    "import theano as th\n",
    "import theano.tensor as tt"
   ]
  },
  {
   "cell_type": "code",
   "execution_count": 23,
   "metadata": {
    "collapsed": true
   },
   "outputs": [],
   "source": [
    "sys.path.append(r\"../Tennis_01\")\n",
    "import tennis_commons_03 as tc"
   ]
  },
  {
   "cell_type": "code",
   "execution_count": 24,
   "metadata": {
    "collapsed": false
   },
   "outputs": [
    {
     "name": "stdout",
     "output_type": "stream",
     "text": [
      "[ 0.48393132  0.53906265  0.49127853  0.49953771  0.5605586   0.51880966\n",
      "  0.47393575  0.56382136  0.53329533  0.5211279 ]\n",
      "[ 0.47682095  0.4901628   0.51671739  0.50802544  0.49618278  0.49228657\n",
      "  0.46979532  0.50201041  0.51613763  0.50594515]\n"
     ]
    }
   ],
   "source": [
    "for old_p in tc.get_theano_book_probas(\n",
    "    tt.constant(le), \n",
    "    explanatory = tt.constant(expl)\n",
    "):\n",
    "    print(old_p.eval())"
   ]
  },
  {
   "cell_type": "markdown",
   "metadata": {},
   "source": [
    "## Try in Theano"
   ]
  },
  {
   "cell_type": "code",
   "execution_count": 25,
   "metadata": {
    "collapsed": true
   },
   "outputs": [],
   "source": [
    "th_gps0 = tt.matrix(name = \"gps0\")\n",
    "th_gps1 = tt.matrix(name = \"gps1\")"
   ]
  },
  {
   "cell_type": "code",
   "execution_count": 26,
   "metadata": {
    "collapsed": false
   },
   "outputs": [],
   "source": [
    "th_probas = get_game_passage_probas_in_one_set([th_gps0, th_gps1])"
   ]
  },
  {
   "cell_type": "code",
   "execution_count": 27,
   "metadata": {
    "collapsed": false
   },
   "outputs": [],
   "source": [
    "th_wp0 = sum( th_probas[i,j] for i, j in set_final_states if i > j )"
   ]
  },
  {
   "cell_type": "code",
   "execution_count": 28,
   "metadata": {
    "collapsed": false
   },
   "outputs": [
    {
     "data": {
      "text/plain": [
       "array(0.5)"
      ]
     },
     "execution_count": 28,
     "metadata": {},
     "output_type": "execute_result"
    }
   ],
   "source": [
    "th_wp0.eval({\n",
    "            th_gps0: 0.7 * np.ones((7,7)), \n",
    "            th_gps1: 0.7 * np.ones((7,7)), \n",
    "        })"
   ]
  },
  {
   "cell_type": "markdown",
   "metadata": {},
   "source": [
    "# Set-evolution"
   ]
  },
  {
   "cell_type": "code",
   "execution_count": 29,
   "metadata": {
    "collapsed": false
   },
   "outputs": [],
   "source": [
    "def get_set_passage_probas_in_match(sp0):\n",
    "    \"\"\"\n",
    "    sp0 = probas of 0th player winning the set\n",
    "    sp0 is indexed by (i, j) in {0,1}x{0,1}\n",
    "    Here (i,j) is the current state i.e. sets already won by each player\n",
    "    \"\"\"\n",
    "    \n",
    "    ## active nodes\n",
    "    active = list(itt.product(range(2), range(2))) \n",
    "    \n",
    "    if isinstance(sp0, np.ndarray):\n",
    "        dtype = sp0.dtype\n",
    "    else:\n",
    "        dtype = np.object\n",
    "        \n",
    "    p = np.zeros((3, 3)).astype(dtype)\n",
    "    p[0, 0] = 1\n",
    "    for s in range(1, 5):\n",
    "        for i in range(s + 1):\n",
    "            j = s - i\n",
    "            \n",
    "            if (i-1, j) in active:\n",
    "                p[i,j] = p[i,j] + p[i-1, j] * sp0[i-1, j]\n",
    "            \n",
    "            if (i, j-1) in active:\n",
    "                p[i,j] = p[i,j] + p[i, j-1] * (1 - sp0[i, j-1])\n",
    "                \n",
    "                \n",
    "    return p\n",
    "    "
   ]
  },
  {
   "cell_type": "code",
   "execution_count": 30,
   "metadata": {
    "collapsed": false
   },
   "outputs": [
    {
     "data": {
      "text/plain": [
       "array([[ 1.   ,  0.7  ,  0.49 ],\n",
       "       [ 0.3  ,  0.42 ,  0.294],\n",
       "       [ 0.09 ,  0.126,  0.   ]])"
      ]
     },
     "execution_count": 30,
     "metadata": {},
     "output_type": "execute_result"
    }
   ],
   "source": [
    "match_probas = get_set_passage_probas_in_match(\n",
    "    sp0 = 0.3 * np.ones((2, 2))\n",
    ")\n",
    "match_probas"
   ]
  },
  {
   "cell_type": "code",
   "execution_count": 31,
   "metadata": {
    "collapsed": false
   },
   "outputs": [
    {
     "data": {
      "text/plain": [
       "array([[ 1.   ,  0.3  ,  0.09 ],\n",
       "       [ 0.7  ,  0.42 ,  0.126],\n",
       "       [ 0.49 ,  0.294,  0.   ]])"
      ]
     },
     "execution_count": 31,
     "metadata": {},
     "output_type": "execute_result"
    }
   ],
   "source": [
    "match_probas = get_set_passage_probas_in_match(\n",
    "    sp0 = 0.7 * np.ones((2, 2))\n",
    ")\n",
    "match_probas"
   ]
  },
  {
   "cell_type": "markdown",
   "metadata": {},
   "source": [
    "# Bundle to one function returning all probas we need"
   ]
  },
  {
   "cell_type": "code",
   "execution_count": 32,
   "metadata": {
    "collapsed": true
   },
   "outputs": [],
   "source": [
    "match_final_states = [(2, 0), (2, 1), (0, 2), (1, 2) ]"
   ]
  },
  {
   "cell_type": "code",
   "execution_count": 33,
   "metadata": {
    "collapsed": false
   },
   "outputs": [
    {
     "data": {
      "text/plain": [
       "[(0, 0), (0, 1), (1, 0), (1, 1)]"
      ]
     },
     "execution_count": 33,
     "metadata": {},
     "output_type": "execute_result"
    }
   ],
   "source": [
    "match_all_states = list(itt.product(range(2), range(2)))\n",
    "match_all_states"
   ]
  },
  {
   "cell_type": "code",
   "execution_count": 34,
   "metadata": {
    "collapsed": true
   },
   "outputs": [],
   "source": [
    "def get_game_and_set_passage_probas_linear_model_tf(les, explanatory):\n",
    "    \"\"\"\n",
    "    returns game_pass_probas and set_pass_probas\n",
    "    game_pass_probas[i,j] are the passage probas of the games in the set (i,j)\n",
    "    conditional on the event that the set (i,j) is played\n",
    "    \"\"\"\n",
    "    game_pass_probas = np.zeros((3, 3), dtype=np.object)\n",
    "    for i,j in match_all_states:\n",
    "        game_pass_probas[i,j] = get_game_passage_probas_in_one_set_linear_model_tf( \n",
    "            le =les[i, j],\n",
    "            explanatory=explanatory\n",
    "        )\n",
    "\n",
    "    # sp0 = probabilities of winning the set for the 0th player\n",
    "    sp0 = np.zeros((2, 2), dtype=np.object)\n",
    "    for s0, s1 in match_all_states:\n",
    "        sp0[s0, s1] = sum( game_pass_probas[s0,s1][g0, g1] for g0, g1 in set_final_states if g0 > g1 )\n",
    "\n",
    "    set_pass_probas = get_set_passage_probas_in_match(sp0)\n",
    "    \n",
    "    return game_pass_probas, set_pass_probas\n",
    "    \n"
   ]
  },
  {
   "cell_type": "code",
   "execution_count": 35,
   "metadata": {
    "collapsed": true
   },
   "outputs": [],
   "source": [
    "les_shape = (2, 2, 7, 7, 3)\n",
    "les = rnd.rand(*les_shape)"
   ]
  },
  {
   "cell_type": "code",
   "execution_count": 36,
   "metadata": {
    "collapsed": false
   },
   "outputs": [],
   "source": [
    "game_pass_probas, set_pass_probas = get_game_and_set_passage_probas_linear_model_tf(\n",
    "    les = tf.constant(les), explanatory = tf.constant(expl)\n",
    ")"
   ]
  },
  {
   "cell_type": "code",
   "execution_count": 37,
   "metadata": {
    "collapsed": false
   },
   "outputs": [
    {
     "name": "stdout",
     "output_type": "stream",
     "text": [
      "0 0 [ 0.49961272  0.50273476  0.50004467  0.49997262  0.50404384  0.50152109\n",
      "  0.49796404  0.50358699  0.50025447  0.50142594]\n",
      "0 1 [ 0.49593622  0.50860117  0.49797159  0.49989989  0.51332311  0.5040372\n",
      "  0.49419768  0.51417957  0.50774636  0.50453315]\n",
      "1 0 [ 0.49687837  0.50570038  0.49810136  0.4999218   0.50939432  0.50247549\n",
      "  0.49693695  0.51098559  0.50738634  0.50333028]\n",
      "1 1 [ 0.50487035  0.48690276  0.5020187   0.50014257  0.48007635  0.49366707\n",
      "  0.5096822   0.47979389  0.49145122  0.49334107]\n"
     ]
    }
   ],
   "source": [
    "sp0 = np.zeros((2, 2), dtype=np.object)\n",
    "for s0, s1 in match_all_states:\n",
    "    sp0[s0, s1] = sum( game_pass_probas[s0,s1][g0, g1] for g0, g1 in set_final_states if g0 > g1 )\n",
    "for s0, s1 in match_all_states:\n",
    "    print(s0, s1, sess.run(sp0[s0, s1]))\n"
   ]
  },
  {
   "cell_type": "code",
   "execution_count": 38,
   "metadata": {
    "collapsed": true
   },
   "outputs": [],
   "source": [
    "# match win proba for the first player\n",
    "mwp0 = sum( set_pass_probas[s0, s1] for s0,s1 in match_final_states if s0 > s1 )"
   ]
  },
  {
   "cell_type": "code",
   "execution_count": 92,
   "metadata": {
    "collapsed": false
   },
   "outputs": [
    {
     "data": {
      "text/plain": [
       "array([ 0.49956045,  0.50118608,  0.49907764,  0.50225292,  0.50052514,\n",
       "        0.50237877,  0.50094011,  0.49788357,  0.49997028,  0.50037385])"
      ]
     },
     "execution_count": 92,
     "metadata": {},
     "output_type": "execute_result"
    }
   ],
   "source": [
    "sess.run(mwp0)"
   ]
  },
  {
   "cell_type": "markdown",
   "metadata": {},
   "source": [
    "### test"
   ]
  },
  {
   "cell_type": "code",
   "execution_count": 94,
   "metadata": {
    "collapsed": false
   },
   "outputs": [
    {
     "name": "stdout",
     "output_type": "stream",
     "text": [
      "[ 0.50047066  0.49887465  0.50108319  0.49805621  0.49950228  0.49841304\n",
      "  0.49919562  0.50288254  0.50002997  0.50058748]\n",
      "[ 0.49952934  0.50112535  0.49891681  0.50194379  0.50049772  0.50158696\n",
      "  0.50080438  0.49711746  0.49997003  0.49941252]\n"
     ]
    }
   ],
   "source": [
    "switch = np.array(\n",
    "        [[0, 1, 0], [1, 0, 0], [0, 0, 1]],\n",
    "        dtype = np.float\n",
    "    )\n",
    "\n",
    "game_pass_probas, set_pass_probas = get_game_and_set_passage_probas_linear_model_tf(\n",
    "    les = tf.constant(les), explanatory = tf.constant(expl @ switch)\n",
    ")\n",
    "\n",
    "mwp0 = sum( [set_pass_probas[s0, s1] for s0,s1 in match_final_states if s0 > s1 ])\n",
    "mwp1 = sum( [set_pass_probas[s0, s1] for s0,s1 in match_final_states if s0 < s1 ])\n",
    "\n",
    "print(sess.run(mwp0))\n",
    "print(sess.run(mwp1))"
   ]
  },
  {
   "cell_type": "code",
   "execution_count": 95,
   "metadata": {
    "collapsed": false
   },
   "outputs": [
    {
     "name": "stdout",
     "output_type": "stream",
     "text": [
      "0 0 [ 0.49857097  0.50240597  0.49673371  0.50517475  0.50147599  0.50726195\n",
      "  0.5029624   0.49240718  0.49987719  0.49286606]\n",
      "0 1 [ 0.50517748  0.49407645  0.51141327  0.48635788  0.49581855  0.47565945\n",
      "  0.48929405  0.52260709  0.50050156  0.52872403]\n",
      "1 0 [ 0.49342371  0.50904014  0.48531609  0.51981523  0.50581011  0.53155464\n",
      "  0.51354125  0.46912084  0.49941044  0.46781786]\n",
      "1 1 [ 0.50121823  0.49834713  0.50289612  0.49593515  0.49873254  0.49309601\n",
      "  0.4973644   0.50673074  0.50010712  0.50864979]\n"
     ]
    }
   ],
   "source": [
    "sp0 = np.zeros((2, 2), dtype=np.object)\n",
    "for s0, s1 in match_all_states:\n",
    "    sp0[s0, s1] = sum( game_pass_probas[s0,s1][g0, g1] for g0, g1 in set_final_states if g0 > g1 )\n",
    "for s0, s1 in match_all_states:\n",
    "    print(s0, s1, 1- sess.run(sp0[s0, s1]))\n"
   ]
  },
  {
   "cell_type": "code",
   "execution_count": 84,
   "metadata": {
    "collapsed": false
   },
   "outputs": [
    {
     "data": {
      "text/plain": [
       "[(2, 0), (2, 1)]"
      ]
     },
     "execution_count": 84,
     "metadata": {},
     "output_type": "execute_result"
    }
   ],
   "source": [
    "[(s0, s1) for s0,s1 in match_final_states if s0 > s1 ]"
   ]
  },
  {
   "cell_type": "markdown",
   "metadata": {},
   "source": [
    "# Bordel"
   ]
  },
  {
   "cell_type": "markdown",
   "metadata": {},
   "source": [
    "## Comparting with previous way"
   ]
  },
  {
   "cell_type": "code",
   "execution_count": null,
   "metadata": {
    "collapsed": true
   },
   "outputs": [],
   "source": [
    "from tennis_commons_03 import logist, log_odds"
   ]
  },
  {
   "cell_type": "code",
   "execution_count": null,
   "metadata": {
    "collapsed": true
   },
   "outputs": [],
   "source": [
    "p0, p1 = 0.7, 0.8 \n",
    "expl0 = np.array([log_odds(p0), log_odds(p1), 1])\n",
    "expl1 = np.array([log_odds(p1), log_odds(p0), 1])"
   ]
  },
  {
   "cell_type": "code",
   "execution_count": null,
   "metadata": {
    "collapsed": false
   },
   "outputs": [],
   "source": [
    "for old_p in tc.get_theano_book_probas(\n",
    "    tt.constant(le), \n",
    "    explanatory = tt.constant(expl0[None, :])\n",
    "):\n",
    "    print(old_p.eval())"
   ]
  },
  {
   "cell_type": "markdown",
   "metadata": {},
   "source": [
    "New way"
   ]
  },
  {
   "cell_type": "code",
   "execution_count": null,
   "metadata": {
    "collapsed": false
   },
   "outputs": [],
   "source": [
    "probas = get_game_passage_probas_in_one_set(\n",
    "    gps = [logist(le @ expl0), logist(le @ expl1)],\n",
    "    first_server = None,\n",
    ")"
   ]
  },
  {
   "cell_type": "code",
   "execution_count": null,
   "metadata": {
    "collapsed": false
   },
   "outputs": [],
   "source": [
    "## win proba for player 0\n",
    "sum( probas[i, j] for i, j in set_final_states if i > j)"
   ]
  },
  {
   "cell_type": "code",
   "execution_count": null,
   "metadata": {
    "collapsed": false
   },
   "outputs": [],
   "source": [
    "## under 9.5 proba\n",
    "sum( probas[i, j] for i, j in set_final_states if i + j < 9.5)"
   ]
  },
  {
   "cell_type": "markdown",
   "metadata": {},
   "source": [
    "We can use it to get a new version of `tc.get_theano_book_probas`"
   ]
  },
  {
   "cell_type": "code",
   "execution_count": null,
   "metadata": {
    "collapsed": true
   },
   "outputs": [],
   "source": [
    "def get_theano_book_probas(le_th, explanatory):\n",
    "    switch = np.array(\n",
    "        [[0, 1, 0], [1, 0, 0], [0, 0, 1]]\n",
    "    )\n",
    "    expl0 = explanatory.T\n",
    "    expl1 = tt.dot(switch, expl0)\n",
    "    \n",
    "    gps0 = logist(tt.dot(le, expl0))\n",
    "    gps1 = logist(tt.dot(le, expl1))\n",
    "    probas = get_game_passage_probas_in_one_set(\n",
    "        gps = [gps0, gps1],\n",
    "        first_server = None,\n",
    "    )\n",
    "    \n",
    "    ## win proba for player 0\n",
    "    p_ha = sum( probas[i, j] for i, j in set_final_states if i > j)\n",
    "    ## under 9.5 proba\n",
    "    p_ou = sum( probas[i, j] for i, j in set_final_states if i + j < 9.5)\n",
    "    \n",
    "    return p_ha, p_ou"
   ]
  },
  {
   "cell_type": "code",
   "execution_count": null,
   "metadata": {
    "collapsed": false
   },
   "outputs": [],
   "source": [
    "for th_p in get_theano_book_probas(\n",
    "    tt.constant(le), \n",
    "    explanatory = tt.constant(expl0[None, :])\n",
    "):\n",
    "    print(th_p.eval())"
   ]
  },
  {
   "cell_type": "markdown",
   "metadata": {
    "collapsed": true
   },
   "source": [
    "Stack"
   ]
  },
  {
   "cell_type": "code",
   "execution_count": null,
   "metadata": {
    "collapsed": true
   },
   "outputs": [],
   "source": []
  },
  {
   "cell_type": "markdown",
   "metadata": {},
   "source": [
    "## Visualization"
   ]
  },
  {
   "cell_type": "code",
   "execution_count": null,
   "metadata": {
    "collapsed": false
   },
   "outputs": [],
   "source": [
    "with tf.Session() as session:\n",
    "    merged = tf.summary.merge_all()\n",
    "    writer = tf.summary.FileWriter(\"tmp/basic\", session.graph)"
   ]
  },
  {
   "cell_type": "markdown",
   "metadata": {},
   "source": [
    "Now you \n",
    "* run the command-prompt for this winpython. \n",
    "* in the command prompt put `tensorboard --logdir=`path/to/log-directory\n",
    "* in a browser open `localhost:6006`"
   ]
  },
  {
   "cell_type": "code",
   "execution_count": null,
   "metadata": {
    "collapsed": true
   },
   "outputs": [],
   "source": []
  }
 ],
 "metadata": {
  "kernelspec": {
   "display_name": "Python 3",
   "language": "python",
   "name": "python3"
  },
  "language_info": {
   "codemirror_mode": {
    "name": "ipython",
    "version": 3
   },
   "file_extension": ".py",
   "mimetype": "text/x-python",
   "name": "python",
   "nbconvert_exporter": "python",
   "pygments_lexer": "ipython3",
   "version": "3.5.2"
  }
 },
 "nbformat": 4,
 "nbformat_minor": 1
}

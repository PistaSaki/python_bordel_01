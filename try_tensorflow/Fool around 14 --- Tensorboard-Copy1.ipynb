{
 "cells": [
  {
   "cell_type": "code",
   "execution_count": 1,
   "metadata": {
    "ExecuteTime": {
     "end_time": "2018-07-28T13:41:03.719516Z",
     "start_time": "2018-07-28T13:41:00.166360Z"
    }
   },
   "outputs": [],
   "source": [
    "import tensorflow as tf\n",
    "import datetime"
   ]
  },
  {
   "cell_type": "code",
   "execution_count": 2,
   "metadata": {
    "ExecuteTime": {
     "end_time": "2018-07-28T13:41:03.724384Z",
     "start_time": "2018-07-28T13:41:03.721410Z"
    }
   },
   "outputs": [],
   "source": [
    "from time import sleep"
   ]
  },
  {
   "cell_type": "code",
   "execution_count": 3,
   "metadata": {
    "ExecuteTime": {
     "end_time": "2018-07-28T13:41:04.047419Z",
     "start_time": "2018-07-28T13:41:03.726392Z"
    }
   },
   "outputs": [],
   "source": [
    "import numpy as np\n",
    "import numpy.random as rnd"
   ]
  },
  {
   "cell_type": "code",
   "execution_count": 4,
   "metadata": {
    "ExecuteTime": {
     "end_time": "2018-07-28T13:41:04.153943Z",
     "start_time": "2018-07-28T13:41:04.048439Z"
    }
   },
   "outputs": [],
   "source": [
    "floatX = np.float64"
   ]
  },
  {
   "cell_type": "code",
   "execution_count": 5,
   "metadata": {
    "ExecuteTime": {
     "end_time": "2018-07-28T13:41:04.268245Z",
     "start_time": "2018-07-28T13:41:04.158464Z"
    }
   },
   "outputs": [],
   "source": [
    "sess = tf.InteractiveSession()"
   ]
  },
  {
   "cell_type": "code",
   "execution_count": 6,
   "metadata": {
    "ExecuteTime": {
     "end_time": "2018-07-28T13:41:04.338489Z",
     "start_time": "2018-07-28T13:41:04.269248Z"
    }
   },
   "outputs": [],
   "source": [
    "def get_predictions(x):\n",
    "    # retrieve or create parameter-variables\n",
    "    w = tf.get_variable(name=\"w\", initializer=np.array(1.0, dtype = floatX))\n",
    "    b = tf.get_variable(name=\"b\", initializer=np.array(0.0, dtype = floatX))\n",
    "    \n",
    "    # return the prediction\n",
    "    return w * x + b\n",
    "    "
   ]
  },
  {
   "cell_type": "code",
   "execution_count": 7,
   "metadata": {
    "ExecuteTime": {
     "end_time": "2018-07-28T13:41:04.438744Z",
     "start_time": "2018-07-28T13:41:04.341442Z"
    }
   },
   "outputs": [],
   "source": [
    "with tf.variable_scope(\"data\"):\n",
    "    x1 = tf.get_variable(name = \"x1\", initializer=rnd.rand(10), dtype = floatX)\n",
    "    y1 = tf.get_variable(name = \"y1\", initializer=rnd.rand(10), dtype=floatX)"
   ]
  },
  {
   "cell_type": "code",
   "execution_count": 8,
   "metadata": {
    "ExecuteTime": {
     "end_time": "2018-07-28T13:41:04.536006Z",
     "start_time": "2018-07-28T13:41:04.440735Z"
    }
   },
   "outputs": [],
   "source": [
    "with tf.variable_scope(\"model\") as model_scope:\n",
    "    pred1 = get_predictions(x1)"
   ]
  },
  {
   "cell_type": "code",
   "execution_count": 9,
   "metadata": {
    "ExecuteTime": {
     "end_time": "2018-07-28T13:41:04.613197Z",
     "start_time": "2018-07-28T13:41:04.539008Z"
    }
   },
   "outputs": [],
   "source": [
    "with tf.variable_scope(\"training\") as training_scope:\n",
    "    \n",
    "    losses = tf.identity(\n",
    "        (pred1 - y1)**2, \n",
    "        name = \"losses\"\n",
    "    )\n",
    "    loss = tf.reduce_mean(losses, name = \"loss\")"
   ]
  },
  {
   "cell_type": "code",
   "execution_count": 10,
   "metadata": {
    "ExecuteTime": {
     "end_time": "2018-07-28T13:41:04.705460Z",
     "start_time": "2018-07-28T13:41:04.614165Z"
    }
   },
   "outputs": [],
   "source": [
    "with tf.variable_scope(training_scope):\n",
    "    \n",
    "    learning_rate = tf.placeholder_with_default(0.1, shape = [], name = \"learning_rate\")"
   ]
  },
  {
   "cell_type": "code",
   "execution_count": 11,
   "metadata": {
    "ExecuteTime": {
     "end_time": "2018-07-28T13:41:04.809833Z",
     "start_time": "2018-07-28T13:41:04.708418Z"
    }
   },
   "outputs": [
    {
     "data": {
      "text/plain": [
       "('training_1/learning_rate:0', 'training/loss:0')"
      ]
     },
     "execution_count": 11,
     "metadata": {},
     "output_type": "execute_result"
    }
   ],
   "source": [
    "learning_rate.name, loss.name"
   ]
  },
  {
   "cell_type": "code",
   "execution_count": 12,
   "metadata": {
    "ExecuteTime": {
     "end_time": "2018-07-28T13:41:04.893739Z",
     "start_time": "2018-07-28T13:41:04.812695Z"
    }
   },
   "outputs": [],
   "source": [
    "with tf.variable_scope(model_scope, reuse=True):\n",
    "    w = tf.get_variable(\"w\", dtype=floatX)\n",
    "    b = tf.get_variable(\"b\", dtype=floatX)"
   ]
  },
  {
   "cell_type": "code",
   "execution_count": 13,
   "metadata": {
    "ExecuteTime": {
     "end_time": "2018-07-28T13:41:05.469334Z",
     "start_time": "2018-07-28T13:41:04.897750Z"
    }
   },
   "outputs": [
    {
     "ename": "FailedPreconditionError",
     "evalue": "Attempting to use uninitialized value model/w\n\t [[Node: _retval_model/w_0_1 = _Retval[T=DT_DOUBLE, index=1, _device=\"/job:localhost/replica:0/task:0/device:CPU:0\"](model/w)]]",
     "output_type": "error",
     "traceback": [
      "\u001b[1;31m---------------------------------------------------------------------------\u001b[0m",
      "\u001b[1;31mFailedPreconditionError\u001b[0m                   Traceback (most recent call last)",
      "\u001b[1;32mD:\\OLD_COMP\\moje\\python\\WinPython\\WinPython-64bit-3.5.2.3\\python-3.5.2.amd64\\lib\\site-packages\\tensorflow\\python\\client\\session.py\u001b[0m in \u001b[0;36m_do_call\u001b[1;34m(self, fn, *args)\u001b[0m\n\u001b[0;32m   1321\u001b[0m     \u001b[1;32mtry\u001b[0m\u001b[1;33m:\u001b[0m\u001b[1;33m\u001b[0m\u001b[0m\n\u001b[1;32m-> 1322\u001b[1;33m       \u001b[1;32mreturn\u001b[0m \u001b[0mfn\u001b[0m\u001b[1;33m(\u001b[0m\u001b[1;33m*\u001b[0m\u001b[0margs\u001b[0m\u001b[1;33m)\u001b[0m\u001b[1;33m\u001b[0m\u001b[0m\n\u001b[0m\u001b[0;32m   1323\u001b[0m     \u001b[1;32mexcept\u001b[0m \u001b[0merrors\u001b[0m\u001b[1;33m.\u001b[0m\u001b[0mOpError\u001b[0m \u001b[1;32mas\u001b[0m \u001b[0me\u001b[0m\u001b[1;33m:\u001b[0m\u001b[1;33m\u001b[0m\u001b[0m\n",
      "\u001b[1;32mD:\\OLD_COMP\\moje\\python\\WinPython\\WinPython-64bit-3.5.2.3\\python-3.5.2.amd64\\lib\\site-packages\\tensorflow\\python\\client\\session.py\u001b[0m in \u001b[0;36m_run_fn\u001b[1;34m(feed_dict, fetch_list, target_list, options, run_metadata)\u001b[0m\n\u001b[0;32m   1306\u001b[0m       return self._call_tf_sessionrun(\n\u001b[1;32m-> 1307\u001b[1;33m           options, feed_dict, fetch_list, target_list, run_metadata)\n\u001b[0m\u001b[0;32m   1308\u001b[0m \u001b[1;33m\u001b[0m\u001b[0m\n",
      "\u001b[1;32mD:\\OLD_COMP\\moje\\python\\WinPython\\WinPython-64bit-3.5.2.3\\python-3.5.2.amd64\\lib\\site-packages\\tensorflow\\python\\client\\session.py\u001b[0m in \u001b[0;36m_call_tf_sessionrun\u001b[1;34m(self, options, feed_dict, fetch_list, target_list, run_metadata)\u001b[0m\n\u001b[0;32m   1408\u001b[0m           \u001b[0mself\u001b[0m\u001b[1;33m.\u001b[0m\u001b[0m_session\u001b[0m\u001b[1;33m,\u001b[0m \u001b[0moptions\u001b[0m\u001b[1;33m,\u001b[0m \u001b[0mfeed_dict\u001b[0m\u001b[1;33m,\u001b[0m \u001b[0mfetch_list\u001b[0m\u001b[1;33m,\u001b[0m \u001b[0mtarget_list\u001b[0m\u001b[1;33m,\u001b[0m\u001b[1;33m\u001b[0m\u001b[0m\n\u001b[1;32m-> 1409\u001b[1;33m           run_metadata)\n\u001b[0m\u001b[0;32m   1410\u001b[0m     \u001b[1;32melse\u001b[0m\u001b[1;33m:\u001b[0m\u001b[1;33m\u001b[0m\u001b[0m\n",
      "\u001b[1;31mFailedPreconditionError\u001b[0m: Attempting to use uninitialized value model/w\n\t [[Node: _retval_model/w_0_1 = _Retval[T=DT_DOUBLE, index=1, _device=\"/job:localhost/replica:0/task:0/device:CPU:0\"](model/w)]]",
      "\nDuring handling of the above exception, another exception occurred:\n",
      "\u001b[1;31mFailedPreconditionError\u001b[0m                   Traceback (most recent call last)",
      "\u001b[1;32m<ipython-input-13-e1220122eebd>\u001b[0m in \u001b[0;36m<module>\u001b[1;34m()\u001b[0m\n\u001b[1;32m----> 1\u001b[1;33m \u001b[0mprint\u001b[0m\u001b[1;33m(\u001b[0m\u001b[0msess\u001b[0m\u001b[1;33m.\u001b[0m\u001b[0mrun\u001b[0m\u001b[1;33m(\u001b[0m\u001b[1;33m{\u001b[0m\u001b[1;34m\"w\"\u001b[0m\u001b[1;33m:\u001b[0m \u001b[0mw\u001b[0m\u001b[1;33m,\u001b[0m \u001b[1;34m\"b\"\u001b[0m\u001b[1;33m:\u001b[0m \u001b[0mb\u001b[0m\u001b[1;33m}\u001b[0m\u001b[1;33m)\u001b[0m\u001b[1;33m)\u001b[0m\u001b[1;33m\u001b[0m\u001b[0m\n\u001b[0m",
      "\u001b[1;32mD:\\OLD_COMP\\moje\\python\\WinPython\\WinPython-64bit-3.5.2.3\\python-3.5.2.amd64\\lib\\site-packages\\tensorflow\\python\\client\\session.py\u001b[0m in \u001b[0;36mrun\u001b[1;34m(self, fetches, feed_dict, options, run_metadata)\u001b[0m\n\u001b[0;32m    898\u001b[0m     \u001b[1;32mtry\u001b[0m\u001b[1;33m:\u001b[0m\u001b[1;33m\u001b[0m\u001b[0m\n\u001b[0;32m    899\u001b[0m       result = self._run(None, fetches, feed_dict, options_ptr,\n\u001b[1;32m--> 900\u001b[1;33m                          run_metadata_ptr)\n\u001b[0m\u001b[0;32m    901\u001b[0m       \u001b[1;32mif\u001b[0m \u001b[0mrun_metadata\u001b[0m\u001b[1;33m:\u001b[0m\u001b[1;33m\u001b[0m\u001b[0m\n\u001b[0;32m    902\u001b[0m         \u001b[0mproto_data\u001b[0m \u001b[1;33m=\u001b[0m \u001b[0mtf_session\u001b[0m\u001b[1;33m.\u001b[0m\u001b[0mTF_GetBuffer\u001b[0m\u001b[1;33m(\u001b[0m\u001b[0mrun_metadata_ptr\u001b[0m\u001b[1;33m)\u001b[0m\u001b[1;33m\u001b[0m\u001b[0m\n",
      "\u001b[1;32mD:\\OLD_COMP\\moje\\python\\WinPython\\WinPython-64bit-3.5.2.3\\python-3.5.2.amd64\\lib\\site-packages\\tensorflow\\python\\client\\session.py\u001b[0m in \u001b[0;36m_run\u001b[1;34m(self, handle, fetches, feed_dict, options, run_metadata)\u001b[0m\n\u001b[0;32m   1133\u001b[0m     \u001b[1;32mif\u001b[0m \u001b[0mfinal_fetches\u001b[0m \u001b[1;32mor\u001b[0m \u001b[0mfinal_targets\u001b[0m \u001b[1;32mor\u001b[0m \u001b[1;33m(\u001b[0m\u001b[0mhandle\u001b[0m \u001b[1;32mand\u001b[0m \u001b[0mfeed_dict_tensor\u001b[0m\u001b[1;33m)\u001b[0m\u001b[1;33m:\u001b[0m\u001b[1;33m\u001b[0m\u001b[0m\n\u001b[0;32m   1134\u001b[0m       results = self._do_run(handle, final_targets, final_fetches,\n\u001b[1;32m-> 1135\u001b[1;33m                              feed_dict_tensor, options, run_metadata)\n\u001b[0m\u001b[0;32m   1136\u001b[0m     \u001b[1;32melse\u001b[0m\u001b[1;33m:\u001b[0m\u001b[1;33m\u001b[0m\u001b[0m\n\u001b[0;32m   1137\u001b[0m       \u001b[0mresults\u001b[0m \u001b[1;33m=\u001b[0m \u001b[1;33m[\u001b[0m\u001b[1;33m]\u001b[0m\u001b[1;33m\u001b[0m\u001b[0m\n",
      "\u001b[1;32mD:\\OLD_COMP\\moje\\python\\WinPython\\WinPython-64bit-3.5.2.3\\python-3.5.2.amd64\\lib\\site-packages\\tensorflow\\python\\client\\session.py\u001b[0m in \u001b[0;36m_do_run\u001b[1;34m(self, handle, target_list, fetch_list, feed_dict, options, run_metadata)\u001b[0m\n\u001b[0;32m   1314\u001b[0m     \u001b[1;32mif\u001b[0m \u001b[0mhandle\u001b[0m \u001b[1;32mis\u001b[0m \u001b[1;32mNone\u001b[0m\u001b[1;33m:\u001b[0m\u001b[1;33m\u001b[0m\u001b[0m\n\u001b[0;32m   1315\u001b[0m       return self._do_call(_run_fn, feeds, fetches, targets, options,\n\u001b[1;32m-> 1316\u001b[1;33m                            run_metadata)\n\u001b[0m\u001b[0;32m   1317\u001b[0m     \u001b[1;32melse\u001b[0m\u001b[1;33m:\u001b[0m\u001b[1;33m\u001b[0m\u001b[0m\n\u001b[0;32m   1318\u001b[0m       \u001b[1;32mreturn\u001b[0m \u001b[0mself\u001b[0m\u001b[1;33m.\u001b[0m\u001b[0m_do_call\u001b[0m\u001b[1;33m(\u001b[0m\u001b[0m_prun_fn\u001b[0m\u001b[1;33m,\u001b[0m \u001b[0mhandle\u001b[0m\u001b[1;33m,\u001b[0m \u001b[0mfeeds\u001b[0m\u001b[1;33m,\u001b[0m \u001b[0mfetches\u001b[0m\u001b[1;33m)\u001b[0m\u001b[1;33m\u001b[0m\u001b[0m\n",
      "\u001b[1;32mD:\\OLD_COMP\\moje\\python\\WinPython\\WinPython-64bit-3.5.2.3\\python-3.5.2.amd64\\lib\\site-packages\\tensorflow\\python\\client\\session.py\u001b[0m in \u001b[0;36m_do_call\u001b[1;34m(self, fn, *args)\u001b[0m\n\u001b[0;32m   1333\u001b[0m         \u001b[1;32mexcept\u001b[0m \u001b[0mKeyError\u001b[0m\u001b[1;33m:\u001b[0m\u001b[1;33m\u001b[0m\u001b[0m\n\u001b[0;32m   1334\u001b[0m           \u001b[1;32mpass\u001b[0m\u001b[1;33m\u001b[0m\u001b[0m\n\u001b[1;32m-> 1335\u001b[1;33m       \u001b[1;32mraise\u001b[0m \u001b[0mtype\u001b[0m\u001b[1;33m(\u001b[0m\u001b[0me\u001b[0m\u001b[1;33m)\u001b[0m\u001b[1;33m(\u001b[0m\u001b[0mnode_def\u001b[0m\u001b[1;33m,\u001b[0m \u001b[0mop\u001b[0m\u001b[1;33m,\u001b[0m \u001b[0mmessage\u001b[0m\u001b[1;33m)\u001b[0m\u001b[1;33m\u001b[0m\u001b[0m\n\u001b[0m\u001b[0;32m   1336\u001b[0m \u001b[1;33m\u001b[0m\u001b[0m\n\u001b[0;32m   1337\u001b[0m   \u001b[1;32mdef\u001b[0m \u001b[0m_extend_graph\u001b[0m\u001b[1;33m(\u001b[0m\u001b[0mself\u001b[0m\u001b[1;33m)\u001b[0m\u001b[1;33m:\u001b[0m\u001b[1;33m\u001b[0m\u001b[0m\n",
      "\u001b[1;31mFailedPreconditionError\u001b[0m: Attempting to use uninitialized value model/w\n\t [[Node: _retval_model/w_0_1 = _Retval[T=DT_DOUBLE, index=1, _device=\"/job:localhost/replica:0/task:0/device:CPU:0\"](model/w)]]"
     ]
    }
   ],
   "source": [
    "print(sess.run({\"w\": w, \"b\": b}))"
   ]
  },
  {
   "cell_type": "code",
   "execution_count": 15,
   "metadata": {
    "ExecuteTime": {
     "end_time": "2018-07-28T13:42:42.307142Z",
     "start_time": "2018-07-28T13:42:42.204786Z"
    }
   },
   "outputs": [],
   "source": [
    "with tf.variable_scope(\"training\", reuse = True):\n",
    "    minimizer = tf.train.GradientDescentOptimizer(learning_rate)\n",
    "    train_step = minimizer.minimize(loss, var_list=[w, b])"
   ]
  },
  {
   "cell_type": "code",
   "execution_count": 16,
   "metadata": {
    "ExecuteTime": {
     "end_time": "2018-07-28T13:42:42.746508Z",
     "start_time": "2018-07-28T13:42:42.738464Z"
    }
   },
   "outputs": [],
   "source": [
    "sess.run(tf.global_variables_initializer())"
   ]
  },
  {
   "cell_type": "markdown",
   "metadata": {},
   "source": [
    "# Writing data for Tensorboard"
   ]
  },
  {
   "cell_type": "code",
   "execution_count": 17,
   "metadata": {
    "ExecuteTime": {
     "end_time": "2018-07-28T13:42:57.333619Z",
     "start_time": "2018-07-28T13:42:57.328605Z"
    }
   },
   "outputs": [
    {
     "data": {
      "text/plain": [
       "'D:\\\\out_data\\\\Tests\\\\tesorboard_test_01\\\\aaa_2018_07_28__13_42'"
      ]
     },
     "execution_count": 17,
     "metadata": {},
     "output_type": "execute_result"
    }
   ],
   "source": [
    "now = datetime.datetime.now()\n",
    "tb_dir = r\"D:\\out_data\\Tests\\tesorboard_test_01\"\n",
    "tb_dir = tb_dir + \"\\\\\" + now.strftime(r\"aaa_%Y_%m_%d__%H_%M\")\n",
    "tb_dir "
   ]
  },
  {
   "cell_type": "code",
   "execution_count": 17,
   "metadata": {
    "ExecuteTime": {
     "end_time": "2017-11-07T13:37:23.644911Z",
     "start_time": "2017-11-07T13:37:23.215911Z"
    }
   },
   "outputs": [
    {
     "name": "stdout",
     "output_type": "stream",
     "text": [
      "Put this into command prompt:\n",
      "tensorboard --logdir=training:D:\\out_data\\Tests\\tesorboard_test_01\\aaa_2017_11_07__13_37\n"
     ]
    }
   ],
   "source": [
    "tb_writer = tf.summary.FileWriter(tb_dir)\n",
    "tb_writer.add_graph(sess.graph)\n",
    "\n",
    "print(\"Put this into command prompt:\")\n",
    "print(\"tensorboard --logdir=training:\" + tb_dir)"
   ]
  },
  {
   "cell_type": "markdown",
   "metadata": {},
   "source": [
    "Now you \n",
    "* run the command-prompt for this winpython. \n",
    "* in the command prompt put `tensorboard --logdir=`path/to/log-directory\n",
    "* in a browser open `localhost:6006`"
   ]
  },
  {
   "cell_type": "code",
   "execution_count": 36,
   "metadata": {
    "ExecuteTime": {
     "end_time": "2017-11-02T14:22:28.569212Z",
     "start_time": "2017-11-02T14:22:28.558211Z"
    }
   },
   "outputs": [
    {
     "data": {
      "text/plain": [
       "<tf.Tensor 'loss_summary:0' shape=() dtype=string>"
      ]
     },
     "execution_count": 36,
     "metadata": {},
     "output_type": "execute_result"
    }
   ],
   "source": [
    "tf.summary.scalar(\"loss_summary\", loss)"
   ]
  },
  {
   "cell_type": "code",
   "execution_count": 32,
   "metadata": {
    "ExecuteTime": {
     "end_time": "2017-11-02T14:20:19.644838Z",
     "start_time": "2017-11-02T14:20:19.628837Z"
    }
   },
   "outputs": [
    {
     "data": {
      "text/plain": [
       "<tf.Tensor 'w_summary:0' shape=() dtype=string>"
      ]
     },
     "execution_count": 32,
     "metadata": {},
     "output_type": "execute_result"
    }
   ],
   "source": [
    "tf.summary.scalar(\"w_summary\", w)"
   ]
  },
  {
   "cell_type": "code",
   "execution_count": 33,
   "metadata": {
    "ExecuteTime": {
     "end_time": "2017-11-02T14:20:19.644838Z",
     "start_time": "2017-11-02T14:20:19.628837Z"
    }
   },
   "outputs": [
    {
     "data": {
      "text/plain": [
       "<tf.Tensor 'b_summary:0' shape=() dtype=string>"
      ]
     },
     "execution_count": 33,
     "metadata": {},
     "output_type": "execute_result"
    }
   ],
   "source": [
    "tf.summary.scalar(\"b_summary\", b)"
   ]
  },
  {
   "cell_type": "code",
   "execution_count": 34,
   "metadata": {
    "ExecuteTime": {
     "end_time": "2017-11-02T14:22:15.635472Z",
     "start_time": "2017-11-02T14:22:15.621471Z"
    }
   },
   "outputs": [
    {
     "data": {
      "text/plain": [
       "<tf.Tensor 'losses_summary:0' shape=() dtype=string>"
      ]
     },
     "execution_count": 34,
     "metadata": {},
     "output_type": "execute_result"
    }
   ],
   "source": [
    "tf.summary.histogram(\"losses_summary\", losses)"
   ]
  },
  {
   "cell_type": "code",
   "execution_count": 37,
   "metadata": {
    "ExecuteTime": {
     "end_time": "2017-11-02T14:22:31.178361Z",
     "start_time": "2017-11-02T14:22:31.167361Z"
    }
   },
   "outputs": [],
   "source": [
    "merged_summary = tf.summary.merge_all()"
   ]
  },
  {
   "cell_type": "code",
   "execution_count": 39,
   "metadata": {
    "ExecuteTime": {
     "end_time": "2017-11-02T14:22:52.840600Z",
     "start_time": "2017-11-02T14:22:52.835600Z"
    }
   },
   "outputs": [],
   "source": [
    "global_step = 0"
   ]
  },
  {
   "cell_type": "code",
   "execution_count": 40,
   "metadata": {
    "ExecuteTime": {
     "end_time": "2017-11-02T14:26:14.069110Z",
     "start_time": "2017-11-02T14:22:53.660647Z"
    }
   },
   "outputs": [
    {
     "name": "stdout",
     "output_type": "stream",
     "text": [
      "{'w': 0.97311474008317289, 'loss': 0.20585363966109593, 'b': -0.011872030635430228}\n",
      "{'w': 0.95125501845205762, 'loss': 0.18568379986495187, 'b': -0.018039038482373777}\n",
      "{'w': 0.93311682506938287, 'loss': 0.16886849972601353, 'b': -0.020413205151426021}\n",
      "{'w': 0.9177885594861328, 'loss': 0.15437436844227259, 'b': -0.020298456947065117}\n",
      "{'w': 0.90462327825320321, 'loss': 0.1416166446075329, 'b': -0.01858529215831918}\n",
      "{'w': 0.89315552083410543, 'loss': 0.13023903292441105, 'b': -0.015881209557782775}\n",
      "{'w': 0.88304589830353708, 'loss': 0.12000630869079076, 'b': -0.012599132687637109}\n",
      "{'w': 0.87404354496625125, 'loss': 0.11075079682716842, 'b': -0.0090178821783789796}\n",
      "{'w': 0.86596034606212025, 'loss': 0.10234499812835378, 'b': -0.005323780678638191}\n",
      "{'w': 0.85865307076435804, 'loss': 0.094687103211765142, 'b': -0.001639392751806165}\n",
      "{'w': 0.85201088457399787, 'loss': 0.087692972381234996, 'b': 0.0019565710522643012}\n",
      "{'w': 0.84594656029025317, 'loss': 0.081291434163000623, 'b': 0.0054154499227366364}\n",
      "{'w': 0.84039025245294685, 'loss': 0.075421340258907205, 'b': 0.0087090547718997186}\n",
      "{'w': 0.83528506007438863, 'loss': 0.070029589192018987, 'b': 0.011823025675711854}\n",
      "{'w': 0.83058384372370198, 'loss': 0.065069713078846264, 'b': 0.014752231478789433}\n",
      "{'w': 0.82624692672772693, 'loss': 0.060500812647931571, 'b': 0.017497591359178402}\n",
      "{'w': 0.82224042238267925, 'loss': 0.05628672215801591, 'b': 0.020063886746717881}\n",
      "{'w': 0.81853500643438803, 'loss': 0.052395335717441538, 'b': 0.022458262748498683}\n",
      "{'w': 0.81510500776557082, 'loss': 0.04879805296596338, 'b': 0.024689209158214036}\n",
      "{'w': 0.81192772764650545, 'loss': 0.045469316658267048, 'b': 0.026765874486226394}\n",
      "{'w': 0.80898292408634487, 'loss': 0.04238622311294156, 'b': 0.02869761066960624}\n",
      "{'w': 0.80625241620060784, 'loss': 0.039528191640641995, 'b': 0.030493677021230785}\n",
      "{'w': 0.80371977644934867, 'loss': 0.036876682407954851, 'b': 0.032163053583732837}\n",
      "{'w': 0.80137008773519924, 'loss': 0.034414954491346454, 'b': 0.033714329168538996}\n",
      "{'w': 0.79918974881694804, 'loss': 0.032127857535410469, 'b': 0.035155639933997805}\n",
      "{'w': 0.79716631608470467, 'loss': 0.030001651676640938, 'b': 0.036494641752010094}\n",
      "{'w': 0.79528837301089594, 'loss': 0.028023851358640762, 'b': 0.037738504782028913}\n",
      "{'w': 0.79354542092564462, 'loss': 0.026183089426801941, 'b': 0.038893922281355665}\n",
      "{'w': 0.7919277864382841, 'loss': 0.024468998501639538, 'b': 0.039967128198231477}\n",
      "{'w': 0.79042654203088714, 'loss': 0.022872107125309148, 'b': 0.040963919846572397}\n",
      "{'w': 0.78903343722016639, 'loss': 0.021383748580522149, 'b': 0.041889683177803838}\n",
      "{'w': 0.78774083831664099, 'loss': 0.01999598061371935, 'b': 0.042749419007063624}\n",
      "{'w': 0.78654167527229701, 'loss': 0.018701514569162969, 'b': 0.043547769130950556}\n",
      "{'w': 0.78542939444815651, 'loss': 0.017493652668586809, 'b': 0.044289041671162162}\n",
      "{'w': 0.78439791638536505, 'loss': 0.016366232360899576, 'b': 0.044977235248283065}\n",
      "{'w': 0.78344159785194645, 'loss': 0.015313576825092365, 'b': 0.045616061771531963}\n",
      "{'w': 0.78255519757963499, 'loss': 0.014330450842516251, 'b': 0.046208967750657949}\n",
      "{'w': 0.7817338452136251, 'loss': 0.013412021366560098, 'b': 0.046759154114418257}\n",
      "{'w': 0.78097301308162659, 'loss': 0.012553822212112717, 'b': 0.047269594569441423}\n",
      "{'w': 0.78026849045372226, 'loss': 0.011751722367006452, 'b': 0.047743052563027216}\n",
      "{'w': 0.77961636001587142, 'loss': 0.011001897495338388, 'b': 0.048182096929976347}\n",
      "{'w': 0.77901297632088196, 'loss': 0.010300804260141603, 'b': 0.048589116311320561}\n",
      "{'w': 0.77845494601376908, 'loss': 0.0096451571419741179, 'b': 0.048966332434897418}\n",
      "{'w': 0.77793910965546442, 'loss': 0.0090319074719606152, 'b': 0.049315812346178683}\n",
      "{'w': 0.77746252499118096, 'loss': 0.0084582244337843924, 'b': 0.049639479674040303}\n",
      "{'w': 0.77702245152839977, 'loss': 0.0079214778200166151, 'b': 0.049939125011213059}\n",
      "{'w': 0.77661633630517202, 'loss': 0.0074192223547633034, 'b': 0.050216415483610097}\n",
      "{'w': 0.77624180074281179, 'loss': 0.0069491834175562563, 'b': 0.050472903577004666}\n",
      "{'w': 0.77589662848852992, 'loss': 0.0065092440232561747, 'b': 0.05071003528388842}\n",
      "{'w': 0.775578754163469, 'loss': 0.0060974329299305031, 'b': 0.050929157627936553}\n",
      "{'w': 0.77528625294021747, 'loss': 0.0057119137615995134, 'b': 0.051131525618428826}\n",
      "{'w': 0.77501733088141278, 'loss': 0.0053509750457359576, 'b': 0.051318308682268859}\n",
      "{'w': 0.77477031597766255, 'loss': 0.0050130210767305155, 'b': 0.051490596616920264}\n",
      "{'w': 0.7745436498288587, 'loss': 0.0046965635264301434, 'b': 0.051649405103633493}\n",
      "{'w': 0.77433587991813546, 'loss': 0.0044002137315160708, 'b': 0.051795680816752954}\n",
      "{'w': 0.77414565243233036, 'loss': 0.0041226755950821538, 'b': 0.051930306161648683}\n",
      "{'w': 0.77397170558691819, 'loss': 0.0038627390464448077, 'b': 0.052054103670883679}\n",
      "{'w': 0.7738128634170639, 'loss': 0.0036192740090865718, 'b': 0.052167840085580501}\n",
      "{'w': 0.77366802999974393, 'loss': 0.0033912248318114569, 'b': 0.052272230146562494}\n",
      "{'w': 0.77353618407485192, 'loss': 0.0031776051427614667, 'b': 0.052367940117690533}\n",
      "{'w': 0.77341637403588259, 'loss': 0.0029774930899884866, 'b': 0.052455591061872586}\n",
      "{'w': 0.77330771326320424, 'loss': 0.0027900269358603043, 'b': 0.052535761888468653}\n",
      "{'w': 0.77320937577511928, 'loss': 0.0026144009757619988, 'b': 0.052608992189228453}\n",
      "{'w': 0.77312059217389528, 'loss': 0.0024498617543841465, 'b': 0.052675784878465658}\n",
      "{'w': 0.77304064586575316, 'loss': 0.0022957045554103305, 'b': 0.052736608651875135}\n",
      "{'w': 0.77296886953543686, 'loss': 0.002151270142666026, 'b': 0.052791900277223261}\n",
      "{'w': 0.77290464185748475, 'loss': 0.0020159417328013307, 'b': 0.052842066729074773}\n",
      "{'w': 0.77284738442768586, 'loss': 0.0018891421813798652, 'b': 0.052887487178750033}\n",
      "{'w': 0.77279655889944998, 'loss': 0.0017703313658599166, 'b': 0.052928514849824762}\n",
      "{'w': 0.77275166431096154, 'loss': 0.0016590037504031273, 'b': 0.052965478748681315}\n",
      "{'w': 0.77271223459003158, 'loss': 0.0015546861187497418, 'b': 0.052998685278888055}\n",
      "{'w': 0.77267783622452191, 'loss': 0.0014569354625738079, 'b': 0.053028419747514655}\n",
      "{'w': 0.77264806608709369, 'loss': 0.0013653370137913959, 'b': 0.053054947770879504}\n",
      "{'w': 0.77262254940384556, 'loss': 0.0012795024102525521, 'b': 0.05307851658666593}\n",
      "{'w': 0.77260093785714867, 'loss': 0.0011990679851142331, 'b': 0.053099356278830695}\n",
      "{'w': 0.772582907813675, 'loss': 0.0011236931709770154, 'b': 0.053117680921257793}\n",
      "{'w': 0.77256815866924755, 'loss': 0.0010530590105812931, 'b': 0.05313368964567787}\n",
      "{'w': 0.77255641130272712, 'loss': 0.00098686676650661218, 'b': 0.053147567638976385}\n",
      "{'w': 0.77254740663168953, 'loss': 0.00092483662290773641, 'b': 0.053159487074647176}\n",
      "{'w': 0.77254090426314859, 'loss': 0.00086670647285855132, 'b': 0.053169607982811139}\n",
      "{'w': 0.77253668123304142, 'loss': 0.00081223078536555443, 'b': 0.053178079062908404}\n",
      "{'w': 0.77253453082862278, 'loss': 0.00076117954656110568, 'b': 0.053185038442885281}\n",
      "{'w': 0.77253426148831172, 'loss': 0.00071333726999676418, 'b': 0.053190614388431687}\n",
      "{'w': 0.77253569577390235, 'loss': 0.00066850207133296142, 'b': 0.053194925965579398}\n",
      "{'w': 0.7725386694103934, 'loss': 0.00062648480306586778, 'b': 0.053198083659744204}\n",
      "{'w': 0.77254303038900918, 'loss': 0.00058710824524890628, 'b': 0.053200189954084549}\n",
      "{'w': 0.77254863812927899, 'loss': 0.0005502063484573137, 'b': 0.053201339869854182}\n",
      "{'w': 0.77255536269631819, 'loss': 0.0005156235255118569, 'b': 0.053201621471245221}\n",
      "{'w': 0.77256308406970875, 'loss': 0.00048321398872454866, 'b': 0.053201116337050228}\n",
      "{'w': 0.772571691460615, 'loss': 0.00045284112965659286, 'b': 0.053199900001315595}\n",
      "{'w': 0.77258108267399328, 'loss': 0.00042437693858873269, 'b': 0.053198042365013812}\n",
      "{'w': 0.77259116351295831, 'loss': 0.00039770146109809653, 'b': 0.053195608080627045}\n",
      "{'w': 0.77260184722256409, 'loss': 0.0003727022893149672, 'b': 0.053192656911409245}\n",
      "{'w': 0.77261305397043456, 'loss': 0.00034927408559882886, 'b': 0.053189244066977004}\n",
      "{'w': 0.77262471036184743, 'loss': 0.00032731813652669072, 'b': 0.053185420516770804}\n",
      "{'w': 0.77263674898703083, 'loss': 0.00030674193522920622, 'b': 0.05318123328282693}\n",
      "{'w': 0.772649107998578, 'loss': 0.00028745879024208443, 'b': 0.053176725713205836}\n"
     ]
    },
    {
     "name": "stdout",
     "output_type": "stream",
     "text": [
      "{'w': 0.77266173071702116, 'loss': 0.00026938745916302764, 'b': 0.053171937737334848}\n",
      "{'w': 0.77267456526273259, 'loss': 0.00025245180551820959, 'b': 0.053166906104440831}\n",
      "{'w': 0.77268756421244023, 'loss': 0.00023658047734817863, 'b': 0.05316166460617195}\n"
     ]
    }
   ],
   "source": [
    "for i in range(100):\n",
    "    global_step += 1\n",
    "    sleep(2)\n",
    "    \n",
    "    sess.run(train_step)\n",
    "    print(sess.run({\"w\": w, \"b\": b, \"loss\": loss}))\n",
    "    \n",
    "    tb_writer.add_summary(sess.run(merged_summary), global_step = global_step)"
   ]
  },
  {
   "cell_type": "code",
   "execution_count": null,
   "metadata": {},
   "outputs": [],
   "source": []
  }
 ],
 "metadata": {
  "kernelspec": {
   "display_name": "Python 3",
   "language": "python",
   "name": "python3"
  },
  "language_info": {
   "codemirror_mode": {
    "name": "ipython",
    "version": 3
   },
   "file_extension": ".py",
   "mimetype": "text/x-python",
   "name": "python",
   "nbconvert_exporter": "python",
   "pygments_lexer": "ipython3",
   "version": "3.5.2"
  },
  "toc": {
   "colors": {
    "hover_highlight": "#DAA520",
    "navigate_num": "#000000",
    "navigate_text": "#400040",
    "running_highlight": "#FF0000",
    "selected_highlight": "#FFD700",
    "sidebar_border": "#000000",
    "wrapper_background": "#ffffff"
   },
   "moveMenuLeft": true,
   "nav_menu": {
    "height": "30px",
    "width": "252px"
   },
   "navigate_menu": true,
   "number_sections": true,
   "sideBar": true,
   "threshold": 4,
   "toc_cell": false,
   "toc_section_display": "block",
   "toc_window_display": false,
   "widenNotebook": false
  }
 },
 "nbformat": 4,
 "nbformat_minor": 2
}

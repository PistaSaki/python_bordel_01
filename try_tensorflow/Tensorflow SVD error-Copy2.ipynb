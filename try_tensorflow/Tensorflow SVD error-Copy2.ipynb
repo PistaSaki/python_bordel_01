{
 "cells": [
  {
   "cell_type": "code",
   "execution_count": 46,
   "metadata": {
    "collapsed": true
   },
   "outputs": [],
   "source": [
    "import numpy as np\n",
    "import numpy.linalg as la\n",
    "import tensorflow as tf"
   ]
  },
  {
   "cell_type": "code",
   "execution_count": 71,
   "metadata": {
    "collapsed": true
   },
   "outputs": [],
   "source": [
    "## choose our matrix\n",
    "A = np.array([\n",
    "        [ 10, -10],\n",
    "        [-45, -41],\n",
    "        [ 0  , 0  ],\n",
    "    ],\n",
    "    dtype = np.float32      \n",
    ")\n"
   ]
  },
  {
   "cell_type": "code",
   "execution_count": 72,
   "metadata": {
    "collapsed": false
   },
   "outputs": [],
   "source": [
    "## a method for checking the SVD of A\n",
    "def check_USV(U, S, V):\n",
    "    S_diag = S * np.eye(*A.shape)\n",
    "    reconstruction = U @  S_diag @ V\n",
    "    print( reconstruction )\n",
    "    print(\"error =\", np.max(np.abs(A - reconstruction)))"
   ]
  },
  {
   "cell_type": "code",
   "execution_count": 73,
   "metadata": {
    "collapsed": false
   },
   "outputs": [
    {
     "name": "stdout",
     "output_type": "stream",
     "text": [
      "[[  9.99999958  -9.99999993]\n",
      " [-44.99999961 -40.99999793]\n",
      " [  0.           0.        ]]\n",
      "error = 2.06837245287e-06\n"
     ]
    }
   ],
   "source": [
    "#############\n",
    "## Numpy SVD\n",
    "\n",
    "U, S, V = la.svd(A)\n",
    "check_USV(U, S, V)"
   ]
  },
  {
   "cell_type": "code",
   "execution_count": 74,
   "metadata": {
    "collapsed": false
   },
   "outputs": [
    {
     "name": "stdout",
     "output_type": "stream",
     "text": [
      "[[ -8.97084741 -10.93269697]\n",
      " [-45.21641503  40.76121307]\n",
      " [  0.           0.        ]]\n",
      "error = 81.7612130656\n"
     ]
    }
   ],
   "source": [
    "############\n",
    "## Tensorflow SVD\n",
    "\n",
    "## tensorflow.svd has different ordering of outputs \n",
    "s, u, v = tf.svd(tf.constant(A), full_matrices=True)\n",
    "\n",
    "with tf.Session() as sess:\n",
    "    U_tf, S_tf, V_tf =  sess.run([u, s, v])\n",
    "\n",
    "check_USV(U_tf, S_tf, V_tf)"
   ]
  },
  {
   "cell_type": "code",
   "execution_count": 70,
   "metadata": {
    "collapsed": false
   },
   "outputs": [
    {
     "name": "stdout",
     "output_type": "stream",
     "text": [
      "[[-1.  0.  0.]\n",
      " [ 0.  1.  0.]\n",
      " [ 0.  0.  1.]]\n",
      "[[ -1.00000024e+00   5.96046448e-08   0.00000000e+00]\n",
      " [  0.00000000e+00  -1.00000012e+00   0.00000000e+00]\n",
      " [  0.00000000e+00  -0.00000000e+00   1.00000000e+00]]\n"
     ]
    }
   ],
   "source": [
    "print(U)\n",
    "print(U_tf)"
   ]
  },
  {
   "cell_type": "code",
   "execution_count": 75,
   "metadata": {
    "collapsed": false
   },
   "outputs": [
    {
     "name": "stdout",
     "output_type": "stream",
     "text": [
      "[[-0.74097639 -0.67153108]\n",
      " [ 0.67153108 -0.74097639]]\n",
      "[[ 0.74097639 -0.67153108]\n",
      " [ 0.67153108  0.74097639]]\n"
     ]
    }
   ],
   "source": [
    "print(V)\n",
    "print(V_tf)"
   ]
  },
  {
   "cell_type": "code",
   "execution_count": 77,
   "metadata": {
    "collapsed": false
   },
   "outputs": [
    {
     "name": "stdout",
     "output_type": "stream",
     "text": [
      "b'unknown' 1.2.0\n"
     ]
    }
   ],
   "source": [
    "print(tf.GIT_VERSION, tf.VERSION)"
   ]
  },
  {
   "cell_type": "code",
   "execution_count": null,
   "metadata": {
    "collapsed": true
   },
   "outputs": [],
   "source": []
  }
 ],
 "metadata": {
  "kernelspec": {
   "display_name": "Python 3",
   "language": "python",
   "name": "python3"
  },
  "language_info": {
   "codemirror_mode": {
    "name": "ipython",
    "version": 3
   },
   "file_extension": ".py",
   "mimetype": "text/x-python",
   "name": "python",
   "nbconvert_exporter": "python",
   "pygments_lexer": "ipython3",
   "version": "3.5.2"
  }
 },
 "nbformat": 4,
 "nbformat_minor": 1
}

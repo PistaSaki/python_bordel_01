{
 "cells": [
  {
   "cell_type": "code",
   "execution_count": 23,
   "metadata": {
    "execution": {
     "iopub.execute_input": "2021-06-24T14:38:17.029139Z",
     "iopub.status.busy": "2021-06-24T14:38:17.029139Z",
     "iopub.status.idle": "2021-06-24T14:38:17.426143Z",
     "shell.execute_reply": "2021-06-24T14:38:17.425142Z",
     "shell.execute_reply.started": "2021-06-24T14:38:17.029139Z"
    }
   },
   "outputs": [],
   "source": [
    "import numpy as np\n",
    "import pandas as pd"
   ]
  },
  {
   "cell_type": "markdown",
   "metadata": {
    "execution": {
     "iopub.execute_input": "2021-06-24T13:21:14.415405Z",
     "iopub.status.busy": "2021-06-24T13:21:14.414404Z",
     "iopub.status.idle": "2021-06-24T13:21:14.420400Z",
     "shell.execute_reply": "2021-06-24T13:21:14.419403Z",
     "shell.execute_reply.started": "2021-06-24T13:21:14.415405Z"
    }
   },
   "source": [
    "# Basal Metabolic Rate"
   ]
  },
  {
   "cell_type": "code",
   "execution_count": 12,
   "metadata": {
    "execution": {
     "iopub.execute_input": "2021-06-24T14:11:16.244029Z",
     "iopub.status.busy": "2021-06-24T14:11:16.244029Z",
     "iopub.status.idle": "2021-06-24T14:11:16.250025Z",
     "shell.execute_reply": "2021-06-24T14:11:16.249029Z",
     "shell.execute_reply.started": "2021-06-24T14:11:16.244029Z"
    }
   },
   "outputs": [],
   "source": [
    "def get_bmr_kcal(weight_kg, height_cm, age_year):\n",
    "    return 10 * weight_kg + 6.25 * height_cm - 5 * age_year + 5\n",
    "\n",
    "def get_bmr_kJ(weight_kg, height_cm, age_year):\n",
    "    return get_bmr_kcal(weight_kg, height_cm, age_year) * 4.2"
   ]
  },
  {
   "cell_type": "code",
   "execution_count": 16,
   "metadata": {
    "execution": {
     "iopub.execute_input": "2021-06-24T14:21:17.622789Z",
     "iopub.status.busy": "2021-06-24T14:21:17.622789Z",
     "iopub.status.idle": "2021-06-24T14:21:17.632753Z",
     "shell.execute_reply": "2021-06-24T14:21:17.631792Z",
     "shell.execute_reply.started": "2021-06-24T14:21:17.622789Z"
    }
   },
   "outputs": [
    {
     "data": {
      "text/plain": [
       "7833.0"
      ]
     },
     "execution_count": 16,
     "metadata": {},
     "output_type": "execute_result"
    }
   ],
   "source": [
    "my_bmr_kJ = get_bmr_kJ(weight_kg=90, height_cm=188, age_year=43)\n",
    "my_bmr_kJ"
   ]
  },
  {
   "cell_type": "markdown",
   "metadata": {},
   "source": [
    "# Total Daily Energy Expenditure TDEE"
   ]
  },
  {
   "cell_type": "code",
   "execution_count": 14,
   "metadata": {
    "execution": {
     "iopub.execute_input": "2021-06-24T14:19:52.561941Z",
     "iopub.status.busy": "2021-06-24T14:19:52.561941Z",
     "iopub.status.idle": "2021-06-24T14:19:52.567939Z",
     "shell.execute_reply": "2021-06-24T14:19:52.566940Z",
     "shell.execute_reply.started": "2021-06-24T14:19:52.561941Z"
    }
   },
   "outputs": [],
   "source": [
    "tdee_coef = {\n",
    "    \"sedentary\": 1.15,\n",
    "    \"light_activity\": np.array([1.2, 1.35]),\n",
    "    \"moderate_activity\": np.array([1.4, 1.55]),\n",
    "    \"very_active\": np.array([1.6, 1.75]),\n",
    "    \"extra_active\": np.array([1.8, 1.95]),\n",
    "    \n",
    "}"
   ]
  },
  {
   "cell_type": "code",
   "execution_count": 20,
   "metadata": {
    "execution": {
     "iopub.execute_input": "2021-06-24T14:22:30.552212Z",
     "iopub.status.busy": "2021-06-24T14:22:30.552212Z",
     "iopub.status.idle": "2021-06-24T14:22:30.565213Z",
     "shell.execute_reply": "2021-06-24T14:22:30.564211Z",
     "shell.execute_reply.started": "2021-06-24T14:22:30.552212Z"
    }
   },
   "outputs": [],
   "source": [
    "my_activity_level = \"extra_active\""
   ]
  },
  {
   "cell_type": "code",
   "execution_count": 21,
   "metadata": {
    "execution": {
     "iopub.execute_input": "2021-06-24T14:22:31.055212Z",
     "iopub.status.busy": "2021-06-24T14:22:31.055212Z",
     "iopub.status.idle": "2021-06-24T14:22:31.067215Z",
     "shell.execute_reply": "2021-06-24T14:22:31.066212Z",
     "shell.execute_reply.started": "2021-06-24T14:22:31.055212Z"
    }
   },
   "outputs": [
    {
     "data": {
      "text/plain": [
       "array([14099.4 , 15274.35])"
      ]
     },
     "execution_count": 21,
     "metadata": {},
     "output_type": "execute_result"
    }
   ],
   "source": [
    "tdee_kJ = tdee_coef[my_activity_level] * my_bmr_kJ\n",
    "tdee_kJ"
   ]
  },
  {
   "cell_type": "markdown",
   "metadata": {},
   "source": [
    "# Diet energy"
   ]
  },
  {
   "cell_type": "code",
   "execution_count": 22,
   "metadata": {
    "execution": {
     "iopub.execute_input": "2021-06-24T14:33:47.532032Z",
     "iopub.status.busy": "2021-06-24T14:33:47.531032Z",
     "iopub.status.idle": "2021-06-24T14:33:47.537034Z",
     "shell.execute_reply": "2021-06-24T14:33:47.536035Z",
     "shell.execute_reply.started": "2021-06-24T14:33:47.532032Z"
    }
   },
   "outputs": [],
   "source": [
    "diet_coef = {\n",
    "    \"cutting\": 0.75,\n",
    "    \"bulking\": 1.1\n",
    "}"
   ]
  },
  {
   "cell_type": "code",
   "execution_count": 51,
   "metadata": {
    "execution": {
     "iopub.execute_input": "2021-06-24T16:16:40.787986Z",
     "iopub.status.busy": "2021-06-24T16:16:40.787986Z",
     "iopub.status.idle": "2021-06-24T16:16:40.796987Z",
     "shell.execute_reply": "2021-06-24T16:16:40.795988Z",
     "shell.execute_reply.started": "2021-06-24T16:16:40.787986Z"
    }
   },
   "outputs": [],
   "source": [
    "my_phase = \"bulking\""
   ]
  },
  {
   "cell_type": "code",
   "execution_count": 52,
   "metadata": {
    "execution": {
     "iopub.execute_input": "2021-06-24T16:16:41.275990Z",
     "iopub.status.busy": "2021-06-24T16:16:41.275990Z",
     "iopub.status.idle": "2021-06-24T16:16:41.297988Z",
     "shell.execute_reply": "2021-06-24T16:16:41.296987Z",
     "shell.execute_reply.started": "2021-06-24T16:16:41.275990Z"
    }
   },
   "outputs": [
    {
     "data": {
      "text/plain": [
       "array([15509.34 , 16801.785])"
      ]
     },
     "execution_count": 52,
     "metadata": {},
     "output_type": "execute_result"
    }
   ],
   "source": [
    "diet_kJ = diet_coef[my_phase] * tdee_kJ\n",
    "diet_kJ"
   ]
  },
  {
   "cell_type": "markdown",
   "metadata": {},
   "source": [
    "# Macronutrients"
   ]
  },
  {
   "cell_type": "code",
   "execution_count": 53,
   "metadata": {
    "execution": {
     "iopub.execute_input": "2021-06-24T16:16:41.748993Z",
     "iopub.status.busy": "2021-06-24T16:16:41.748993Z",
     "iopub.status.idle": "2021-06-24T16:16:41.771989Z",
     "shell.execute_reply": "2021-06-24T16:16:41.770993Z",
     "shell.execute_reply.started": "2021-06-24T16:16:41.748993Z"
    }
   },
   "outputs": [
    {
     "data": {
      "text/html": [
       "<div>\n",
       "<style scoped>\n",
       "    .dataframe tbody tr th:only-of-type {\n",
       "        vertical-align: middle;\n",
       "    }\n",
       "\n",
       "    .dataframe tbody tr th {\n",
       "        vertical-align: top;\n",
       "    }\n",
       "\n",
       "    .dataframe thead th {\n",
       "        text-align: right;\n",
       "    }\n",
       "</style>\n",
       "<table border=\"1\" class=\"dataframe\">\n",
       "  <thead>\n",
       "    <tr style=\"text-align: right;\">\n",
       "      <th></th>\n",
       "      <th>cutting</th>\n",
       "      <th>bulking</th>\n",
       "    </tr>\n",
       "  </thead>\n",
       "  <tbody>\n",
       "    <tr>\n",
       "      <th>protein</th>\n",
       "      <td>0.4</td>\n",
       "      <td>0.25</td>\n",
       "    </tr>\n",
       "    <tr>\n",
       "      <th>carbs</th>\n",
       "      <td>0.4</td>\n",
       "      <td>0.50</td>\n",
       "    </tr>\n",
       "    <tr>\n",
       "      <th>fat</th>\n",
       "      <td>0.2</td>\n",
       "      <td>0.20</td>\n",
       "    </tr>\n",
       "  </tbody>\n",
       "</table>\n",
       "</div>"
      ],
      "text/plain": [
       "         cutting  bulking\n",
       "protein      0.4     0.25\n",
       "carbs        0.4     0.50\n",
       "fat          0.2     0.20"
      ]
     },
     "execution_count": 53,
     "metadata": {},
     "output_type": "execute_result"
    }
   ],
   "source": [
    "energy_split = {\n",
    "    \"cutting\": {\"protein\": 0.4, \"carbs\": 0.4, \"fat\": 0.2},\n",
    "    \"bulking\": {\"protein\": 0.25, \"carbs\": 0.5, \"fat\": 0.2},\n",
    "}\n",
    "energy_split = pd.DataFrame(energy_split)\n",
    "energy_split"
   ]
  },
  {
   "cell_type": "code",
   "execution_count": 54,
   "metadata": {
    "execution": {
     "iopub.execute_input": "2021-06-24T16:16:42.392991Z",
     "iopub.status.busy": "2021-06-24T16:16:42.392991Z",
     "iopub.status.idle": "2021-06-24T16:16:42.404991Z",
     "shell.execute_reply": "2021-06-24T16:16:42.403989Z",
     "shell.execute_reply.started": "2021-06-24T16:16:42.392991Z"
    }
   },
   "outputs": [],
   "source": [
    "energy_content_kcal_per_g = pd.Series({\"protein\": 4, \"carbs\": 4, \"fat\": 9})\n",
    "energy_content_kJ_per_g = energy_content_kcal_per_g * 4.2"
   ]
  },
  {
   "cell_type": "code",
   "execution_count": 55,
   "metadata": {
    "execution": {
     "iopub.execute_input": "2021-06-24T16:16:43.269991Z",
     "iopub.status.busy": "2021-06-24T16:16:43.269991Z",
     "iopub.status.idle": "2021-06-24T16:16:43.288990Z",
     "shell.execute_reply": "2021-06-24T16:16:43.287991Z",
     "shell.execute_reply.started": "2021-06-24T16:16:43.269991Z"
    }
   },
   "outputs": [
    {
     "data": {
      "text/plain": [
       "protein    4038.890625\n",
       "carbs      8077.781250\n",
       "fat        3231.112500\n",
       "Name: bulking, dtype: float64"
      ]
     },
     "execution_count": 55,
     "metadata": {},
     "output_type": "execute_result"
    }
   ],
   "source": [
    "macros_kJ = np.mean(diet_kJ) * energy_split[my_phase]\n",
    "macros_kJ"
   ]
  },
  {
   "cell_type": "code",
   "execution_count": 56,
   "metadata": {
    "execution": {
     "iopub.execute_input": "2021-06-24T16:16:50.427000Z",
     "iopub.status.busy": "2021-06-24T16:16:50.425998Z",
     "iopub.status.idle": "2021-06-24T16:16:50.443999Z",
     "shell.execute_reply": "2021-06-24T16:16:50.443002Z",
     "shell.execute_reply.started": "2021-06-24T16:16:50.427000Z"
    }
   },
   "outputs": [
    {
     "data": {
      "text/plain": [
       "protein    240.410156\n",
       "carbs      480.820313\n",
       "fat         85.479167\n",
       "dtype: float64"
      ]
     },
     "execution_count": 56,
     "metadata": {},
     "output_type": "execute_result"
    }
   ],
   "source": [
    "macros_g = macros_kJ / energy_content_kJ_per_g\n",
    "macros_g"
   ]
  },
  {
   "cell_type": "code",
   "execution_count": 50,
   "metadata": {
    "execution": {
     "iopub.execute_input": "2021-06-24T16:15:19.109047Z",
     "iopub.status.busy": "2021-06-24T16:15:19.109047Z",
     "iopub.status.idle": "2021-06-24T16:15:19.122049Z",
     "shell.execute_reply": "2021-06-24T16:15:19.121044Z",
     "shell.execute_reply.started": "2021-06-24T16:15:19.109047Z"
    }
   },
   "outputs": [
    {
     "data": {
      "text/plain": [
       "220.00000000000003"
      ]
     },
     "execution_count": 50,
     "metadata": {},
     "output_type": "execute_result"
    }
   ],
   "source": [
    "90 / 0.45 * 1.1"
   ]
  },
  {
   "cell_type": "code",
   "execution_count": null,
   "metadata": {},
   "outputs": [],
   "source": []
  }
 ],
 "metadata": {
  "kernelspec": {
   "display_name": "Python 3",
   "language": "python",
   "name": "python3"
  },
  "language_info": {
   "codemirror_mode": {
    "name": "ipython",
    "version": 3
   },
   "file_extension": ".py",
   "mimetype": "text/x-python",
   "name": "python",
   "nbconvert_exporter": "python",
   "pygments_lexer": "ipython3",
   "version": "3.7.6"
  }
 },
 "nbformat": 4,
 "nbformat_minor": 4
}

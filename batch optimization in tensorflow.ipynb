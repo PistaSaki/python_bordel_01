{
 "cells": [
  {
   "cell_type": "markdown",
   "metadata": {},
   "source": [
    "We use gradient descent with backtracking.\n",
    "See Nocedal, Wright: pg 37."
   ]
  },
  {
   "cell_type": "code",
   "execution_count": 1,
   "metadata": {
    "ExecuteTime": {
     "end_time": "2018-08-09T13:22:23.360459Z",
     "start_time": "2018-08-09T13:22:22.660599Z"
    }
   },
   "outputs": [],
   "source": [
    "import tensorflow as tf"
   ]
  },
  {
   "cell_type": "code",
   "execution_count": 2,
   "metadata": {
    "ExecuteTime": {
     "end_time": "2018-08-09T13:19:26.461653Z",
     "start_time": "2018-08-09T11:19:26.256Z"
    }
   },
   "outputs": [],
   "source": [
    "import numpy as np\n",
    "import numpy.random as rnd"
   ]
  },
  {
   "cell_type": "code",
   "execution_count": 3,
   "metadata": {
    "ExecuteTime": {
     "end_time": "2018-08-09T13:19:26.462696Z",
     "start_time": "2018-08-09T11:19:26.258Z"
    }
   },
   "outputs": [],
   "source": [
    "import pandas as pd\n",
    "from pandas import Series, DataFrame"
   ]
  },
  {
   "cell_type": "code",
   "execution_count": 4,
   "metadata": {
    "ExecuteTime": {
     "end_time": "2018-08-09T13:19:26.463658Z",
     "start_time": "2018-08-09T11:19:26.261Z"
    }
   },
   "outputs": [],
   "source": [
    "from IPython.display import display"
   ]
  },
  {
   "cell_type": "code",
   "execution_count": 5,
   "metadata": {
    "ExecuteTime": {
     "end_time": "2018-08-09T13:19:26.463658Z",
     "start_time": "2018-08-09T11:19:26.262Z"
    }
   },
   "outputs": [],
   "source": [
    "from collections import OrderedDict"
   ]
  },
  {
   "cell_type": "code",
   "execution_count": 6,
   "metadata": {
    "ExecuteTime": {
     "end_time": "2018-08-09T13:19:26.464701Z",
     "start_time": "2018-08-09T11:19:26.264Z"
    }
   },
   "outputs": [],
   "source": [
    "import matplotlib.pyplot as pl\n",
    "%matplotlib inline"
   ]
  },
  {
   "cell_type": "code",
   "execution_count": 7,
   "metadata": {
    "ExecuteTime": {
     "end_time": "2018-08-09T13:19:26.464701Z",
     "start_time": "2018-08-09T11:19:26.266Z"
    }
   },
   "outputs": [],
   "source": [
    "floatX = np.float32"
   ]
  },
  {
   "cell_type": "code",
   "execution_count": 8,
   "metadata": {
    "ExecuteTime": {
     "end_time": "2018-08-09T13:19:26.465695Z",
     "start_time": "2018-08-09T11:19:26.269Z"
    }
   },
   "outputs": [],
   "source": [
    "sess = tf.InteractiveSession()"
   ]
  },
  {
   "cell_type": "code",
   "execution_count": 9,
   "metadata": {
    "ExecuteTime": {
     "end_time": "2018-08-09T13:19:26.466697Z",
     "start_time": "2018-08-09T11:19:26.273Z"
    }
   },
   "outputs": [],
   "source": [
    "x = tf.Variable(\n",
    "    tf.random_normal(shape = [4, 2]), \n",
    "    name = \"x\", dtype = floatX,\n",
    ")\n",
    "sess.run(x.initializer)"
   ]
  },
  {
   "cell_type": "code",
   "execution_count": 10,
   "metadata": {
    "ExecuteTime": {
     "end_time": "2018-08-09T13:19:26.466697Z",
     "start_time": "2018-08-09T11:19:26.275Z"
    }
   },
   "outputs": [],
   "source": [
    "x_min = np.array([\n",
    "    [0, 0],\n",
    "    [3, 3],\n",
    "    [3, 0],\n",
    "    [0, 3],\n",
    "], dtype = floatX)"
   ]
  },
  {
   "cell_type": "code",
   "execution_count": 11,
   "metadata": {
    "ExecuteTime": {
     "end_time": "2018-08-09T13:19:26.467700Z",
     "start_time": "2018-08-09T11:19:26.277Z"
    }
   },
   "outputs": [],
   "source": [
    "def fun(x, name = \"fun\"):\n",
    "    return tf.reduce_sum((x - x_min)**2, axis = -1, name = name)"
   ]
  },
  {
   "cell_type": "code",
   "execution_count": 12,
   "metadata": {
    "ExecuteTime": {
     "end_time": "2018-08-09T13:19:26.467700Z",
     "start_time": "2018-08-09T11:19:26.279Z"
    }
   },
   "outputs": [],
   "source": [
    "f = fun(x)"
   ]
  },
  {
   "cell_type": "code",
   "execution_count": 13,
   "metadata": {
    "ExecuteTime": {
     "end_time": "2018-08-09T13:19:26.468704Z",
     "start_time": "2018-08-09T11:19:26.282Z"
    }
   },
   "outputs": [],
   "source": [
    "df = tf.gradients(f, x)[0]"
   ]
  },
  {
   "cell_type": "code",
   "execution_count": 14,
   "metadata": {
    "ExecuteTime": {
     "end_time": "2018-08-09T13:19:26.468704Z",
     "start_time": "2018-08-09T11:19:26.284Z"
    }
   },
   "outputs": [],
   "source": [
    "def plot_f(f, x, xxx = np.linspace(-5, 5, 30), yyy = None):\n",
    "    if yyy is None:\n",
    "        yyy = xxx\n",
    "        \n",
    "    N, dim = sess.run(x).shape\n",
    "    assert dim == 2\n",
    "    \n",
    "    vals = np.empty([N, len(xxx), len(yyy)])\n",
    "    for i, xx in enumerate(xxx):\n",
    "        for j, yy in enumerate(yyy):\n",
    "            vals[:, i, j] = sess.run(f, {x: np.ones([N, 1]) * [xx,yy]})\n",
    "        \n",
    "    columns = 2\n",
    "    rows = int(np.ceil(N / columns))\n",
    "    fig, axs = pl.subplots(rows, columns, figsize = [columns * 4, rows * 4])\n",
    "    \n",
    "    for val, ax in zip(vals, axs.flat):\n",
    "        ax.pcolormesh(xxx, yyy, val.T)\n",
    "\n",
    "    return axs"
   ]
  },
  {
   "cell_type": "code",
   "execution_count": 15,
   "metadata": {
    "ExecuteTime": {
     "end_time": "2018-08-09T13:19:26.469706Z",
     "start_time": "2018-08-09T11:19:26.287Z"
    }
   },
   "outputs": [
    {
     "data": {
      "text/plain": [
       "array([ 0., 18.,  9.,  9.], dtype=float32)"
      ]
     },
     "execution_count": 15,
     "metadata": {},
     "output_type": "execute_result"
    }
   ],
   "source": [
    "sess.run(f, {x: np.ones([4, 1]) * [0, 0]})"
   ]
  },
  {
   "cell_type": "code",
   "execution_count": 16,
   "metadata": {
    "ExecuteTime": {
     "end_time": "2018-08-09T13:19:26.469706Z",
     "start_time": "2018-08-09T11:19:26.289Z"
    }
   },
   "outputs": [
    {
     "data": {
      "text/plain": [
       "array([[<matplotlib.axes._subplots.AxesSubplot object at 0x000002B0FFBEC978>,\n",
       "        <matplotlib.axes._subplots.AxesSubplot object at 0x000002B0FFE9C588>],\n",
       "       [<matplotlib.axes._subplots.AxesSubplot object at 0x000002B0FFEC6BE0>,\n",
       "        <matplotlib.axes._subplots.AxesSubplot object at 0x000002B0FFEF62B0>]],\n",
       "      dtype=object)"
      ]
     },
     "execution_count": 16,
     "metadata": {},
     "output_type": "execute_result"
    },
    {
     "data": {
      "image/png": "[encoded data removed]",
      "text/plain": [
       "<Figure size 576x576 with 4 Axes>"
      ]
     },
     "metadata": {},
     "output_type": "display_data"
    }
   ],
   "source": [
    "plot_f(f, x)"
   ]
  },
  {
   "cell_type": "markdown",
   "metadata": {},
   "source": [
    "## Variables we need"
   ]
  },
  {
   "cell_type": "code",
   "execution_count": 17,
   "metadata": {},
   "outputs": [],
   "source": [
    "using_resource_variables = False"
   ]
  },
  {
   "cell_type": "code",
   "execution_count": 18,
   "metadata": {
    "ExecuteTime": {
     "end_time": "2018-08-09T13:19:26.470713Z",
     "start_time": "2018-08-09T11:19:26.292Z"
    }
   },
   "outputs": [],
   "source": [
    "if using_resource_variables:\n",
    "    Variable = tf.contrib.eager.Variable\n",
    "    \n",
    "    x_c = Variable(x, name = \"x_c\", dtype = floatX, validate_shape=False)\n",
    "    f_c = Variable(f, name = \"f_c\", dtype = floatX, validate_shape=False)\n",
    "    df_c = Variable(x, name = \"df_c\", dtype = floatX, validate_shape=False)\n",
    "    x_p = Variable(x, name = \"x_p\", dtype = floatX, validate_shape=False)\n",
    "    f_p = Variable(f, name = \"f_p\", dtype = floatX, validate_shape=False)\n",
    "    df_p = Variable(x, name = \"df_p\", dtype = floatX, validate_shape=False)\n",
    "    condition = Variable(tf.ones_like(f, dtype = bool), name = \"condition\", dtype = tf.bool, validate_shape=False)\n",
    "    alpha = Variable(tf.ones_like(f), name = \"alpha\", dtype = floatX, validate_shape=False)\n",
    "else:\n",
    "    x_c = tf.Variable(x, name = \"x_c\", dtype = floatX, validate_shape=False)\n",
    "    x_c.set_shape([None, None])\n",
    "\n",
    "    f_c = tf.Variable(f, name = \"f_c\", dtype = floatX, validate_shape=False)\n",
    "    f_c.set_shape([None])\n",
    "\n",
    "    df_c = tf.Variable(x, name = \"df_c\", dtype = floatX, validate_shape=False)\n",
    "    df_c.set_shape([None, None])\n",
    "\n",
    "    x_p = tf.Variable(x, name = \"x_p\", dtype = floatX, validate_shape=False)\n",
    "    x_p.set_shape([None, None])\n",
    "\n",
    "    f_p = tf.Variable(f, name = \"f_p\", dtype = floatX, validate_shape=False)\n",
    "    f_p.set_shape([None])\n",
    "\n",
    "    df_p = tf.Variable(x, name = \"df_p\", dtype = floatX, validate_shape=False)\n",
    "    df_p.set_shape([None, None])\n",
    "\n",
    "    condition = tf.Variable(tf.ones_like(f, dtype = bool), name = \"condition\", dtype = tf.bool, validate_shape=False)\n",
    "    condition.set_shape([None])\n",
    "\n",
    "    alpha = tf.Variable(tf.ones_like(f), name = \"alpha\", dtype = floatX, validate_shape=False)\n",
    "    alpha.set_shape([None])"
   ]
  },
  {
   "cell_type": "code",
   "execution_count": 19,
   "metadata": {
    "ExecuteTime": {
     "end_time": "2018-08-09T13:19:26.474719Z",
     "start_time": "2018-08-09T11:19:26.325Z"
    }
   },
   "outputs": [],
   "source": [
    "def plot_training():\n",
    "    axs = plot_f(f, x)\n",
    "    for ax, xc, xp in zip(axs.flat, *sess.run([x_c, x_p])):\n",
    "        ax.scatter(*xc)\n",
    "        ax.scatter(*xp)\n",
    "    "
   ]
  },
  {
   "cell_type": "code",
   "execution_count": 20,
   "metadata": {
    "ExecuteTime": {
     "end_time": "2018-08-09T13:19:26.474719Z",
     "start_time": "2018-08-09T11:19:26.327Z"
    }
   },
   "outputs": [],
   "source": [
    "def display_vars():\n",
    "    df = DataFrame(OrderedDict([\n",
    "        [\"x\", list(x.eval())],\n",
    "        [\"x_c\", list(x_c.eval())],\n",
    "        [\"x_p\", list(x_p.eval())],\n",
    "        \n",
    "        [\"f\", list(f.eval())],\n",
    "        [\"f_c\", list(f_c.eval())],\n",
    "        [\"f_p\", list(f_p.eval())],\n",
    "       \n",
    "        [\"alpha\", alpha.eval()],\n",
    "        [\"cond\", condition.eval()]\n",
    "    ]))\n",
    "    display(df) "
   ]
  },
  {
   "cell_type": "code",
   "execution_count": null,
   "metadata": {},
   "outputs": [],
   "source": []
  },
  {
   "cell_type": "markdown",
   "metadata": {},
   "source": [
    "## Initialization node"
   ]
  },
  {
   "cell_type": "code",
   "execution_count": null,
   "metadata": {},
   "outputs": [],
   "source": []
  },
  {
   "cell_type": "code",
   "execution_count": 21,
   "metadata": {
    "ExecuteTime": {
     "end_time": "2018-08-09T13:19:26.475690Z",
     "start_time": "2018-08-09T11:19:26.332Z"
    }
   },
   "outputs": [],
   "source": [
    "initial_step_length = 5\n",
    "minimal_grad_length = 1e-5\n",
    "c1 = sufficient_descent_const = 0.5\n",
    "rho = step_contraction_factor = 0.5"
   ]
  },
  {
   "cell_type": "code",
   "execution_count": 22,
   "metadata": {
    "ExecuteTime": {
     "end_time": "2018-08-09T13:19:26.475690Z",
     "start_time": "2018-08-09T11:19:26.338Z"
    }
   },
   "outputs": [
    {
     "data": {
      "text/plain": [
       "<tf.Tensor 'Assign:0' shape=(4, 2) dtype=float32_ref>"
      ]
     },
     "execution_count": 22,
     "metadata": {},
     "output_type": "execute_result"
    }
   ],
   "source": [
    "# tf.assign(\n",
    "#     x_c, x, validate_shape = False\n",
    "# )"
   ]
  },
  {
   "cell_type": "code",
   "execution_count": 23,
   "metadata": {
    "ExecuteTime": {
     "end_time": "2018-08-09T13:19:26.476723Z",
     "start_time": "2018-08-09T11:19:26.341Z"
    }
   },
   "outputs": [],
   "source": [
    "initialization = tf.group(\n",
    "    *[\n",
    "        tf.assign(\n",
    "            var, val, name = name + \"_initializer\", \n",
    "            validate_shape=False\n",
    "        )\n",
    "        for var, val, name in [\n",
    "            [x_c, x, \"x_c\"],\n",
    "            [f_c, f, \"f_c\"],\n",
    "            [df_c, df, \"df_c\"],\n",
    "\n",
    "            [x_p, x, \"x_p\"],\n",
    "            [f_p, f, \"f_p\"],\n",
    "            [df_p, df, \"df_p\"],        \n",
    "        ]\n",
    "    ], \n",
    "    tf.assign(\n",
    "        alpha,\n",
    "        initial_step_length / tf.maximum(minimal_grad_length, tf.norm(df, axis = -1)),\n",
    "        name = \"alpha_initializer\", \n",
    "        validate_shape = False\n",
    "    ),\n",
    "    tf.assign(\n",
    "        condition, tf.cast(tf.ones_like(f), tf.bool), \n",
    "        validate_shape=False),\n",
    "    name = \"initialization\"\n",
    ")"
   ]
  },
  {
   "cell_type": "code",
   "execution_count": 24,
   "metadata": {
    "ExecuteTime": {
     "end_time": "2018-08-09T13:19:26.480740Z",
     "start_time": "2018-08-09T11:19:26.374Z"
    }
   },
   "outputs": [],
   "source": [
    "x_init = tf.assign(x, np.ones([4, 2]))"
   ]
  },
  {
   "cell_type": "code",
   "execution_count": 25,
   "metadata": {},
   "outputs": [],
   "source": [
    "# init = tf.group(\n",
    "#     *[\n",
    "#         var.initializer for var in [\n",
    "#             x_c, f_c, df_c, x_p, f_p, df_p, condition, alpha \n",
    "#         ]\n",
    "#     ],\n",
    "#     name = \"init\"\n",
    "# )"
   ]
  },
  {
   "cell_type": "markdown",
   "metadata": {},
   "source": [
    "# Training step as a sequence of operations"
   ]
  },
  {
   "cell_type": "code",
   "execution_count": 26,
   "metadata": {
    "ExecuteTime": {
     "end_time": "2018-08-09T13:19:26.476723Z",
     "start_time": "2018-08-09T11:19:26.346Z"
    }
   },
   "outputs": [],
   "source": [
    "def ass():\n",
    "    assert (sess.run(f, {x: x_c.eval()}) == sess.run(f_c)).all()\n",
    "    assert (sess.run(f, {x: x_p.eval()}) == sess.run(f_p)).all()\n",
    "    \n",
    "    assert (sess.run(df, {x: x_c.eval()}) == sess.run(df_c)).all()\n",
    "    assert (sess.run(df, {x: x_p.eval()}) == sess.run(df_p)).all()"
   ]
  },
  {
   "cell_type": "markdown",
   "metadata": {},
   "source": [
    "$$x_p := x_c - \\alpha\\cdot df_c$$"
   ]
  },
  {
   "cell_type": "code",
   "execution_count": 27,
   "metadata": {
    "ExecuteTime": {
     "end_time": "2018-08-09T13:19:26.477727Z",
     "start_time": "2018-08-09T11:19:26.349Z"
    }
   },
   "outputs": [],
   "source": [
    "s1 = tf.assign(x_p, x_c - alpha[:, None] * df_c)"
   ]
  },
  {
   "cell_type": "markdown",
   "metadata": {
    "ExecuteTime": {
     "end_time": "2018-08-01T15:29:12.416589Z",
     "start_time": "2018-08-01T15:29:12.413568Z"
    }
   },
   "source": [
    "$$f_p := f(x_p)$$\n",
    "$$df_p := df(x_p)$$"
   ]
  },
  {
   "cell_type": "code",
   "execution_count": 28,
   "metadata": {
    "ExecuteTime": {
     "end_time": "2018-08-09T13:19:26.477727Z",
     "start_time": "2018-08-09T11:19:26.353Z"
    }
   },
   "outputs": [],
   "source": [
    "s2 = tf.assign(x, x_p + 1 - 1)\n",
    " "
   ]
  },
  {
   "cell_type": "code",
   "execution_count": 29,
   "metadata": {
    "ExecuteTime": {
     "end_time": "2018-08-09T13:19:26.478737Z",
     "start_time": "2018-08-09T11:19:26.358Z"
    }
   },
   "outputs": [],
   "source": [
    "s3 = tf.group(\n",
    "    tf.assign(f_p, f + 1 - 1, name = \"evaluate_f_p\"),\n",
    "    tf.assign(df_p, df + 1 - 1, name = \"evaluate_df_p\")\n",
    ")"
   ]
  },
  {
   "cell_type": "markdown",
   "metadata": {},
   "source": [
    "Sufficient descent condition is:\n",
    "$$f_p \\leq f_c + c_1 (x_p - x_c)\\cdot df_c $$\n",
    "If it is satisfied then:\n",
    "$$x_c := x_p; \\quad f_c := f_p; \\quad df_c := df_p; \\quad \\alpha := \\alpha; \\quad  $$\n",
    "otherwise\n",
    "$$x_c := x_c; \\quad f_c := f_c; \\quad df_c := df_c; \\quad \\alpha := \\rho\\cdot \\alpha; \\quad  $$"
   ]
  },
  {
   "cell_type": "code",
   "execution_count": 30,
   "metadata": {
    "ExecuteTime": {
     "end_time": "2018-08-09T13:19:26.479733Z",
     "start_time": "2018-08-09T11:19:26.366Z"
    }
   },
   "outputs": [],
   "source": [
    "s4 = tf.assign(\n",
    "        condition,\n",
    "        f_p <= f_c + c1 * tf.einsum(\"bi,bi->b\", x_p - x_c, df_c),\n",
    "        name = \"evaluate_condition\",\n",
    "        validate_shape = True,\n",
    "    )\n",
    "  "
   ]
  },
  {
   "cell_type": "code",
   "execution_count": 31,
   "metadata": {
    "ExecuteTime": {
     "end_time": "2018-08-09T13:19:26.479733Z",
     "start_time": "2018-08-09T11:19:26.370Z"
    }
   },
   "outputs": [],
   "source": [
    "condition2 = tf.cast(\n",
    "    tf.cast(condition[:, None], tf.int32) * tf.ones_like(x, tf.int32),\n",
    "    bool\n",
    ")\n",
    "\n",
    "s5 = tf.group(\n",
    "        tf.assign(x_c, tf.where(condition2, x_p, x_c)),\n",
    "        tf.assign(f_c, tf.where(condition, f_p, f_c)),\n",
    "        tf.assign(df_c, tf.where(condition2, df_p, df_c)),\n",
    "        tf.assign(alpha, tf.where(condition, alpha, rho * alpha)),\n",
    "    )"
   ]
  },
  {
   "cell_type": "code",
   "execution_count": 40,
   "metadata": {},
   "outputs": [],
   "source": [
    "s6 = tf.assign(x, x_c)"
   ]
  },
  {
   "cell_type": "code",
   "execution_count": 32,
   "metadata": {},
   "outputs": [],
   "source": [
    "sequence = [s1, s2, s3, s4, s5, s6]"
   ]
  },
  {
   "cell_type": "code",
   "execution_count": 33,
   "metadata": {
    "ExecuteTime": {
     "end_time": "2018-08-09T13:19:26.481739Z",
     "start_time": "2018-08-09T11:19:26.385Z"
    }
   },
   "outputs": [
    {
     "data": {
      "text/html": [
       "<div>\n",
       "<style scoped>\n",
       "    .dataframe tbody tr th:only-of-type {\n",
       "        vertical-align: middle;\n",
       "    }\n",
       "\n",
       "    .dataframe tbody tr th {\n",
       "        vertical-align: top;\n",
       "    }\n",
       "\n",
       "    .dataframe thead th {\n",
       "        text-align: right;\n",
       "    }\n",
       "</style>\n",
       "<table border=\"1\" class=\"dataframe\">\n",
       "  <thead>\n",
       "    <tr style=\"text-align: right;\">\n",
       "      <th></th>\n",
       "      <th>x</th>\n",
       "      <th>x_c</th>\n",
       "      <th>x_p</th>\n",
       "      <th>f</th>\n",
       "      <th>f_c</th>\n",
       "      <th>f_p</th>\n",
       "      <th>alpha</th>\n",
       "      <th>cond</th>\n",
       "    </tr>\n",
       "  </thead>\n",
       "  <tbody>\n",
       "    <tr>\n",
       "      <th>0</th>\n",
       "      <td>[1.0, 1.0]</td>\n",
       "      <td>[1.0, 1.0]</td>\n",
       "      <td>[1.0, 1.0]</td>\n",
       "      <td>2.0</td>\n",
       "      <td>2.0</td>\n",
       "      <td>2.0</td>\n",
       "      <td>1.767767</td>\n",
       "      <td>True</td>\n",
       "    </tr>\n",
       "    <tr>\n",
       "      <th>1</th>\n",
       "      <td>[1.0, 1.0]</td>\n",
       "      <td>[1.0, 1.0]</td>\n",
       "      <td>[1.0, 1.0]</td>\n",
       "      <td>8.0</td>\n",
       "      <td>8.0</td>\n",
       "      <td>8.0</td>\n",
       "      <td>0.883883</td>\n",
       "      <td>True</td>\n",
       "    </tr>\n",
       "    <tr>\n",
       "      <th>2</th>\n",
       "      <td>[1.0, 1.0]</td>\n",
       "      <td>[1.0, 1.0]</td>\n",
       "      <td>[1.0, 1.0]</td>\n",
       "      <td>5.0</td>\n",
       "      <td>5.0</td>\n",
       "      <td>5.0</td>\n",
       "      <td>1.118034</td>\n",
       "      <td>True</td>\n",
       "    </tr>\n",
       "    <tr>\n",
       "      <th>3</th>\n",
       "      <td>[1.0, 1.0]</td>\n",
       "      <td>[1.0, 1.0]</td>\n",
       "      <td>[1.0, 1.0]</td>\n",
       "      <td>5.0</td>\n",
       "      <td>5.0</td>\n",
       "      <td>5.0</td>\n",
       "      <td>1.118034</td>\n",
       "      <td>True</td>\n",
       "    </tr>\n",
       "  </tbody>\n",
       "</table>\n",
       "</div>"
      ],
      "text/plain": [
       "            x         x_c         x_p    f  f_c  f_p     alpha  cond\n",
       "0  [1.0, 1.0]  [1.0, 1.0]  [1.0, 1.0]  2.0  2.0  2.0  1.767767  True\n",
       "1  [1.0, 1.0]  [1.0, 1.0]  [1.0, 1.0]  8.0  8.0  8.0  0.883883  True\n",
       "2  [1.0, 1.0]  [1.0, 1.0]  [1.0, 1.0]  5.0  5.0  5.0  1.118034  True\n",
       "3  [1.0, 1.0]  [1.0, 1.0]  [1.0, 1.0]  5.0  5.0  5.0  1.118034  True"
      ]
     },
     "metadata": {},
     "output_type": "display_data"
    }
   ],
   "source": [
    "sess.run(x_init)\n",
    "sess.run(initialization)\n",
    "display_vars()"
   ]
  },
  {
   "cell_type": "code",
   "execution_count": 39,
   "metadata": {
    "ExecuteTime": {
     "end_time": "2018-08-09T13:19:26.481739Z",
     "start_time": "2018-08-09T11:19:26.385Z"
    }
   },
   "outputs": [
    {
     "data": {
      "text/html": [
       "<div>\n",
       "<style scoped>\n",
       "    .dataframe tbody tr th:only-of-type {\n",
       "        vertical-align: middle;\n",
       "    }\n",
       "\n",
       "    .dataframe tbody tr th {\n",
       "        vertical-align: top;\n",
       "    }\n",
       "\n",
       "    .dataframe thead th {\n",
       "        text-align: right;\n",
       "    }\n",
       "</style>\n",
       "<table border=\"1\" class=\"dataframe\">\n",
       "  <thead>\n",
       "    <tr style=\"text-align: right;\">\n",
       "      <th></th>\n",
       "      <th>x</th>\n",
       "      <th>x_c</th>\n",
       "      <th>x_p</th>\n",
       "      <th>f</th>\n",
       "      <th>f_c</th>\n",
       "      <th>f_p</th>\n",
       "      <th>alpha</th>\n",
       "      <th>cond</th>\n",
       "    </tr>\n",
       "  </thead>\n",
       "  <tbody>\n",
       "    <tr>\n",
       "      <th>0</th>\n",
       "      <td>[0.00018179417, 0.00018179417]</td>\n",
       "      <td>[0.00018181803, 0.00018181803]</td>\n",
       "      <td>[0.00018181803, 0.00018181803]</td>\n",
       "      <td>6.609824e-08</td>\n",
       "      <td>1.192093e-07</td>\n",
       "      <td>1.192093e-07</td>\n",
       "      <td>0.441942</td>\n",
       "      <td>True</td>\n",
       "    </tr>\n",
       "    <tr>\n",
       "      <th>1</th>\n",
       "      <td>[2.9999578, 2.9999578]</td>\n",
       "      <td>[2.9999578, 2.9999578]</td>\n",
       "      <td>[2.9999578, 2.9999578]</td>\n",
       "      <td>3.561695e-09</td>\n",
       "      <td>0.000000e+00</td>\n",
       "      <td>0.000000e+00</td>\n",
       "      <td>0.441942</td>\n",
       "      <td>True</td>\n",
       "    </tr>\n",
       "    <tr>\n",
       "      <th>2</th>\n",
       "      <td>[2.924366, 0.037817]</td>\n",
       "      <td>[2.924366, 0.037817005]</td>\n",
       "      <td>[2.924366, 0.037817005]</td>\n",
       "      <td>7.150628e-03</td>\n",
       "      <td>7.150650e-03</td>\n",
       "      <td>7.150650e-03</td>\n",
       "      <td>0.279509</td>\n",
       "      <td>True</td>\n",
       "    </tr>\n",
       "    <tr>\n",
       "      <th>3</th>\n",
       "      <td>[0.037817, 2.924366]</td>\n",
       "      <td>[0.037817005, 2.924366]</td>\n",
       "      <td>[0.037817005, 2.924366]</td>\n",
       "      <td>7.150628e-03</td>\n",
       "      <td>7.150650e-03</td>\n",
       "      <td>7.150650e-03</td>\n",
       "      <td>0.279509</td>\n",
       "      <td>True</td>\n",
       "    </tr>\n",
       "  </tbody>\n",
       "</table>\n",
       "</div>"
      ],
      "text/plain": [
       "                                x                             x_c  \\\n",
       "0  [0.00018179417, 0.00018179417]  [0.00018181803, 0.00018181803]   \n",
       "1          [2.9999578, 2.9999578]          [2.9999578, 2.9999578]   \n",
       "2            [2.924366, 0.037817]         [2.924366, 0.037817005]   \n",
       "3            [0.037817, 2.924366]         [0.037817005, 2.924366]   \n",
       "\n",
       "                              x_p             f           f_c           f_p  \\\n",
       "0  [0.00018181803, 0.00018181803]  6.609824e-08  1.192093e-07  1.192093e-07   \n",
       "1          [2.9999578, 2.9999578]  3.561695e-09  0.000000e+00  0.000000e+00   \n",
       "2         [2.924366, 0.037817005]  7.150628e-03  7.150650e-03  7.150650e-03   \n",
       "3         [0.037817005, 2.924366]  7.150628e-03  7.150650e-03  7.150650e-03   \n",
       "\n",
       "      alpha  cond  \n",
       "0  0.441942  True  \n",
       "1  0.441942  True  \n",
       "2  0.279509  True  \n",
       "3  0.279509  True  "
      ]
     },
     "metadata": {},
     "output_type": "display_data"
    },
    {
     "data": {
      "image/png": "[encoded data removed]",
      "text/plain": [
       "<Figure size 576x576 with 4 Axes>"
      ]
     },
     "metadata": {},
     "output_type": "display_data"
    }
   ],
   "source": [
    "for s in sequence:\n",
    "    sess.run(s)\n",
    "display_vars()\n",
    "plot_training()"
   ]
  },
  {
   "cell_type": "code",
   "execution_count": null,
   "metadata": {},
   "outputs": [],
   "source": []
  },
  {
   "cell_type": "markdown",
   "metadata": {},
   "source": [
    "# Put it into a neat Python class"
   ]
  },
  {
   "cell_type": "code",
   "execution_count": 41,
   "metadata": {},
   "outputs": [],
   "source": [
    "from gradient_descent_with_backtracking import GragientDescentWithBackTracking\n",
    "\n",
    "optimizer = GragientDescentWithBackTracking(x, f, df)\n",
    "optimizer.initializer = optimizer.construct_initializer()\n",
    "optimizer.step_sequence = optimizer.construct_step_sequence()"
   ]
  },
  {
   "cell_type": "code",
   "execution_count": 48,
   "metadata": {},
   "outputs": [],
   "source": [
    "def plot_training2():\n",
    "    axs = plot_f(f, x)\n",
    "    for ax, xx in zip(axs.flat, sess.run(x)):\n",
    "        ax.scatter(*xx)"
   ]
  },
  {
   "cell_type": "code",
   "execution_count": 52,
   "metadata": {},
   "outputs": [],
   "source": [
    "sess.run(x_init)\n",
    "sess.run(optimizer.initializer)"
   ]
  },
  {
   "cell_type": "code",
   "execution_count": 66,
   "metadata": {},
   "outputs": [
    {
     "data": {
      "image/png": "[encoded data removed]",
      "text/plain": [
       "<Figure size 576x576 with 4 Axes>"
      ]
     },
     "metadata": {},
     "output_type": "display_data"
    }
   ],
   "source": [
    "for s in optimizer.step_sequence:\n",
    "    sess.run(s)\n",
    "\n",
    "plot_training2()"
   ]
  },
  {
   "cell_type": "markdown",
   "metadata": {},
   "source": [
    "# Training step in one operation\n",
    "I could not make `tensorflow` execute my operations in the correc order."
   ]
  },
  {
   "cell_type": "code",
   "execution_count": 24,
   "metadata": {
    "ExecuteTime": {
     "end_time": "2018-08-09T13:19:26.476723Z",
     "start_time": "2018-08-09T11:19:26.346Z"
    }
   },
   "outputs": [],
   "source": [
    "def ass():\n",
    "    assert (sess.run(f, {x: x_c.eval()}) == sess.run(f_c)).all()\n",
    "    assert (sess.run(f, {x: x_p.eval()}) == sess.run(f_p)).all()\n",
    "    \n",
    "    assert (sess.run(df, {x: x_c.eval()}) == sess.run(df_c)).all()\n",
    "    assert (sess.run(df, {x: x_p.eval()}) == sess.run(df_p)).all()"
   ]
  },
  {
   "cell_type": "markdown",
   "metadata": {},
   "source": [
    "$$x_p := x_c - \\alpha\\cdot df_c$$"
   ]
  },
  {
   "cell_type": "code",
   "execution_count": 25,
   "metadata": {
    "ExecuteTime": {
     "end_time": "2018-08-09T13:19:26.477727Z",
     "start_time": "2018-08-09T11:19:26.349Z"
    }
   },
   "outputs": [],
   "source": [
    "propose_x_p = tf.assign(x_p, x_c - alpha[:, None] * df_c)"
   ]
  },
  {
   "cell_type": "markdown",
   "metadata": {
    "ExecuteTime": {
     "end_time": "2018-08-01T15:29:12.416589Z",
     "start_time": "2018-08-01T15:29:12.413568Z"
    }
   },
   "source": [
    "$$f_p := f(x_p)$$\n",
    "$$df_p := df(x_p)$$"
   ]
  },
  {
   "cell_type": "code",
   "execution_count": 26,
   "metadata": {
    "ExecuteTime": {
     "end_time": "2018-08-09T13:19:26.477727Z",
     "start_time": "2018-08-09T11:19:26.353Z"
    }
   },
   "outputs": [],
   "source": [
    "with tf.control_dependencies([propose_x_p]):\n",
    "    assign_xp_to_x = tf.assign(x, x_p + 1 - 1)\n",
    " "
   ]
  },
  {
   "cell_type": "code",
   "execution_count": 27,
   "metadata": {
    "ExecuteTime": {
     "end_time": "2018-08-09T13:19:26.478737Z",
     "start_time": "2018-08-09T11:19:26.358Z"
    }
   },
   "outputs": [],
   "source": [
    "with tf.control_dependencies([assign_xp_to_x]):\n",
    "    evaluate_f_at_x_p = tf.assign(f_p, f + 1 - 1, name = \"evaluate_f_p\")\n",
    "    evaluate_df_at_x_p = tf.assign(df_p, df + 1 - 1, name = \"evaluate_df_p\")\n"
   ]
  },
  {
   "cell_type": "markdown",
   "metadata": {},
   "source": [
    "Sufficient descent condition is:\n",
    "$$f_p \\leq f_c + c_1 (x_p - x_c)\\cdot df_c $$\n",
    "If it is satisfied then:\n",
    "$$x_c := x_p; \\quad f_c := f_p; \\quad df_c := df_p; \\quad \\alpha := \\alpha; \\quad  $$\n",
    "otherwise\n",
    "$$x_c := x_c; \\quad f_c := f_c; \\quad df_c := df_c; \\quad \\alpha := \\rho\\cdot \\alpha; \\quad  $$"
   ]
  },
  {
   "cell_type": "code",
   "execution_count": 28,
   "metadata": {
    "ExecuteTime": {
     "end_time": "2018-08-09T13:19:26.479733Z",
     "start_time": "2018-08-09T11:19:26.366Z"
    }
   },
   "outputs": [],
   "source": [
    "with tf.control_dependencies([evaluate_f_at_x_p, evaluate_df_at_x_p]):\n",
    "    evaluate_condition = tf.assign(\n",
    "        condition,\n",
    "        f_p <= f_c + c1 * tf.einsum(\"bi,bi->b\", x_p - x_c, df_c),\n",
    "        name = \"evaluate_condition\",\n",
    "        validate_shape = True,\n",
    "    )\n",
    "  "
   ]
  },
  {
   "cell_type": "code",
   "execution_count": 29,
   "metadata": {
    "ExecuteTime": {
     "end_time": "2018-08-09T13:19:26.479733Z",
     "start_time": "2018-08-09T11:19:26.370Z"
    }
   },
   "outputs": [],
   "source": [
    "with tf.control_dependencies([evaluate_condition]):\n",
    "    train_step = tf.group(\n",
    "        tf.assign(x_c, tf.where(condition, x_p, x_c)),\n",
    "        tf.assign(f_c, tf.where(condition, f_p, f_c)),\n",
    "        tf.assign(df_c, tf.where(condition, df_p, df_c)),\n",
    "        tf.assign(alpha, tf.where(condition, alpha, rho * alpha)),\n",
    "    )"
   ]
  },
  {
   "cell_type": "markdown",
   "metadata": {
    "ExecuteTime": {
     "end_time": "2018-08-09T13:19:26.481739Z",
     "start_time": "2018-08-09T11:19:26.378Z"
    }
   },
   "source": [
    "**In the following cell, you can see the problem with the order of execution**"
   ]
  },
  {
   "cell_type": "code",
   "execution_count": 42,
   "metadata": {
    "ExecuteTime": {
     "end_time": "2018-08-09T13:19:26.481739Z",
     "start_time": "2018-08-09T11:19:26.385Z"
    }
   },
   "outputs": [
    {
     "data": {
      "text/html": [
       "<div>\n",
       "<style scoped>\n",
       "    .dataframe tbody tr th:only-of-type {\n",
       "        vertical-align: middle;\n",
       "    }\n",
       "\n",
       "    .dataframe tbody tr th {\n",
       "        vertical-align: top;\n",
       "    }\n",
       "\n",
       "    .dataframe thead th {\n",
       "        text-align: right;\n",
       "    }\n",
       "</style>\n",
       "<table border=\"1\" class=\"dataframe\">\n",
       "  <thead>\n",
       "    <tr style=\"text-align: right;\">\n",
       "      <th></th>\n",
       "      <th>x</th>\n",
       "      <th>x_c</th>\n",
       "      <th>x_p</th>\n",
       "      <th>f</th>\n",
       "      <th>f_c</th>\n",
       "      <th>f_p</th>\n",
       "      <th>alpha</th>\n",
       "      <th>cond</th>\n",
       "    </tr>\n",
       "  </thead>\n",
       "  <tbody>\n",
       "    <tr>\n",
       "      <th>0</th>\n",
       "      <td>[1.0, 1.0]</td>\n",
       "      <td>[1.0, 1.0]</td>\n",
       "      <td>[1.0, 1.0]</td>\n",
       "      <td>2.0</td>\n",
       "      <td>2.0</td>\n",
       "      <td>2.0</td>\n",
       "      <td>0.176777</td>\n",
       "      <td>True</td>\n",
       "    </tr>\n",
       "    <tr>\n",
       "      <th>1</th>\n",
       "      <td>[1.0, 1.0]</td>\n",
       "      <td>[1.0, 1.0]</td>\n",
       "      <td>[1.0, 1.0]</td>\n",
       "      <td>8.0</td>\n",
       "      <td>8.0</td>\n",
       "      <td>8.0</td>\n",
       "      <td>0.088388</td>\n",
       "      <td>True</td>\n",
       "    </tr>\n",
       "    <tr>\n",
       "      <th>2</th>\n",
       "      <td>[1.0, 1.0]</td>\n",
       "      <td>[1.0, 1.0]</td>\n",
       "      <td>[1.0, 1.0]</td>\n",
       "      <td>5.0</td>\n",
       "      <td>5.0</td>\n",
       "      <td>5.0</td>\n",
       "      <td>0.111803</td>\n",
       "      <td>True</td>\n",
       "    </tr>\n",
       "    <tr>\n",
       "      <th>3</th>\n",
       "      <td>[1.0, 1.0]</td>\n",
       "      <td>[1.0, 1.0]</td>\n",
       "      <td>[1.0, 1.0]</td>\n",
       "      <td>5.0</td>\n",
       "      <td>5.0</td>\n",
       "      <td>5.0</td>\n",
       "      <td>0.111803</td>\n",
       "      <td>True</td>\n",
       "    </tr>\n",
       "  </tbody>\n",
       "</table>\n",
       "</div>"
      ],
      "text/plain": [
       "            x         x_c         x_p    f  f_c  f_p     alpha  cond\n",
       "0  [1.0, 1.0]  [1.0, 1.0]  [1.0, 1.0]  2.0  2.0  2.0  0.176777  True\n",
       "1  [1.0, 1.0]  [1.0, 1.0]  [1.0, 1.0]  8.0  8.0  8.0  0.088388  True\n",
       "2  [1.0, 1.0]  [1.0, 1.0]  [1.0, 1.0]  5.0  5.0  5.0  0.111803  True\n",
       "3  [1.0, 1.0]  [1.0, 1.0]  [1.0, 1.0]  5.0  5.0  5.0  0.111803  True"
      ]
     },
     "metadata": {},
     "output_type": "display_data"
    },
    {
     "data": {
      "text/html": [
       "<div>\n",
       "<style scoped>\n",
       "    .dataframe tbody tr th:only-of-type {\n",
       "        vertical-align: middle;\n",
       "    }\n",
       "\n",
       "    .dataframe tbody tr th {\n",
       "        vertical-align: top;\n",
       "    }\n",
       "\n",
       "    .dataframe thead th {\n",
       "        text-align: right;\n",
       "    }\n",
       "</style>\n",
       "<table border=\"1\" class=\"dataframe\">\n",
       "  <thead>\n",
       "    <tr style=\"text-align: right;\">\n",
       "      <th></th>\n",
       "      <th>x</th>\n",
       "      <th>x_c</th>\n",
       "      <th>x_p</th>\n",
       "      <th>f</th>\n",
       "      <th>f_c</th>\n",
       "      <th>f_p</th>\n",
       "      <th>alpha</th>\n",
       "      <th>cond</th>\n",
       "    </tr>\n",
       "  </thead>\n",
       "  <tbody>\n",
       "    <tr>\n",
       "      <th>0</th>\n",
       "      <td>[0.6464466, 0.6464466]</td>\n",
       "      <td>[1.0, 1.0]</td>\n",
       "      <td>[0.6464466, 0.6464466]</td>\n",
       "      <td>0.835786</td>\n",
       "      <td>2.0</td>\n",
       "      <td>2.0</td>\n",
       "      <td>0.176777</td>\n",
       "      <td>True</td>\n",
       "    </tr>\n",
       "    <tr>\n",
       "      <th>1</th>\n",
       "      <td>[1.3535533, 1.3535533]</td>\n",
       "      <td>[1.0, 1.0]</td>\n",
       "      <td>[1.3535534, 1.3535534]</td>\n",
       "      <td>5.421574</td>\n",
       "      <td>8.0</td>\n",
       "      <td>8.0</td>\n",
       "      <td>0.088388</td>\n",
       "      <td>True</td>\n",
       "    </tr>\n",
       "    <tr>\n",
       "      <th>2</th>\n",
       "      <td>[1.4472136, 0.7763932]</td>\n",
       "      <td>[1.0, 1.0]</td>\n",
       "      <td>[1.4472136, 0.7763932]</td>\n",
       "      <td>3.013932</td>\n",
       "      <td>5.0</td>\n",
       "      <td>5.0</td>\n",
       "      <td>0.111803</td>\n",
       "      <td>True</td>\n",
       "    </tr>\n",
       "    <tr>\n",
       "      <th>3</th>\n",
       "      <td>[0.7763932, 1.4472136]</td>\n",
       "      <td>[1.0, 1.0]</td>\n",
       "      <td>[0.7763932, 1.4472136]</td>\n",
       "      <td>3.013932</td>\n",
       "      <td>5.0</td>\n",
       "      <td>5.0</td>\n",
       "      <td>0.111803</td>\n",
       "      <td>True</td>\n",
       "    </tr>\n",
       "  </tbody>\n",
       "</table>\n",
       "</div>"
      ],
      "text/plain": [
       "                        x         x_c                     x_p         f  f_c  \\\n",
       "0  [0.6464466, 0.6464466]  [1.0, 1.0]  [0.6464466, 0.6464466]  0.835786  2.0   \n",
       "1  [1.3535533, 1.3535533]  [1.0, 1.0]  [1.3535534, 1.3535534]  5.421574  8.0   \n",
       "2  [1.4472136, 0.7763932]  [1.0, 1.0]  [1.4472136, 0.7763932]  3.013932  5.0   \n",
       "3  [0.7763932, 1.4472136]  [1.0, 1.0]  [0.7763932, 1.4472136]  3.013932  5.0   \n",
       "\n",
       "   f_p     alpha  cond  \n",
       "0  2.0  0.176777  True  \n",
       "1  8.0  0.088388  True  \n",
       "2  5.0  0.111803  True  \n",
       "3  5.0  0.111803  True  "
      ]
     },
     "metadata": {},
     "output_type": "display_data"
    }
   ],
   "source": [
    "sess.run(x_init)\n",
    "sess.run(initialization)\n",
    "display_vars()\n",
    "\n",
    "# sess.run(propose_x_p)\n",
    "# sess.run(assign_xp_to_x)\n",
    "sess.run(evaluate_f_at_x_p)\n",
    "display_vars()"
   ]
  },
  {
   "cell_type": "code",
   "execution_count": 44,
   "metadata": {
    "ExecuteTime": {
     "end_time": "2018-08-09T12:42:33.819753Z",
     "start_time": "2018-08-09T12:42:33.324320Z"
    }
   },
   "outputs": [
    {
     "data": {
      "text/html": [
       "<div>\n",
       "<style scoped>\n",
       "    .dataframe tbody tr th:only-of-type {\n",
       "        vertical-align: middle;\n",
       "    }\n",
       "\n",
       "    .dataframe tbody tr th {\n",
       "        vertical-align: top;\n",
       "    }\n",
       "\n",
       "    .dataframe thead th {\n",
       "        text-align: right;\n",
       "    }\n",
       "</style>\n",
       "<table border=\"1\" class=\"dataframe\">\n",
       "  <thead>\n",
       "    <tr style=\"text-align: right;\">\n",
       "      <th></th>\n",
       "      <th>x</th>\n",
       "      <th>x_c</th>\n",
       "      <th>x_p</th>\n",
       "      <th>f</th>\n",
       "      <th>f_c</th>\n",
       "      <th>f_p</th>\n",
       "      <th>alpha</th>\n",
       "      <th>cond</th>\n",
       "    </tr>\n",
       "  </thead>\n",
       "  <tbody>\n",
       "    <tr>\n",
       "      <th>0</th>\n",
       "      <td>[-0.66710806, 0.0024599012]</td>\n",
       "      <td>[-0.66710806, 0.0024599012]</td>\n",
       "      <td>[-0.66710806, 0.0024599012]</td>\n",
       "      <td>0.445039</td>\n",
       "      <td>0.445039</td>\n",
       "      <td>0.445039</td>\n",
       "      <td>0.374749</td>\n",
       "      <td>True</td>\n",
       "    </tr>\n",
       "    <tr>\n",
       "      <th>1</th>\n",
       "      <td>[-1.3858104, -0.20204143]</td>\n",
       "      <td>[-1.3858104, -0.20204143]</td>\n",
       "      <td>[-1.3858104, -0.20204143]</td>\n",
       "      <td>29.488401</td>\n",
       "      <td>29.488401</td>\n",
       "      <td>29.488401</td>\n",
       "      <td>0.046038</td>\n",
       "      <td>True</td>\n",
       "    </tr>\n",
       "    <tr>\n",
       "      <th>2</th>\n",
       "      <td>[-0.49497625, 1.335943]</td>\n",
       "      <td>[-0.49497625, 1.335943]</td>\n",
       "      <td>[-0.49497625, 1.335943]</td>\n",
       "      <td>13.999602</td>\n",
       "      <td>13.999602</td>\n",
       "      <td>13.999602</td>\n",
       "      <td>0.066816</td>\n",
       "      <td>True</td>\n",
       "    </tr>\n",
       "    <tr>\n",
       "      <th>3</th>\n",
       "      <td>[-0.6072379, -1.9096935]</td>\n",
       "      <td>[-0.6072379, -1.9096935]</td>\n",
       "      <td>[-0.6072379, -1.9096935]</td>\n",
       "      <td>24.473831</td>\n",
       "      <td>24.473831</td>\n",
       "      <td>24.473831</td>\n",
       "      <td>0.050535</td>\n",
       "      <td>True</td>\n",
       "    </tr>\n",
       "  </tbody>\n",
       "</table>\n",
       "</div>"
      ],
      "text/plain": [
       "                             x                          x_c  \\\n",
       "0  [-0.66710806, 0.0024599012]  [-0.66710806, 0.0024599012]   \n",
       "1    [-1.3858104, -0.20204143]    [-1.3858104, -0.20204143]   \n",
       "2      [-0.49497625, 1.335943]      [-0.49497625, 1.335943]   \n",
       "3     [-0.6072379, -1.9096935]     [-0.6072379, -1.9096935]   \n",
       "\n",
       "                           x_p          f        f_c        f_p     alpha  \\\n",
       "0  [-0.66710806, 0.0024599012]   0.445039   0.445039   0.445039  0.374749   \n",
       "1    [-1.3858104, -0.20204143]  29.488401  29.488401  29.488401  0.046038   \n",
       "2      [-0.49497625, 1.335943]  13.999602  13.999602  13.999602  0.066816   \n",
       "3     [-0.6072379, -1.9096935]  24.473831  24.473831  24.473831  0.050535   \n",
       "\n",
       "   cond  \n",
       "0  True  \n",
       "1  True  \n",
       "2  True  \n",
       "3  True  "
      ]
     },
     "metadata": {},
     "output_type": "display_data"
    },
    {
     "data": {
      "image/png": "[encoded data removed]",
      "text/plain": [
       "<Figure size 576x576 with 4 Axes>"
      ]
     },
     "metadata": {},
     "output_type": "display_data"
    }
   ],
   "source": [
    "sess.run(x.initializer)\n",
    "sess.run(initialization)\n",
    "ass()\n",
    "plot_training()\n",
    "display_vars()"
   ]
  },
  {
   "cell_type": "code",
   "execution_count": 45,
   "metadata": {
    "ExecuteTime": {
     "end_time": "2018-08-09T12:42:35.235302Z",
     "start_time": "2018-08-09T12:42:34.797139Z"
    }
   },
   "outputs": [
    {
     "data": {
      "text/html": [
       "<div>\n",
       "<style scoped>\n",
       "    .dataframe tbody tr th:only-of-type {\n",
       "        vertical-align: middle;\n",
       "    }\n",
       "\n",
       "    .dataframe tbody tr th {\n",
       "        vertical-align: top;\n",
       "    }\n",
       "\n",
       "    .dataframe thead th {\n",
       "        text-align: right;\n",
       "    }\n",
       "</style>\n",
       "<table border=\"1\" class=\"dataframe\">\n",
       "  <thead>\n",
       "    <tr style=\"text-align: right;\">\n",
       "      <th></th>\n",
       "      <th>x</th>\n",
       "      <th>x_c</th>\n",
       "      <th>x_p</th>\n",
       "      <th>f</th>\n",
       "      <th>f_c</th>\n",
       "      <th>f_p</th>\n",
       "      <th>alpha</th>\n",
       "      <th>cond</th>\n",
       "    </tr>\n",
       "  </thead>\n",
       "  <tbody>\n",
       "    <tr>\n",
       "      <th>0</th>\n",
       "      <td>[-0.16711146, 0.0006161928]</td>\n",
       "      <td>[-0.66710806, 0.0024599012]</td>\n",
       "      <td>[-0.16711146, 0.00061620853]</td>\n",
       "      <td>0.027927</td>\n",
       "      <td>0.445039</td>\n",
       "      <td>0.445039</td>\n",
       "      <td>0.187375</td>\n",
       "      <td>False</td>\n",
       "    </tr>\n",
       "    <tr>\n",
       "      <th>1</th>\n",
       "      <td>[-0.9819844, 0.09278834]</td>\n",
       "      <td>[-1.3858104, -0.20204143]</td>\n",
       "      <td>[-0.9819844, 0.09278835]</td>\n",
       "      <td>24.308079</td>\n",
       "      <td>29.488401</td>\n",
       "      <td>29.488401</td>\n",
       "      <td>0.023019</td>\n",
       "      <td>False</td>\n",
       "    </tr>\n",
       "    <tr>\n",
       "      <th>2</th>\n",
       "      <td>[-0.027933836, 1.1574175]</td>\n",
       "      <td>[-0.49497625, 1.335943]</td>\n",
       "      <td>[-0.027933806, 1.1574175]</td>\n",
       "      <td>10.507999</td>\n",
       "      <td>13.999602</td>\n",
       "      <td>13.999602</td>\n",
       "      <td>0.033408</td>\n",
       "      <td>False</td>\n",
       "    </tr>\n",
       "    <tr>\n",
       "      <th>3</th>\n",
       "      <td>[-0.5458648, -1.4134744]</td>\n",
       "      <td>[-0.6072379, -1.9096935]</td>\n",
       "      <td>[-0.5458648, -1.4134744]</td>\n",
       "      <td>19.776726</td>\n",
       "      <td>24.473831</td>\n",
       "      <td>24.473831</td>\n",
       "      <td>0.025267</td>\n",
       "      <td>False</td>\n",
       "    </tr>\n",
       "  </tbody>\n",
       "</table>\n",
       "</div>"
      ],
      "text/plain": [
       "                             x                          x_c  \\\n",
       "0  [-0.16711146, 0.0006161928]  [-0.66710806, 0.0024599012]   \n",
       "1     [-0.9819844, 0.09278834]    [-1.3858104, -0.20204143]   \n",
       "2    [-0.027933836, 1.1574175]      [-0.49497625, 1.335943]   \n",
       "3     [-0.5458648, -1.4134744]     [-0.6072379, -1.9096935]   \n",
       "\n",
       "                            x_p          f        f_c        f_p     alpha  \\\n",
       "0  [-0.16711146, 0.00061620853]   0.027927   0.445039   0.445039  0.187375   \n",
       "1      [-0.9819844, 0.09278835]  24.308079  29.488401  29.488401  0.023019   \n",
       "2     [-0.027933806, 1.1574175]  10.507999  13.999602  13.999602  0.033408   \n",
       "3      [-0.5458648, -1.4134744]  19.776726  24.473831  24.473831  0.025267   \n",
       "\n",
       "    cond  \n",
       "0  False  \n",
       "1  False  \n",
       "2  False  \n",
       "3  False  "
      ]
     },
     "metadata": {},
     "output_type": "display_data"
    },
    {
     "ename": "AssertionError",
     "evalue": "",
     "output_type": "error",
     "traceback": [
      "\u001b[1;31m---------------------------------------------------------------------------\u001b[0m",
      "\u001b[1;31mAssertionError\u001b[0m                            Traceback (most recent call last)",
      "\u001b[1;32m<ipython-input-45-392c80f79f2f>\u001b[0m in \u001b[0;36m<module>\u001b[1;34m()\u001b[0m\n\u001b[0;32m      2\u001b[0m \u001b[0mplot_training\u001b[0m\u001b[1;33m(\u001b[0m\u001b[1;33m)\u001b[0m\u001b[1;33m\u001b[0m\u001b[0m\n\u001b[0;32m      3\u001b[0m \u001b[0mdisplay_vars\u001b[0m\u001b[1;33m(\u001b[0m\u001b[1;33m)\u001b[0m\u001b[1;33m\u001b[0m\u001b[0m\n\u001b[1;32m----> 4\u001b[1;33m \u001b[0mass\u001b[0m\u001b[1;33m(\u001b[0m\u001b[1;33m)\u001b[0m\u001b[1;33m\u001b[0m\u001b[0m\n\u001b[0m",
      "\u001b[1;32m<ipython-input-31-a786707805b6>\u001b[0m in \u001b[0;36mass\u001b[1;34m()\u001b[0m\n\u001b[0;32m      1\u001b[0m \u001b[1;32mdef\u001b[0m \u001b[0mass\u001b[0m\u001b[1;33m(\u001b[0m\u001b[1;33m)\u001b[0m\u001b[1;33m:\u001b[0m\u001b[1;33m\u001b[0m\u001b[0m\n\u001b[0;32m      2\u001b[0m     \u001b[1;32massert\u001b[0m \u001b[1;33m(\u001b[0m\u001b[0msess\u001b[0m\u001b[1;33m.\u001b[0m\u001b[0mrun\u001b[0m\u001b[1;33m(\u001b[0m\u001b[0mf\u001b[0m\u001b[1;33m,\u001b[0m \u001b[1;33m{\u001b[0m\u001b[0mx\u001b[0m\u001b[1;33m:\u001b[0m \u001b[0mx_c\u001b[0m\u001b[1;33m.\u001b[0m\u001b[0meval\u001b[0m\u001b[1;33m(\u001b[0m\u001b[1;33m)\u001b[0m\u001b[1;33m}\u001b[0m\u001b[1;33m)\u001b[0m \u001b[1;33m==\u001b[0m \u001b[0msess\u001b[0m\u001b[1;33m.\u001b[0m\u001b[0mrun\u001b[0m\u001b[1;33m(\u001b[0m\u001b[0mf_c\u001b[0m\u001b[1;33m)\u001b[0m\u001b[1;33m)\u001b[0m\u001b[1;33m.\u001b[0m\u001b[0mall\u001b[0m\u001b[1;33m(\u001b[0m\u001b[1;33m)\u001b[0m\u001b[1;33m\u001b[0m\u001b[0m\n\u001b[1;32m----> 3\u001b[1;33m     \u001b[1;32massert\u001b[0m \u001b[1;33m(\u001b[0m\u001b[0msess\u001b[0m\u001b[1;33m.\u001b[0m\u001b[0mrun\u001b[0m\u001b[1;33m(\u001b[0m\u001b[0mf\u001b[0m\u001b[1;33m,\u001b[0m \u001b[1;33m{\u001b[0m\u001b[0mx\u001b[0m\u001b[1;33m:\u001b[0m \u001b[0mx_p\u001b[0m\u001b[1;33m.\u001b[0m\u001b[0meval\u001b[0m\u001b[1;33m(\u001b[0m\u001b[1;33m)\u001b[0m\u001b[1;33m}\u001b[0m\u001b[1;33m)\u001b[0m \u001b[1;33m==\u001b[0m \u001b[0msess\u001b[0m\u001b[1;33m.\u001b[0m\u001b[0mrun\u001b[0m\u001b[1;33m(\u001b[0m\u001b[0mf_p\u001b[0m\u001b[1;33m)\u001b[0m\u001b[1;33m)\u001b[0m\u001b[1;33m.\u001b[0m\u001b[0mall\u001b[0m\u001b[1;33m(\u001b[0m\u001b[1;33m)\u001b[0m\u001b[1;33m\u001b[0m\u001b[0m\n\u001b[0m\u001b[0;32m      4\u001b[0m \u001b[1;33m\u001b[0m\u001b[0m\n\u001b[0;32m      5\u001b[0m     \u001b[1;32massert\u001b[0m \u001b[1;33m(\u001b[0m\u001b[0msess\u001b[0m\u001b[1;33m.\u001b[0m\u001b[0mrun\u001b[0m\u001b[1;33m(\u001b[0m\u001b[0mdf\u001b[0m\u001b[1;33m,\u001b[0m \u001b[1;33m{\u001b[0m\u001b[0mx\u001b[0m\u001b[1;33m:\u001b[0m \u001b[0mx_c\u001b[0m\u001b[1;33m.\u001b[0m\u001b[0meval\u001b[0m\u001b[1;33m(\u001b[0m\u001b[1;33m)\u001b[0m\u001b[1;33m}\u001b[0m\u001b[1;33m)\u001b[0m \u001b[1;33m==\u001b[0m \u001b[0msess\u001b[0m\u001b[1;33m.\u001b[0m\u001b[0mrun\u001b[0m\u001b[1;33m(\u001b[0m\u001b[0mdf_c\u001b[0m\u001b[1;33m)\u001b[0m\u001b[1;33m)\u001b[0m\u001b[1;33m.\u001b[0m\u001b[0mall\u001b[0m\u001b[1;33m(\u001b[0m\u001b[1;33m)\u001b[0m\u001b[1;33m\u001b[0m\u001b[0m\n",
      "\u001b[1;31mAssertionError\u001b[0m: "
     ]
    },
    {
     "data": {
      "image/png": "[encoded data removed]",
      "text/plain": [
       "<Figure size 576x576 with 4 Axes>"
      ]
     },
     "metadata": {},
     "output_type": "display_data"
    }
   ],
   "source": [
    "sess.run(train_step)\n",
    "plot_training()\n",
    "display_vars()\n",
    "ass()\n"
   ]
  },
  {
   "cell_type": "code",
   "execution_count": null,
   "metadata": {},
   "outputs": [],
   "source": [
    "disp"
   ]
  },
  {
   "cell_type": "code",
   "execution_count": 36,
   "metadata": {
    "ExecuteTime": {
     "end_time": "2018-08-07T13:17:24.992027Z",
     "start_time": "2018-08-07T13:17:24.966961Z"
    }
   },
   "outputs": [
    {
     "ename": "AssertionError",
     "evalue": "",
     "output_type": "error",
     "traceback": [
      "\u001b[1;31m---------------------------------------------------------------------------\u001b[0m",
      "\u001b[1;31mAssertionError\u001b[0m                            Traceback (most recent call last)",
      "\u001b[1;32m<ipython-input-36-e429d9a0faf7>\u001b[0m in \u001b[0;36m<module>\u001b[1;34m()\u001b[0m\n\u001b[0;32m      3\u001b[0m \u001b[0mass\u001b[0m\u001b[1;33m(\u001b[0m\u001b[1;33m)\u001b[0m\u001b[1;33m\u001b[0m\u001b[0m\n\u001b[0;32m      4\u001b[0m \u001b[0msess\u001b[0m\u001b[1;33m.\u001b[0m\u001b[0mrun\u001b[0m\u001b[1;33m(\u001b[0m\u001b[0mevaluate_at_x_p\u001b[0m\u001b[1;33m)\u001b[0m\u001b[1;33m\u001b[0m\u001b[0m\n\u001b[1;32m----> 5\u001b[1;33m \u001b[0mass\u001b[0m\u001b[1;33m(\u001b[0m\u001b[1;33m)\u001b[0m\u001b[1;33m\u001b[0m\u001b[0m\n\u001b[0m",
      "\u001b[1;32m<ipython-input-33-ab7b6cb52a65>\u001b[0m in \u001b[0;36mass\u001b[1;34m()\u001b[0m\n\u001b[0;32m      1\u001b[0m \u001b[1;32mdef\u001b[0m \u001b[0mass\u001b[0m\u001b[1;33m(\u001b[0m\u001b[1;33m)\u001b[0m\u001b[1;33m:\u001b[0m\u001b[1;33m\u001b[0m\u001b[0m\n\u001b[0;32m      2\u001b[0m     \u001b[1;32massert\u001b[0m \u001b[1;33m(\u001b[0m\u001b[0msess\u001b[0m\u001b[1;33m.\u001b[0m\u001b[0mrun\u001b[0m\u001b[1;33m(\u001b[0m\u001b[0mf\u001b[0m\u001b[1;33m,\u001b[0m \u001b[1;33m{\u001b[0m\u001b[0mx\u001b[0m\u001b[1;33m:\u001b[0m \u001b[0mx_c\u001b[0m\u001b[1;33m.\u001b[0m\u001b[0meval\u001b[0m\u001b[1;33m(\u001b[0m\u001b[1;33m)\u001b[0m\u001b[1;33m}\u001b[0m\u001b[1;33m)\u001b[0m \u001b[1;33m==\u001b[0m \u001b[0msess\u001b[0m\u001b[1;33m.\u001b[0m\u001b[0mrun\u001b[0m\u001b[1;33m(\u001b[0m\u001b[0mf_c\u001b[0m\u001b[1;33m)\u001b[0m\u001b[1;33m)\u001b[0m\u001b[1;33m.\u001b[0m\u001b[0mall\u001b[0m\u001b[1;33m(\u001b[0m\u001b[1;33m)\u001b[0m\u001b[1;33m\u001b[0m\u001b[0m\n\u001b[1;32m----> 3\u001b[1;33m     \u001b[1;32massert\u001b[0m \u001b[1;33m(\u001b[0m\u001b[0msess\u001b[0m\u001b[1;33m.\u001b[0m\u001b[0mrun\u001b[0m\u001b[1;33m(\u001b[0m\u001b[0mf\u001b[0m\u001b[1;33m,\u001b[0m \u001b[1;33m{\u001b[0m\u001b[0mx\u001b[0m\u001b[1;33m:\u001b[0m \u001b[0mx_p\u001b[0m\u001b[1;33m.\u001b[0m\u001b[0meval\u001b[0m\u001b[1;33m(\u001b[0m\u001b[1;33m)\u001b[0m\u001b[1;33m}\u001b[0m\u001b[1;33m)\u001b[0m \u001b[1;33m==\u001b[0m \u001b[0msess\u001b[0m\u001b[1;33m.\u001b[0m\u001b[0mrun\u001b[0m\u001b[1;33m(\u001b[0m\u001b[0mf_p\u001b[0m\u001b[1;33m)\u001b[0m\u001b[1;33m)\u001b[0m\u001b[1;33m.\u001b[0m\u001b[0mall\u001b[0m\u001b[1;33m(\u001b[0m\u001b[1;33m)\u001b[0m\u001b[1;33m\u001b[0m\u001b[0m\n\u001b[0m\u001b[0;32m      4\u001b[0m \u001b[1;33m\u001b[0m\u001b[0m\n\u001b[0;32m      5\u001b[0m     \u001b[1;32massert\u001b[0m \u001b[1;33m(\u001b[0m\u001b[0msess\u001b[0m\u001b[1;33m.\u001b[0m\u001b[0mrun\u001b[0m\u001b[1;33m(\u001b[0m\u001b[0mdf\u001b[0m\u001b[1;33m,\u001b[0m \u001b[1;33m{\u001b[0m\u001b[0mx\u001b[0m\u001b[1;33m:\u001b[0m \u001b[0mx_c\u001b[0m\u001b[1;33m.\u001b[0m\u001b[0meval\u001b[0m\u001b[1;33m(\u001b[0m\u001b[1;33m)\u001b[0m\u001b[1;33m}\u001b[0m\u001b[1;33m)\u001b[0m \u001b[1;33m==\u001b[0m \u001b[0msess\u001b[0m\u001b[1;33m.\u001b[0m\u001b[0mrun\u001b[0m\u001b[1;33m(\u001b[0m\u001b[0mdf_c\u001b[0m\u001b[1;33m)\u001b[0m\u001b[1;33m)\u001b[0m\u001b[1;33m.\u001b[0m\u001b[0mall\u001b[0m\u001b[1;33m(\u001b[0m\u001b[1;33m)\u001b[0m\u001b[1;33m\u001b[0m\u001b[0m\n",
      "\u001b[1;31mAssertionError\u001b[0m: "
     ]
    }
   ],
   "source": [
    "sess.run(x.initializer)\n",
    "sess.run(initialization)\n",
    "ass()\n",
    "sess.run(evaluate_at_x_p)\n",
    "ass()\n"
   ]
  },
  {
   "cell_type": "code",
   "execution_count": 37,
   "metadata": {
    "ExecuteTime": {
     "end_time": "2018-08-07T13:17:29.931801Z",
     "start_time": "2018-08-07T13:17:29.924732Z"
    }
   },
   "outputs": [
    {
     "data": {
      "text/plain": [
       "[array([[ 0.63110256,  0.07622039],\n",
       "        [-0.3890109 ,  0.9464245 ],\n",
       "        [ 1.3597765 , -1.5865178 ],\n",
       "        [-0.18697214, -0.37484276]], dtype=float32),\n",
       " array([[ 0.63110256,  0.07622041],\n",
       "        [-0.38901088,  0.9464244 ],\n",
       "        [ 1.3597766 , -1.5865178 ],\n",
       "        [-0.18697217, -0.37484276]], dtype=float32),\n",
       " array([[ 1.1274954 ,  0.13617148],\n",
       "        [-0.8166305 ,  0.6873078 ],\n",
       "        [ 1.0003885 , -1.9341385 ],\n",
       "        [-0.21463063, -0.8740772 ]], dtype=float32)]"
      ]
     },
     "execution_count": 37,
     "metadata": {},
     "output_type": "execute_result"
    }
   ],
   "source": [
    "sess.run([x, x_p, x_c])"
   ]
  },
  {
   "cell_type": "code",
   "execution_count": 38,
   "metadata": {
    "ExecuteTime": {
     "end_time": "2018-08-07T13:17:31.008934Z",
     "start_time": "2018-08-07T13:17:30.997905Z"
    }
   },
   "outputs": [
    {
     "data": {
      "text/plain": [
       "[array([ 0.4041   , 15.702567 ,  5.2073717, 11.424521 ], dtype=float32),\n",
       " array([ 1.2897885, 19.915213 ,  7.739338 , 15.054543 ], dtype=float32),\n",
       " array([ 1.2897885, 19.915213 ,  7.739338 , 15.054542 ], dtype=float32)]"
      ]
     },
     "execution_count": 38,
     "metadata": {},
     "output_type": "execute_result"
    }
   ],
   "source": [
    "sess.run([f, f_p, f_c])"
   ]
  },
  {
   "cell_type": "code",
   "execution_count": null,
   "metadata": {},
   "outputs": [],
   "source": []
  },
  {
   "cell_type": "code",
   "execution_count": null,
   "metadata": {},
   "outputs": [],
   "source": []
  },
  {
   "cell_type": "code",
   "execution_count": 28,
   "metadata": {
    "ExecuteTime": {
     "end_time": "2018-08-02T12:40:25.009610Z",
     "start_time": "2018-08-02T12:40:25.002543Z"
    }
   },
   "outputs": [],
   "source": [
    "s1 = tf.assign(x_p, x_c - alpha[:, None] * df_c)"
   ]
  },
  {
   "cell_type": "code",
   "execution_count": 29,
   "metadata": {
    "ExecuteTime": {
     "end_time": "2018-08-02T12:40:25.422265Z",
     "start_time": "2018-08-02T12:40:25.304921Z"
    }
   },
   "outputs": [],
   "source": [
    "s2 = tf.assign(x, x_p)"
   ]
  },
  {
   "cell_type": "code",
   "execution_count": 30,
   "metadata": {
    "ExecuteTime": {
     "end_time": "2018-08-02T12:40:25.870041Z",
     "start_time": "2018-08-02T12:40:25.864995Z"
    }
   },
   "outputs": [],
   "source": [
    "s3 = tf.group(\n",
    "    tf.assign(f_p, f, name = \"evaluate_f_p\"),\n",
    "    tf.assign(df_p, df, name = \"evaluate_df_p\"),\n",
    "    name = \"evaluate_at_x_p\",\n",
    ")"
   ]
  },
  {
   "cell_type": "code",
   "execution_count": 31,
   "metadata": {
    "ExecuteTime": {
     "end_time": "2018-08-02T12:40:26.386236Z",
     "start_time": "2018-08-02T12:40:26.336939Z"
    }
   },
   "outputs": [],
   "source": [
    "s4 = tf.assign(\n",
    "    condition, \n",
    "    f_p <= f_c + c1 * tf.einsum(\"bi,bi->b\", x_p - x_c, df_c),\n",
    "    name = \"condition_evaluation\"\n",
    ")\n",
    "s5 = tf.group(\n",
    "    tf.assign(x_c, tf.where(condition, x_p, x_c)),\n",
    "    tf.assign(f_c, tf.where(condition, f_p, f_c)),\n",
    "    tf.assign(df_c, tf.where(condition, df_p, df_c)),\n",
    "    tf.assign(alpha, tf.where(condition, alpha, rho * alpha)),\n",
    ")"
   ]
  },
  {
   "cell_type": "code",
   "execution_count": null,
   "metadata": {},
   "outputs": [],
   "source": []
  },
  {
   "cell_type": "code",
   "execution_count": null,
   "metadata": {
    "ExecuteTime": {
     "start_time": "2018-08-02T11:19:57.468Z"
    }
   },
   "outputs": [],
   "source": [
    "sess.run(x.initializer)\n",
    "sess.run(initialization)\n",
    "plot_training()\n",
    "display_vars()\n",
    "assert (sess.run(f, {x: x_c.eval()}) == sess.run(f_c)).all()"
   ]
  },
  {
   "cell_type": "code",
   "execution_count": 45,
   "metadata": {
    "ExecuteTime": {
     "end_time": "2018-08-02T12:41:12.892235Z",
     "start_time": "2018-08-02T12:41:12.465101Z"
    },
    "scrolled": false
   },
   "outputs": [
    {
     "data": {
      "text/html": [
       "<div>\n",
       "<style>\n",
       "    .dataframe thead tr:only-child th {\n",
       "        text-align: right;\n",
       "    }\n",
       "\n",
       "    .dataframe thead th {\n",
       "        text-align: left;\n",
       "    }\n",
       "\n",
       "    .dataframe tbody tr th {\n",
       "        vertical-align: top;\n",
       "    }\n",
       "</style>\n",
       "<table border=\"1\" class=\"dataframe\">\n",
       "  <thead>\n",
       "    <tr style=\"text-align: right;\">\n",
       "      <th></th>\n",
       "      <th>x_c</th>\n",
       "      <th>x_p</th>\n",
       "      <th>alpha</th>\n",
       "    </tr>\n",
       "  </thead>\n",
       "  <tbody>\n",
       "    <tr>\n",
       "      <th>0</th>\n",
       "      <td>[-0.001545786, 0.0039919917]</td>\n",
       "      <td>[-0.00092319946, 0.002384162]</td>\n",
       "      <td>0.201382</td>\n",
       "    </tr>\n",
       "    <tr>\n",
       "      <th>1</th>\n",
       "      <td>[1.8525785, 1.8386115]</td>\n",
       "      <td>[1.9652777, 1.9526825]</td>\n",
       "      <td>0.049110</td>\n",
       "    </tr>\n",
       "    <tr>\n",
       "      <th>2</th>\n",
       "      <td>[2.551509, 0.32119203]</td>\n",
       "      <td>[2.6190372, 0.27283096]</td>\n",
       "      <td>0.075284</td>\n",
       "    </tr>\n",
       "    <tr>\n",
       "      <th>3</th>\n",
       "      <td>[-0.01296819, 2.9859216]</td>\n",
       "      <td>[-0.0087112505, 2.990543]</td>\n",
       "      <td>0.164130</td>\n",
       "    </tr>\n",
       "  </tbody>\n",
       "</table>\n",
       "</div>"
      ],
      "text/plain": [
       "                            x_c                            x_p     alpha\n",
       "0  [-0.001545786, 0.0039919917]  [-0.00092319946, 0.002384162]  0.201382\n",
       "1        [1.8525785, 1.8386115]         [1.9652777, 1.9526825]  0.049110\n",
       "2        [2.551509, 0.32119203]        [2.6190372, 0.27283096]  0.075284\n",
       "3      [-0.01296819, 2.9859216]      [-0.0087112505, 2.990543]  0.164130"
      ]
     },
     "metadata": {},
     "output_type": "display_data"
    },
    {
     "name": "stdout",
     "output_type": "stream",
     "text": [
      "[ True  True  True  True]\n"
     ]
    },
    {
     "data": {
      "image/png": "[encoded data removed]",
      "text/plain": [
       "<matplotlib.figure.Figure at 0x28e3047c588>"
      ]
     },
     "metadata": {},
     "output_type": "display_data"
    }
   ],
   "source": [
    "sess.run(s1)\n",
    "sess.run(s2)\n",
    "sess.run(s3)\n",
    "ass()\n",
    "\n",
    "plot_training()\n",
    "display_vars()\n",
    "\n",
    "sess.run(s4)\n",
    "ass()\n",
    "print(condition.eval())\n",
    "\n",
    "sess.run(s5)\n",
    "ass()\n"
   ]
  },
  {
   "cell_type": "code",
   "execution_count": 46,
   "metadata": {
    "ExecuteTime": {
     "end_time": "2018-08-02T12:42:10.355407Z",
     "start_time": "2018-08-02T12:42:10.352399Z"
    }
   },
   "outputs": [],
   "source": [
    "steps = [s1, s2, s3, s4, s5]"
   ]
  },
  {
   "cell_type": "code",
   "execution_count": 56,
   "metadata": {
    "ExecuteTime": {
     "end_time": "2018-08-02T12:55:09.449887Z",
     "start_time": "2018-08-02T12:55:09.445832Z"
    }
   },
   "outputs": [],
   "source": [
    "cs1 = tf.identity(s1, \"cs1\")"
   ]
  },
  {
   "cell_type": "code",
   "execution_count": 58,
   "metadata": {
    "ExecuteTime": {
     "end_time": "2018-08-02T13:04:03.895495Z",
     "start_time": "2018-08-02T13:04:03.890436Z"
    }
   },
   "outputs": [],
   "source": [
    "with tf.control_dependencies([cs1]):\n",
    "    cs2 = tf.identity(s2, \"cs2\")"
   ]
  },
  {
   "cell_type": "code",
   "execution_count": 60,
   "metadata": {
    "ExecuteTime": {
     "end_time": "2018-08-02T13:05:24.359794Z",
     "start_time": "2018-08-02T13:05:24.355740Z"
    }
   },
   "outputs": [],
   "source": [
    "with tf.control_dependencies([cs2]):\n",
    "    cs3 = tf.group(s3, name = \"cs3\")"
   ]
  },
  {
   "cell_type": "code",
   "execution_count": 61,
   "metadata": {
    "ExecuteTime": {
     "end_time": "2018-08-02T13:06:29.310457Z",
     "start_time": "2018-08-02T13:06:29.307482Z"
    }
   },
   "outputs": [],
   "source": [
    "with tf.control_dependencies([cs3]):\n",
    "    cs4 = tf.identity(s4, name = \"cs4\")"
   ]
  },
  {
   "cell_type": "code",
   "execution_count": 62,
   "metadata": {
    "ExecuteTime": {
     "end_time": "2018-08-02T13:06:29.310457Z",
     "start_time": "2018-08-02T13:06:29.307482Z"
    }
   },
   "outputs": [],
   "source": [
    "with tf.control_dependencies([cs4]):\n",
    "    cs5 = tf.group(s5, name = \"cs5\")"
   ]
  },
  {
   "cell_type": "code",
   "execution_count": null,
   "metadata": {},
   "outputs": [],
   "source": []
  },
  {
   "cell_type": "code",
   "execution_count": 67,
   "metadata": {
    "ExecuteTime": {
     "end_time": "2018-08-02T13:13:47.777166Z",
     "start_time": "2018-08-02T13:13:47.761106Z"
    },
    "scrolled": false
   },
   "outputs": [
    {
     "ename": "AssertionError",
     "evalue": "",
     "output_type": "error",
     "traceback": [
      "\u001b[1;31m---------------------------------------------------------------------------\u001b[0m",
      "\u001b[1;31mAssertionError\u001b[0m                            Traceback (most recent call last)",
      "\u001b[1;32m<ipython-input-67-00f560086a6c>\u001b[0m in \u001b[0;36m<module>\u001b[1;34m()\u001b[0m\n\u001b[0;32m      1\u001b[0m \u001b[0mass\u001b[0m\u001b[1;33m(\u001b[0m\u001b[1;33m)\u001b[0m\u001b[1;33m\u001b[0m\u001b[0m\n\u001b[0;32m      2\u001b[0m \u001b[0msess\u001b[0m\u001b[1;33m.\u001b[0m\u001b[0mrun\u001b[0m\u001b[1;33m(\u001b[0m\u001b[0mcs3\u001b[0m\u001b[1;33m)\u001b[0m\u001b[1;33m\u001b[0m\u001b[0m\n\u001b[1;32m----> 3\u001b[1;33m \u001b[0mass\u001b[0m\u001b[1;33m(\u001b[0m\u001b[1;33m)\u001b[0m\u001b[1;33m\u001b[0m\u001b[0m\n\u001b[0m\u001b[0;32m      4\u001b[0m \u001b[1;33m\u001b[0m\u001b[0m\n\u001b[0;32m      5\u001b[0m \u001b[0mplot_training\u001b[0m\u001b[1;33m(\u001b[0m\u001b[1;33m)\u001b[0m\u001b[1;33m\u001b[0m\u001b[0m\n",
      "\u001b[1;32m<ipython-input-33-ab7b6cb52a65>\u001b[0m in \u001b[0;36mass\u001b[1;34m()\u001b[0m\n\u001b[0;32m      1\u001b[0m \u001b[1;32mdef\u001b[0m \u001b[0mass\u001b[0m\u001b[1;33m(\u001b[0m\u001b[1;33m)\u001b[0m\u001b[1;33m:\u001b[0m\u001b[1;33m\u001b[0m\u001b[0m\n\u001b[0;32m      2\u001b[0m     \u001b[1;32massert\u001b[0m \u001b[1;33m(\u001b[0m\u001b[0msess\u001b[0m\u001b[1;33m.\u001b[0m\u001b[0mrun\u001b[0m\u001b[1;33m(\u001b[0m\u001b[0mf\u001b[0m\u001b[1;33m,\u001b[0m \u001b[1;33m{\u001b[0m\u001b[0mx\u001b[0m\u001b[1;33m:\u001b[0m \u001b[0mx_c\u001b[0m\u001b[1;33m.\u001b[0m\u001b[0meval\u001b[0m\u001b[1;33m(\u001b[0m\u001b[1;33m)\u001b[0m\u001b[1;33m}\u001b[0m\u001b[1;33m)\u001b[0m \u001b[1;33m==\u001b[0m \u001b[0msess\u001b[0m\u001b[1;33m.\u001b[0m\u001b[0mrun\u001b[0m\u001b[1;33m(\u001b[0m\u001b[0mf_c\u001b[0m\u001b[1;33m)\u001b[0m\u001b[1;33m)\u001b[0m\u001b[1;33m.\u001b[0m\u001b[0mall\u001b[0m\u001b[1;33m(\u001b[0m\u001b[1;33m)\u001b[0m\u001b[1;33m\u001b[0m\u001b[0m\n\u001b[1;32m----> 3\u001b[1;33m     \u001b[1;32massert\u001b[0m \u001b[1;33m(\u001b[0m\u001b[0msess\u001b[0m\u001b[1;33m.\u001b[0m\u001b[0mrun\u001b[0m\u001b[1;33m(\u001b[0m\u001b[0mf\u001b[0m\u001b[1;33m,\u001b[0m \u001b[1;33m{\u001b[0m\u001b[0mx\u001b[0m\u001b[1;33m:\u001b[0m \u001b[0mx_p\u001b[0m\u001b[1;33m.\u001b[0m\u001b[0meval\u001b[0m\u001b[1;33m(\u001b[0m\u001b[1;33m)\u001b[0m\u001b[1;33m}\u001b[0m\u001b[1;33m)\u001b[0m \u001b[1;33m==\u001b[0m \u001b[0msess\u001b[0m\u001b[1;33m.\u001b[0m\u001b[0mrun\u001b[0m\u001b[1;33m(\u001b[0m\u001b[0mf_p\u001b[0m\u001b[1;33m)\u001b[0m\u001b[1;33m)\u001b[0m\u001b[1;33m.\u001b[0m\u001b[0mall\u001b[0m\u001b[1;33m(\u001b[0m\u001b[1;33m)\u001b[0m\u001b[1;33m\u001b[0m\u001b[0m\n\u001b[0m\u001b[0;32m      4\u001b[0m \u001b[1;33m\u001b[0m\u001b[0m\n\u001b[0;32m      5\u001b[0m     \u001b[1;32massert\u001b[0m \u001b[1;33m(\u001b[0m\u001b[0msess\u001b[0m\u001b[1;33m.\u001b[0m\u001b[0mrun\u001b[0m\u001b[1;33m(\u001b[0m\u001b[0mdf\u001b[0m\u001b[1;33m,\u001b[0m \u001b[1;33m{\u001b[0m\u001b[0mx\u001b[0m\u001b[1;33m:\u001b[0m \u001b[0mx_c\u001b[0m\u001b[1;33m.\u001b[0m\u001b[0meval\u001b[0m\u001b[1;33m(\u001b[0m\u001b[1;33m)\u001b[0m\u001b[1;33m}\u001b[0m\u001b[1;33m)\u001b[0m \u001b[1;33m==\u001b[0m \u001b[0msess\u001b[0m\u001b[1;33m.\u001b[0m\u001b[0mrun\u001b[0m\u001b[1;33m(\u001b[0m\u001b[0mdf_c\u001b[0m\u001b[1;33m)\u001b[0m\u001b[1;33m)\u001b[0m\u001b[1;33m.\u001b[0m\u001b[0mall\u001b[0m\u001b[1;33m(\u001b[0m\u001b[1;33m)\u001b[0m\u001b[1;33m\u001b[0m\u001b[0m\n",
      "\u001b[1;31mAssertionError\u001b[0m: "
     ]
    }
   ],
   "source": [
    "ass()\n",
    "sess.run(cs3)\n",
    "ass()\n",
    "\n",
    "plot_training()\n",
    "display_vars()"
   ]
  },
  {
   "cell_type": "code",
   "execution_count": null,
   "metadata": {},
   "outputs": [],
   "source": []
  },
  {
   "cell_type": "code",
   "execution_count": null,
   "metadata": {},
   "outputs": [],
   "source": []
  },
  {
   "cell_type": "code",
   "execution_count": 71,
   "metadata": {
    "ExecuteTime": {
     "end_time": "2018-08-02T13:18:15.083147Z",
     "start_time": "2018-08-02T13:18:15.071116Z"
    }
   },
   "outputs": [],
   "source": [
    "cum_steps = [tf.Print(s1, [], \"cs1\")]\n",
    "for s in steps[1:]:\n",
    "    with tf.control_dependencies([cum_steps[-1]]):\n",
    "        cs = tf.group(\n",
    "            s,\n",
    "            tf.Print(1,[], message = \"cs{}\".format(len(cum_steps) + 2))\n",
    "        )\n",
    "        cum_steps.append(cs)\n",
    "    "
   ]
  },
  {
   "cell_type": "code",
   "execution_count": 74,
   "metadata": {
    "ExecuteTime": {
     "end_time": "2018-08-02T13:19:42.090521Z",
     "start_time": "2018-08-02T13:19:42.086461Z"
    }
   },
   "outputs": [
    {
     "data": {
      "text/plain": [
       "array([[ 0.07502855, -0.31464154],\n",
       "       [-0.05093732, -0.7964755 ],\n",
       "       [ 1.0402911 , -0.15530856],\n",
       "       [ 2.1225262 ,  0.7704322 ]], dtype=float32)"
      ]
     },
     "execution_count": 74,
     "metadata": {},
     "output_type": "execute_result"
    }
   ],
   "source": [
    "sess.run(cs1)"
   ]
  },
  {
   "cell_type": "code",
   "execution_count": 53,
   "metadata": {
    "ExecuteTime": {
     "end_time": "2018-08-02T12:52:21.234563Z",
     "start_time": "2018-08-02T12:52:21.217518Z"
    }
   },
   "outputs": [
    {
     "ename": "TypeError",
     "evalue": "Can't convert Operation 'evaluate_at_x_p' to Tensor (target dtype=None, name='input', as_ref=False)",
     "output_type": "error",
     "traceback": [
      "\u001b[1;31m---------------------------------------------------------------------------\u001b[0m",
      "\u001b[1;31mTypeError\u001b[0m                                 Traceback (most recent call last)",
      "\u001b[1;32m<ipython-input-53-b7e78f10d062>\u001b[0m in \u001b[0;36m<module>\u001b[1;34m()\u001b[0m\n\u001b[0;32m      2\u001b[0m \u001b[1;32mfor\u001b[0m \u001b[0ms\u001b[0m \u001b[1;32min\u001b[0m \u001b[0msteps\u001b[0m\u001b[1;33m[\u001b[0m\u001b[1;36m1\u001b[0m\u001b[1;33m:\u001b[0m\u001b[1;33m]\u001b[0m\u001b[1;33m:\u001b[0m\u001b[1;33m\u001b[0m\u001b[0m\n\u001b[0;32m      3\u001b[0m     \u001b[1;32mwith\u001b[0m \u001b[0mtf\u001b[0m\u001b[1;33m.\u001b[0m\u001b[0mcontrol_dependencies\u001b[0m\u001b[1;33m(\u001b[0m\u001b[1;33m[\u001b[0m\u001b[0mcum_steps\u001b[0m\u001b[1;33m[\u001b[0m\u001b[1;33m-\u001b[0m\u001b[1;36m1\u001b[0m\u001b[1;33m]\u001b[0m\u001b[1;33m]\u001b[0m\u001b[1;33m)\u001b[0m\u001b[1;33m:\u001b[0m\u001b[1;33m\u001b[0m\u001b[0m\n\u001b[1;32m----> 4\u001b[1;33m         \u001b[0mcs\u001b[0m \u001b[1;33m=\u001b[0m \u001b[0mtf\u001b[0m\u001b[1;33m.\u001b[0m\u001b[0mPrint\u001b[0m\u001b[1;33m(\u001b[0m\u001b[0ms\u001b[0m\u001b[1;33m,\u001b[0m \u001b[1;33m[\u001b[0m\u001b[1;33m]\u001b[0m\u001b[1;33m,\u001b[0m \u001b[0mmessage\u001b[0m \u001b[1;33m=\u001b[0m \u001b[1;34m\"cs{}\"\u001b[0m\u001b[1;33m.\u001b[0m\u001b[0mformat\u001b[0m\u001b[1;33m(\u001b[0m\u001b[0mlen\u001b[0m\u001b[1;33m(\u001b[0m\u001b[0mcum_steps\u001b[0m\u001b[1;33m)\u001b[0m \u001b[1;33m+\u001b[0m \u001b[1;36m2\u001b[0m\u001b[1;33m)\u001b[0m\u001b[1;33m)\u001b[0m\u001b[1;33m\u001b[0m\u001b[0m\n\u001b[0m\u001b[0;32m      5\u001b[0m         \u001b[0mcum_steps\u001b[0m\u001b[1;33m.\u001b[0m\u001b[0mappend\u001b[0m\u001b[1;33m(\u001b[0m\u001b[0mcs\u001b[0m\u001b[1;33m)\u001b[0m\u001b[1;33m\u001b[0m\u001b[0m\n\u001b[0;32m      6\u001b[0m \u001b[1;33m\u001b[0m\u001b[0m\n",
      "\u001b[1;32mD:\\OLD_COMP\\moje\\python\\WinPython\\WinPython-64bit-3.5.2.3\\python-3.5.2.amd64\\lib\\site-packages\\tensorflow\\python\\ops\\logging_ops.py\u001b[0m in \u001b[0;36mPrint\u001b[1;34m(input_, data, message, first_n, summarize, name)\u001b[0m\n\u001b[0;32m     62\u001b[0m     \u001b[0mA\u001b[0m\u001b[0;31m \u001b[0m\u001b[0;31m`\u001b[0m\u001b[0mTensor\u001b[0m\u001b[0;31m`\u001b[0m\u001b[1;33m.\u001b[0m \u001b[0mHas\u001b[0m \u001b[0mthe\u001b[0m \u001b[0msame\u001b[0m \u001b[0mtype\u001b[0m \u001b[1;32mand\u001b[0m \u001b[0mcontents\u001b[0m \u001b[1;32mas\u001b[0m\u001b[0;31m \u001b[0m\u001b[0;31m`\u001b[0m\u001b[0minput_\u001b[0m\u001b[0;31m`\u001b[0m\u001b[1;33m.\u001b[0m\u001b[1;33m\u001b[0m\u001b[0m\n\u001b[0;32m     63\u001b[0m   \"\"\"\n\u001b[1;32m---> 64\u001b[1;33m   \u001b[1;32mreturn\u001b[0m \u001b[0mgen_logging_ops\u001b[0m\u001b[1;33m.\u001b[0m\u001b[0m_print\u001b[0m\u001b[1;33m(\u001b[0m\u001b[0minput_\u001b[0m\u001b[1;33m,\u001b[0m \u001b[0mdata\u001b[0m\u001b[1;33m,\u001b[0m \u001b[0mmessage\u001b[0m\u001b[1;33m,\u001b[0m \u001b[0mfirst_n\u001b[0m\u001b[1;33m,\u001b[0m \u001b[0msummarize\u001b[0m\u001b[1;33m,\u001b[0m \u001b[0mname\u001b[0m\u001b[1;33m)\u001b[0m\u001b[1;33m\u001b[0m\u001b[0m\n\u001b[0m\u001b[0;32m     65\u001b[0m \u001b[1;33m\u001b[0m\u001b[0m\n\u001b[0;32m     66\u001b[0m \u001b[1;33m\u001b[0m\u001b[0m\n",
      "\u001b[1;32mD:\\OLD_COMP\\moje\\python\\WinPython\\WinPython-64bit-3.5.2.3\\python-3.5.2.amd64\\lib\\site-packages\\tensorflow\\python\\ops\\gen_logging_ops.py\u001b[0m in \u001b[0;36m_print\u001b[1;34m(input, data, message, first_n, summarize, name)\u001b[0m\n\u001b[0;32m    612\u001b[0m     _, _, _op = _op_def_lib._apply_op_helper(\n\u001b[0;32m    613\u001b[0m         \u001b[1;34m\"Print\"\u001b[0m\u001b[1;33m,\u001b[0m \u001b[0minput\u001b[0m\u001b[1;33m=\u001b[0m\u001b[0minput\u001b[0m\u001b[1;33m,\u001b[0m \u001b[0mdata\u001b[0m\u001b[1;33m=\u001b[0m\u001b[0mdata\u001b[0m\u001b[1;33m,\u001b[0m \u001b[0mmessage\u001b[0m\u001b[1;33m=\u001b[0m\u001b[0mmessage\u001b[0m\u001b[1;33m,\u001b[0m \u001b[0mfirst_n\u001b[0m\u001b[1;33m=\u001b[0m\u001b[0mfirst_n\u001b[0m\u001b[1;33m,\u001b[0m\u001b[1;33m\u001b[0m\u001b[0m\n\u001b[1;32m--> 614\u001b[1;33m         summarize=summarize, name=name)\n\u001b[0m\u001b[0;32m    615\u001b[0m     \u001b[0m_result\u001b[0m \u001b[1;33m=\u001b[0m \u001b[0m_op\u001b[0m\u001b[1;33m.\u001b[0m\u001b[0moutputs\u001b[0m\u001b[1;33m[\u001b[0m\u001b[1;33m:\u001b[0m\u001b[1;33m]\u001b[0m\u001b[1;33m\u001b[0m\u001b[0m\n\u001b[0;32m    616\u001b[0m     \u001b[0m_inputs_flat\u001b[0m \u001b[1;33m=\u001b[0m \u001b[0m_op\u001b[0m\u001b[1;33m.\u001b[0m\u001b[0minputs\u001b[0m\u001b[1;33m\u001b[0m\u001b[0m\n",
      "\u001b[1;32mD:\\OLD_COMP\\moje\\python\\WinPython\\WinPython-64bit-3.5.2.3\\python-3.5.2.amd64\\lib\\site-packages\\tensorflow\\python\\framework\\op_def_library.py\u001b[0m in \u001b[0;36m_apply_op_helper\u001b[1;34m(self, op_type_name, name, **keywords)\u001b[0m\n\u001b[0;32m    511\u001b[0m           \u001b[1;32mexcept\u001b[0m \u001b[0mTypeError\u001b[0m \u001b[1;32mas\u001b[0m \u001b[0merr\u001b[0m\u001b[1;33m:\u001b[0m\u001b[1;33m\u001b[0m\u001b[0m\n\u001b[0;32m    512\u001b[0m             \u001b[1;32mif\u001b[0m \u001b[0mdtype\u001b[0m \u001b[1;32mis\u001b[0m \u001b[1;32mNone\u001b[0m\u001b[1;33m:\u001b[0m\u001b[1;33m\u001b[0m\u001b[0m\n\u001b[1;32m--> 513\u001b[1;33m               \u001b[1;32mraise\u001b[0m \u001b[0merr\u001b[0m\u001b[1;33m\u001b[0m\u001b[0m\n\u001b[0m\u001b[0;32m    514\u001b[0m             \u001b[1;32melse\u001b[0m\u001b[1;33m:\u001b[0m\u001b[1;33m\u001b[0m\u001b[0m\n\u001b[0;32m    515\u001b[0m               raise TypeError(\n",
      "\u001b[1;32mD:\\OLD_COMP\\moje\\python\\WinPython\\WinPython-64bit-3.5.2.3\\python-3.5.2.amd64\\lib\\site-packages\\tensorflow\\python\\framework\\op_def_library.py\u001b[0m in \u001b[0;36m_apply_op_helper\u001b[1;34m(self, op_type_name, name, **keywords)\u001b[0m\n\u001b[0;32m    508\u001b[0m                 \u001b[0mdtype\u001b[0m\u001b[1;33m=\u001b[0m\u001b[0mdtype\u001b[0m\u001b[1;33m,\u001b[0m\u001b[1;33m\u001b[0m\u001b[0m\n\u001b[0;32m    509\u001b[0m                 \u001b[0mas_ref\u001b[0m\u001b[1;33m=\u001b[0m\u001b[0minput_arg\u001b[0m\u001b[1;33m.\u001b[0m\u001b[0mis_ref\u001b[0m\u001b[1;33m,\u001b[0m\u001b[1;33m\u001b[0m\u001b[0m\n\u001b[1;32m--> 510\u001b[1;33m                 preferred_dtype=default_dtype)\n\u001b[0m\u001b[0;32m    511\u001b[0m           \u001b[1;32mexcept\u001b[0m \u001b[0mTypeError\u001b[0m \u001b[1;32mas\u001b[0m \u001b[0merr\u001b[0m\u001b[1;33m:\u001b[0m\u001b[1;33m\u001b[0m\u001b[0m\n\u001b[0;32m    512\u001b[0m             \u001b[1;32mif\u001b[0m \u001b[0mdtype\u001b[0m \u001b[1;32mis\u001b[0m \u001b[1;32mNone\u001b[0m\u001b[1;33m:\u001b[0m\u001b[1;33m\u001b[0m\u001b[0m\n",
      "\u001b[1;32mD:\\OLD_COMP\\moje\\python\\WinPython\\WinPython-64bit-3.5.2.3\\python-3.5.2.amd64\\lib\\site-packages\\tensorflow\\python\\framework\\ops.py\u001b[0m in \u001b[0;36minternal_convert_to_tensor\u001b[1;34m(value, dtype, name, as_ref, preferred_dtype, ctx)\u001b[0m\n\u001b[0;32m   1102\u001b[0m \u001b[1;33m\u001b[0m\u001b[0m\n\u001b[0;32m   1103\u001b[0m     \u001b[1;32mif\u001b[0m \u001b[0mret\u001b[0m \u001b[1;32mis\u001b[0m \u001b[1;32mNone\u001b[0m\u001b[1;33m:\u001b[0m\u001b[1;33m\u001b[0m\u001b[0m\n\u001b[1;32m-> 1104\u001b[1;33m       \u001b[0mret\u001b[0m \u001b[1;33m=\u001b[0m \u001b[0mconversion_func\u001b[0m\u001b[1;33m(\u001b[0m\u001b[0mvalue\u001b[0m\u001b[1;33m,\u001b[0m \u001b[0mdtype\u001b[0m\u001b[1;33m=\u001b[0m\u001b[0mdtype\u001b[0m\u001b[1;33m,\u001b[0m \u001b[0mname\u001b[0m\u001b[1;33m=\u001b[0m\u001b[0mname\u001b[0m\u001b[1;33m,\u001b[0m \u001b[0mas_ref\u001b[0m\u001b[1;33m=\u001b[0m\u001b[0mas_ref\u001b[0m\u001b[1;33m)\u001b[0m\u001b[1;33m\u001b[0m\u001b[0m\n\u001b[0m\u001b[0;32m   1105\u001b[0m \u001b[1;33m\u001b[0m\u001b[0m\n\u001b[0;32m   1106\u001b[0m     \u001b[1;32mif\u001b[0m \u001b[0mret\u001b[0m \u001b[1;32mis\u001b[0m \u001b[0mNotImplemented\u001b[0m\u001b[1;33m:\u001b[0m\u001b[1;33m\u001b[0m\u001b[0m\n",
      "\u001b[1;32mD:\\OLD_COMP\\moje\\python\\WinPython\\WinPython-64bit-3.5.2.3\\python-3.5.2.amd64\\lib\\site-packages\\tensorflow\\python\\framework\\ops.py\u001b[0m in \u001b[0;36m_operation_conversion_error\u001b[1;34m(op, dtype, name, as_ref)\u001b[0m\n\u001b[0;32m   6128\u001b[0m   raise TypeError((\"Can't convert Operation '%s' to Tensor \"\n\u001b[0;32m   6129\u001b[0m                    \u001b[1;34m\"(target dtype=%r, name=%r, as_ref=%r)\"\u001b[0m\u001b[1;33m)\u001b[0m \u001b[1;33m%\u001b[0m \u001b[1;33m(\u001b[0m\u001b[0mop\u001b[0m\u001b[1;33m.\u001b[0m\u001b[0mname\u001b[0m\u001b[1;33m,\u001b[0m \u001b[0mdtype\u001b[0m\u001b[1;33m,\u001b[0m\u001b[1;33m\u001b[0m\u001b[0m\n\u001b[1;32m-> 6130\u001b[1;33m                                                                name, as_ref))\n\u001b[0m\u001b[0;32m   6131\u001b[0m \u001b[1;33m\u001b[0m\u001b[0m\n\u001b[0;32m   6132\u001b[0m \u001b[1;33m\u001b[0m\u001b[0m\n",
      "\u001b[1;31mTypeError\u001b[0m: Can't convert Operation 'evaluate_at_x_p' to Tensor (target dtype=None, name='input', as_ref=False)"
     ]
    }
   ],
   "source": [
    "cum_steps = [tf.Print(s1, [], message = \"cs1\")]\n",
    "for s in steps[1:]:\n",
    "    with tf.control_dependencies([cum_steps[-1]]):\n",
    "        cs = tf.Print(s, [], message = \"cs{}\".format(len(cum_steps) + 2))\n",
    "        cum_steps.append(cs)\n",
    "    "
   ]
  },
  {
   "cell_type": "markdown",
   "metadata": {},
   "source": [
    "# Bordel"
   ]
  },
  {
   "cell_type": "code",
   "execution_count": 55,
   "metadata": {
    "ExecuteTime": {
     "end_time": "2018-08-09T12:36:23.197628Z",
     "start_time": "2018-08-09T12:36:23.189577Z"
    }
   },
   "outputs": [
    {
     "data": {
      "text/plain": [
       "array(2)"
      ]
     },
     "execution_count": 55,
     "metadata": {},
     "output_type": "execute_result"
    }
   ],
   "source": [
    "a = tf.Variable(1)\n",
    "sess.run(a, {a: 2})"
   ]
  },
  {
   "cell_type": "code",
   "execution_count": null,
   "metadata": {
    "ExecuteTime": {
     "end_time": "2018-08-09T12:37:14.817848Z",
     "start_time": "2018-08-09T12:37:14.612127Z"
    }
   },
   "outputs": [],
   "source": [
    "b = tf.contrib.eager.Variable(1)\n",
    "b1 = b + 1"
   ]
  },
  {
   "cell_type": "code",
   "execution_count": 59,
   "metadata": {
    "ExecuteTime": {
     "end_time": "2018-08-09T12:38:01.929110Z",
     "start_time": "2018-08-09T12:38:01.924045Z"
    }
   },
   "outputs": [
    {
     "data": {
      "text/plain": [
       "2"
      ]
     },
     "execution_count": 59,
     "metadata": {},
     "output_type": "execute_result"
    }
   ],
   "source": [
    "sess.run(b.initializer)\n",
    "sess.run(b1, {b: 10})"
   ]
  },
  {
   "cell_type": "code",
   "execution_count": null,
   "metadata": {},
   "outputs": [],
   "source": []
  }
 ],
 "metadata": {
  "kernelspec": {
   "display_name": "Python 3",
   "language": "python",
   "name": "python3"
  },
  "language_info": {
   "codemirror_mode": {
    "name": "ipython",
    "version": 3
   },
   "file_extension": ".py",
   "mimetype": "text/x-python",
   "name": "python",
   "nbconvert_exporter": "python",
   "pygments_lexer": "ipython3",
   "version": "3.7.0"
  },
  "toc": {
   "colors": {
    "hover_highlight": "#DAA520",
    "navigate_num": "#000000",
    "navigate_text": "#400040",
    "running_highlight": "#FF0000",
    "selected_highlight": "#FFD700",
    "sidebar_border": "#000000",
    "wrapper_background": "#ffffff"
   },
   "moveMenuLeft": true,
   "nav_menu": {
    "height": "12px",
    "width": "252px"
   },
   "navigate_menu": true,
   "number_sections": true,
   "sideBar": true,
   "threshold": 4,
   "toc_cell": false,
   "toc_section_display": "block",
   "toc_window_display": false,
   "widenNotebook": false
  }
 },
 "nbformat": 4,
 "nbformat_minor": 2
}

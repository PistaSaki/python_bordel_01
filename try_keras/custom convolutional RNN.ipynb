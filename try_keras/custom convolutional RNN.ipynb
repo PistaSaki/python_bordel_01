{
 "cells": [
  {
   "cell_type": "code",
   "execution_count": 1,
   "metadata": {},
   "outputs": [],
   "source": [
    "import tensorflow as tf\n",
    "import tensorflow.keras as keras\n",
    "import tensorflow.keras.layers as kl\n",
    "import tensorflow.keras.backend as K\n",
    "import tensorflow.distributions as tfd\n",
    "import numpy as np"
   ]
  },
  {
   "cell_type": "code",
   "execution_count": 2,
   "metadata": {},
   "outputs": [],
   "source": [
    "import matplotlib.pyplot as pl"
   ]
  },
  {
   "cell_type": "code",
   "execution_count": 3,
   "metadata": {},
   "outputs": [],
   "source": [
    "from tensorflow.python.keras import activations\n",
    "from tensorflow.python.keras import initializers\n",
    "from tensorflow.python.keras import regularizers"
   ]
  },
  {
   "cell_type": "code",
   "execution_count": 4,
   "metadata": {},
   "outputs": [],
   "source": [
    "class Minimal2D_RNNCell(kl.Layer):\n",
    "    data_format=\"channels_last\"\n",
    "    kernel_size=(1, 1)\n",
    "    padding=\"valid\"\n",
    "    strides=(1, 1)\n",
    "    dilation_rate=(1,1)\n",
    "\n",
    "    def __init__(\n",
    "        self, \n",
    "        filters, \n",
    "        activation=None, \n",
    "        kernel_initializer='glorot_uniform',\n",
    "        bias_initializer='zeros',\n",
    "        kernel_regularizer=None,\n",
    "        use_bias=True,\n",
    "        bias_regularizer=None,\n",
    "        **kwargs\n",
    "    ):\n",
    "        self.filters = filters\n",
    "        self.state_size = filters\n",
    "        self.activation = activations.get(activation)\n",
    "        self.use_bias = use_bias\n",
    "        self.kernel_initializer = initializers.get(kernel_initializer)\n",
    "        self.bias_initializer = initializers.get(bias_initializer)\n",
    "        self.kernel_regularizer = regularizers.get(kernel_regularizer)\n",
    "        self.bias_regularizer = regularizers.get(bias_regularizer)\n",
    "        super().__init__(**kwargs)\n",
    "\n",
    "    def build(self, input_shape):\n",
    "        self.kernel_shape = self.kernel_size + (input_shape[-1], self.filters)\n",
    "        self.kernel = self.add_weight(\n",
    "            'kernel',\n",
    "            shape = (input_shape[-1], self.filters),\n",
    "            initializer = self.kernel_initializer,\n",
    "            regularizer=self.kernel_regularizer,\n",
    "            dtype = self.dtype,\n",
    "        )\n",
    "        if self.use_bias:\n",
    "            self.bias = self.add_weight(\n",
    "                'bias',\n",
    "                shape = [self.filters,],\n",
    "                initializer = self.bias_initializer,\n",
    "                regularizer = self.bias_regularizer,\n",
    "                dtype = self.dtype,\n",
    "            )\n",
    "            \n",
    "        self.recurrent_kernel = self.add_weight(\n",
    "            shape=(self.filters, self.filters),\n",
    "            initializer='uniform',\n",
    "            name='recurrent_kernel')\n",
    "        self.built = True\n",
    "\n",
    "    def call(self, inputs, states):\n",
    "        prev_output = states[0]\n",
    "        h = K.dot(inputs, self.kernel) + K.dot(prev_output, self.recurrent_kernel)\n",
    "        if self.use_bias:\n",
    "            h = h + self.bias\n",
    "        output = self.activation(h)\n",
    "        return output, [output]\n",
    "    \n",
    "    def input_conv(self, x, w, b=None, padding='valid'):\n",
    "        conv_out = K.conv2d(x, w, strides=self.strides,\n",
    "                            padding=padding,\n",
    "                            data_format=self.data_format,\n",
    "                            dilation_rate=self.dilation_rate)\n",
    "        if b is not None:\n",
    "            conv_out = K.bias_add(conv_out, b,\n",
    "                                data_format=self.data_format)\n",
    "        return conv_out\n"
   ]
  },
  {
   "cell_type": "code",
   "execution_count": 5,
   "metadata": {},
   "outputs": [],
   "source": [
    "from tensorflow.python.keras.layers.convolutional_recurrent import ConvRNN2D"
   ]
  },
  {
   "cell_type": "code",
   "execution_count": 6,
   "metadata": {},
   "outputs": [],
   "source": [
    "def get_model(batch_size=None, stateful=False):\n",
    "    if stateful:\n",
    "        assert batch_size is not None, \"In stateful RNN, `batch_size` must be known.\"\n",
    "    x = inp = kl.Input([ None, 320, 200, 3], batch_size=batch_size)\n",
    "\n",
    "    rnn_cell = Minimal2D_RNNCell(5, activation=\"sigmoid\")\n",
    "    print(rnn_cell.state_size)\n",
    "    rnn_layer = ConvRNN2D(rnn_cell, return_sequences=True, stateful=stateful)\n",
    "\n",
    "    y = rnn_layer(x)\n",
    "\n",
    "    model = keras.Model(x, y)\n",
    "    return model"
   ]
  },
  {
   "cell_type": "code",
   "execution_count": 7,
   "metadata": {},
   "outputs": [
    {
     "name": "stdout",
     "output_type": "stream",
     "text": [
      "5\n"
     ]
    }
   ],
   "source": [
    "model = get_model()"
   ]
  },
  {
   "cell_type": "code",
   "execution_count": 8,
   "metadata": {},
   "outputs": [],
   "source": [
    "res = model.predict(np.zeros([1, 10, 320, 200, 3])).squeeze()"
   ]
  },
  {
   "cell_type": "code",
   "execution_count": 9,
   "metadata": {},
   "outputs": [
    {
     "data": {
      "text/plain": [
       "(10, 320, 200, 5)"
      ]
     },
     "execution_count": 9,
     "metadata": {},
     "output_type": "execute_result"
    }
   ],
   "source": [
    "res.shape"
   ]
  },
  {
   "cell_type": "code",
   "execution_count": 10,
   "metadata": {},
   "outputs": [
    {
     "data": {
      "text/plain": [
       "array([[0.5       , 0.5       , 0.5       , 0.5       , 0.5       ],\n",
       "       [0.8341756 , 0.7784132 , 0.80142903, 0.67302865, 0.7627833 ],\n",
       "       [0.92426056, 0.87568986, 0.89744836, 0.7567    , 0.8596069 ],\n",
       "       [0.9425277 , 0.89887655, 0.91924775, 0.7808389 , 0.8834182 ],\n",
       "       [0.9462007 , 0.9037547 , 0.923757  , 0.78619486, 0.8884894 ],\n",
       "       [0.9469449 , 0.90475357, 0.9246757 , 0.78730404, 0.8895314 ],\n",
       "       [0.94709605, 0.9049569 , 0.92486244, 0.7875304 , 0.88974357],\n",
       "       [0.94712675, 0.90499824, 0.9249004 , 0.7875765 , 0.88978666],\n",
       "       [0.94713306, 0.90500665, 0.92490816, 0.7875858 , 0.8897954 ],\n",
       "       [0.94713426, 0.90500844, 0.92490965, 0.78758776, 0.8897973 ]],\n",
       "      dtype=float32)"
      ]
     },
     "execution_count": 10,
     "metadata": {},
     "output_type": "execute_result"
    }
   ],
   "source": [
    "res[:, 0,0, :]"
   ]
  },
  {
   "cell_type": "code",
   "execution_count": 11,
   "metadata": {},
   "outputs": [
    {
     "name": "stdout",
     "output_type": "stream",
     "text": [
      "5\n"
     ]
    }
   ],
   "source": [
    "model_serv = get_model(batch_size=1, stateful=True)\n",
    "model_serv.set_weights(model.get_weights())"
   ]
  },
  {
   "cell_type": "code",
   "execution_count": 12,
   "metadata": {},
   "outputs": [
    {
     "name": "stdout",
     "output_type": "stream",
     "text": [
      "[0.5 0.5 0.5 0.5 0.5]\n",
      "[0.8341756  0.7784132  0.80142903 0.67302865 0.7627833 ]\n",
      "[0.92426056 0.87568986 0.89744836 0.7567     0.8596069 ]\n",
      "[0.9425277  0.89887655 0.91924775 0.7808389  0.8834182 ]\n",
      "[0.9462007  0.9037547  0.923757   0.78619486 0.8884894 ]\n",
      "[0.9469449  0.90475357 0.9246757  0.78730404 0.8895314 ]\n",
      "[0.94709605 0.9049569  0.92486244 0.7875304  0.88974357]\n",
      "[0.94712675 0.90499824 0.9249004  0.7875765  0.88978666]\n",
      "[0.94713306 0.90500665 0.92490816 0.7875858  0.8897954 ]\n",
      "[0.94713426 0.90500844 0.92490965 0.78758776 0.8897973 ]\n"
     ]
    }
   ],
   "source": [
    "model_serv.reset_states()\n",
    "for i in range(10):\n",
    "    res = model_serv.predict(np.zeros([1, 1, 320, 200, 3])).squeeze()\n",
    "    print(res[0,0, :])"
   ]
  },
  {
   "cell_type": "code",
   "execution_count": null,
   "metadata": {},
   "outputs": [],
   "source": []
  }
 ],
 "metadata": {
  "kernelspec": {
   "display_name": "Python 3",
   "language": "python",
   "name": "python3"
  },
  "language_info": {
   "codemirror_mode": {
    "name": "ipython",
    "version": 3
   },
   "file_extension": ".py",
   "mimetype": "text/x-python",
   "name": "python",
   "nbconvert_exporter": "python",
   "pygments_lexer": "ipython3",
   "version": "3.6.6"
  }
 },
 "nbformat": 4,
 "nbformat_minor": 2
}

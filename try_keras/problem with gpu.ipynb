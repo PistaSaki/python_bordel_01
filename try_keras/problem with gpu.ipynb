{
 "cells": [
  {
   "cell_type": "markdown",
   "metadata": {},
   "source": [
    "# Solution\n",
    "It turned out that the problem was the following:\n",
    "when both `tensorflow` and `tensorflow-gpu` are installed, the tensorflow does not use the GPu properly.\n",
    "After downloading python, I first installed only `tensorflow-gpu` and the GPU worked then. Afterwards I installed keras, which probably installed also `tensorflow` and that caused the problem. When I uninstalled both `tensorflow` and `tensorflow-gpu` and installed back only `tensorflow-gpu`, everything worked fine."
   ]
  },
  {
   "cell_type": "markdown",
   "metadata": {},
   "source": [
    "# Experiments"
   ]
  },
  {
   "cell_type": "code",
   "execution_count": 1,
   "metadata": {},
   "outputs": [
    {
     "name": "stderr",
     "output_type": "stream",
     "text": [
      "Using TensorFlow backend.\n"
     ]
    }
   ],
   "source": [
    "import keras \n",
    "import keras.layers as kl"
   ]
  },
  {
   "cell_type": "code",
   "execution_count": 2,
   "metadata": {},
   "outputs": [],
   "source": [
    "import tensorflow.keras as keras\n",
    "import tensorflow.keras.layers as kl"
   ]
  },
  {
   "cell_type": "code",
   "execution_count": 3,
   "metadata": {},
   "outputs": [],
   "source": [
    "import numpy as np"
   ]
  },
  {
   "cell_type": "code",
   "execution_count": 4,
   "metadata": {},
   "outputs": [],
   "source": [
    "from keras.datasets import mnist\n",
    "from keras.utils.np_utils import to_categorical\n",
    "\n",
    "\n",
    "(x_train, y_train), (x_test, y_test) = mnist.load_data()"
   ]
  },
  {
   "cell_type": "code",
   "execution_count": 5,
   "metadata": {},
   "outputs": [
    {
     "data": {
      "text/plain": [
       "array([[0., 0., 0., ..., 0., 0., 0.],\n",
       "       [1., 0., 0., ..., 0., 0., 0.],\n",
       "       [0., 0., 0., ..., 0., 0., 0.],\n",
       "       ...,\n",
       "       [0., 0., 0., ..., 0., 0., 0.],\n",
       "       [0., 0., 0., ..., 0., 0., 0.],\n",
       "       [0., 0., 0., ..., 0., 1., 0.]], dtype=float32)"
      ]
     },
     "execution_count": 5,
     "metadata": {},
     "output_type": "execute_result"
    }
   ],
   "source": [
    "to_categorical(y_train)"
   ]
  },
  {
   "cell_type": "code",
   "execution_count": 6,
   "metadata": {},
   "outputs": [
    {
     "data": {
      "text/plain": [
       "((60000, 28, 28), (60000,))"
      ]
     },
     "execution_count": 6,
     "metadata": {},
     "output_type": "execute_result"
    }
   ],
   "source": [
    "x_train.shape, y_train.shape"
   ]
  },
  {
   "cell_type": "code",
   "execution_count": 7,
   "metadata": {},
   "outputs": [],
   "source": [
    "inp = kl.Input([28, 28])"
   ]
  },
  {
   "cell_type": "code",
   "execution_count": 8,
   "metadata": {},
   "outputs": [],
   "source": [
    "y = inp"
   ]
  },
  {
   "cell_type": "code",
   "execution_count": 9,
   "metadata": {},
   "outputs": [],
   "source": [
    "y = kl.Flatten()(y)"
   ]
  },
  {
   "cell_type": "code",
   "execution_count": 10,
   "metadata": {},
   "outputs": [],
   "source": [
    "y = kl.Dense(10, activation = \"softmax\")(y)"
   ]
  },
  {
   "cell_type": "code",
   "execution_count": 11,
   "metadata": {},
   "outputs": [],
   "source": [
    "model = keras.Model(inputs = inp, outputs = y)"
   ]
  },
  {
   "cell_type": "code",
   "execution_count": 12,
   "metadata": {},
   "outputs": [
    {
     "data": {
      "text/plain": [
       "(60000, 10)"
      ]
     },
     "execution_count": 12,
     "metadata": {},
     "output_type": "execute_result"
    }
   ],
   "source": [
    "model.predict(x_train).shape"
   ]
  },
  {
   "cell_type": "code",
   "execution_count": 13,
   "metadata": {},
   "outputs": [],
   "source": [
    "model.compile(loss='categorical_crossentropy', optimizer='adam', metrics=['accuracy'])"
   ]
  },
  {
   "cell_type": "code",
   "execution_count": 15,
   "metadata": {},
   "outputs": [
    {
     "name": "stdout",
     "output_type": "stream",
     "text": [
      "Epoch 1/100\n",
      "60000/60000 [==============================] - 3s 44us/step - loss: 4.3408 - acc: 0.7296\n",
      "Epoch 2/100\n",
      "60000/60000 [==============================] - 3s 43us/step - loss: 4.3267 - acc: 0.7306\n",
      "Epoch 3/100\n",
      "60000/60000 [==============================] - 3s 43us/step - loss: 4.3895 - acc: 0.7265\n",
      "Epoch 4/100\n",
      "60000/60000 [==============================] - 3s 43us/step - loss: 4.3445 - acc: 0.7295\n",
      "Epoch 5/100\n",
      "60000/60000 [==============================] - 3s 43us/step - loss: 4.3767 - acc: 0.7275\n",
      "Epoch 6/100\n",
      "60000/60000 [==============================] - 3s 43us/step - loss: 4.3450 - acc: 0.7295\n",
      "Epoch 7/100\n",
      "60000/60000 [==============================] - 3s 43us/step - loss: 4.3218 - acc: 0.7309\n",
      "Epoch 8/100\n",
      "60000/60000 [==============================] - 3s 43us/step - loss: 4.3222 - acc: 0.7309\n",
      "Epoch 9/100\n",
      "60000/60000 [==============================] - 3s 44us/step - loss: 4.3774 - acc: 0.7276\n",
      "Epoch 10/100\n",
      "60000/60000 [==============================] - 3s 44us/step - loss: 4.3582 - acc: 0.7286\n",
      "Epoch 11/100\n",
      "60000/60000 [==============================] - 3s 43us/step - loss: 4.3100 - acc: 0.7315\n",
      "Epoch 12/100\n",
      "60000/60000 [==============================] - 3s 42us/step - loss: 4.3398 - acc: 0.7298\n",
      "Epoch 13/100\n",
      "60000/60000 [==============================] - 3s 42us/step - loss: 4.3261 - acc: 0.7306\n",
      "Epoch 14/100\n",
      "60000/60000 [==============================] - 3s 42us/step - loss: 4.2943 - acc: 0.7326\n",
      "Epoch 15/100\n",
      "60000/60000 [==============================] - 3s 43us/step - loss: 4.2850 - acc: 0.7333\n",
      "Epoch 16/100\n",
      "60000/60000 [==============================] - 3s 42us/step - loss: 4.2845 - acc: 0.7333\n",
      "Epoch 17/100\n",
      "60000/60000 [==============================] - 3s 43us/step - loss: 4.2605 - acc: 0.7349\n",
      "Epoch 18/100\n",
      "60000/60000 [==============================] - 3s 43us/step - loss: 4.2637 - acc: 0.7347\n",
      "Epoch 19/100\n",
      "60000/60000 [==============================] - 3s 42us/step - loss: 4.2832 - acc: 0.7334\n",
      "Epoch 20/100\n",
      "60000/60000 [==============================] - 3s 42us/step - loss: 4.2618 - acc: 0.7348\n",
      "Epoch 21/100\n",
      "60000/60000 [==============================] - 3s 43us/step - loss: 4.2445 - acc: 0.7360\n",
      "Epoch 22/100\n",
      "60000/60000 [==============================] - 3s 43us/step - loss: 4.2411 - acc: 0.7361\n",
      "Epoch 23/100\n",
      "60000/60000 [==============================] - 3s 42us/step - loss: 4.2670 - acc: 0.7345\n",
      "Epoch 24/100\n",
      "60000/60000 [==============================] - 3s 42us/step - loss: 4.2203 - acc: 0.7375\n",
      "Epoch 25/100\n",
      "60000/60000 [==============================] - 3s 42us/step - loss: 4.2570 - acc: 0.7351\n",
      "Epoch 26/100\n",
      "60000/60000 [==============================] - 3s 42us/step - loss: 4.2444 - acc: 0.7359\n",
      "Epoch 27/100\n",
      "60000/60000 [==============================] - 3s 43us/step - loss: 4.2436 - acc: 0.7359\n",
      "Epoch 28/100\n",
      "60000/60000 [==============================] - 3s 42us/step - loss: 4.2671 - acc: 0.7346\n",
      "Epoch 29/100\n",
      "60000/60000 [==============================] - 3s 42us/step - loss: 4.2683 - acc: 0.7343\n",
      "Epoch 30/100\n",
      "60000/60000 [==============================] - 3s 43us/step - loss: 4.2815 - acc: 0.7336\n",
      "Epoch 31/100\n",
      "60000/60000 [==============================] - 3s 42us/step - loss: 4.2404 - acc: 0.7363\n",
      "Epoch 32/100\n",
      "60000/60000 [==============================] - 3s 42us/step - loss: 4.2656 - acc: 0.7348\n",
      "Epoch 33/100\n",
      "60000/60000 [==============================] - 3s 42us/step - loss: 4.2322 - acc: 0.7368\n",
      "Epoch 34/100\n",
      "60000/60000 [==============================] - 3s 42us/step - loss: 4.2223 - acc: 0.7374\n",
      "Epoch 35/100\n",
      "60000/60000 [==============================] - 3s 43us/step - loss: 4.2478 - acc: 0.7358\n",
      "Epoch 36/100\n",
      "60000/60000 [==============================] - 3s 43us/step - loss: 4.2795 - acc: 0.7337\n",
      "Epoch 37/100\n",
      "60000/60000 [==============================] - 3s 42us/step - loss: 4.2110 - acc: 0.7381\n",
      "Epoch 38/100\n",
      "60000/60000 [==============================] - 3s 42us/step - loss: 4.2084 - acc: 0.7384\n",
      "Epoch 39/100\n",
      "60000/60000 [==============================] - 3s 42us/step - loss: 4.1897 - acc: 0.7394\n",
      "Epoch 40/100\n",
      "60000/60000 [==============================] - 3s 43us/step - loss: 4.2193 - acc: 0.7376\n",
      "Epoch 41/100\n",
      "60000/60000 [==============================] - 3s 43us/step - loss: 4.2369 - acc: 0.7364\n",
      "Epoch 42/100\n",
      "60000/60000 [==============================] - 3s 42us/step - loss: 4.2457 - acc: 0.7359\n",
      "Epoch 43/100\n",
      "60000/60000 [==============================] - 3s 42us/step - loss: 4.2035 - acc: 0.7385\n",
      "Epoch 44/100\n",
      "60000/60000 [==============================] - 3s 42us/step - loss: 4.2368 - acc: 0.7366\n",
      "Epoch 45/100\n",
      "60000/60000 [==============================] - 3s 42us/step - loss: 4.1998 - acc: 0.7387\n",
      "Epoch 46/100\n",
      "60000/60000 [==============================] - 3s 42us/step - loss: 4.1807 - acc: 0.7401\n",
      "Epoch 47/100\n",
      "60000/60000 [==============================] - 3s 43us/step - loss: 4.2299 - acc: 0.7369\n",
      "Epoch 48/100\n",
      "60000/60000 [==============================] - 3s 43us/step - loss: 4.1897 - acc: 0.7394\n",
      "Epoch 49/100\n",
      "60000/60000 [==============================] - 3s 43us/step - loss: 4.1959 - acc: 0.7389\n",
      "Epoch 50/100\n",
      "60000/60000 [==============================] - 3s 42us/step - loss: 4.2166 - acc: 0.7378\n",
      "Epoch 51/100\n",
      "60000/60000 [==============================] - 3s 43us/step - loss: 4.1891 - acc: 0.7396\n",
      "Epoch 52/100\n",
      "60000/60000 [==============================] - 3s 43us/step - loss: 4.1665 - acc: 0.7410\n",
      "Epoch 53/100\n",
      "60000/60000 [==============================] - 3s 43us/step - loss: 4.2120 - acc: 0.7382\n",
      "Epoch 54/100\n",
      "60000/60000 [==============================] - 3s 42us/step - loss: 4.2264 - acc: 0.7372\n",
      "Epoch 55/100\n",
      "60000/60000 [==============================] - 3s 43us/step - loss: 4.2188 - acc: 0.7376\n",
      "Epoch 56/100\n",
      "60000/60000 [==============================] - 3s 43us/step - loss: 4.1841 - acc: 0.7399\n",
      "Epoch 57/100\n",
      "60000/60000 [==============================] - 3s 42us/step - loss: 4.1840 - acc: 0.7397\n",
      "Epoch 58/100\n",
      "60000/60000 [==============================] - 3s 42us/step - loss: 4.2009 - acc: 0.7387\n",
      "Epoch 59/100\n",
      "60000/60000 [==============================] - 3s 43us/step - loss: 4.2088 - acc: 0.7383\n",
      "Epoch 60/100\n",
      "60000/60000 [==============================] - 3s 43us/step - loss: 4.1861 - acc: 0.7397\n",
      "Epoch 61/100\n",
      "60000/60000 [==============================] - 3s 43us/step - loss: 4.1821 - acc: 0.7399\n",
      "Epoch 62/100\n",
      "60000/60000 [==============================] - 3s 42us/step - loss: 4.1710 - acc: 0.7407\n",
      "Epoch 63/100\n",
      "60000/60000 [==============================] - 3s 42us/step - loss: 4.2260 - acc: 0.7373\n",
      "Epoch 64/100\n",
      "60000/60000 [==============================] - 3s 44us/step - loss: 4.2089 - acc: 0.7384\n",
      "Epoch 65/100\n",
      "60000/60000 [==============================] - 3s 42us/step - loss: 4.1938 - acc: 0.7394\n",
      "Epoch 66/100\n",
      "60000/60000 [==============================] - 3s 42us/step - loss: 4.1735 - acc: 0.7405\n",
      "Epoch 67/100\n",
      "60000/60000 [==============================] - 3s 42us/step - loss: 4.1731 - acc: 0.7404\n",
      "Epoch 68/100\n",
      "60000/60000 [==============================] - 3s 43us/step - loss: 4.1854 - acc: 0.7397\n",
      "Epoch 69/100\n",
      "60000/60000 [==============================] - 3s 43us/step - loss: 4.1622 - acc: 0.7413\n",
      "Epoch 70/100\n",
      "60000/60000 [==============================] - 3s 43us/step - loss: 4.1944 - acc: 0.7392\n",
      "Epoch 71/100\n",
      "60000/60000 [==============================] - 3s 44us/step - loss: 4.1566 - acc: 0.7416\n",
      "Epoch 72/100\n",
      "60000/60000 [==============================] - 3s 43us/step - loss: 4.1575 - acc: 0.7415\n",
      "Epoch 73/100\n",
      "60000/60000 [==============================] - 3s 43us/step - loss: 4.1765 - acc: 0.7404\n",
      "Epoch 74/100\n",
      "60000/60000 [==============================] - 3s 43us/step - loss: 4.1803 - acc: 0.7402\n",
      "Epoch 75/100\n",
      "60000/60000 [==============================] - 3s 42us/step - loss: 4.1627 - acc: 0.7412\n",
      "Epoch 76/100\n",
      "60000/60000 [==============================] - 3s 43us/step - loss: 4.1646 - acc: 0.7410\n",
      "Epoch 77/100\n",
      "60000/60000 [==============================] - 3s 42us/step - loss: 4.2184 - acc: 0.7378\n",
      "Epoch 78/100\n",
      "60000/60000 [==============================] - 3s 43us/step - loss: 4.2037 - acc: 0.7386\n",
      "Epoch 79/100\n",
      "60000/60000 [==============================] - 3s 42us/step - loss: 4.1411 - acc: 0.7425\n",
      "Epoch 80/100\n",
      "60000/60000 [==============================] - 3s 42us/step - loss: 4.1701 - acc: 0.7408\n",
      "Epoch 81/100\n"
     ]
    },
    {
     "name": "stdout",
     "output_type": "stream",
     "text": [
      "60000/60000 [==============================] - 3s 42us/step - loss: 4.1539 - acc: 0.7417\n",
      "Epoch 82/100\n",
      "60000/60000 [==============================] - 3s 42us/step - loss: 4.1527 - acc: 0.7419\n",
      "Epoch 83/100\n",
      "60000/60000 [==============================] - 3s 42us/step - loss: 4.1479 - acc: 0.7422\n",
      "Epoch 84/100\n",
      "60000/60000 [==============================] - 3s 42us/step - loss: 4.1865 - acc: 0.7397\n",
      "Epoch 85/100\n",
      "60000/60000 [==============================] - 3s 42us/step - loss: 4.1587 - acc: 0.7414\n",
      "Epoch 86/100\n",
      "60000/60000 [==============================] - 3s 42us/step - loss: 4.1123 - acc: 0.7444\n",
      "Epoch 87/100\n",
      "60000/60000 [==============================] - 3s 42us/step - loss: 4.1140 - acc: 0.7443\n",
      "Epoch 88/100\n",
      "60000/60000 [==============================] - 3s 42us/step - loss: 4.1550 - acc: 0.7416\n",
      "Epoch 89/100\n",
      "60000/60000 [==============================] - 3s 42us/step - loss: 4.1661 - acc: 0.7411\n",
      "Epoch 90/100\n",
      "60000/60000 [==============================] - 3s 42us/step - loss: 4.1421 - acc: 0.7426\n",
      "Epoch 91/100\n",
      "60000/60000 [==============================] - 3s 42us/step - loss: 4.1541 - acc: 0.7416\n",
      "Epoch 92/100\n",
      "60000/60000 [==============================] - 3s 42us/step - loss: 4.1642 - acc: 0.7411\n",
      "Epoch 93/100\n",
      "60000/60000 [==============================] - 3s 42us/step - loss: 4.1840 - acc: 0.7399\n",
      "Epoch 94/100\n",
      "60000/60000 [==============================] - 3s 42us/step - loss: 4.1509 - acc: 0.7420\n",
      "Epoch 95/100\n",
      "60000/60000 [==============================] - 3s 42us/step - loss: 4.1485 - acc: 0.7421\n",
      "Epoch 96/100\n",
      "60000/60000 [==============================] - 3s 42us/step - loss: 4.1319 - acc: 0.7432\n",
      "Epoch 97/100\n",
      "60000/60000 [==============================] - 3s 42us/step - loss: 4.1432 - acc: 0.7426\n",
      "Epoch 98/100\n",
      "60000/60000 [==============================] - 3s 42us/step - loss: 4.1441 - acc: 0.7423\n",
      "Epoch 99/100\n",
      "60000/60000 [==============================] - 3s 42us/step - loss: 4.1155 - acc: 0.7443\n",
      "Epoch 100/100\n",
      "60000/60000 [==============================] - 3s 42us/step - loss: 4.1327 - acc: 0.7431\n"
     ]
    },
    {
     "data": {
      "text/plain": [
       "<tensorflow.python.keras.callbacks.History at 0x213b60cd7b8>"
      ]
     },
     "execution_count": 15,
     "metadata": {},
     "output_type": "execute_result"
    }
   ],
   "source": [
    "model.fit(x = x_train, y = to_categorical(y_train), epochs = 100)"
   ]
  },
  {
   "cell_type": "code",
   "execution_count": null,
   "metadata": {},
   "outputs": [],
   "source": []
  },
  {
   "cell_type": "code",
   "execution_count": null,
   "metadata": {},
   "outputs": [],
   "source": []
  },
  {
   "cell_type": "markdown",
   "metadata": {},
   "source": [
    "# Bordel"
   ]
  },
  {
   "cell_type": "code",
   "execution_count": 1,
   "metadata": {},
   "outputs": [],
   "source": [
    "import tensorflow as tf\n",
    "import numpy as np\n",
    "import numpy.random as rnd\n",
    "\n",
    "sess = tf.InteractiveSession()\n",
    "\n",
    "A = tf.Variable(rnd.random(size = [10000, 1000]))\n",
    "B = A @ tf.transpose(A)\n",
    "sess.run(A.initializer)"
   ]
  },
  {
   "cell_type": "code",
   "execution_count": 3,
   "metadata": {},
   "outputs": [
    {
     "data": {
      "text/plain": [
       "(10000, 10000)"
      ]
     },
     "execution_count": 3,
     "metadata": {},
     "output_type": "execute_result"
    }
   ],
   "source": [
    ">>> sess.run(B).shape"
   ]
  },
  {
   "cell_type": "code",
   "execution_count": null,
   "metadata": {},
   "outputs": [],
   "source": []
  }
 ],
 "metadata": {
  "kernelspec": {
   "display_name": "Python 3",
   "language": "python",
   "name": "python3"
  },
  "language_info": {
   "codemirror_mode": {
    "name": "ipython",
    "version": 3
   },
   "file_extension": ".py",
   "mimetype": "text/x-python",
   "name": "python",
   "nbconvert_exporter": "python",
   "pygments_lexer": "ipython3",
   "version": "3.6.7"
  }
 },
 "nbformat": 4,
 "nbformat_minor": 2
}

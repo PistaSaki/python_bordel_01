{
 "cells": [
  {
   "cell_type": "code",
   "execution_count": 1,
   "metadata": {},
   "outputs": [
    {
     "name": "stderr",
     "output_type": "stream",
     "text": [
      "Using TensorFlow backend.\n"
     ]
    }
   ],
   "source": [
    "import keras.layers as kl\n",
    "import keras\n",
    "from IPython.display import SVG\n",
    "from keras.utils.vis_utils import model_to_dot"
   ]
  },
  {
   "cell_type": "code",
   "execution_count": 2,
   "metadata": {},
   "outputs": [],
   "source": [
    "x = kl.Input(shape = [2], name = \"x\")"
   ]
  },
  {
   "cell_type": "code",
   "execution_count": 3,
   "metadata": {},
   "outputs": [],
   "source": [
    "y1 = kl.Dense(2, name = \"dense1\")(x)"
   ]
  },
  {
   "cell_type": "code",
   "execution_count": 4,
   "metadata": {},
   "outputs": [],
   "source": [
    "y2 = kl.Dense(1, name = \"dense2\")(y1)"
   ]
  },
  {
   "cell_type": "code",
   "execution_count": 5,
   "metadata": {},
   "outputs": [],
   "source": [
    "model = keras.Model(inputs = x, outputs = y2, name = \"model\")"
   ]
  },
  {
   "cell_type": "code",
   "execution_count": 6,
   "metadata": {},
   "outputs": [
    {
     "data": {
      "text/plain": [
       "array([[1.9573228]], dtype=float32)"
      ]
     },
     "execution_count": 6,
     "metadata": {},
     "output_type": "execute_result"
    }
   ],
   "source": [
    "model.predict([[[1, 1],]])"
   ]
  },
  {
   "cell_type": "code",
   "execution_count": 7,
   "metadata": {},
   "outputs": [
    {
     "data": {
      "image/svg+xml": [
       "<svg height=\"191pt\" viewBox=\"0.00 0.00 105.00 191.00\" width=\"105pt\" xmlns=\"http://www.w3.org/2000/svg\" xmlns:xlink=\"http://www.w3.org/1999/xlink\">\n",
       "<g class=\"graph\" id=\"graph0\" transform=\"scale(1 1) rotate(0) translate(4 187)\">\n",
       "<title>G</title>\n",
       "<polygon fill=\"white\" points=\"-4,4 -4,-187 101,-187 101,4 -4,4\" stroke=\"none\"/>\n",
       "<!-- 1795258023720 -->\n",
       "<g class=\"node\" id=\"node1\"><title>1795258023720</title>\n",
       "<polygon fill=\"none\" points=\"3,-146.5 3,-182.5 94,-182.5 94,-146.5 3,-146.5\" stroke=\"black\"/>\n",
       "<text font-family=\"Times New Roman,serif\" font-size=\"14.00\" text-anchor=\"middle\" x=\"48.5\" y=\"-160.8\">x: InputLayer</text>\n",
       "</g>\n",
       "<!-- 1795258110528 -->\n",
       "<g class=\"node\" id=\"node2\"><title>1795258110528</title>\n",
       "<polygon fill=\"none\" points=\"0,-73.5 0,-109.5 97,-109.5 97,-73.5 0,-73.5\" stroke=\"black\"/>\n",
       "<text font-family=\"Times New Roman,serif\" font-size=\"14.00\" text-anchor=\"middle\" x=\"48.5\" y=\"-87.8\">dense1: Dense</text>\n",
       "</g>\n",
       "<!-- 1795258023720&#45;&gt;1795258110528 -->\n",
       "<g class=\"edge\" id=\"edge1\"><title>1795258023720-&gt;1795258110528</title>\n",
       "<path d=\"M48.5,-146.313C48.5,-138.289 48.5,-128.547 48.5,-119.569\" fill=\"none\" stroke=\"black\"/>\n",
       "<polygon fill=\"black\" points=\"52.0001,-119.529 48.5,-109.529 45.0001,-119.529 52.0001,-119.529\" stroke=\"black\"/>\n",
       "</g>\n",
       "<!-- 1795258111536 -->\n",
       "<g class=\"node\" id=\"node3\"><title>1795258111536</title>\n",
       "<polygon fill=\"none\" points=\"0,-0.5 0,-36.5 97,-36.5 97,-0.5 0,-0.5\" stroke=\"black\"/>\n",
       "<text font-family=\"Times New Roman,serif\" font-size=\"14.00\" text-anchor=\"middle\" x=\"48.5\" y=\"-14.8\">dense2: Dense</text>\n",
       "</g>\n",
       "<!-- 1795258110528&#45;&gt;1795258111536 -->\n",
       "<g class=\"edge\" id=\"edge2\"><title>1795258110528-&gt;1795258111536</title>\n",
       "<path d=\"M48.5,-73.3129C48.5,-65.2895 48.5,-55.5475 48.5,-46.5691\" fill=\"none\" stroke=\"black\"/>\n",
       "<polygon fill=\"black\" points=\"52.0001,-46.5288 48.5,-36.5288 45.0001,-46.5289 52.0001,-46.5288\" stroke=\"black\"/>\n",
       "</g>\n",
       "</g>\n",
       "</svg>"
      ],
      "text/plain": [
       "<IPython.core.display.SVG object>"
      ]
     },
     "execution_count": 7,
     "metadata": {},
     "output_type": "execute_result"
    }
   ],
   "source": [
    "SVG(model_to_dot(model).create(prog='dot', format='svg'))"
   ]
  },
  {
   "cell_type": "markdown",
   "metadata": {},
   "source": [
    "Now use `model` as a layer in another model"
   ]
  },
  {
   "cell_type": "code",
   "execution_count": 12,
   "metadata": {},
   "outputs": [],
   "source": [
    "yy = model(kl.Dense(2, name = \"dense3\")(x))"
   ]
  },
  {
   "cell_type": "code",
   "execution_count": 13,
   "metadata": {},
   "outputs": [],
   "source": [
    "model2 = keras.Model(inputs = x, outputs = yy)"
   ]
  },
  {
   "cell_type": "code",
   "execution_count": 14,
   "metadata": {},
   "outputs": [
    {
     "data": {
      "text/plain": [
       "array([[0.38195425]], dtype=float32)"
      ]
     },
     "execution_count": 14,
     "metadata": {},
     "output_type": "execute_result"
    }
   ],
   "source": [
    "model2.predict([[[1, 1],]])"
   ]
  },
  {
   "cell_type": "markdown",
   "metadata": {},
   "source": [
    "When plotting `model2`, `model` gets plotted as a single layer."
   ]
  },
  {
   "cell_type": "code",
   "execution_count": 15,
   "metadata": {},
   "outputs": [
    {
     "data": {
      "image/svg+xml": [
       "<svg height=\"191pt\" viewBox=\"0.00 0.00 105.00 191.00\" width=\"105pt\" xmlns=\"http://www.w3.org/2000/svg\" xmlns:xlink=\"http://www.w3.org/1999/xlink\">\n",
       "<g class=\"graph\" id=\"graph0\" transform=\"scale(1 1) rotate(0) translate(4 187)\">\n",
       "<title>G</title>\n",
       "<polygon fill=\"white\" points=\"-4,4 -4,-187 101,-187 101,4 -4,4\" stroke=\"none\"/>\n",
       "<!-- 1795258023720 -->\n",
       "<g class=\"node\" id=\"node1\"><title>1795258023720</title>\n",
       "<polygon fill=\"none\" points=\"3,-146.5 3,-182.5 94,-182.5 94,-146.5 3,-146.5\" stroke=\"black\"/>\n",
       "<text font-family=\"Times New Roman,serif\" font-size=\"14.00\" text-anchor=\"middle\" x=\"48.5\" y=\"-160.8\">x: InputLayer</text>\n",
       "</g>\n",
       "<!-- 1795260038616 -->\n",
       "<g class=\"node\" id=\"node2\"><title>1795260038616</title>\n",
       "<polygon fill=\"none\" points=\"0,-73.5 0,-109.5 97,-109.5 97,-73.5 0,-73.5\" stroke=\"black\"/>\n",
       "<text font-family=\"Times New Roman,serif\" font-size=\"14.00\" text-anchor=\"middle\" x=\"48.5\" y=\"-87.8\">dense3: Dense</text>\n",
       "</g>\n",
       "<!-- 1795258023720&#45;&gt;1795260038616 -->\n",
       "<g class=\"edge\" id=\"edge1\"><title>1795258023720-&gt;1795260038616</title>\n",
       "<path d=\"M48.5,-146.313C48.5,-138.289 48.5,-128.547 48.5,-119.569\" fill=\"none\" stroke=\"black\"/>\n",
       "<polygon fill=\"black\" points=\"52.0001,-119.529 48.5,-109.529 45.0001,-119.529 52.0001,-119.529\" stroke=\"black\"/>\n",
       "</g>\n",
       "<!-- 1795258274536 -->\n",
       "<g class=\"node\" id=\"node3\"><title>1795258274536</title>\n",
       "<polygon fill=\"none\" points=\"1.5,-0.5 1.5,-36.5 95.5,-36.5 95.5,-0.5 1.5,-0.5\" stroke=\"black\"/>\n",
       "<text font-family=\"Times New Roman,serif\" font-size=\"14.00\" text-anchor=\"middle\" x=\"48.5\" y=\"-14.8\">model: Model</text>\n",
       "</g>\n",
       "<!-- 1795260038616&#45;&gt;1795258274536 -->\n",
       "<g class=\"edge\" id=\"edge2\"><title>1795260038616-&gt;1795258274536</title>\n",
       "<path d=\"M48.5,-73.3129C48.5,-65.2895 48.5,-55.5475 48.5,-46.5691\" fill=\"none\" stroke=\"black\"/>\n",
       "<polygon fill=\"black\" points=\"52.0001,-46.5288 48.5,-36.5288 45.0001,-46.5289 52.0001,-46.5288\" stroke=\"black\"/>\n",
       "</g>\n",
       "</g>\n",
       "</svg>"
      ],
      "text/plain": [
       "<IPython.core.display.SVG object>"
      ]
     },
     "execution_count": 15,
     "metadata": {},
     "output_type": "execute_result"
    }
   ],
   "source": [
    "SVG(model_to_dot(model2).create(prog='dot', format='svg'))"
   ]
  },
  {
   "cell_type": "code",
   "execution_count": null,
   "metadata": {},
   "outputs": [],
   "source": []
  }
 ],
 "metadata": {
  "kernelspec": {
   "display_name": "Python 3",
   "language": "python",
   "name": "python3"
  },
  "language_info": {
   "codemirror_mode": {
    "name": "ipython",
    "version": 3
   },
   "file_extension": ".py",
   "mimetype": "text/x-python",
   "name": "python",
   "nbconvert_exporter": "python",
   "pygments_lexer": "ipython3",
   "version": "3.6.6"
  }
 },
 "nbformat": 4,
 "nbformat_minor": 2
}

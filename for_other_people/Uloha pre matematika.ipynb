{
 "cells": [
  {
   "cell_type": "markdown",
   "metadata": {},
   "source": [
    "Jazda na mechanickom býkovi.\n",
    "Máme historické dáta o 1000 súťažiacich, každého sme pozorovali 100 krát. (Dáta dodáme v csv súbore.)\n",
    "\n",
    "Uvažujme nasledovný model:\n",
    "Pretekár $k$ je charakterizovaný jedným číslom $m_k$ a logaritmus jeho času v konkrétnom závode je vybraný z normálneho rozdelenia so strednou hodnotou $m_k$ a varianciou $\\tau^2$.\n",
    "\n",
    "Ďalej predpokladajme, že rozdelenie čísla $m$ v prírode je normálne so strednou hodnotou $\\mu$ a varianciou $\\sigma^2$.\n",
    "\n",
    "* a) Z dát odhadnite hodnoty parametrov $\\tau, \\mu, \\sigma$. (Hint: Mali by vyjsť približne malé celé čísla.)\n",
    "\n",
    "* b) Predpokladajme že sme namerali $\\mu = \\sigma = \\tau = 1$. Objavíme nového jazdca, ktorého sme videli súťažiť len dva krát s časmi $e^2$ sekúnd a $e^3$ sekúnd. Aká je pravdepodobnosť, že v ďalšej súťaži vydrží aspoň $e^2$ sekúnd?\n",
    "(Hint: s ohľadom na veľké množstvo dát predpokladajte, že parametre $\\tau, \\mu, \\sigma$ sú presne určené.)\n"
   ]
  },
  {
   "cell_type": "markdown",
   "metadata": {},
   "source": [
    "## Solution:\n",
    "We measured $\\mu = \\sigma = \\tau = 1$.\n",
    "Denote $x_0 = 2$, $x_1 = 3$ the logarithms of the observed times.\n",
    "\n",
    "Posterior distribution of parameter $m$ of the new contestant is\n",
    "$$ m \\sim Norm\\big( \\frac{\\mu + x_0 + x_1}{3}, var= \\frac 1 3 \\big) = Norm\\big( mean=2, var= \\frac 1 3 \\big)$$\n",
    "\n",
    "Thus the distribution of the logarithm of his next time is distributed as \n",
    "$$x_2 \\sim Norm\\big( mean=2, var= \\frac 1 3 + 1 \\big)$$\n",
    "Consequently probability that $x_2 > 2$ is $\\frac 1 2$.\n"
   ]
  },
  {
   "cell_type": "markdown",
   "metadata": {},
   "source": [
    "## Generate Data"
   ]
  },
  {
   "cell_type": "code",
   "execution_count": 54,
   "metadata": {},
   "outputs": [],
   "source": [
    "import numpy as np\n",
    "from numpy import random as rnd"
   ]
  },
  {
   "cell_type": "code",
   "execution_count": null,
   "metadata": {},
   "outputs": [],
   "source": [
    "mu = sigma = tau = 1"
   ]
  },
  {
   "cell_type": "code",
   "execution_count": 6,
   "metadata": {},
   "outputs": [],
   "source": [
    "M = rnd.normal(loc=mu, scale=sigma, size=1000)"
   ]
  },
  {
   "cell_type": "code",
   "execution_count": 39,
   "metadata": {},
   "outputs": [],
   "source": [
    "ln_T = np.array([rnd.normal(loc=m, scale=tau, size=100) for m in M])\n",
    "T = np.exp(ln_T)"
   ]
  },
  {
   "cell_type": "markdown",
   "metadata": {},
   "source": [
    "**Check it**"
   ]
  },
  {
   "cell_type": "code",
   "execution_count": 40,
   "metadata": {},
   "outputs": [
    {
     "data": {
      "text/plain": [
       "(0.9999062795988837, 1.0079594638200955)"
      ]
     },
     "execution_count": 40,
     "metadata": {},
     "output_type": "execute_result"
    }
   ],
   "source": [
    "M.mean(), M.std()"
   ]
  },
  {
   "cell_type": "code",
   "execution_count": 41,
   "metadata": {},
   "outputs": [
    {
     "data": {
      "text/plain": [
       "(0.9983877409654313, 1.4162135677817986)"
      ]
     },
     "execution_count": 41,
     "metadata": {},
     "output_type": "execute_result"
    }
   ],
   "source": [
    "ln_T.mean(), ln_T.std()"
   ]
  },
  {
   "cell_type": "code",
   "execution_count": 42,
   "metadata": {},
   "outputs": [
    {
     "data": {
      "text/plain": [
       "(-0.001518538633452256, 0.9982389022878385)"
      ]
     },
     "execution_count": 42,
     "metadata": {},
     "output_type": "execute_result"
    }
   ],
   "source": [
    "(ln_T - M[:, None]).mean(), (ln_T - M[:, None]).std()"
   ]
  },
  {
   "cell_type": "markdown",
   "metadata": {},
   "source": [
    "**Save to file**"
   ]
  },
  {
   "cell_type": "code",
   "execution_count": 43,
   "metadata": {},
   "outputs": [],
   "source": [
    "import pandas as pd"
   ]
  },
  {
   "cell_type": "code",
   "execution_count": 44,
   "metadata": {},
   "outputs": [
    {
     "data": {
      "text/html": [
       "<div>\n",
       "<style scoped>\n",
       "    .dataframe tbody tr th:only-of-type {\n",
       "        vertical-align: middle;\n",
       "    }\n",
       "\n",
       "    .dataframe tbody tr th {\n",
       "        vertical-align: top;\n",
       "    }\n",
       "\n",
       "    .dataframe thead th {\n",
       "        text-align: right;\n",
       "    }\n",
       "</style>\n",
       "<table border=\"1\" class=\"dataframe\">\n",
       "  <thead>\n",
       "    <tr style=\"text-align: right;\">\n",
       "      <th></th>\n",
       "      <th>0</th>\n",
       "      <th>1</th>\n",
       "      <th>2</th>\n",
       "      <th>3</th>\n",
       "      <th>4</th>\n",
       "      <th>5</th>\n",
       "      <th>6</th>\n",
       "      <th>7</th>\n",
       "      <th>8</th>\n",
       "      <th>9</th>\n",
       "      <th>...</th>\n",
       "      <th>90</th>\n",
       "      <th>91</th>\n",
       "      <th>92</th>\n",
       "      <th>93</th>\n",
       "      <th>94</th>\n",
       "      <th>95</th>\n",
       "      <th>96</th>\n",
       "      <th>97</th>\n",
       "      <th>98</th>\n",
       "      <th>99</th>\n",
       "    </tr>\n",
       "  </thead>\n",
       "  <tbody>\n",
       "    <tr>\n",
       "      <th>0</th>\n",
       "      <td>20.333740</td>\n",
       "      <td>5.318111</td>\n",
       "      <td>6.222259</td>\n",
       "      <td>1.151210</td>\n",
       "      <td>6.416893</td>\n",
       "      <td>6.056503</td>\n",
       "      <td>5.899793</td>\n",
       "      <td>5.422069</td>\n",
       "      <td>3.969427</td>\n",
       "      <td>18.739121</td>\n",
       "      <td>...</td>\n",
       "      <td>7.033563</td>\n",
       "      <td>25.001109</td>\n",
       "      <td>8.566212</td>\n",
       "      <td>8.244436</td>\n",
       "      <td>2.184360</td>\n",
       "      <td>5.498176</td>\n",
       "      <td>2.110978</td>\n",
       "      <td>4.645810</td>\n",
       "      <td>2.411930</td>\n",
       "      <td>4.505944</td>\n",
       "    </tr>\n",
       "    <tr>\n",
       "      <th>1</th>\n",
       "      <td>2.016218</td>\n",
       "      <td>29.702839</td>\n",
       "      <td>7.743340</td>\n",
       "      <td>23.692174</td>\n",
       "      <td>24.375903</td>\n",
       "      <td>2.570488</td>\n",
       "      <td>3.978635</td>\n",
       "      <td>13.553372</td>\n",
       "      <td>22.005798</td>\n",
       "      <td>4.061112</td>\n",
       "      <td>...</td>\n",
       "      <td>16.199944</td>\n",
       "      <td>7.496730</td>\n",
       "      <td>63.186551</td>\n",
       "      <td>6.978679</td>\n",
       "      <td>3.096965</td>\n",
       "      <td>1.135852</td>\n",
       "      <td>3.151352</td>\n",
       "      <td>10.010178</td>\n",
       "      <td>6.688825</td>\n",
       "      <td>15.055173</td>\n",
       "    </tr>\n",
       "    <tr>\n",
       "      <th>2</th>\n",
       "      <td>0.098910</td>\n",
       "      <td>0.647817</td>\n",
       "      <td>1.638456</td>\n",
       "      <td>0.421921</td>\n",
       "      <td>2.743406</td>\n",
       "      <td>12.344246</td>\n",
       "      <td>1.115575</td>\n",
       "      <td>2.432689</td>\n",
       "      <td>0.999417</td>\n",
       "      <td>1.256698</td>\n",
       "      <td>...</td>\n",
       "      <td>2.185681</td>\n",
       "      <td>0.196562</td>\n",
       "      <td>2.435643</td>\n",
       "      <td>1.102194</td>\n",
       "      <td>1.521679</td>\n",
       "      <td>1.170022</td>\n",
       "      <td>2.370964</td>\n",
       "      <td>0.409610</td>\n",
       "      <td>1.309465</td>\n",
       "      <td>0.160516</td>\n",
       "    </tr>\n",
       "    <tr>\n",
       "      <th>3</th>\n",
       "      <td>5.432088</td>\n",
       "      <td>0.751066</td>\n",
       "      <td>3.897483</td>\n",
       "      <td>3.824519</td>\n",
       "      <td>8.284731</td>\n",
       "      <td>13.804523</td>\n",
       "      <td>5.911102</td>\n",
       "      <td>15.446412</td>\n",
       "      <td>6.194808</td>\n",
       "      <td>1.483478</td>\n",
       "      <td>...</td>\n",
       "      <td>2.217308</td>\n",
       "      <td>6.212220</td>\n",
       "      <td>10.340716</td>\n",
       "      <td>1.788997</td>\n",
       "      <td>1.110360</td>\n",
       "      <td>5.744799</td>\n",
       "      <td>10.447801</td>\n",
       "      <td>0.529797</td>\n",
       "      <td>4.648076</td>\n",
       "      <td>9.370161</td>\n",
       "    </tr>\n",
       "    <tr>\n",
       "      <th>4</th>\n",
       "      <td>1.234847</td>\n",
       "      <td>10.912452</td>\n",
       "      <td>4.696745</td>\n",
       "      <td>3.601206</td>\n",
       "      <td>9.120497</td>\n",
       "      <td>6.184297</td>\n",
       "      <td>6.994796</td>\n",
       "      <td>1.340925</td>\n",
       "      <td>1.408235</td>\n",
       "      <td>1.259033</td>\n",
       "      <td>...</td>\n",
       "      <td>6.194439</td>\n",
       "      <td>4.539114</td>\n",
       "      <td>3.876248</td>\n",
       "      <td>4.212600</td>\n",
       "      <td>1.246499</td>\n",
       "      <td>1.527642</td>\n",
       "      <td>5.484048</td>\n",
       "      <td>0.175399</td>\n",
       "      <td>2.980338</td>\n",
       "      <td>8.389928</td>\n",
       "    </tr>\n",
       "  </tbody>\n",
       "</table>\n",
       "<p>5 rows × 100 columns</p>\n",
       "</div>"
      ],
      "text/plain": [
       "          0          1         2          3          4          5         6   \\\n",
       "0  20.333740   5.318111  6.222259   1.151210   6.416893   6.056503  5.899793   \n",
       "1   2.016218  29.702839  7.743340  23.692174  24.375903   2.570488  3.978635   \n",
       "2   0.098910   0.647817  1.638456   0.421921   2.743406  12.344246  1.115575   \n",
       "3   5.432088   0.751066  3.897483   3.824519   8.284731  13.804523  5.911102   \n",
       "4   1.234847  10.912452  4.696745   3.601206   9.120497   6.184297  6.994796   \n",
       "\n",
       "          7          8          9   ...         90         91         92  \\\n",
       "0   5.422069   3.969427  18.739121  ...   7.033563  25.001109   8.566212   \n",
       "1  13.553372  22.005798   4.061112  ...  16.199944   7.496730  63.186551   \n",
       "2   2.432689   0.999417   1.256698  ...   2.185681   0.196562   2.435643   \n",
       "3  15.446412   6.194808   1.483478  ...   2.217308   6.212220  10.340716   \n",
       "4   1.340925   1.408235   1.259033  ...   6.194439   4.539114   3.876248   \n",
       "\n",
       "         93        94        95         96         97        98         99  \n",
       "0  8.244436  2.184360  5.498176   2.110978   4.645810  2.411930   4.505944  \n",
       "1  6.978679  3.096965  1.135852   3.151352  10.010178  6.688825  15.055173  \n",
       "2  1.102194  1.521679  1.170022   2.370964   0.409610  1.309465   0.160516  \n",
       "3  1.788997  1.110360  5.744799  10.447801   0.529797  4.648076   9.370161  \n",
       "4  4.212600  1.246499  1.527642   5.484048   0.175399  2.980338   8.389928  \n",
       "\n",
       "[5 rows x 100 columns]"
      ]
     },
     "execution_count": 44,
     "metadata": {},
     "output_type": "execute_result"
    }
   ],
   "source": [
    "df = pd.DataFrame(T)\n",
    "df.head()"
   ]
  },
  {
   "cell_type": "code",
   "execution_count": 45,
   "metadata": {},
   "outputs": [],
   "source": [
    "df.to_csv(\"d:/bull_riding_times.csv\", header=False, index=False )"
   ]
  },
  {
   "cell_type": "markdown",
   "metadata": {},
   "source": [
    "# Estimate parameters from data"
   ]
  },
  {
   "cell_type": "code",
   "execution_count": 24,
   "metadata": {},
   "outputs": [],
   "source": [
    "import pandas as pd\n",
    "import numpy as np\n",
    "from matplotlib import pyplot as plt"
   ]
  },
  {
   "cell_type": "code",
   "execution_count": 27,
   "metadata": {},
   "outputs": [],
   "source": [
    "path = r\"D:\\testovaci_data – kopie.csv\"\n",
    "data = pd.read_csv(path, header=None)"
   ]
  },
  {
   "cell_type": "code",
   "execution_count": 28,
   "metadata": {},
   "outputs": [],
   "source": [
    "data = np.log(data.values)"
   ]
  },
  {
   "cell_type": "code",
   "execution_count": 29,
   "metadata": {},
   "outputs": [],
   "source": [
    "means = data.mean(axis=1)"
   ]
  },
  {
   "cell_type": "code",
   "execution_count": 35,
   "metadata": {},
   "outputs": [],
   "source": [
    "variances = np.var(data, axis=1, ddof=1)"
   ]
  },
  {
   "cell_type": "code",
   "execution_count": 36,
   "metadata": {},
   "outputs": [
    {
     "data": {
      "text/plain": [
       "(array([ 3.,  8., 10.,  9., 15., 16., 15., 12.,  9.,  3.]),\n",
       " array([-2.17650288, -1.76393493, -1.35136698, -0.93879903, -0.52623109,\n",
       "        -0.11366314,  0.29890481,  0.71147276,  1.12404071,  1.53660866,\n",
       "         1.94917661]),\n",
       " <a list of 10 Patch objects>)"
      ]
     },
     "execution_count": 36,
     "metadata": {},
     "output_type": "execute_result"
    },
    {
     "data": {
      "image/png": "[encoded data removed]",
      "text/plain": [
       "<Figure size 432x288 with 1 Axes>"
      ]
     },
     "metadata": {
      "needs_background": "light"
     },
     "output_type": "display_data"
    }
   ],
   "source": [
    "plt.hist(data[0])"
   ]
  },
  {
   "cell_type": "code",
   "execution_count": 37,
   "metadata": {},
   "outputs": [
    {
     "data": {
      "text/plain": [
       "array([0.90380014, 1.02071644, 0.96944427, 0.82932465, 0.86964839,\n",
       "       1.14616163, 0.87715381, 0.81523502, 0.88160126, 1.05025949,\n",
       "       0.88732464, 1.03189345, 1.05407868, 0.99745269, 0.80341208,\n",
       "       1.01535552, 0.81401019, 1.18363527, 1.255344  , 1.10239795,\n",
       "       0.98057425, 0.7840284 , 1.23487003, 1.09116752, 0.94390191,\n",
       "       0.96164899, 0.87908261, 0.90325137, 0.96636375, 1.02263574,\n",
       "       1.14343631, 1.07107295, 0.77604548, 1.07744931, 1.09070897,\n",
       "       0.96052958, 0.81671   , 0.94765955, 0.92390701, 0.9207985 ,\n",
       "       1.1489125 , 1.14819525, 0.8906967 , 0.76966752, 0.88902859,\n",
       "       0.95877602, 1.0205723 , 1.16684053, 1.08680058, 0.90898336,\n",
       "       0.86814101, 0.93003518, 0.82236283, 0.89230141, 0.93932381,\n",
       "       0.86058288, 0.97975015, 1.08221855, 1.1847425 , 1.08661402,\n",
       "       0.98426519, 1.07534889, 1.04042156, 1.03635815, 1.12597324,\n",
       "       1.05887055, 1.00724102, 1.24650256, 0.81157374, 0.83467384,\n",
       "       1.29284325, 1.00958546, 1.01460106, 0.81187493, 0.89337225,\n",
       "       0.96572048, 1.05317343, 0.99120147, 1.11794718, 1.13312212,\n",
       "       0.93549712, 1.20155787, 1.03234718, 0.92968   , 0.84273344,\n",
       "       0.79763672, 0.96983717, 1.21054294, 0.88630215, 1.0885841 ,\n",
       "       0.81987098, 0.9380044 , 1.0538969 , 1.0553929 , 1.11004014,\n",
       "       0.76870382, 1.17725247, 0.99788554, 0.92620748, 1.04390358,\n",
       "       1.15315971, 1.30246699, 1.09560852, 1.18351673, 1.05287849,\n",
       "       0.78243778, 1.08659136, 1.24587626, 1.05544696, 1.15139384,\n",
       "       0.80669645, 0.77509907, 0.95352212, 0.89680422, 0.84656197,\n",
       "       0.85117833, 0.69895258, 0.94297124, 0.98930102, 0.92960633,\n",
       "       0.86202557, 0.98749138, 0.97043569, 1.22868702, 1.19794536,\n",
       "       0.88977032, 1.08890763, 0.89282606, 0.77013751, 1.18460059,\n",
       "       1.25174935, 0.98476174, 0.97962652, 0.82923528, 0.77265125,\n",
       "       1.10308832, 0.86261001, 0.97335392, 1.31212931, 0.82176999,\n",
       "       1.05554325, 0.92321659, 0.91273232, 0.99072247, 0.9964416 ,\n",
       "       0.89758675, 1.1954617 , 0.87715768, 1.01047398, 0.95831305,\n",
       "       0.80660699, 0.83674307, 1.09641957, 1.38366957, 0.87671235,\n",
       "       0.75051028, 1.02348827, 0.93815639, 0.95260231, 1.15001523,\n",
       "       1.05423641, 0.86403715, 0.79474216, 1.25803913, 0.87281142,\n",
       "       1.14246829, 0.95180916, 0.91235418, 1.09348501, 1.02485974,\n",
       "       0.94379067, 0.62513331, 0.79400019, 1.20337636, 1.01470805,\n",
       "       1.0163359 , 1.1405655 , 0.88772372, 1.00243217, 1.05124608,\n",
       "       0.90627269, 1.29260239, 1.27908457, 0.90598135, 1.0581935 ,\n",
       "       0.90197227, 0.77111632, 1.08991369, 0.893367  , 0.93936001,\n",
       "       1.17849656, 1.05090972, 0.81621313, 1.03784702, 0.68263198,\n",
       "       0.98684103, 0.77642092, 0.81262582, 1.13410066, 1.04748079,\n",
       "       1.00539042, 0.87339287, 0.87139608, 0.91119645, 1.10396076,\n",
       "       1.23087848, 1.1762646 , 1.0591606 , 1.15204319, 1.00244972,\n",
       "       0.95310868, 1.45692769, 0.90584614, 1.07179959, 1.07125594,\n",
       "       1.07197232, 0.77541937, 0.94078082, 0.71825978, 0.73951617,\n",
       "       0.77720842, 1.06241148, 1.04488337, 0.93264609, 1.16575688,\n",
       "       1.15522871, 0.8729877 , 0.99477236, 1.06047907, 0.89166829,\n",
       "       0.9852884 , 1.03456443, 1.32386515, 1.0589841 , 0.99773965,\n",
       "       1.00352906, 0.93915203, 0.90425137, 0.92315259, 1.14810194,\n",
       "       1.02972681, 0.77180954, 1.25190994, 1.0005076 , 1.04081442,\n",
       "       1.12326771, 1.21918989, 1.16069536, 0.84395297, 0.80566276,\n",
       "       1.02050462, 0.84837142, 1.26188374, 0.93536938, 0.95117604,\n",
       "       0.8359625 , 0.99174431, 1.04333251, 1.2432734 , 0.9125035 ,\n",
       "       1.00188721, 0.93020379, 1.14737852, 1.01008895, 0.9474401 ,\n",
       "       0.80786682, 1.14561753, 0.88835677, 0.7895254 , 1.00441223,\n",
       "       0.91091803, 0.9519908 , 0.88346009, 0.92345777, 0.7780618 ,\n",
       "       0.93424854, 1.03225551, 0.65396901, 1.07618059, 1.05386452,\n",
       "       1.10033825, 0.95949279, 0.84562172, 0.77198369, 0.98078699,\n",
       "       0.84919308, 1.14057402, 1.02579847, 0.83626702, 0.90155548,\n",
       "       0.75323718, 1.20138265, 1.2731189 , 0.86594864, 1.15004584,\n",
       "       0.93251212, 0.91749479, 1.01851924, 0.72123825, 1.00514726,\n",
       "       0.90449001, 1.038638  , 1.03962918, 1.03285023, 0.86315991,\n",
       "       1.15829236, 0.9277677 , 1.12981726, 0.99370074, 1.21126782,\n",
       "       1.13865358, 1.14502039, 1.30529606, 0.95551351, 0.91311007,\n",
       "       1.4931936 , 1.0047397 , 0.72166455, 1.01796478, 1.18210168,\n",
       "       0.81441001, 0.9777855 , 0.91224865, 1.0385881 , 1.01283504,\n",
       "       1.08314129, 1.02130251, 0.978705  , 1.00244395, 1.04129297,\n",
       "       0.82390158, 0.90133537, 1.11352943, 0.91902058, 0.90522066,\n",
       "       0.93347926, 1.07910026, 0.95889594, 0.85940311, 0.93860272,\n",
       "       0.92356354, 0.89328304, 1.10959961, 0.964555  , 1.18685035,\n",
       "       0.83285722, 0.78711419, 0.98164468, 0.86083351, 1.17675673,\n",
       "       0.93924346, 1.31683661, 1.00995803, 0.92102137, 1.14668877,\n",
       "       1.04732728, 0.9231506 , 1.02354132, 0.95924827, 1.03464415,\n",
       "       0.99808634, 1.20562171, 1.15202101, 1.0066226 , 1.18780976,\n",
       "       0.92541313, 1.19271626, 0.89448452, 1.01917806, 0.92177877,\n",
       "       0.80423684, 0.88384172, 0.84919857, 1.06170797, 0.93566933,\n",
       "       0.94799364, 0.93258618, 1.14800121, 1.02659785, 0.88725213,\n",
       "       0.86689912, 0.91404569, 1.0552084 , 1.11089571, 0.86519445,\n",
       "       0.9675914 , 0.99651019, 1.16965714, 1.02191233, 1.29823062,\n",
       "       0.98679532, 1.04373671, 1.06150632, 1.05366079, 0.82189766,\n",
       "       0.99556887, 1.15412457, 0.77876177, 0.92770969, 1.12972669,\n",
       "       0.95826444, 1.08352998, 1.07056799, 1.20883882, 0.8808105 ,\n",
       "       1.08764697, 0.85708633, 0.97221554, 0.97857687, 0.85388617,\n",
       "       0.99470294, 1.19789888, 0.90608048, 1.0276811 , 1.16998327,\n",
       "       0.9347766 , 0.95538838, 1.00820219, 1.10636911, 1.1235738 ,\n",
       "       1.17909387, 1.22539032, 0.80973168, 0.92495625, 1.00384889,\n",
       "       0.82692741, 0.92638647, 0.93565011, 0.91416948, 0.93574748,\n",
       "       1.09363729, 0.88349415, 1.05769878, 1.06545538, 0.95839557,\n",
       "       0.83996854, 1.11434886, 1.11856686, 0.86009149, 0.87403942,\n",
       "       0.85709024, 0.81618767, 1.35315443, 1.12985775, 1.23979668,\n",
       "       0.54937158, 0.82500396, 0.93749792, 1.05335082, 0.94599142,\n",
       "       1.09053231, 0.79975717, 1.4691532 , 0.80658337, 0.92661508,\n",
       "       0.99935155, 1.19389485, 1.08914832, 0.95160627, 1.07319722,\n",
       "       1.10241739, 1.05558892, 0.85479967, 0.84613564, 0.96323684,\n",
       "       0.96364647, 1.08689268, 0.92243921, 0.8390614 , 0.97358821,\n",
       "       0.96295897, 0.85152308, 1.04354734, 0.89339709, 1.03547302,\n",
       "       1.18003237, 1.15716068, 0.98719192, 1.09257554, 0.80507257,\n",
       "       0.82631623, 0.86048031, 0.8792539 , 0.70280592, 0.98177166,\n",
       "       0.72146929, 0.95348713, 0.91575435, 0.96265729, 0.72941262,\n",
       "       1.08391336, 1.03612832, 1.10025769, 0.78876366, 0.81507061,\n",
       "       1.21570383, 1.05926569, 0.84353512, 0.90714874, 0.87316003,\n",
       "       0.83118269, 0.90935373, 0.85846238, 1.14391523, 0.89208215,\n",
       "       1.02000558, 0.7595056 , 1.11298784, 1.04558592, 0.85095563,\n",
       "       1.17293792, 0.97604783, 0.91053243, 1.03122144, 0.89346887,\n",
       "       0.97794598, 1.02501561, 1.06319881, 1.05870275, 0.95363802,\n",
       "       0.99080891, 0.81990641, 0.95369417, 0.84088766, 1.10446829,\n",
       "       0.97342699, 0.9792147 , 1.13303332, 0.9187677 , 1.05148066,\n",
       "       1.19139516, 0.87771797, 1.00819198, 1.02948348, 1.07843639,\n",
       "       0.95449361, 1.03372379, 1.20456337, 1.03134649, 0.86683244,\n",
       "       1.15459704, 1.00760228, 1.02733997, 0.97083565, 1.1103465 ,\n",
       "       1.04330658, 0.95805283, 1.02637216, 1.19470013, 1.0172375 ,\n",
       "       0.8989166 , 1.13522232, 0.93160689, 0.9374347 , 1.01954872,\n",
       "       0.75680163, 0.98170989, 0.9921339 , 0.96658052, 0.89704697,\n",
       "       0.86918377, 1.20888805, 0.94517946, 0.75075846, 0.77365064,\n",
       "       1.22134418, 0.98150418, 0.95226465, 0.78480833, 0.99299827,\n",
       "       0.95202892, 1.08069062, 1.03214829, 1.0232942 , 1.08485027,\n",
       "       0.89435478, 0.80694836, 1.00263723, 1.0044586 , 1.12496768,\n",
       "       0.88550787, 0.98141918, 0.88273601, 0.90694323, 0.83959031,\n",
       "       1.08039499, 1.02325132, 0.98402868, 1.16283921, 1.30384655,\n",
       "       1.1768827 , 1.02860975, 1.07030346, 1.16174775, 1.00158629,\n",
       "       0.97110669, 1.25541817, 0.81915764, 0.88947927, 1.12527229,\n",
       "       0.86802461, 0.91487765, 0.98728653, 1.17758492, 1.19146439,\n",
       "       1.11813121, 0.901303  , 0.72264513, 1.10150122, 0.98948907,\n",
       "       0.9570193 , 1.08460302, 1.26706189, 1.24487727, 0.99779327,\n",
       "       1.05397783, 0.90470951, 1.17283997, 1.0666963 , 0.98426048,\n",
       "       1.2968439 , 1.06320156, 0.59334817, 0.76882381, 1.25888403,\n",
       "       1.02131516, 0.77934495, 1.07801182, 1.0637792 , 1.07599929,\n",
       "       0.86323559, 0.74781502, 1.01311985, 0.99862828, 0.88230429,\n",
       "       0.93239226, 0.84581542, 1.13729334, 0.92575861, 0.83134027,\n",
       "       1.04169506, 0.93182529, 1.17771366, 1.28584403, 1.19390879,\n",
       "       0.80654159, 1.14408005, 1.02219069, 0.98922877, 1.09352806,\n",
       "       0.90582414, 1.05702744, 1.03371971, 1.02902687, 0.89120644,\n",
       "       1.21151262, 0.94855918, 0.760264  , 1.07716061, 1.22227233,\n",
       "       0.9277827 , 0.64676219, 1.0672353 , 0.95125278, 0.76356121,\n",
       "       1.04796441, 1.30831111, 1.09374583, 0.79597763, 1.45340631,\n",
       "       0.93325172, 0.89586782, 1.10835083, 1.06280602, 1.08463268,\n",
       "       1.08335269, 1.01219078, 1.16104412, 1.01656377, 0.90036108,\n",
       "       0.84572322, 1.08950875, 1.04771125, 0.96674822, 1.05053095,\n",
       "       0.92173943, 0.86757536, 1.52753822, 0.77813414, 1.17918895,\n",
       "       0.96281778, 1.20221727, 1.11933056, 1.04679548, 0.91296456,\n",
       "       1.07650597, 1.1773763 , 0.85935246, 0.82836513, 0.91494776,\n",
       "       1.10316804, 0.98486832, 0.98688098, 0.79404566, 0.97302309,\n",
       "       1.17243503, 1.25277428, 1.02055329, 1.16785906, 0.89264498,\n",
       "       1.10773634, 0.71160327, 0.7888934 , 0.99352239, 0.9037131 ,\n",
       "       0.90724218, 1.08131085, 1.01205991, 0.7860648 , 0.91371614,\n",
       "       1.25202997, 0.91982404, 0.974816  , 1.01762008, 0.92549597,\n",
       "       1.02513621, 0.9715452 , 0.89545113, 1.07194719, 1.10106473,\n",
       "       1.20676385, 0.82705191, 0.95988686, 0.95042986, 1.30386906,\n",
       "       0.81974527, 0.92460028, 0.73837649, 1.05635483, 1.02041296,\n",
       "       1.01181581, 1.04170405, 0.99619374, 0.90485439, 0.92510057,\n",
       "       1.00682142, 0.8640527 , 1.12077178, 1.05479181, 0.90220754,\n",
       "       1.07692818, 1.06548789, 1.11728334, 1.22741519, 0.8821591 ,\n",
       "       0.94658622, 1.06475717, 0.96489018, 1.08292486, 1.08668306,\n",
       "       0.94026595, 1.07628285, 1.08585419, 1.23015441, 0.86238464,\n",
       "       1.23243108, 1.10644677, 1.01954924, 0.85648952, 1.20126881,\n",
       "       0.88765695, 1.25110791, 1.07333843, 1.19094233, 1.28992703,\n",
       "       1.06940848, 1.06875586, 1.17792895, 0.8942702 , 1.03620424,\n",
       "       0.9192452 , 0.89181961, 1.26014466, 1.13811466, 1.0198435 ,\n",
       "       1.07788201, 0.93093559, 1.13097569, 0.94073901, 0.86101765,\n",
       "       1.19745069, 1.09747582, 1.14999218, 1.13569485, 1.08702205,\n",
       "       0.9347069 , 0.67519103, 1.12165667, 1.05672555, 0.94775863,\n",
       "       1.10055316, 0.89062867, 0.83674535, 0.81994584, 1.16270024,\n",
       "       0.99031733, 1.52298776, 0.87373803, 1.08422354, 0.98206998,\n",
       "       1.40596309, 0.93951396, 0.71507263, 0.72750742, 1.09973005,\n",
       "       1.13466757, 1.06032057, 0.87075883, 1.09916198, 1.14155909,\n",
       "       0.83708481, 1.00582655, 0.87585496, 0.91405371, 0.88842062,\n",
       "       1.10349737, 0.95017191, 0.91709305, 0.92291815, 0.97896968,\n",
       "       1.13593627, 0.98279397, 0.81572246, 0.79726631, 0.80909389,\n",
       "       0.88023858, 1.20659243, 1.06009867, 1.21794221, 0.97292078,\n",
       "       0.96845735, 0.9272253 , 1.21419187, 0.89643585, 0.76471246,\n",
       "       0.97281376, 1.10549584, 1.04032557, 1.00577474, 0.95664438,\n",
       "       0.97332223, 1.22292534, 1.18196994, 1.20582496, 0.90019973,\n",
       "       1.21020798, 0.85648176, 1.25855317, 1.19572195, 0.77909736,\n",
       "       1.09563306, 0.8974416 , 1.04404241, 0.92978294, 1.13968265,\n",
       "       1.2850709 , 1.04751344, 0.88573056, 0.92609265, 1.26650496,\n",
       "       1.33847345, 1.00170361, 1.0448273 , 1.01874085, 0.91585999,\n",
       "       0.9519195 , 0.85067124, 0.92512244, 0.95717037, 0.76668967,\n",
       "       0.99136343, 0.97959631, 0.98677355, 1.06964231, 1.04713261,\n",
       "       1.02639057, 1.12021729, 0.75209902, 0.83979199, 1.06216609,\n",
       "       0.81686489, 0.908141  , 0.90569845, 0.88498447, 0.9533163 ,\n",
       "       1.00034295, 1.10187945, 0.90820865, 0.89622283, 0.78192357,\n",
       "       0.99218408, 1.01071054, 1.07464693, 0.90709303, 0.90590186,\n",
       "       1.11062078, 0.89813661, 1.08769538, 1.1990591 , 1.13677417,\n",
       "       0.91872784, 1.08270455, 1.02720313, 1.12081887, 1.08064146,\n",
       "       1.07228615, 0.97284585, 0.90863686, 0.98351918, 0.99071801,\n",
       "       1.05353056, 0.96395476, 1.19112089, 1.21624509, 0.92813659,\n",
       "       0.97144119, 1.0899114 , 1.08705789, 0.98483586, 1.10460703,\n",
       "       1.01908912, 0.96785536, 1.09198639, 1.02270808, 0.91470505,\n",
       "       0.81866387, 0.87876846, 1.08696574, 1.1943911 , 1.24803273,\n",
       "       1.05603947, 0.94495287, 0.95408271, 1.3040856 , 1.23893512,\n",
       "       1.12324774, 0.69892944, 1.07726823, 0.8232761 , 0.75679135,\n",
       "       0.92736407, 0.97867226, 0.95451381, 0.96854027, 1.12610524,\n",
       "       1.27923517, 0.79598663, 1.0786809 , 1.0441685 , 1.13142546,\n",
       "       0.75808058, 1.11810694, 0.88141803, 0.93435203, 0.93477008,\n",
       "       1.10992135, 0.96621054, 0.88849107, 0.90737685, 1.0230643 ,\n",
       "       0.92482181, 0.99504524, 1.1939741 , 1.37145832, 0.93390306,\n",
       "       0.93554424, 1.08887662, 1.04164796, 1.02851756, 1.01300578,\n",
       "       0.49111938, 0.69558001, 1.1000669 , 0.89600285, 0.99054877,\n",
       "       1.17818105, 0.90327928, 0.95191044, 0.9929819 , 1.04468766,\n",
       "       1.13878368, 0.98701848, 1.0537047 , 1.08379341, 0.82316145,\n",
       "       0.94180624, 1.2278984 , 1.10649519, 0.90567853, 1.01146542])"
      ]
     },
     "execution_count": 37,
     "metadata": {},
     "output_type": "execute_result"
    }
   ],
   "source": [
    "variances"
   ]
  },
  {
   "cell_type": "code",
   "execution_count": 38,
   "metadata": {},
   "outputs": [
    {
     "data": {
      "text/plain": [
       "0.9993817093574141"
      ]
     },
     "execution_count": 38,
     "metadata": {},
     "output_type": "execute_result"
    }
   ],
   "source": [
    "tau2 = variances.mean()\n",
    "tau = tau2 ** (1/2)\n",
    "tau"
   ]
  },
  {
   "cell_type": "code",
   "execution_count": 41,
   "metadata": {},
   "outputs": [
    {
     "data": {
      "text/plain": [
       "3.2285123728225584"
      ]
     },
     "execution_count": 41,
     "metadata": {},
     "output_type": "execute_result"
    }
   ],
   "source": [
    "mu = data.mean()\n",
    "mu"
   ]
  },
  {
   "cell_type": "code",
   "execution_count": 43,
   "metadata": {},
   "outputs": [],
   "source": [
    "sigma2 = np.var(means, ddof=1) - tau2 / data.shape[1]"
   ]
  },
  {
   "cell_type": "code",
   "execution_count": 44,
   "metadata": {},
   "outputs": [],
   "source": [
    "sigma = np.sqrt(sigma2)"
   ]
  },
  {
   "cell_type": "code",
   "execution_count": 45,
   "metadata": {},
   "outputs": [
    {
     "data": {
      "text/plain": [
       "2.707150495411907"
      ]
     },
     "execution_count": 45,
     "metadata": {},
     "output_type": "execute_result"
    }
   ],
   "source": [
    "sigma"
   ]
  },
  {
   "cell_type": "code",
   "execution_count": 51,
   "metadata": {},
   "outputs": [
    {
     "name": "stdout",
     "output_type": "stream",
     "text": [
      "mu = 3.2285123728225584, sigma = 2.707150495411907, tau = 0.9993817093574141\n"
     ]
    }
   ],
   "source": [
    "print(f\"mu = {mu}, sigma = {sigma}, tau = {tau}\")"
   ]
  },
  {
   "cell_type": "markdown",
   "metadata": {},
   "source": [
    "# Bordel"
   ]
  },
  {
   "cell_type": "code",
   "execution_count": 61,
   "metadata": {},
   "outputs": [],
   "source": [
    "mu = np.pi\n",
    "sigma = np.e \n",
    "tau = 1"
   ]
  },
  {
   "cell_type": "code",
   "execution_count": 82,
   "metadata": {},
   "outputs": [
    {
     "data": {
      "text/plain": [
       "3.1261191491258637"
      ]
     },
     "execution_count": 82,
     "metadata": {},
     "output_type": "execute_result"
    }
   ],
   "source": [
    "M = rnd.normal(loc=mu, scale=sigma, size=1000)\n",
    "\n",
    "np.mean(M)"
   ]
  },
  {
   "cell_type": "code",
   "execution_count": 83,
   "metadata": {},
   "outputs": [
    {
     "data": {
      "text/plain": [
       "0.08595961900177693"
      ]
     },
     "execution_count": 83,
     "metadata": {},
     "output_type": "execute_result"
    }
   ],
   "source": [
    "sigma / (1000)**(1/2)"
   ]
  },
  {
   "cell_type": "code",
   "execution_count": 86,
   "metadata": {},
   "outputs": [],
   "source": [
    "ln_T = np.array([rnd.normal(loc=m, scale=tau, size=100) for m in M])\n",
    "T = np.exp(ln_T)"
   ]
  },
  {
   "cell_type": "code",
   "execution_count": 88,
   "metadata": {},
   "outputs": [
    {
     "data": {
      "text/plain": [
       "3.1289709304530664"
      ]
     },
     "execution_count": 88,
     "metadata": {},
     "output_type": "execute_result"
    }
   ],
   "source": [
    "np.mean(ln_T)"
   ]
  },
  {
   "cell_type": "code",
   "execution_count": 87,
   "metadata": {},
   "outputs": [],
   "source": [
    "data = ln_T"
   ]
  },
  {
   "cell_type": "code",
   "execution_count": null,
   "metadata": {},
   "outputs": [],
   "source": []
  }
 ],
 "metadata": {
  "kernelspec": {
   "display_name": "Python 3",
   "language": "python",
   "name": "python3"
  },
  "language_info": {
   "codemirror_mode": {
    "name": "ipython",
    "version": 3
   },
   "file_extension": ".py",
   "mimetype": "text/x-python",
   "name": "python",
   "nbconvert_exporter": "python",
   "pygments_lexer": "ipython3",
   "version": "3.7.4"
  }
 },
 "nbformat": 4,
 "nbformat_minor": 2
}

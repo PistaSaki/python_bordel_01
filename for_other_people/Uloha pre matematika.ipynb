{
 "cells": [
  {
   "cell_type": "markdown",
   "metadata": {},
   "source": [
    "Jazda na mechanickom býkovi.\n",
    "Máme historické dáta o 1000 súťažiacich, každého sme pozorovali 100 krát. (Dáta dodáme v csv súbore.)\n",
    "\n",
    "Uvažujme nasledovný model:\n",
    "Pretekár $k$ je charakterizovaný jedným číslom $m_k$ a logaritmus jeho času v konkrétnom závode je vybraný z normálneho rozdelenia so strednou hodnotou $m_k$ a varianciou $\\tau^2$.\n",
    "\n",
    "Ďalej predpokladajme, že rozdelenie čísla $m$ v prírode je normálne so strednou hodnotou $\\mu$ a varianciou $\\sigma^2$.\n",
    "\n",
    "* a) Z dát odhadnite hodnoty parametrov $\\tau, \\mu, \\sigma$. (Hint: Mali by vyjsť približne malé celé čísla.)\n",
    "\n",
    "* b) Predpokladajme že sme namerali $\\mu = \\sigma = \\tau = 1$. Objavíme nového jazdca, ktorého sme videli súťažiť len dva krát s časmi $e^2$ sekúnd a $e^3$ sekúnd. Aká je pravdepodobnosť, že v ďalšej súťaži vydrží aspoň $e^2$ sekúnd?\n",
    "(Hint: s ohľadom na veľké množstvo dát predpokladajte, že parametre $\\tau, \\mu, \\sigma$ sú presne určené.)\n"
   ]
  },
  {
   "cell_type": "markdown",
   "metadata": {},
   "source": [
    "## Solution:\n",
    "We measured $\\mu = \\sigma = \\tau = 1$.\n",
    "Denote $x_0 = 2$, $x_1 = 3$ the logarithms of the observed times.\n",
    "\n",
    "Posterior distribution of parameter $m$ of the new contestant is\n",
    "$$ m \\sim Norm\\big( \\frac{\\mu + x_0 + x_1}{3}, var= \\frac 1 3 \\big) = Norm\\big( mean=2, var= \\frac 1 3 \\big)$$\n",
    "\n",
    "Thus the distribution of the logarithm of his next time is distributed as \n",
    "$$x_2 \\sim Norm\\big( mean=2, var= \\frac 1 3 + 1 \\big)$$\n",
    "Consequently probability that $x_2 > 2$ is $\\frac 1 2$.\n"
   ]
  },
  {
   "cell_type": "markdown",
   "metadata": {},
   "source": [
    "## Generate Data"
   ]
  },
  {
   "cell_type": "code",
   "execution_count": 4,
   "metadata": {},
   "outputs": [],
   "source": [
    "import numpy as np\n",
    "from numpy import random as rnd"
   ]
  },
  {
   "cell_type": "code",
   "execution_count": 6,
   "metadata": {},
   "outputs": [],
   "source": [
    "mu = sigma = tau = 1"
   ]
  },
  {
   "cell_type": "code",
   "execution_count": 21,
   "metadata": {},
   "outputs": [],
   "source": [
    "M = rnd.normal(loc=mu, scale=sigma, size=1000)"
   ]
  },
  {
   "cell_type": "code",
   "execution_count": 39,
   "metadata": {},
   "outputs": [],
   "source": [
    "ln_T = np.array([rnd.normal(loc=m, scale=tau, size=100) for m in M])\n",
    "T = np.exp(ln_T)"
   ]
  },
  {
   "cell_type": "markdown",
   "metadata": {},
   "source": [
    "**Check it**"
   ]
  },
  {
   "cell_type": "code",
   "execution_count": 40,
   "metadata": {},
   "outputs": [
    {
     "data": {
      "text/plain": [
       "(0.9999062795988837, 1.0079594638200955)"
      ]
     },
     "execution_count": 40,
     "metadata": {},
     "output_type": "execute_result"
    }
   ],
   "source": [
    "M.mean(), M.std()"
   ]
  },
  {
   "cell_type": "code",
   "execution_count": 41,
   "metadata": {},
   "outputs": [
    {
     "data": {
      "text/plain": [
       "(0.9983877409654313, 1.4162135677817986)"
      ]
     },
     "execution_count": 41,
     "metadata": {},
     "output_type": "execute_result"
    }
   ],
   "source": [
    "ln_T.mean(), ln_T.std()"
   ]
  },
  {
   "cell_type": "code",
   "execution_count": 42,
   "metadata": {},
   "outputs": [
    {
     "data": {
      "text/plain": [
       "(-0.001518538633452256, 0.9982389022878385)"
      ]
     },
     "execution_count": 42,
     "metadata": {},
     "output_type": "execute_result"
    }
   ],
   "source": [
    "(ln_T - M[:, None]).mean(), (ln_T - M[:, None]).std()"
   ]
  },
  {
   "cell_type": "markdown",
   "metadata": {},
   "source": [
    "**Save to file**"
   ]
  },
  {
   "cell_type": "code",
   "execution_count": 43,
   "metadata": {},
   "outputs": [],
   "source": [
    "import pandas as pd"
   ]
  },
  {
   "cell_type": "code",
   "execution_count": 44,
   "metadata": {},
   "outputs": [
    {
     "data": {
      "text/html": [
       "<div>\n",
       "<style scoped>\n",
       "    .dataframe tbody tr th:only-of-type {\n",
       "        vertical-align: middle;\n",
       "    }\n",
       "\n",
       "    .dataframe tbody tr th {\n",
       "        vertical-align: top;\n",
       "    }\n",
       "\n",
       "    .dataframe thead th {\n",
       "        text-align: right;\n",
       "    }\n",
       "</style>\n",
       "<table border=\"1\" class=\"dataframe\">\n",
       "  <thead>\n",
       "    <tr style=\"text-align: right;\">\n",
       "      <th></th>\n",
       "      <th>0</th>\n",
       "      <th>1</th>\n",
       "      <th>2</th>\n",
       "      <th>3</th>\n",
       "      <th>4</th>\n",
       "      <th>5</th>\n",
       "      <th>6</th>\n",
       "      <th>7</th>\n",
       "      <th>8</th>\n",
       "      <th>9</th>\n",
       "      <th>...</th>\n",
       "      <th>90</th>\n",
       "      <th>91</th>\n",
       "      <th>92</th>\n",
       "      <th>93</th>\n",
       "      <th>94</th>\n",
       "      <th>95</th>\n",
       "      <th>96</th>\n",
       "      <th>97</th>\n",
       "      <th>98</th>\n",
       "      <th>99</th>\n",
       "    </tr>\n",
       "  </thead>\n",
       "  <tbody>\n",
       "    <tr>\n",
       "      <th>0</th>\n",
       "      <td>20.333740</td>\n",
       "      <td>5.318111</td>\n",
       "      <td>6.222259</td>\n",
       "      <td>1.151210</td>\n",
       "      <td>6.416893</td>\n",
       "      <td>6.056503</td>\n",
       "      <td>5.899793</td>\n",
       "      <td>5.422069</td>\n",
       "      <td>3.969427</td>\n",
       "      <td>18.739121</td>\n",
       "      <td>...</td>\n",
       "      <td>7.033563</td>\n",
       "      <td>25.001109</td>\n",
       "      <td>8.566212</td>\n",
       "      <td>8.244436</td>\n",
       "      <td>2.184360</td>\n",
       "      <td>5.498176</td>\n",
       "      <td>2.110978</td>\n",
       "      <td>4.645810</td>\n",
       "      <td>2.411930</td>\n",
       "      <td>4.505944</td>\n",
       "    </tr>\n",
       "    <tr>\n",
       "      <th>1</th>\n",
       "      <td>2.016218</td>\n",
       "      <td>29.702839</td>\n",
       "      <td>7.743340</td>\n",
       "      <td>23.692174</td>\n",
       "      <td>24.375903</td>\n",
       "      <td>2.570488</td>\n",
       "      <td>3.978635</td>\n",
       "      <td>13.553372</td>\n",
       "      <td>22.005798</td>\n",
       "      <td>4.061112</td>\n",
       "      <td>...</td>\n",
       "      <td>16.199944</td>\n",
       "      <td>7.496730</td>\n",
       "      <td>63.186551</td>\n",
       "      <td>6.978679</td>\n",
       "      <td>3.096965</td>\n",
       "      <td>1.135852</td>\n",
       "      <td>3.151352</td>\n",
       "      <td>10.010178</td>\n",
       "      <td>6.688825</td>\n",
       "      <td>15.055173</td>\n",
       "    </tr>\n",
       "    <tr>\n",
       "      <th>2</th>\n",
       "      <td>0.098910</td>\n",
       "      <td>0.647817</td>\n",
       "      <td>1.638456</td>\n",
       "      <td>0.421921</td>\n",
       "      <td>2.743406</td>\n",
       "      <td>12.344246</td>\n",
       "      <td>1.115575</td>\n",
       "      <td>2.432689</td>\n",
       "      <td>0.999417</td>\n",
       "      <td>1.256698</td>\n",
       "      <td>...</td>\n",
       "      <td>2.185681</td>\n",
       "      <td>0.196562</td>\n",
       "      <td>2.435643</td>\n",
       "      <td>1.102194</td>\n",
       "      <td>1.521679</td>\n",
       "      <td>1.170022</td>\n",
       "      <td>2.370964</td>\n",
       "      <td>0.409610</td>\n",
       "      <td>1.309465</td>\n",
       "      <td>0.160516</td>\n",
       "    </tr>\n",
       "    <tr>\n",
       "      <th>3</th>\n",
       "      <td>5.432088</td>\n",
       "      <td>0.751066</td>\n",
       "      <td>3.897483</td>\n",
       "      <td>3.824519</td>\n",
       "      <td>8.284731</td>\n",
       "      <td>13.804523</td>\n",
       "      <td>5.911102</td>\n",
       "      <td>15.446412</td>\n",
       "      <td>6.194808</td>\n",
       "      <td>1.483478</td>\n",
       "      <td>...</td>\n",
       "      <td>2.217308</td>\n",
       "      <td>6.212220</td>\n",
       "      <td>10.340716</td>\n",
       "      <td>1.788997</td>\n",
       "      <td>1.110360</td>\n",
       "      <td>5.744799</td>\n",
       "      <td>10.447801</td>\n",
       "      <td>0.529797</td>\n",
       "      <td>4.648076</td>\n",
       "      <td>9.370161</td>\n",
       "    </tr>\n",
       "    <tr>\n",
       "      <th>4</th>\n",
       "      <td>1.234847</td>\n",
       "      <td>10.912452</td>\n",
       "      <td>4.696745</td>\n",
       "      <td>3.601206</td>\n",
       "      <td>9.120497</td>\n",
       "      <td>6.184297</td>\n",
       "      <td>6.994796</td>\n",
       "      <td>1.340925</td>\n",
       "      <td>1.408235</td>\n",
       "      <td>1.259033</td>\n",
       "      <td>...</td>\n",
       "      <td>6.194439</td>\n",
       "      <td>4.539114</td>\n",
       "      <td>3.876248</td>\n",
       "      <td>4.212600</td>\n",
       "      <td>1.246499</td>\n",
       "      <td>1.527642</td>\n",
       "      <td>5.484048</td>\n",
       "      <td>0.175399</td>\n",
       "      <td>2.980338</td>\n",
       "      <td>8.389928</td>\n",
       "    </tr>\n",
       "  </tbody>\n",
       "</table>\n",
       "<p>5 rows × 100 columns</p>\n",
       "</div>"
      ],
      "text/plain": [
       "          0          1         2          3          4          5         6   \\\n",
       "0  20.333740   5.318111  6.222259   1.151210   6.416893   6.056503  5.899793   \n",
       "1   2.016218  29.702839  7.743340  23.692174  24.375903   2.570488  3.978635   \n",
       "2   0.098910   0.647817  1.638456   0.421921   2.743406  12.344246  1.115575   \n",
       "3   5.432088   0.751066  3.897483   3.824519   8.284731  13.804523  5.911102   \n",
       "4   1.234847  10.912452  4.696745   3.601206   9.120497   6.184297  6.994796   \n",
       "\n",
       "          7          8          9   ...         90         91         92  \\\n",
       "0   5.422069   3.969427  18.739121  ...   7.033563  25.001109   8.566212   \n",
       "1  13.553372  22.005798   4.061112  ...  16.199944   7.496730  63.186551   \n",
       "2   2.432689   0.999417   1.256698  ...   2.185681   0.196562   2.435643   \n",
       "3  15.446412   6.194808   1.483478  ...   2.217308   6.212220  10.340716   \n",
       "4   1.340925   1.408235   1.259033  ...   6.194439   4.539114   3.876248   \n",
       "\n",
       "         93        94        95         96         97        98         99  \n",
       "0  8.244436  2.184360  5.498176   2.110978   4.645810  2.411930   4.505944  \n",
       "1  6.978679  3.096965  1.135852   3.151352  10.010178  6.688825  15.055173  \n",
       "2  1.102194  1.521679  1.170022   2.370964   0.409610  1.309465   0.160516  \n",
       "3  1.788997  1.110360  5.744799  10.447801   0.529797  4.648076   9.370161  \n",
       "4  4.212600  1.246499  1.527642   5.484048   0.175399  2.980338   8.389928  \n",
       "\n",
       "[5 rows x 100 columns]"
      ]
     },
     "execution_count": 44,
     "metadata": {},
     "output_type": "execute_result"
    }
   ],
   "source": [
    "df = pd.DataFrame(T)\n",
    "df.head()"
   ]
  },
  {
   "cell_type": "code",
   "execution_count": 45,
   "metadata": {},
   "outputs": [],
   "source": [
    "df.to_csv(\"d:/bull_riding_times.csv\", header=False, index=False )"
   ]
  },
  {
   "cell_type": "code",
   "execution_count": null,
   "metadata": {},
   "outputs": [],
   "source": []
  }
 ],
 "metadata": {
  "kernelspec": {
   "display_name": "Python 3",
   "language": "python",
   "name": "python3"
  },
  "language_info": {
   "codemirror_mode": {
    "name": "ipython",
    "version": 3
   },
   "file_extension": ".py",
   "mimetype": "text/x-python",
   "name": "python",
   "nbconvert_exporter": "python",
   "pygments_lexer": "ipython3",
   "version": "3.7.4"
  }
 },
 "nbformat": 4,
 "nbformat_minor": 2
}

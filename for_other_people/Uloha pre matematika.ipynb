{
 "cells": [
  {
   "cell_type": "markdown",
   "metadata": {},
   "source": [
    "Jazda na mechanickom býkovi.\n",
    "Máme historické dáta o 1000 súťažiacich, každého sme pozorovali 100 krát. (Dáta dodáme v csv súbore.)\n",
    "\n",
    "Uvažujme nasledovný model:\n",
    "Pretekár $k$ je charakterizovaný jedným číslom $m_k$ a logaritmus jeho času v konkrétnom závode je vybraný z normálneho rozdelenia so strednou hodnotou $m_k$ a varianciou $\\tau^2$.\n",
    "\n",
    "Ďalej predpokladajme, že rozdelenie čísla $m$ v prírode je normálne so strednou hodnotou $\\mu$ a varianciou $\\sigma^2$.\n",
    "\n",
    "* a) Z dát odhadnite hodnoty parametrov $\\tau, \\mu, \\sigma$. (Hint: Mali by vyjsť približne malé celé čísla.)\n",
    "\n",
    "* b) Predpokladajme že sme namerali $\\mu = \\sigma = \\tau = 1$. Objavíme nového jazdca, ktorého sme videli súťažiť len dva krát s časmi $e^2$ sekúnd a $e^3$ sekúnd. Aká je pravdepodobnosť, že v ďalšej súťaži vydrží aspoň $e^2$ sekúnd?\n",
    "(Hint: s ohľadom na veľké množstvo dát predpokladajte, že parametre $\\tau, \\mu, \\sigma$ sú presne určené.)\n"
   ]
  },
  {
   "cell_type": "markdown",
   "metadata": {},
   "source": [
    "## Solution:\n",
    "We measured $\\mu = \\sigma = \\tau = 1$.\n",
    "Denote $x_0 = 2$, $x_1 = 3$ the logarithms of the observed times.\n",
    "\n",
    "Posterior distribution of parameter $m$ of the new contestant is\n",
    "$$ m \\sim Norm\\big( \\frac{\\mu + x_0 + x_1}{3}, var= \\frac 1 3 \\big) = Norm\\big( mean=2, var= \\frac 1 3 \\big)$$\n",
    "\n",
    "Thus the distribution of the logarithm of his next time is distributed as \n",
    "$$x_2 \\sim Norm\\big( mean=2, var= \\frac 1 3 + 1 \\big)$$\n",
    "Consequently probability that $x_2 > 2$ is $\\frac 1 2$.\n"
   ]
  },
  {
   "cell_type": "markdown",
   "metadata": {},
   "source": [
    "## Generate Data"
   ]
  },
  {
   "cell_type": "code",
   "execution_count": 4,
   "metadata": {},
   "outputs": [],
   "source": [
    "import numpy as np\n",
    "from numpy import random as rnd"
   ]
  },
  {
   "cell_type": "code",
   "execution_count": 6,
   "metadata": {},
   "outputs": [],
   "source": [
    "mu = sigma = tau = 1"
   ]
  },
  {
   "cell_type": "code",
   "execution_count": 21,
   "metadata": {},
   "outputs": [],
   "source": [
    "M = rnd.normal(loc=mu, scale=sigma, size=1000)"
   ]
  },
  {
   "cell_type": "code",
   "execution_count": 22,
   "metadata": {},
   "outputs": [],
   "source": [
    "T = np.array([rnd.normal(loc=m, scale=tau, size=100) for m in M])"
   ]
  },
  {
   "cell_type": "markdown",
   "metadata": {},
   "source": [
    "**Check it**"
   ]
  },
  {
   "cell_type": "code",
   "execution_count": 26,
   "metadata": {},
   "outputs": [
    {
     "data": {
      "text/plain": [
       "(0.9999062795988837, 1.0079594638200955)"
      ]
     },
     "execution_count": 26,
     "metadata": {},
     "output_type": "execute_result"
    }
   ],
   "source": [
    "M.mean(), M.std()"
   ]
  },
  {
   "cell_type": "code",
   "execution_count": 27,
   "metadata": {},
   "outputs": [
    {
     "data": {
      "text/plain": [
       "(0.9967843024375066, 1.4222190936888341)"
      ]
     },
     "execution_count": 27,
     "metadata": {},
     "output_type": "execute_result"
    }
   ],
   "source": [
    "T.mean(), T.std()"
   ]
  },
  {
   "cell_type": "code",
   "execution_count": 31,
   "metadata": {},
   "outputs": [
    {
     "data": {
      "text/plain": [
       "(-0.003121977161376885, 1.000120843156278)"
      ]
     },
     "execution_count": 31,
     "metadata": {},
     "output_type": "execute_result"
    }
   ],
   "source": [
    "(T - M[:, None]).mean(), (T - M[:, None]).std()"
   ]
  },
  {
   "cell_type": "markdown",
   "metadata": {},
   "source": [
    "**Save to file**"
   ]
  },
  {
   "cell_type": "code",
   "execution_count": 33,
   "metadata": {},
   "outputs": [],
   "source": [
    "import pandas as pd"
   ]
  },
  {
   "cell_type": "code",
   "execution_count": 35,
   "metadata": {},
   "outputs": [
    {
     "data": {
      "text/html": [
       "<div>\n",
       "<style scoped>\n",
       "    .dataframe tbody tr th:only-of-type {\n",
       "        vertical-align: middle;\n",
       "    }\n",
       "\n",
       "    .dataframe tbody tr th {\n",
       "        vertical-align: top;\n",
       "    }\n",
       "\n",
       "    .dataframe thead th {\n",
       "        text-align: right;\n",
       "    }\n",
       "</style>\n",
       "<table border=\"1\" class=\"dataframe\">\n",
       "  <thead>\n",
       "    <tr style=\"text-align: right;\">\n",
       "      <th></th>\n",
       "      <th>0</th>\n",
       "      <th>1</th>\n",
       "      <th>2</th>\n",
       "      <th>3</th>\n",
       "      <th>4</th>\n",
       "      <th>5</th>\n",
       "      <th>6</th>\n",
       "      <th>7</th>\n",
       "      <th>8</th>\n",
       "      <th>9</th>\n",
       "      <th>...</th>\n",
       "      <th>90</th>\n",
       "      <th>91</th>\n",
       "      <th>92</th>\n",
       "      <th>93</th>\n",
       "      <th>94</th>\n",
       "      <th>95</th>\n",
       "      <th>96</th>\n",
       "      <th>97</th>\n",
       "      <th>98</th>\n",
       "      <th>99</th>\n",
       "    </tr>\n",
       "  </thead>\n",
       "  <tbody>\n",
       "    <tr>\n",
       "      <th>0</th>\n",
       "      <td>0.937949</td>\n",
       "      <td>1.904801</td>\n",
       "      <td>1.448108</td>\n",
       "      <td>1.129782</td>\n",
       "      <td>1.720541</td>\n",
       "      <td>0.842879</td>\n",
       "      <td>3.632855</td>\n",
       "      <td>0.617504</td>\n",
       "      <td>0.326851</td>\n",
       "      <td>2.115311</td>\n",
       "      <td>...</td>\n",
       "      <td>2.175489</td>\n",
       "      <td>0.746332</td>\n",
       "      <td>-0.468393</td>\n",
       "      <td>2.003991</td>\n",
       "      <td>1.832211</td>\n",
       "      <td>1.867614</td>\n",
       "      <td>1.738107</td>\n",
       "      <td>1.331094</td>\n",
       "      <td>3.278622</td>\n",
       "      <td>-0.112203</td>\n",
       "    </tr>\n",
       "    <tr>\n",
       "      <th>1</th>\n",
       "      <td>4.975154</td>\n",
       "      <td>3.239054</td>\n",
       "      <td>3.384027</td>\n",
       "      <td>2.158432</td>\n",
       "      <td>1.201479</td>\n",
       "      <td>0.416793</td>\n",
       "      <td>0.503489</td>\n",
       "      <td>2.398765</td>\n",
       "      <td>3.454417</td>\n",
       "      <td>3.205204</td>\n",
       "      <td>...</td>\n",
       "      <td>2.568838</td>\n",
       "      <td>1.844005</td>\n",
       "      <td>2.908962</td>\n",
       "      <td>0.699117</td>\n",
       "      <td>2.599709</td>\n",
       "      <td>1.870988</td>\n",
       "      <td>0.897852</td>\n",
       "      <td>2.823413</td>\n",
       "      <td>2.731357</td>\n",
       "      <td>1.746696</td>\n",
       "    </tr>\n",
       "    <tr>\n",
       "      <th>2</th>\n",
       "      <td>0.159639</td>\n",
       "      <td>-0.480750</td>\n",
       "      <td>-0.495083</td>\n",
       "      <td>0.373850</td>\n",
       "      <td>-0.948148</td>\n",
       "      <td>1.753165</td>\n",
       "      <td>-0.103982</td>\n",
       "      <td>1.763537</td>\n",
       "      <td>-0.598566</td>\n",
       "      <td>1.288991</td>\n",
       "      <td>...</td>\n",
       "      <td>-0.457162</td>\n",
       "      <td>-0.429859</td>\n",
       "      <td>-1.369040</td>\n",
       "      <td>2.179461</td>\n",
       "      <td>-0.204015</td>\n",
       "      <td>0.294039</td>\n",
       "      <td>0.069112</td>\n",
       "      <td>-1.525087</td>\n",
       "      <td>1.185966</td>\n",
       "      <td>1.361910</td>\n",
       "    </tr>\n",
       "    <tr>\n",
       "      <th>3</th>\n",
       "      <td>1.691786</td>\n",
       "      <td>0.742839</td>\n",
       "      <td>0.102407</td>\n",
       "      <td>1.920602</td>\n",
       "      <td>2.169215</td>\n",
       "      <td>1.346507</td>\n",
       "      <td>0.456444</td>\n",
       "      <td>0.994179</td>\n",
       "      <td>0.718641</td>\n",
       "      <td>0.753690</td>\n",
       "      <td>...</td>\n",
       "      <td>0.537557</td>\n",
       "      <td>1.310216</td>\n",
       "      <td>2.097809</td>\n",
       "      <td>1.224117</td>\n",
       "      <td>1.441062</td>\n",
       "      <td>1.161832</td>\n",
       "      <td>1.383774</td>\n",
       "      <td>1.265271</td>\n",
       "      <td>0.474127</td>\n",
       "      <td>1.554086</td>\n",
       "    </tr>\n",
       "    <tr>\n",
       "      <th>4</th>\n",
       "      <td>0.983940</td>\n",
       "      <td>1.291897</td>\n",
       "      <td>0.106264</td>\n",
       "      <td>2.420429</td>\n",
       "      <td>2.133941</td>\n",
       "      <td>2.085469</td>\n",
       "      <td>2.680931</td>\n",
       "      <td>-0.297046</td>\n",
       "      <td>0.114432</td>\n",
       "      <td>2.025982</td>\n",
       "      <td>...</td>\n",
       "      <td>1.143774</td>\n",
       "      <td>1.714901</td>\n",
       "      <td>0.079406</td>\n",
       "      <td>0.827832</td>\n",
       "      <td>3.553662</td>\n",
       "      <td>1.078385</td>\n",
       "      <td>0.370791</td>\n",
       "      <td>1.536211</td>\n",
       "      <td>1.564060</td>\n",
       "      <td>0.308630</td>\n",
       "    </tr>\n",
       "  </tbody>\n",
       "</table>\n",
       "<p>5 rows × 100 columns</p>\n",
       "</div>"
      ],
      "text/plain": [
       "         0         1         2         3         4         5         6   \\\n",
       "0  0.937949  1.904801  1.448108  1.129782  1.720541  0.842879  3.632855   \n",
       "1  4.975154  3.239054  3.384027  2.158432  1.201479  0.416793  0.503489   \n",
       "2  0.159639 -0.480750 -0.495083  0.373850 -0.948148  1.753165 -0.103982   \n",
       "3  1.691786  0.742839  0.102407  1.920602  2.169215  1.346507  0.456444   \n",
       "4  0.983940  1.291897  0.106264  2.420429  2.133941  2.085469  2.680931   \n",
       "\n",
       "         7         8         9   ...        90        91        92        93  \\\n",
       "0  0.617504  0.326851  2.115311  ...  2.175489  0.746332 -0.468393  2.003991   \n",
       "1  2.398765  3.454417  3.205204  ...  2.568838  1.844005  2.908962  0.699117   \n",
       "2  1.763537 -0.598566  1.288991  ... -0.457162 -0.429859 -1.369040  2.179461   \n",
       "3  0.994179  0.718641  0.753690  ...  0.537557  1.310216  2.097809  1.224117   \n",
       "4 -0.297046  0.114432  2.025982  ...  1.143774  1.714901  0.079406  0.827832   \n",
       "\n",
       "         94        95        96        97        98        99  \n",
       "0  1.832211  1.867614  1.738107  1.331094  3.278622 -0.112203  \n",
       "1  2.599709  1.870988  0.897852  2.823413  2.731357  1.746696  \n",
       "2 -0.204015  0.294039  0.069112 -1.525087  1.185966  1.361910  \n",
       "3  1.441062  1.161832  1.383774  1.265271  0.474127  1.554086  \n",
       "4  3.553662  1.078385  0.370791  1.536211  1.564060  0.308630  \n",
       "\n",
       "[5 rows x 100 columns]"
      ]
     },
     "execution_count": 35,
     "metadata": {},
     "output_type": "execute_result"
    }
   ],
   "source": [
    "df = pd.DataFrame(T)\n",
    "df.head()"
   ]
  },
  {
   "cell_type": "code",
   "execution_count": 37,
   "metadata": {},
   "outputs": [],
   "source": [
    "df.to_csv(\"d:/bull_riding_times.csv\", header=False, index=False )"
   ]
  }
 ],
 "metadata": {
  "kernelspec": {
   "display_name": "Python 3",
   "language": "python",
   "name": "python3"
  },
  "language_info": {
   "codemirror_mode": {
    "name": "ipython",
    "version": 3
   },
   "file_extension": ".py",
   "mimetype": "text/x-python",
   "name": "python",
   "nbconvert_exporter": "python",
   "pygments_lexer": "ipython3",
   "version": "3.7.4"
  }
 },
 "nbformat": 4,
 "nbformat_minor": 2
}

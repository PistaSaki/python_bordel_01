{
 "cells": [
  {
   "cell_type": "code",
   "execution_count": 4,
   "metadata": {},
   "outputs": [],
   "source": [
    "import scipy.stats\n",
    "from scipy.stats import binom_test"
   ]
  },
  {
   "cell_type": "markdown",
   "metadata": {},
   "source": [
    "### Štatistické metódy\n",
    "Zo štatistického hľadiska sú hypotézy H1, H3, H4 rovnaké. Vo všetkých troch chceme zistiť, či zastúpenie javu A v populácii je vyššie ako zastúpenie iného javu B. Preto sformulujeme  nulovú hypotézu, že zastúpenie A je menšie, alebo rovné ako zastúpenie B a pokúsime sa túto hypotézu vyvrátiť pomocou jednostranného binomického testu (pozri napríklad https://en.wikipedia.org/wiki/Binomial_test). Ak označíme `a, b` počty pozorovaných javov, tak p-hodnotu vypočítame v programe PYTHON vzorcom `scipy.stats.binom_test(x=(a,b), alternative = 'greater')`.\n",
    "Ak nám p-hodnota vyjde menšia ako 0.05 znamená to, že môžme nulovú hypotézu zamietnuť a teda, že sme dokázali (na hladine významnosti 1 - 0.05), že zastúpenie A je vyššie ako zastúpenie B.\n"
   ]
  },
  {
   "cell_type": "markdown",
   "metadata": {},
   "source": [
    "### H1:\n",
    "Chceme ukázať, že konštruktívna reakcia sa vyskytuje viac ako deštruktívna.\n",
    "* konštruktívna reakcia: `a = 97`\n",
    "* deštruktívna reakcia `b = 81`  "
   ]
  },
  {
   "cell_type": "code",
   "execution_count": 11,
   "metadata": {},
   "outputs": [
    {
     "data": {
      "text/plain": [
       "0.13041466763041995"
      ]
     },
     "execution_count": 11,
     "metadata": {},
     "output_type": "execute_result"
    }
   ],
   "source": [
    "a, b = 97, 81\n",
    "binom_test(x=(a,b), alternative = 'greater')"
   ]
  },
  {
   "cell_type": "markdown",
   "metadata": {},
   "source": [
    "P-hodnota je 0.13 > 0.05. Teda v tomto prípade nemôžeme zamietnuť nulovú hypotézu, že zastúpenie konštruktívnych reakcií je menšie, alebo rovné zastúpeniu deštruktívnych. Hoci dáta naznačujú, že konštruktívnych reakcií je viac, tento rozdiel nie je (v našej vzorke) štatisticky významný. Aby sme mohli povedať viac, bolo by treba zozbierať viac dát."
   ]
  },
  {
   "cell_type": "markdown",
   "metadata": {},
   "source": [
    "### H3\n",
    "Chceme ukázať, že väčšina populácie je finančne zabezpečená na krátkodobú nezamestnanosť.\n",
    "* zabezpečení respondenti `a = 123`\n",
    "* nezabezpečení respondenti `b = 72`"
   ]
  },
  {
   "cell_type": "code",
   "execution_count": 12,
   "metadata": {},
   "outputs": [
    {
     "data": {
      "text/plain": [
       "0.00015965783174041274"
      ]
     },
     "execution_count": 12,
     "metadata": {},
     "output_type": "execute_result"
    }
   ],
   "source": [
    "a, b = 123, 72\n",
    "binom_test(x=(a,b), alternative = 'greater')"
   ]
  },
  {
   "cell_type": "markdown",
   "metadata": {},
   "source": [
    "P-hodnota je 0.00016 < 0.05. Teda v tomto prípade môžme zamietnuť nulovú hypotézu. Čiže väčšina populácie je na krátkodobú nezamestnanosť pripravená, alebo si to aspoň myslí."
   ]
  },
  {
   "cell_type": "markdown",
   "metadata": {},
   "source": [
    "### H4\n",
    "Tu skúsime ukázať, že ľudí, čo by odporučili pomoc sociálneho pracovníka je viac, ako tých, čo by ju neodporučili.\n",
    "* odporučili by `a = 62`\n",
    "* neodporučili by `b = 34`"
   ]
  },
  {
   "cell_type": "code",
   "execution_count": 13,
   "metadata": {},
   "outputs": [
    {
     "data": {
      "text/plain": [
       "0.002786498881082294"
      ]
     },
     "execution_count": 13,
     "metadata": {},
     "output_type": "execute_result"
    }
   ],
   "source": [
    "a, b = 62, 34\n",
    "binom_test(x=(a,b), alternative = 'greater')"
   ]
  },
  {
   "cell_type": "markdown",
   "metadata": {},
   "source": [
    "P-hodnota je 0.0028 < 0.05. Teda sme ukázali, že z pomedzi ľudí, ktorí na to majú nejaký názor, by viac odporučilo pomoc sociálneho pracovníka ako neodporučilo."
   ]
  },
  {
   "cell_type": "code",
   "execution_count": null,
   "metadata": {},
   "outputs": [],
   "source": []
  }
 ],
 "metadata": {
  "kernelspec": {
   "display_name": "Python 3",
   "language": "python",
   "name": "python3"
  },
  "language_info": {
   "codemirror_mode": {
    "name": "ipython",
    "version": 3
   },
   "file_extension": ".py",
   "mimetype": "text/x-python",
   "name": "python",
   "nbconvert_exporter": "python",
   "pygments_lexer": "ipython3",
   "version": "3.6.6"
  }
 },
 "nbformat": 4,
 "nbformat_minor": 2
}
